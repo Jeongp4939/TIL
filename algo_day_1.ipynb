{
 "cells": [
  {
   "attachments": {},
   "cell_type": "markdown",
   "metadata": {},
   "source": [
    "# 알고리즘 1일차"
   ]
  },
  {
   "attachments": {},
   "cell_type": "markdown",
   "metadata": {},
   "source": [
    "유한한 단계를 통해 문제를 해결하기 위한 절차나 방법으로\n",
    "주로 컴퓨터용어로 쓰이며, 컴퓨터가 어떤 일을 수행하기 위한 단계적 방법\n",
    "\n",
    "간단하게 다시 말하면 어떠한 문제를 해결하기 위한 절차"
   ]
  },
  {
   "attachments": {},
   "cell_type": "markdown",
   "metadata": {},
   "source": [
    "컴퓨터 분야에서 알고리즘을 표현하는 방법은 두가지\n",
    "- 의사코드\n",
    "- 순서도"
   ]
  },
  {
   "attachments": {},
   "cell_type": "markdown",
   "metadata": {},
   "source": [
    "무엇이 좋은 알고리즘??\n",
    "1. 정확성 : 얼마나 정확하게 동작하는가\n",
    "2. 작업량 : 얼마나 적은 연산으로 원하는 결과를 얻어내는가\n",
    "3. 메모리 사용량 : 얼마나 적은 메모리를 사용하는가\n",
    "4. 단순성 : 얼마나 단순한가\n",
    "5. 최적성 : 더 이상 개선할 여지없이 최적화 되었는가"
   ]
  },
  {
   "attachments": {},
   "cell_type": "markdown",
   "metadata": {},
   "source": [
    "주어진 문제를 해결하기 위해 여러개의 다양한 알고리즘이 가능\n",
    "-> 어떤 알고리즘을 사용해야 하는가\n",
    "\n",
    "알고리즘의 성능 분석 필요\n",
    "- 많은 문제에서 성능 분석의 기준으로 알고리즘의 작업량을 비교한다"
   ]
  },
  {
   "attachments": {},
   "cell_type": "markdown",
   "metadata": {},
   "source": [
    "## 시간 복잡도(Time Complexity)\n",
    "- 실제 걸리는 시간을 측정\n",
    "- 실행되는 명령문의 개수를 계산"
   ]
  },
  {
   "attachments": {},
   "cell_type": "markdown",
   "metadata": {},
   "source": [
    "##### 빅-오(O) 표기법\n",
    "- 시간 복잡도 함수 중에서 가장 큰 영향력을 주는 n에 대한 항만을 표시\n",
    "- 계수(Confficient)는 생략하여 표시"
   ]
  },
  {
   "attachments": {},
   "cell_type": "markdown",
   "metadata": {},
   "source": [
    "### 배열\n",
    "\n",
    "배열이란\n",
    "- 일정한 자료형의 변수들을 하나의 이름으로 열거하여 사용하는 자료구조"
   ]
  },
  {
   "attachments": {},
   "cell_type": "markdown",
   "metadata": {},
   "source": [
    "배열의 필요성\n",
    "- 프로그램 내에서 여러개의 변수가 필요할 때, 일일이 다른 변수명을 이용하여 자료에 접근하는 것은 매우 비효율적일 수 있다.\n",
    "- 배열을 사용하면 하나의 선언을 통해서 둘 이상의 변수를 선언할 수 있다.\n",
    "- 단순히 다수의 변수 선언을 의미하는 것이 아니라, 다수의 변수로는 하기 힘든 작업을 배열을 활용해 쉽게 할 수 있다."
   ]
  },
  {
   "attachments": {},
   "cell_type": "markdown",
   "metadata": {},
   "source": [
    "1차원 배열의 선언\n",
    "- 별도의 선언 방법이 없으면 변수에 처음 값을 할당할 때 생성\n",
    "- 이름 : 프로그램에서 사용할 배열의 이름"
   ]
  },
  {
   "cell_type": "code",
   "execution_count": 1,
   "metadata": {},
   "outputs": [],
   "source": [
    "arr = list()\n",
    "arr = []\n",
    "arr = [1,2,3]\n",
    "arr = [0]*10"
   ]
  },
  {
   "attachments": {},
   "cell_type": "markdown",
   "metadata": {},
   "source": [
    "1차원 배열의 접근\n",
    "- arr[0] = 10   # 배열 arr의 0번 원소에 10 저장\n",
    "- arr[idx] = 20 # 배열 arr의 idx번 원소에 20을 저장"
   ]
  },
  {
   "attachments": {},
   "cell_type": "markdown",
   "metadata": {},
   "source": [
    "## 정렬\n",
    "\n",
    "- 2개 이상의 자료를 특정 기준에 의해 작은 값부터 큰 값(오름차순: ascending), 혹은 그 반대의 순서대로(내림차순:descending) 재배열 하는 것\n",
    "- 키\n",
    "    - 자료를 정렬하는 기준이 되는 특정 값"
   ]
  },
  {
   "attachments": {},
   "cell_type": "markdown",
   "metadata": {},
   "source": [
    "대표적인 정렬 방식의 종류\n",
    "- 버블 정렬(Bubble Sort)\n",
    "- 카운팅 정렬(Counting Sort)\n",
    "- 선택 정렬(Selection Sort)\n",
    "- 퀵 정렬(Quick Sort)\n",
    "- 삽입 정렬(Insertion Sort)\n",
    "- 병합 정렬(Merge Sort)"
   ]
  },
  {
   "attachments": {},
   "cell_type": "markdown",
   "metadata": {},
   "source": [
    "버블 정렬\n",
    "- 인접한 두 개의 원소를 비교히며 자리를 계속 교환하는 방식\n",
    "\n",
    "정렬 과정\n",
    "- 첫 번째 원소부터 인접한 원소끼리 계속 자리를 교환하면서 맨 마지막 자리까지 이동한다.\n",
    "- 한 단계가 끝나면 가장 큰 원소가 마지막 자리로 정렬된다.\n",
    "- 교환하며 자리를 이동하는 모습이 물 위에 올라오는 거품 모양과 같다고 하여 버블 정렬이라고 한다.\n",
    "\n",
    "시간 복잡도\n",
    "= O(n^2)"
   ]
  },
  {
   "attachments": {},
   "cell_type": "markdown",
   "metadata": {},
   "source": [
    "슈도 코드\n",
    "```\n",
    "for i : N-1 -> 1    # 각 구간의 끝\n",
    "    for j : 0 -> i-1    # 비교할 왼쪽 원소\n",
    "        if arr[j] > arr[j+1]\n",
    "            arr[j] <-> arr[j+1]     # 큰 원소 오른쪽으로\n",
    "\n",
    "```"
   ]
  },
  {
   "cell_type": "code",
   "execution_count": 2,
   "metadata": {},
   "outputs": [],
   "source": [
    "def BubbleSort(a,N):            # 정렬할 List, N 원소 수\n",
    "    for i in range(N-1,0,-1):   # 범위의 끝 위치\n",
    "        for j in range(0,i):\n",
    "            if a[j] > a[j+1]:\n",
    "                a[j],a[j+1] = a[j+1],a[j]"
   ]
  },
  {
   "attachments": {},
   "cell_type": "markdown",
   "metadata": {},
   "source": [
    "삼성 코테 외주\n",
    "- 프로그래머스\n",
    "- 구름IDE\n",
    "\n",
    "시간복잡도\n",
    "- 같은 문제라도 방법이 여러가지\n",
    "    - DFS\n",
    "    - BFS\n",
    "    - 다익스트라\n",
    "    - DP\n",
    "- 사용 기술에 따라 추가 점수가 있는 경우가 있음\n",
    "\n",
    "알고리즘 성능평가\n",
    "- 시간복잡도(문제해결하는데 얼마만큼의 시간이 걸리는지)\n",
    "    - 기본연산수행시간 + 입력되는 데이터를 종합적으로 고려\n",
    "    - 대략적인 계산 - 점근적 표기법\n",
    "        1. 최선 표기법\n",
    "        2. 최악 표기법 - ps분야에서 채택\n",
    "        3. 평균 표기법\n",
    "- 공간복잡도(문제해결하는데 얼마만큼의 메모리를 사용하는지)\n",
    "\n",
    "\n",
    "최악 표기법 : 빅오(big-O) 표기법을 가지고 표기"
   ]
  },
  {
   "attachments": {},
   "cell_type": "markdown",
   "metadata": {},
   "source": [
    "#### 오프라인"
   ]
  },
  {
   "cell_type": "code",
   "execution_count": 1,
   "metadata": {},
   "outputs": [
    {
     "name": "stdout",
     "output_type": "stream",
     "text": [
      "63\n"
     ]
    }
   ],
   "source": [
    "number = [7,10,22,4,3,17]\n",
    "\n",
    "# 합구하기\n",
    "sum = 0\n",
    "for i in number:\n",
    "    sum+=i\n",
    "print(sum)"
   ]
  },
  {
   "cell_type": "code",
   "execution_count": 7,
   "metadata": {},
   "outputs": [
    {
     "name": "stdout",
     "output_type": "stream",
     "text": [
      "22\n",
      "3\n"
     ]
    }
   ],
   "source": [
    "number = [7,10,22,4,3,17]\n",
    "# 최대값 구하기\n",
    "# print(max_n(number))\n",
    "\n",
    "max_n = min_n = number[0]\n",
    "for num in number:\n",
    "    if max_n<num:\n",
    "        max_n = num\n",
    "    if min_n>num:\n",
    "        min_n = num\n",
    "print(max_n)\n",
    "print(min_n)\n"
   ]
  },
  {
   "cell_type": "code",
   "execution_count": 12,
   "metadata": {},
   "outputs": [
    {
     "name": "stdout",
     "output_type": "stream",
     "text": [
      "가장 큰 수:22, 3개 존재\n"
     ]
    }
   ],
   "source": [
    "# number 리스트 안에 가장 큰 값이 몇개 존재 하나요?\n",
    "number = [7,10,22,4,3,17,22,6,4,22]\n",
    "max_n = number[0]\n",
    "\n",
    "for i in number:\n",
    "    if max_n<i:\n",
    "        max_n=i\n",
    "    \n",
    "cnt = 0\n",
    "for i in number:\n",
    "    if i == max_n:\n",
    "        cnt += 1\n",
    "print(f'가장 큰 수:{max_n}, {cnt}개 존재')"
   ]
  },
  {
   "attachments": {},
   "cell_type": "markdown",
   "metadata": {},
   "source": [
    "#### pycharm 디버그\n",
    "- Ctrl+f8 : Toggle breakpoint\n",
    "- shift + f9 : start debuging\n",
    "- f7 - step into\n",
    "- f8 - step over\n",
    "- f9 - Run to cursor\n"
   ]
  },
  {
   "attachments": {},
   "cell_type": "markdown",
   "metadata": {},
   "source": [
    "# 정렬"
   ]
  },
  {
   "attachments": {},
   "cell_type": "markdown",
   "metadata": {},
   "source": [
    "### 정렬(sort)\n",
    "\n",
    "- 선택정렬 - Selection sort\n",
    "- 삽입정렬 - insertion sort\n",
    "- 버블정렬 - bubble sort\n",
    "- 계수정렬 - counting sort\n",
    "- 퀵  정렬 - quick sort\n",
    "- 합병정렬 - merge sort\n",
    "- 힙  정렬 - heap sort"
   ]
  },
  {
   "attachments": {},
   "cell_type": "markdown",
   "metadata": {},
   "source": [
    "##### 선택 정렬(Selection sort)\n",
    "\n",
    "- 앞의 원소를 기준점으로 잡고\n",
    "- 기준점의 원소와 해당 좌표의 원소를 비교 더 작으면 두개를 교환\n",
    "- 기준점을 우측으로 이동\n",
    "- 다음 인덱스의 원소부터 검사\n",
    "- 끝까지 반복\n",
    "\n",
    "장점\n",
    "- 구현이 쉽다\n",
    "\n",
    "단점\n",
    "- 느림 :O(N^2)"
   ]
  },
  {
   "cell_type": "code",
   "execution_count": 18,
   "metadata": {},
   "outputs": [
    {
     "name": "stdout",
     "output_type": "stream",
     "text": [
      "1 2 3 4 5 6 7 8 9\n"
     ]
    }
   ],
   "source": [
    "arr = [5,4,3,7,8,6,9,2,1]\n",
    "n = len(arr)\n",
    "for i in range(n-1):\n",
    "    for j in range(i+1,n):\n",
    "        # print(f'i={arr[i]},j={arr[j]}')\n",
    "        if arr[i] > arr[j]:\n",
    "            arr[i],arr[j] = arr[j],arr[i]\n",
    "print(*arr)\n",
    "\n",
    "        "
   ]
  },
  {
   "attachments": {},
   "cell_type": "markdown",
   "metadata": {},
   "source": [
    "##### 삽입정렬(Insertion sort)\n",
    "\n",
    "- 새로운 배열에 내려서 앞의 원소와 비교 스왑\n",
    "- 앞에 더 큰 원소가 있다면 교환 반복\n",
    "\n",
    "장점\n",
    "- 구현이 쉬움\n",
    "- 정렬된 배열에 새로운 값을 정렬 시킬 때에는 효율적으로 사용 가능 : O(N)에 가까운 속도\n",
    "\n",
    "단점\n",
    "- 느림 : O(N^2)\n"
   ]
  },
  {
   "cell_type": "code",
   "execution_count": 20,
   "metadata": {},
   "outputs": [
    {
     "name": "stdout",
     "output_type": "stream",
     "text": [
      "1 2 3 4 5 6 7 8 9\n"
     ]
    }
   ],
   "source": [
    "a = [5,4,3,7,8,6,9,2,1]\n",
    "result=[]\n",
    "n = len(a)\n",
    "\n",
    "for i in range(n):\n",
    "    result.append(a[i])                 # a[i]를 result에 추가\n",
    "    for j in range(i,0,-1):             # result 의 원소(a의 i번 인덱스 원소)를 뒤부터 검사\n",
    "        if result[j-1]>result[j]:       # 앞의 원소가 더 크다면 스왑\n",
    "            result[j-1],result[j] = result[j],result[j-1]\n",
    "        else:\n",
    "            break\n",
    "print(*result)"
   ]
  },
  {
   "attachments": {},
   "cell_type": "markdown",
   "metadata": {},
   "source": [
    "##### 버블정렬(Bubble sort)\n",
    "\n",
    "- 앞 뒤를 계속 비교하며 스왑\n",
    "- 앞의 수가 더 크면 앞의 수와 바꿔주는걸 반복\n",
    "- 뒤에서부터 큰수를 채워가는 정렬"
   ]
  },
  {
   "cell_type": "code",
   "execution_count": 32,
   "metadata": {},
   "outputs": [
    {
     "name": "stdout",
     "output_type": "stream",
     "text": [
      "[1, 2, 3, 4, 5, 6, 7, 8, 9]\n"
     ]
    }
   ],
   "source": [
    "a = [5,4,3,7,8,6,9,2,1]\n",
    "n = len(a)\n",
    "\n",
    "for i in range(n):          # 0 1 2 3 4 5 6 7 8 \n",
    "    for j in range(n-i-1):  # 0 1 2 3 4 5 6 7\n",
    "        if a[j]>a[j+1]:\n",
    "            a[j],a[j+1] = a[j+1],a[j]\n",
    "\n",
    "print(a)"
   ]
  },
  {
   "cell_type": "code",
   "execution_count": 28,
   "metadata": {},
   "outputs": [
    {
     "name": "stdout",
     "output_type": "stream",
     "text": [
      "[1, 3, 8, 10, 12]\n"
     ]
    }
   ],
   "source": [
    "a = [8, 3, 12, 10, 1]\n",
    "\n",
    "for i in range(len(a)-1, 0, -1):\n",
    "    for j in range(0,i):\n",
    "        if a[j]>a[j+1]:\n",
    "            a[j],a[j+1] = a[j+1],a[j]\n",
    "\n",
    "print(a)"
   ]
  },
  {
   "cell_type": "code",
   "execution_count": 49,
   "metadata": {},
   "outputs": [
    {
     "name": "stdout",
     "output_type": "stream",
     "text": [
      "2 : 2개\n",
      "3 : 1개\n",
      "4 : 1개\n",
      "5 : 2개\n",
      "7 : 1개\n",
      "8 : 1개\n"
     ]
    }
   ],
   "source": [
    "# 정수 n 을 입력 받고\n",
    "# n 개의 정수를 리스트에 입력 받은 후\n",
    "# 입력받은 정수가 a 배열에 각각 몇개씩 있는지 출력해 주세요.\n",
    "\n",
    "# n = int(input())\n",
    "# a = list(map(int,input().split()))\n",
    "\n",
    "\n",
    "a = [3,8,5,2,5,7,2,4]\n",
    "\n",
    "# 딕셔너리 이용\n",
    "dic = {}\n",
    "for i in a:\n",
    "    if i not in dic:\n",
    "        dic[i] = 1\n",
    "    else:\n",
    "        dic[i] += 1\n",
    "dic = dict(sorted(dic.items(),key=lambda x:x[0]))\n",
    "\n",
    "for idx, n in dic.items():\n",
    "    print(f'{idx} : {n}개')\n"
   ]
  },
  {
   "cell_type": "code",
   "execution_count": 50,
   "metadata": {},
   "outputs": [
    {
     "name": "stdout",
     "output_type": "stream",
     "text": [
      "1 : 0개\n",
      "2 : 2개\n",
      "3 : 1개\n",
      "4 : 1개\n"
     ]
    }
   ],
   "source": [
    "# b라는 리스트에 숫자 4개 입력 받아 a 리스트에 몇개씩 존재하는지 출력해주세요\n",
    "a = [3,8,5,2,5,7,2,4]\n",
    "# b = list(map(int,input().split()))\n",
    "b=[1,2,3,4]\n",
    "# for문 이용\n",
    "for i in b:\n",
    "    cnt = 0\n",
    "    for j in a:\n",
    "        if i == j:\n",
    "            cnt +=1\n",
    "    print(f'{i} : {cnt}개')\n",
    "    "
   ]
  },
  {
   "cell_type": "code",
   "execution_count": 51,
   "metadata": {},
   "outputs": [
    {
     "name": "stdout",
     "output_type": "stream",
     "text": [
      "2 : 2개\n",
      "3 : 1개\n",
      "4 : 1개\n",
      "5 : 2개\n",
      "7 : 1개\n",
      "8 : 1개\n"
     ]
    }
   ],
   "source": [
    "# Direct Address table(DAT) \n",
    "# 한계\n",
    "# - 0이상의 정수값 밖에 할 수 없음\n",
    "# - 입력받은 값의 범위에 따라 메모리 사용이 비효율적임\n",
    "\n",
    "a = [3,8,5,2,5,7,2,4]\n",
    "bucket=[0]*10\n",
    "for i in a:\n",
    "    bucket[i]+=1\n",
    "for i in range(len(bucket)):\n",
    "    if bucket[i]!=0:\n",
    "        print(f'{i} : {bucket[i]}개')"
   ]
  },
  {
   "cell_type": "code",
   "execution_count": 59,
   "metadata": {},
   "outputs": [
    {
     "name": "stdout",
     "output_type": "stream",
     "text": [
      "1 : 1개\n",
      "3 : 1개\n",
      "4 : 1개\n",
      "5 : 1개\n",
      "6 : 1개\n",
      "7 : 1개\n",
      "8 : 2개\n",
      "9 : 2개\n"
     ]
    }
   ],
   "source": [
    "# n개의 정수를 리스트에 입력받은 후\n",
    "# 어떤 숫자가 각각 몇개씩 입력이 되었는지 출력해보세요\n",
    "\n",
    "n = int(input())\n",
    "n_lst = list(map(int,input().split()))\n",
    "\n",
    "max_n = 0 \n",
    "for i in n_lst:\n",
    "    if i > max_n:\n",
    "        max_n=i\n",
    "\n",
    "bucket = [0]*(max_n+1)\n",
    "\n",
    "for i in n_lst:\n",
    "    bucket[i] += 1\n",
    "for i in range(len(bucket)):\n",
    "    if bucket[i]:\n",
    "        print(f'{i} : {bucket[i]}개')"
   ]
  },
  {
   "attachments": {},
   "cell_type": "markdown",
   "metadata": {},
   "source": [
    "##### 계수정렬(Counting sort)\n",
    "\n",
    "- DAT를 이용한 정렬\n",
    "- 누적합\n",
    "- 값 넣기\n",
    "\n",
    "1. 0~n까지의 DAT Bucket을 등록\n",
    "2. 누적합 구하기(개수)\n",
    "3. 값 넣기(???)\n",
    "    - 해당 값의 누적합 수를 인덱스로 하여 원소를 넣고\n",
    "    - 해당 값의 누적합-1"
   ]
  },
  {
   "cell_type": "code",
   "execution_count": 66,
   "metadata": {},
   "outputs": [
    {
     "name": "stdout",
     "output_type": "stream",
     "text": [
      "[1, 1, 3, 4, 5, 7, 7]\n"
     ]
    }
   ],
   "source": [
    "a = [4,7,1,3,7,5,1]     # 일단 배열은 고정\n",
    "bucket = [0]*10         # 한자리 수라고 생각하고 10개짜리 버켓 생성\n",
    "cnt = [0]*10\n",
    "\n",
    "result=[0]*len(a)\n",
    "\n",
    "for i in a:\n",
    "    bucket[i]+=1                        # 버켓 생성\n",
    "    \n",
    "for i in range(1,len(bucket)):\n",
    "    cnt[i] = cnt[i-1]+bucket[i]     # 누적합 리스트 생성\n",
    "\n",
    "for i in a:\n",
    "    result[cnt[i]-1] = i                # 누적합에 해당하는 인덱스에 삽입\n",
    "    cnt[i]-=1                         # 해당 누적합 -1\n",
    "\n",
    "print(result)\n",
    "   "
   ]
  },
  {
   "cell_type": "code",
   "execution_count": 67,
   "metadata": {},
   "outputs": [
    {
     "name": "stdout",
     "output_type": "stream",
     "text": [
      "[1, 1, 3, 4, 5, 7, 7]\n"
     ]
    }
   ],
   "source": [
    "a = [4,7,1,3,7,5,1]                     # 일단 배열은 고정\n",
    "bucket = [0]*10                         # 한자리 수라고 생각하고 10개짜리 버켓 생성\n",
    "\n",
    "result=[0]*len(a)\n",
    "\n",
    "for i in a:\n",
    "    bucket[i]+=1                        # 버켓 생성\n",
    "    \n",
    "for i in range(1,len(bucket)):\n",
    "    bucket[i]+=bucket[i-1]              # 누적합 리스트 생성(cnt를 따로 만들 필요가 없었음)\n",
    "\n",
    "for i in a:\n",
    "    result[bucket[i]-1] = i             # 누적합에 해당하는 인덱스에 삽입\n",
    "    bucket[i]-=1                        # 해당 누적합 -1\n",
    "\n",
    "print(result)\n",
    "   "
   ]
  }
 ],
 "metadata": {
  "kernelspec": {
   "display_name": "Python 3",
   "language": "python",
   "name": "python3"
  },
  "language_info": {
   "codemirror_mode": {
    "name": "ipython",
    "version": 3
   },
   "file_extension": ".py",
   "mimetype": "text/x-python",
   "name": "python",
   "nbconvert_exporter": "python",
   "pygments_lexer": "ipython3",
   "version": "3.9.13 (tags/v3.9.13:6de2ca5, May 17 2022, 16:36:42) [MSC v.1929 64 bit (AMD64)]"
  },
  "orig_nbformat": 4,
  "vscode": {
   "interpreter": {
    "hash": "c4b9ebf4ca459396e2ad1150752490c26670c1a037c08cad955a4425787bec2e"
   }
  }
 },
 "nbformat": 4,
 "nbformat_minor": 2
}
