{
 "cells": [
  {
   "attachments": {},
   "cell_type": "markdown",
   "metadata": {},
   "source": [
    "# 장고 3일차\n",
    "\n",
    "1. Form & Data\n",
    "2. Dajngo Model\n",
    "3. QuerySet API"
   ]
  },
  {
   "attachments": {},
   "cell_type": "markdown",
   "metadata": {},
   "source": [
    "### From & Data\n",
    "\n",
    "Sending and Retrieving form data\n",
    "- 데이터를 보내고 가져오기\n",
    "- HTML form element를 통해 사용자와 애플리케이션 간의 상호작용 이해하기\n",
    "\n",
    "Client & Server architecture\n",
    "- 웹은 다음과 같이 가장 기본적으로 클라이언트-서버 아키텟처를 사용\n",
    "    - 클라이언트(일반적으로 웹 브라우저)가 서버에 요청을 보내고, 서버는 클라이언트의 요청에 응당\n",
    "- 클라이언트 측에서 HTML form은 HTTP 요청을 서버에 보내는 가장 편리한 방법\n",
    "- 이를 통해 사용자는 HTTP 요청에서 전달할 정보를 제공할 수 있음"
   ]
  },
  {
   "attachments": {},
   "cell_type": "markdown",
   "metadata": {},
   "source": [
    "HTML <form> element\n",
    "\n",
    "- 데이터가 전송되는 방법을 정의\n",
    "- 웹에서 사용자 정보를 입력하는 여러 방식(text, button, submit 등)을 제공하고, 사용자로부터 할당된 데이터를 서버로 전송하는 역할을 담당\n",
    "- 데이터를 어디(action)로 어떤 방식(method)으로 보낼지\n",
    "- 핵심 속성\n",
    "    - action\n",
    "    - method"
   ]
  },
  {
   "attachments": {},
   "cell_type": "markdown",
   "metadata": {},
   "source": [
    "1. action\n",
    "- 입력 데이터가 전송될 URL을 지정\n",
    "- 데이터를 어디로 보낼 것인지 지정하는 것이며 이 값은 반드시 유효한 URL\n",
    "- 속성이 지정되지 않으면 데이터는 현재 form이 있는 페이지의 URL로 보내짐\n",
    "\n",
    "2. method\n",
    "- 데이터를 어떻게 보낼 것인지 정의\n",
    "- 입력 데이터의HTTP request methods를 지정\n",
    "- HTML form 데이터는 오직 2가지 방법으로만 전송할 수 있는데\n",
    "- 바로 GET 방식과 POST 방식"
   ]
  },
  {
   "attachments": {},
   "cell_type": "markdown",
   "metadata": {},
   "source": [
    "##### HTML `<form>` element 작성\n",
    "```HTML\n",
    "    {% extends 'base.html' %}\n",
    "\n",
    "    {% block content %}\n",
    "        <h1>Throw</h1>\n",
    "        <form action='#' method='#'>\n",
    "        </form>\n",
    "    {% endblock %}\n",
    "```"
   ]
  },
  {
   "attachments": {},
   "cell_type": "markdown",
   "metadata": {},
   "source": [
    "##### HTML `<input>` element\n",
    "- 사용자로부터 데이터를 입력 받기 위해 사용\n",
    "- type 속성에 따라 동작 방식이 달라짐\n",
    "    - input요소의 동작 방식은 type 특성에 따라 현격히 달라지므로 각각의 type은 별도로 MDN 문서에서 참고\n",
    "    - type을 지정하지 않은 경우, 기본값은 `text`\n",
    "- 핵심속성\n",
    "    - name"
   ]
  },
  {
   "attachments": {},
   "cell_type": "markdown",
   "metadata": {},
   "source": [
    "##### HTML input's attribute\n",
    "\n",
    "name\n",
    "- form을 통해 데이터를 제출(submit)했을 때 name 속성에 설정된 값을 서버로 전송하고, 서버는 name 속성에 설정된 값을 통해 사용자가 입력한 데이터 값에 접근\n",
    "- 서버에 전달하는 파라미터(name은 key, value는 value)로 매핑하는 것\n"
   ]
  },
  {
   "attachments": {},
   "cell_type": "markdown",
   "metadata": {},
   "source": [
    "##### HTML `<input>` element 작성\n",
    "```HTML\n",
    "    {% extends 'base.html' %}\n",
    "\n",
    "    {% block content %}\n",
    "        <h1>Throw</h1>\n",
    "      <form action=\"#\" method=\"#\">\n",
    "        <label for=\"message\">Throw</label>\n",
    "        <input type=\"text\" name=\"message\" id=\"message\">\n",
    "        <input type=\"submit\">\n",
    "      </form>\n",
    "    {% endblock %}\n",
    "```"
   ]
  },
  {
   "attachments": {},
   "cell_type": "markdown",
   "metadata": {},
   "source": [
    "##### HTML request methods\n",
    "\n",
    "HTTP\n",
    "- HTML 문서와 같은 리소스(데이터, 자원)들을 가져올 수 있도록 해주는 프로토콜(규칙,규약)\n",
    "\n",
    "웹에서 이루어지는 모든 데이터 교환의 기초\n",
    "\n",
    "HTTP는 주어진 리소스가 수행 할 원하는 작업을 나타내는 request methods를 정의\n",
    "\n",
    "자원에 대한 행위(수행하고자 하는 동작)를 정의\n",
    "\n",
    "주어진 리소스(자원)에 수행하길 원하는 행동을 나타냄\n",
    "\n",
    "HTTP Method 예시\n",
    "- GET, POST, PUT, DELETE"
   ]
  },
  {
   "attachments": {},
   "cell_type": "markdown",
   "metadata": {},
   "source": [
    "GET\n",
    "- 서버로부터 정보를 조회하는 데 사용\n",
    "    - 즉, 서버에게 리소스를 요청하기 위해 사용\n",
    "- 데이터를 가져올 때만 사용\n",
    "- 데이터를 서버로 전송할 때 Query String Parameters를 통해 전송\n",
    "    - 데이터는 URL에 포함되어 서버로 보내짐"
   ]
  },
  {
   "attachments": {},
   "cell_type": "markdown",
   "metadata": {},
   "source": [
    "##### `GET` 메서드 작성\n",
    "GET과 get 모두 대소문자 관계없이 동일하게 동작하지만 명시적 표현을 위해 대문자 사용을 권장\n",
    "```HTML\n",
    "    {% extends 'base.html' %}\n",
    "\n",
    "    {% block content %}\n",
    "        <h1>Throw</h1>\n",
    "      <form action=\"#\" method=\"GET\">\n",
    "        <label for=\"message\">Throw</label>\n",
    "        <input type=\"text\" name=\"message\" id=\"message\">\n",
    "        <input type=\"submit\">\n",
    "      </form>\n",
    "    {% endblock %}\n",
    "```"
   ]
  },
  {
   "attachments": {},
   "cell_type": "markdown",
   "metadata": {},
   "source": [
    "##### Query String Parameters\n",
    "\n",
    "사용자가 입력 데이터를 전달하는 방법 중 하나로, url 주소에 데이터를 파라미터를 통해 넘기는 것\n",
    "\n",
    "이러한 문자열은 앰퍼샌드(&)로 연결된 key=value 쌍으로 구성되며 기본 URL과 물음표(?)로 구분됨\n",
    "\n",
    "예시\n",
    "- `http://host:port/path?key=value&key=value`\n",
    "\n",
    "Query String이라고도 함\n",
    "\n",
    "정해진 주소 이후에 물음표를 쓰는 것으로 Query String이 시작함을 알림\n",
    "\n",
    "key=value로 필요한 파라미터의 값을 적음\n",
    "- `=`로 key와 value가 구분됨\n",
    "\n",
    "파라미터가 여러개일 경우 `&`을 붙여 여러개의 파라미터를 넘길 수 있음"
   ]
  },
  {
   "attachments": {},
   "cell_type": "markdown",
   "metadata": {},
   "source": [
    "실습은 third_pjt에 정리"
   ]
  }
 ],
 "metadata": {
  "language_info": {
   "name": "python"
  },
  "orig_nbformat": 4
 },
 "nbformat": 4,
 "nbformat_minor": 2
}
