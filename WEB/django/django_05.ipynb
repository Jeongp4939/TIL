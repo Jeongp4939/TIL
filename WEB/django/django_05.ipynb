{
 "cells": [
  {
   "attachments": {},
   "cell_type": "markdown",
   "metadata": {},
   "source": [
    "오늘 공부할 내용 (라이브 내용)\n",
    "\n",
    "1번.Django form            => forms.py 사용법 익히기\n",
    "2번.Django model form        => forms.py 사용법 익히기\n",
    "3번.static and Media files        => 이미지 파일 올리기        (DB에 이미지 경로 저장하기)\n",
    "-------------------------------------------------------------------------------\n",
    "1번.Django form\n",
    "\n",
    "어제처럼 데이터 보낼때 form tag 사용 해도 가능 하지만 오늘 부터\n",
    "forms.py에 클래스로 정의해서 구현할 것임\n",
    "\n",
    "이유: 유효성검사를 자동으로 해줌 그리고 편리함\n",
    "\n",
    "구현:\n",
    "1. forms.py에 클래스 정의\n",
    "2. View 그리고 Template 살짝 수정 \n",
    "-------------------------------------------------------------------------------\n",
    "2번.Django model form\n",
    "\n",
    "1번의 django form =>  view와 templete에 영향을 주어 DB에 저장되지 않는 내용들을 다룰 때 사용했다면\n",
    "        \n",
    "\n",
    "2번의 django model form => 제목에서 부터 model이 들어 갔듯이\n",
    "         modles.py 에서 db에 저장할 내용을 forms.py에서 클래스로 정의해주기\n",
    "\n",
    "-------------------------------------------------------------------------------\n",
    "3번. static and Media files\n",
    "\n",
    "      파일 이미지 첨부하고\n",
    "      파일 이미지 출력하고\n",
    "      파일 이미지 수정하기  -----------------------------------------------------------------> 오늘 수업 내용 끝 !"
   ]
  },
  {
   "attachments": {},
   "cell_type": "markdown",
   "metadata": {},
   "source": [
    "Form은 Django의 유효성 검사 도구 중 하나로 외부의 악의적 공격 및 데이터 손상에 대한 중요한 방어 수단\n",
    "\n",
    "Django는 Form과 관련한 유효성 검사를 단순화하고 자동화 할 수 있는 기능을 제공함\n",
    "\n",
    "-> 개발자가 직접 작성하는 코드보다 더 안전하고 빠르게 수행하는 코드를 작성\n",
    "\n",
    "-> 개발자가 필요한 핵심 부분만 집중할 수 있도록 돕는 프레임 워크의 특성"
   ]
  },
  {
   "attachments": {},
   "cell_type": "markdown",
   "metadata": {},
   "source": [
    "Django가 처리하는 Form에 관련된 작업의 세 부분\n",
    "1. 렌더링을 위한 데이터 준비 및 재구성\n",
    "2. 데이터에 대한 HTMl forms 생성\n",
    "3. 클라이언트로부터 받은 데이터 수신 및 처리"
   ]
  },
  {
   "attachments": {},
   "cell_type": "markdown",
   "metadata": {},
   "source": [
    "Django Form Class\n",
    "\n",
    "Form class\n",
    "- Django Form 관리 시스템의 핵심\n",
    "\n",
    "Form Class 선언\n",
    "- Form Class를 선언하는 것은 Model Class를 선언하는 것과 비슷하다.\n",
    "- Model과 마찬가지로 상속을 통해 선언(forms 라이브러리의 Form클래스를 상속)\n",
    "- 앱 폴더에 forms.py 생성 후 ArticleForm Class 선언\n",
    "- form에는 model field와 달리 TextFeild가 존재하지 않음(widget 사용)\n",
    "\n",
    "Form rendering options\n",
    "- `<label>&<input>`쌍에 대한 3가지 출력 옵션\n",
    "1. as_p()\n",
    "2. as_ul()\n",
    "3. as_table()\n",
    "\n",
    "- 특별한 상황이 아니라면 as_p()"
   ]
  },
  {
   "attachments": {},
   "cell_type": "markdown",
   "metadata": {},
   "source": [
    "Django의 2가지 HTML input 요소 표현\n",
    "1. Form fields\n",
    "    - 입력에 대한 유효성 검사 로직을 처리\n",
    "    - 템플릿에서 직접 사용됨\n",
    "2. Widgets\n",
    "    - 웹 페이지의 HTML input 요소 렌더링을 담당\n",
    "        - 단순히 input 요소의 보여지는 부분을 변경\n",
    "    - widgets은 반드시 form fields에 할당 됨"
   ]
  },
  {
   "attachments": {},
   "cell_type": "markdown",
   "metadata": {},
   "source": [
    "Django ModelForm\n",
    "- Form Class는 Model과 중복되는 부분이 많음\n",
    "- 이를 해결하기 위해 ModelForm을 사용\n",
    "\n",
    "ModelForm Class\n",
    "- Model을 통해 Form Class를 만들 수 있는 helper class\n",
    "- ModelForm은 Form과 똑같은 방식으로 View 함수에서 사용"
   ]
  },
  {
   "attachments": {},
   "cell_type": "markdown",
   "metadata": {},
   "source": [
    "ModelForm 선언\n",
    "- forms 라이브러리에서 파생된 ModelForm 클래스를 상속 받음\n",
    "- 정의한 ModelForm 클래스 안에 Meta 클래스를 선언\n",
    "- 어떤 모델을 기반으로 form을 작성할 것인지에 대한 정보를 meta 클래스에 지정\n",
    "\n",
    "modelForm에서의 Meta Class\n",
    "- ModelForm의 정보를 작성하는 곳\n",
    "- ModelForm을 사용할 경우 참조할 모델이 있어야 하는데, Meta class의 model속성이 이를 구성함\n",
    "- 참조하는 모델에 정의된 field 정보를 Form에 적용함\n",
    "```python\n",
    "    class Meta:\n",
    "        model = Article\n",
    "        fields = '__all__'\n",
    "```\n",
    "- fields 속성에 `'__all__'`을 사용하여 모델의 모든 필드를 포함할 수 있음\n",
    "- exclude 속성을 사용하여 모델에서 포함하지 않을 필드를 지정할 수 있음\n",
    "    - 둘 중 하나만 사용하는것을 권장함\n"
   ]
  },
  {
   "attachments": {},
   "cell_type": "markdown",
   "metadata": {},
   "source": [
    "### ModelForm with view functions\n",
    "\n",
    "CREATE\n",
    "- 유효성 검사를 통과 -> 데이터 저장 -> 상세 페이지로 리다이렉트\n",
    "- 통과하지 못하면 -> 작성 페이지로 리다이렉트\n",
    "\n",
    "```python\n",
    "\n",
    "def create(request):\n",
    "    if request.method == 'POST':\n",
    "        form = ArticleForm(request.POST)\n",
    "        if form.is_valid():\n",
    "            article = form.save()\n",
    "            return redirect('articles:detail', article.pk)\n",
    "    else:\n",
    "        form = ArticleForm()\n",
    "\n",
    "    context = {'form':form}\n",
    "    return render(request, 'articles/create.html', context)\n",
    "```"
   ]
  },
  {
   "attachments": {},
   "cell_type": "markdown",
   "metadata": {},
   "source": [
    "`is_valid()` method\n",
    "- Django가 제공해 주는 메서드로, 유효성 검사를 실행하고, 데이터가 유효한지 여부를 boolean으로 반환\n",
    "\n",
    "`save()`method\n",
    "- form 인스턴스에 바인딩 된 데이터를 통해 데이터베이스 객체를 만들고 저장\n",
    "- ModelForm의 하위 클래스는 키워드인자 `instance` 여부를 통해 생성할 지, 수정할 지를 결정함\n",
    "\n",
    "- 제공되지 않은 경우 save()는 지정된 모델의 새 인스턴스를 만듦(CREATE)\n",
    "- 제공되면 save()는 해당 인스턴스를 수정(UPDATE)\n",
    "```python\n",
    "    # CREATE\n",
    "    form = ArticleForm(request.POST)\n",
    "    form.save()\n",
    "    # UPDATE\n",
    "    form = ArticleForm(request.POST, instance=article)\n",
    "    form.save()\n",
    "```"
   ]
  },
  {
   "attachments": {},
   "cell_type": "markdown",
   "metadata": {},
   "source": [
    "UPDATE\n",
    "- ModelForm의 인자 instance는 수정 대상이 되는 객체(기존 객체)를 지정\n",
    "\n",
    "1. request.POST\n",
    "    - 사용자가 form을 통해 전송한 데이터 (새로운 데이터)\n",
    "2. instance\n",
    "    - 수정이 되는 대상\n",
    "\n",
    "update view 수정\n",
    "\n",
    "```python\n",
    "\n",
    "    def update(request, pk):\n",
    "        article = Article.objects.get(id=pk)\n",
    "\n",
    "        if request.method == 'POST':\n",
    "            form = ArticleForm(request.POST, instance=article)\n",
    "            if form.is_valid():\n",
    "                form.save()\n",
    "                return redirect('articles:detail', pk=article.pk)    \n",
    "        else:\n",
    "            form = ArticleForm(instance=article)\n",
    "\n",
    "        context = {'form':form, 'article' : article}\n",
    "        return render(request, 'articles/update.html', context)\n",
    "\n",
    "```\n",
    "\n",
    "update template 수정\n",
    "\n",
    "```html\n",
    "    {% extends \"base.html\" %}\n",
    "\n",
    "    {% block content %}\n",
    "        <h1>UPDATE</h1>\n",
    "        <form action=\"{% url 'articles:update' article.pk %}\" method=\"POST\">\n",
    "            {% csrf_token %}\n",
    "            {{form.as_p}}\n",
    "            <input class=\"btn btn-primary\" type=\"submit\">\n",
    "        </form>\n",
    "        <hr>\n",
    "        <a class=\"btn btn-success p-1\" href=\"{% url 'articles:detail' article.pk %}\">back</a>\n",
    "    {% endblock %}\n",
    "```\n",
    "\n"
   ]
  },
  {
   "attachments": {},
   "cell_type": "markdown",
   "metadata": {},
   "source": [
    "Form과 ModelForm의 사용\n",
    "\n",
    "- ModelForm이 Form보다 더 좋은것이 아니라 역할이 `다른` 것이다\n",
    "\n",
    "`Form`\n",
    "- 사용자의 입력을 필요로 하며 직접 입력 데이터가 DB 저장에 사용되지 않거나 일부 데이터만 사용될 때(예 : 로그인, 사용자의 데이터를 받아 인증 과정에서만 사용 후 별도로 DB에 저장하지 않음)\n",
    "\n",
    "`ModelForm`\n",
    "- 사용자의 입력을 필요로 하며 입력을 받은 것을 그대로 DB 필드에 맞춰 저장할 때\n",
    "- 데이터의 유효성 검사가 끝나면 데이터를 각각 어떤 레코드에 맵핑해야 할지 이미 알고 있기 때문에 곧바로 save() 호출이 가능"
   ]
  },
  {
   "cell_type": "markdown",
   "metadata": {},
   "source": []
  }
 ],
 "metadata": {
  "language_info": {
   "name": "python"
  },
  "orig_nbformat": 4
 },
 "nbformat": 4,
 "nbformat_minor": 2
}
