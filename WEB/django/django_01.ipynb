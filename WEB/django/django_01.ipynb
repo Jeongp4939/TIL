{
 "cells": [
  {
   "attachments": {},
   "cell_type": "markdown",
   "metadata": {},
   "source": [
    "# django 1일차"
   ]
  },
  {
   "attachments": {},
   "cell_type": "markdown",
   "metadata": {},
   "source": [
    "웹 서비스 개발에 필요한 것\n",
    "- 로그인, 로그아웃, 회원관리, 데이터베이스, 서버, 클라이언트, 보안 등\n",
    "- 너무 많은 기술들이 필요함\n",
    "- 모든 걸 직접 만들 필요 없음\n",
    "- 잘 만들어진 것들을 가져다 좋은 환경에서 쓰면 됨\n",
    "  - 거인의 어깨 위에서 프로그래밍 하기"
   ]
  },
  {
   "attachments": {},
   "cell_type": "markdown",
   "metadata": {},
   "source": [
    "Framework 이해하기\n",
    "\n",
    "- 누군가 만들어 놓은 코드를 재사용하는 것은 익숙한 개발 문화\n",
    "- 웹 서비스도 누군가 개발해 놓은 코드를 재사용 하면 된다\n",
    "- 자주 사용되는 부분들을 재사용 할 수 있게 좋은 구조의 코드로 만들어 둔 것\n",
    "\n",
    "- 그러한 코드들을 모아 놓은 것, 즉 서비스 개발에 필요한 기능들을 미리 구현해서 모아 놓은 것 = 프레임워크(Framework)\n",
    "\n",
    "- Framw(뼈대) + Work(일하다)\n",
    "  - 일정한 뼈대, 틀을 가지고 일하다\n",
    "  - 제공받은 도구들과 뼈대, 규약을 가지고 무언가를 만드는 일\n",
    "  - 특정 프로그램을 개발하기 위한 여러 도구들과 규약을 제공하는 것\n",
    "\n",
    "- 소프트웨어 프레임워크는 복잡한 문제를 해결하거나 서술하는 데 사용되는 기본 개념 구조\n",
    "\n",
    "- 소프트웨어의 생산성과 품질을 높임"
   ]
  },
  {
   "attachments": {},
   "cell_type": "markdown",
   "metadata": {},
   "source": [
    "Django는?\n",
    "\n",
    "1. Python으로 작성된 프레임 워크\n",
    "  - Python이라는 언어의 강력함과 거대한 커뮤니티\n",
    "2. 수많은 여러 유용한 기능\n",
    "3. 검증된 웹 프레임워크\n",
    "  - 화해, Toss, 두나무, 당근 마켓, 요기요 등\n",
    "  - 유명한 많은 서비스들이 사용한다는 것 == 안정적으로 서비스를 할 수 있다는 검증"
   ]
  },
  {
   "attachments": {},
   "cell_type": "markdown",
   "metadata": {},
   "source": [
    "#### 클라이언트-서버 구조\n",
    "우리가 사용하는 대부분의 웹 서비스는 클라이언트-서버 구조\n",
    "클라이언트와 서버 역시 하나의 컴퓨터이며 서로 상호작용함\n",
    "- Client -> requests -> Server\n",
    "- Server -> responses -> Client\n",
    "\n",
    "클라이언트\n",
    "- 웹 사용자의 인터넷에 연결된 장치\n",
    "- Chrome 또는 FireFox와 같은 웹 브라우저\n",
    "- 서비스를 요청하는 주체\n",
    "\n",
    "서버\n",
    "- 웹 페이지, 사이트 또는 앱을 저장하는 컴퓨터\n",
    "- 클라이언트가 웹 페이지에 접근하려고 할 때 서버에서 클라이언트 컴퓨터로 웹 페이지 데이터를 응답해 사용자의 웹 브라우저에 표시됨\n",
    "- 요청에 대해 서비스를 응답하는 주체"
   ]
  },
  {
   "attachments": {},
   "cell_type": "markdown",
   "metadata": {},
   "source": [
    "#### 프로젝트 구조\n",
    "\n",
    "__init__\n",
    "- python 에게 이 디렉토리를 하나의 Python 패키지로 다루도록 지시\n",
    "- 별도로 추가 코드 작성하지 않음\n",
    "\n",
    "asgi.py\n",
    "- Asynchronous Server Gateway Interface\n",
    "- Django 애플리케이션이 비동기식 웹 서버와 연결 및 소통하는 것을 도움\n",
    "- 추후 배포 시에 사용하며 지금은 수정 x\n",
    "\n",
    "settings.py\n",
    "- Django 프로젝트 설정을 관리\n",
    "\n",
    "urls.py\n",
    "- 사이트의 url과 적절한 views의 연결을 지정\n",
    "\n",
    "wsgi.py\n",
    "- Web Server Gateway Interface\n",
    "- Django 애플리케이션이 웹 서버와 연결 및 소통하는 것을 도움\n",
    "- 추후 배포시에 사용하며 지금은 수정 x\n",
    "\n",
    "manage.py\n",
    "- Django 프로젝트와 다양한 방법으로 상호작용하는 커맨드 라인 유틸리티\n",
    "\n",
    "admin.py\n",
    "- 관리자용 페이지를 설정하는 곳\n",
    "\n",
    "models.py\n",
    "- 애플리케이션에서 사용하는 Model을 정의하는 곳\n",
    "- MTV 패턴의 M에 해당\n",
    "- Data구조를 나타낸다 생각하면 됨\n",
    "\n",
    "test.py\n",
    "- 프로젝트의 테스트 코드를 작성하는 곳\n",
    "\n",
    "views.py\n",
    "- view 함수들이 정의 되는 곳\n",
    "- MTV 패턴의 V에 해당"
   ]
  },
  {
   "attachments": {},
   "cell_type": "markdown",
   "metadata": {},
   "source": [
    "`App` : 하나의 큰 기능 단위\n",
    "\n",
    "- 정해진 규칙은 없으며 개발자가 판단해서 앱 생성\n",
    "- 여러개의 앱이 아닌 단일 앱으로 개발해도 괜찮음\n",
    "\n",
    "애플리케이션(앱) 생성\n",
    "```\n",
    "  python manage.py startapp articles\n",
    "```\n"
   ]
  },
  {
   "attachments": {},
   "cell_type": "markdown",
   "metadata": {},
   "source": [
    "애플리케이션 등록\n",
    "- `INSTALLED APPS = []`\n",
    "- 앱을 사용하기 위해서는 반드시 INSTALLED_APPS 리스트에 반드시 추가해야 함"
   ]
  },
  {
   "attachments": {},
   "cell_type": "markdown",
   "metadata": {},
   "source": [
    "#### Project & Application\n",
    "\n",
    "Project\n",
    "- collection of apps\n",
    "- 프로젝트는 앱의 집합\n",
    "- 프로젝트에는 여러 앱이 포함될 수 있음\n",
    "- 앱은 여러 프로젝트에 있을 수 있음\n",
    "\n",
    "Application\n",
    "- 앱은 실제 요청을 처리하고 페이지를 보여주는 등의 역할을 담당\n",
    "- 앱은 하나의 역할 및 기능 단위로 작성하는 것을 권장함\n"
   ]
  },
  {
   "attachments": {},
   "cell_type": "markdown",
   "metadata": {},
   "source": [
    "# 오프라인\n"
   ]
  },
  {
   "attachments": {},
   "cell_type": "markdown",
   "metadata": {},
   "source": [
    "#### 라이브러리 vs 프레임워크\n",
    "\n",
    "공통점\n",
    "- 남들이 만들어 놓은 코드를 사용하는 것\n",
    "- 검증된 코드이기에 SW 개발시 빠르게 결과를 내놓을 수 있음\n",
    "차이점\n",
    "- 사용법이 정해져 있는가?\n",
    "- 프레임워크 : 메인 흐름을 프레임워크가 정해 놓아서 그 정해져 있는 흐름을 따라서 코드를 작성 (메인흐름이 무엇인지 아직 안배웠지만.. 정해져 있는 흐름이 있어 그 흐름에 따라 코드가 작성)\n",
    "- 라이브러리 : 사용자가 정해놓은 설계에 따라 자유롭게 코드를 작성\n",
    "\n",
    "장고 장점\n",
    "\n",
    "1. 반복적으로 구현해야 하는부분은 이미 만들어져 있다.\n",
    "- 로그인, 회원가입, 인증 등 라이브러리가 기본 모듈로 제공된다.\n",
    "\n",
    "2. 웹을 만들어야 할때 프론트와 관련된 프레임워크(React, Vue, angular)와 같은것을 사용하지 않고도 만들 수 있다.\n",
    "- template에 html을 넣어 연동이 가능하며 특정 조건은 DTL(Django Template Language)를 이용하여 조작이 가능하다.\n",
    "\n",
    "3. 데이터베이스 테이블을 models.py에 클래스로 작성하여 작업량을 줄인다.\n",
    "- 한번 작업하면 테이블까지 자동 생성되고 매핑도 되기 때문에 편하게 작업이 가능하다.\n",
    "\n",
    "따라서 위와같은 기능들로 인해 개발시간이 크게 단축된다.\n",
    "\n",
    "장고 단점\n",
    "- 이미 만들어진 기능을 사용하는 경우가 많기 때문에 원하는대로 커스텀을 하기가 힘들다."
   ]
  }
 ],
 "metadata": {
  "language_info": {
   "name": "python"
  },
  "orig_nbformat": 4
 },
 "nbformat": 4,
 "nbformat_minor": 2
}
