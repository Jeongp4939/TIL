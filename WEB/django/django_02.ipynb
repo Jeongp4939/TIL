{
 "cells": [
  {
   "attachments": {},
   "cell_type": "markdown",
   "metadata": {},
   "source": [
    "소프트웨어 디자인 패턴\n",
    "\n",
    "- 소프트웨어에 자주 사용되는 구조와 해결책이 있음\n",
    "- 클라이언트-서버 구조도 소프트웨어 디자인 패턴 중 하나\n",
    "- 자주 사용되는 소프트웨어의 구조를 소수의 뛰어난 엔지니어가 마치 건축의 공법처럼 일반적 구조화를 해둔 것"
   ]
  },
  {
   "attachments": {},
   "cell_type": "markdown",
   "metadata": {},
   "source": [
    "소프트웨어 디자인 패턴의 목적\n",
    "- 특정 문맥에서 공통적으로 발생하는 문제에 대해 재사용 가능한 해결책을 제시\n",
    "- 프로그래머가 어플리케이션이나 시스템을 디자인할 때 발생하는 공통된 문제들을 해결하는데 형식화 된 가장 좋은 관행\n",
    "\n",
    "소프트웨어 디자인 패턴의 장점\n",
    "- 디자인 패턴을 알고 있다면 서로 복잡한 커뮤니케이션이 매우 간단해짐"
   ]
  },
  {
   "attachments": {},
   "cell_type": "markdown",
   "metadata": {},
   "source": [
    "Django에서의 디자인 패턴\n",
    "- Django에 적용된 디자인 패턴은 MTV 패턴이다.\n",
    "- MTV패턴은 MVC 디자인 패턴을 기반으로 조금 변형된 패턴임\n",
    "\n",
    "MVC 소프트웨어 디자인 패턴\n",
    "- MVC는 Model-View-Contrller의 준말\n",
    "- 데이터 및 논리 제어를 구현하는데 널리 사용되는 소프트웨어 디자인 패턴\n",
    "- 하나의 큰 프로그램을 세가지 역할로 구분한 개발 방법론\n",
    "1. Model : 데이터와 관련된 로직을 관리\n",
    "2. View : 레이아웃과 화면을 처리\n",
    "3. Controller : 명령을 model과 view 부분으로 연결\n",
    "\n",
    "MVC 소프트웨어 디자인 패턴의 목적\n",
    "- 관심사 분리\n",
    "- 더 나은 업무의 분리와 향상된 관리를 제공\n",
    "- 각 부분을 독립적으로 개발할 수 있어, 하나를 수정하고 싶을 때 모두 건들지 않아도 됨\n",
    "    - 개발 효율성 및 유지보수가 쉬워짐\n",
    "    - 다수의 멤버로 개발하기 용이함"
   ]
  },
  {
   "attachments": {},
   "cell_type": "markdown",
   "metadata": {},
   "source": [
    "MTV(Model Template View)\n",
    "1. M : DATA\n",
    "2. T : 보여지는 것(html)\n",
    "3. V : Logic\n",
    "\n",
    "\n",
    "Model\n",
    "- MVC 패턴에서의 Model 역할\n",
    "- 데이터와 관련된 로직을 관리\n",
    "- 응용프로그램의 데이터 구조를 정의하고 데이터베이스의 기록을 관리\n",
    "\n",
    "Template\n",
    "- 레이아웃과 화면을 처리\n",
    "- 화면상의 사용자 인터페이스 구조와 레이아웃을 정의\n",
    "- MVC 패턴에서 View의 역할에 해당\n",
    "\n",
    "View\n",
    "- Model&Template 과 관련한 로직을 처리해서 응답을 반환\n",
    "- 클라이언트의 요청에 대해 처리를 분기하는 역할\n",
    "- 동작 예시\n",
    "    - 데이터가 필요하다면 model에 접근해서 데이터를 가져옴\n",
    "    - 가져온 데이터를 template로 보내 화면을 구성하고 구성된 화면을 응답으로 만들어 클라이언트에게 반환\n",
    "- MVC 패턴에서 Controller의 역할에 해당"
   ]
  },
  {
   "attachments": {},
   "cell_type": "markdown",
   "metadata": {},
   "source": [
    "Django Template\n",
    "- 데이터 표현을 제어하는 도구이자 표현에 관련된 로직\n",
    "- Django Template을 이용한 HTML 정적 부분과 동적 컨텐츠 삽입\n",
    "- Template System의 기본 목표를 숙지\n",
    "\n",
    "Django Template System\n",
    "- 데이터 표현을 제어하는 도구이자 표현에 관련된 로직을 담당\n",
    "\n",
    "Django Template Language(DTL)\n",
    "- Django Template에서 사용하는 built-in template system\n",
    "- 조건, 반복, 변수 치환, 필터 등의 기능을 제공\n",
    "    - python처럼 일부 프로그래밍 구조(if,for 등)를 사용할 수 있지만 이것은 python 코드로 실행되는 것이 아님\n",
    "    - Django 템플릿 시스템은 단순히 Python이 HTML에 포함 된 것이 아니니 주의\n",
    "- 프로그래밍적 로직이 아니라 프레젠테이션을 표현하기 위한 것임을 명심할 것"
   ]
  },
  {
   "attachments": {},
   "cell_type": "markdown",
   "metadata": {},
   "source": [
    "### DTL Syntax\n",
    "1. Variable\n",
    "2. Filter\n",
    "3. Tags\n",
    "4. Comments"
   ]
  },
  {
   "cell_type": "markdown",
   "metadata": {},
   "source": []
  }
 ],
 "metadata": {
  "language_info": {
   "name": "python"
  },
  "orig_nbformat": 4
 },
 "nbformat": 4,
 "nbformat_minor": 2
}
