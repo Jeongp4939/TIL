{
 "cells": [
  {
   "attachments": {},
   "cell_type": "markdown",
   "metadata": {},
   "source": [
    "# Django 7일차"
   ]
  },
  {
   "attachments": {},
   "cell_type": "markdown",
   "metadata": {},
   "source": [
    "### 인증과 권한\n",
    "\n",
    "HTTP의 특징\n",
    "1. 비 연결 지향\n",
    "2. 무상태\n",
    "\n",
    "서버-클라이언트간 '상태'를 유지하기 위한 기술\n",
    "1. 쿠키\n",
    "2. 세션\n",
    "\n",
    "로그인 : 사용자에 대한 세션을 생성하는 것\n",
    "\n",
    "로그아웃 : 세션을 클라이언트와 서버에서 삭제하는 것"
   ]
  },
  {
   "attachments": {},
   "cell_type": "markdown",
   "metadata": {},
   "source": [
    "### Authentication with User\n",
    "\n",
    "User Object 와 User CRUD에 대한 이해\n",
    "- 회원 가입, 회원 탈퇴, 회원정보 수정, 비밀번호 변경\n",
    "\n",
    "회원가입\n",
    "- User를 Create 하는 것이며 UserCreationForm built-in form을 사용\n",
    "\n",
    "UserCreationForm\n",
    "- 주어진 username과 password로 권한이 없는 새 user를 생성하는 ModelForm\n",
    "- 3개의 필드를 가짐\n",
    "    1. username(from the user model)\n",
    "    2. password1\n",
    "    3. password2"
   ]
  },
  {
   "attachments": {},
   "cell_type": "markdown",
   "metadata": {},
   "source": [
    "회원 가입 페이지 작성\n",
    "```python\n",
    "    # accounts/urls.py\n",
    "    app_name = 'accounts'\n",
    "    urlpatterns = [\n",
    "        ...,\n",
    "        path('signup/', views.signup, name='signup')\n",
    "    ]\n",
    "\n",
    "```\n",
    "\n",
    "\n",
    "```html\n",
    "    <!-- accounts/signup.html -->\n",
    "    {% extends \"base.html\" %}\n",
    "\n",
    "    {% block content %}\n",
    "        <h1>회원가입</h1>\n",
    "        \n",
    "        <form action=\"{% url 'accounts:signup' %}\" method=\"POST\">\n",
    "            {% csrf_token %}\n",
    "            {{form.as_p}}\n",
    "            <input type=\"submit\" value=\"회원가입\">\n",
    "        </form>\n",
    "        <a href=\"{% url 'articles:index' %}\">목록보기</a>\n",
    "    {% endblock content %}\n",
    "```\n",
    "\n",
    "```python\n",
    "    # accounts/views.py\n",
    "    def signup(request):\n",
    "        if request.method=='POST':\n",
    "            form = UserCreationForm(request.POST)\n",
    "            if form.is_valid():\n",
    "                return redirect('articles:index')\n",
    "        else:\n",
    "            form = UserCreationForm()\n",
    "        context = {'form':form}\n",
    "        return render(request, 'accounts/signup.html', context)\n",
    "```"
   ]
  },
  {
   "attachments": {},
   "cell_type": "markdown",
   "metadata": {},
   "source": [
    "회원가입 링크 작성 후 페이지 확인\n",
    "```html\n",
    "    <!-- base.html -->\n",
    "    <a href=\"{% url 'accounts:signup' %}\">회원가입</a>\n",
    "```\n",
    "\n",
    "회원가입 진행 후 에러 페이지 확인\n",
    "- UserCreationForm이 우리가 대체한 커스텀 유저 모델이 아닌 기존 유저 모델로 인해 작성된 클래스 이기 때문에 처리해줘야함"
   ]
  },
  {
   "attachments": {},
   "cell_type": "markdown",
   "metadata": {},
   "source": [
    "Custom user & Built-in auth forms\n",
    "- Custom user와 기존 Built-in auth forms 간의 관계\n",
    "- Custom user로 인한 Built-in auth forms 변경\n",
    "\n",
    "AbstractBaseUser의 모든 subclass와 호환되는 forms\n",
    "- 아래 Form 클래스는 User 모델을 대체하더라도 커스텀 하지 않아도 사용 가능\n",
    "- 기존 User 모델을 참조하는 Form이 아님\n",
    "    1. AuthenticationForm\n",
    "    2. SetPasswordForm\n",
    "    3. PasswordChangeForm\n",
    "    4. AdminPasswordChangeForm\n",
    "\n",
    "커스텀 유저 모델을 사용하려면 다시 작성하거나 확장해야 하는 forms\n",
    "1. UserCreationForm\n",
    "2. UserChangeForm\n",
    "- 두 form 모두 class Meta: model = User가 등록된 form 이기 떄문에 반드시 커스텀(확장)해야 함\n",
    "```python\n",
    "class CustomUserCreationForm(UserCreationForm):\n",
    "    \n",
    "    class Meta(UserCreationForm.Meta):\n",
    "        #accounts.User\n",
    "        model = get_user_model()\n",
    "\n",
    "class CustomUserChangeForm(UserChangeForm):\n",
    "    \n",
    "    class Meta(UserChangeForm.Meta):\n",
    "        model = get_user_model()\n",
    "\n",
    "```"
   ]
  },
  {
   "attachments": {},
   "cell_type": "markdown",
   "metadata": {},
   "source": [
    "get_user_model()\n",
    "- `현재 프로젝트에서 활성화된 사용자 모델(active user model)`을 반환\n",
    "- 직접 참조하지 않는 이유\n",
    "    - 예를 들어 기존 User 모델이 아닌 User 모델을 커스텀 한 상황에서는 커스텀 User 모델을 자동으로 반환해주기 떄문\n",
    "- Django는 User 클래스를 직접 참조하는 대신 `get_user_model()`을 사용해 참조해야 한다고 강조하고 있음"
   ]
  },
  {
   "attachments": {},
   "cell_type": "markdown",
   "metadata": {},
   "source": [
    "CustomUserCreateionForm()으로 대체하기\n",
    "\n",
    "```python\n",
    "    def signup(request):\n",
    "        if request.method=='POST':\n",
    "            form = CustomUserCreationForm(request.POST)\n",
    "            if form.is_valid():\n",
    "                user = form.save()\n",
    "                return redirect('articles:index')\n",
    "        else:\n",
    "            form = UserCreationForm()\n",
    "        context = {'form':form}\n",
    "        return render(request, 'accounts/signup.html', context)\n",
    "```"
   ]
  },
  {
   "attachments": {},
   "cell_type": "markdown",
   "metadata": {},
   "source": [
    "회원 가입 후 곧바로 로그인 진행\n",
    "\n",
    "`UserCreationForm`의 `save()`메서드 : user를 반환함\n",
    "\n",
    "```python\n",
    "    def signup(request):\n",
    "        if request.method=='POST':\n",
    "            form = CustomUserCreationForm(request.POST)\n",
    "            if form.is_valid():\n",
    "                user = form.save()\n",
    "                # 로그인 추가\n",
    "                auth_login(request, user)\n",
    "                return redirect('articles:index')\n",
    "        else:\n",
    "            form = UserCreationForm()\n",
    "        context = {'form':form}\n",
    "        return render(request, 'accounts/signup.html', context)\n",
    "```"
   ]
  },
  {
   "attachments": {},
   "cell_type": "markdown",
   "metadata": {},
   "source": [
    "### 회원 탈퇴\n",
    "\n",
    "- 회원 탈퇴 하는 것은 DB에서 유저를 DELETE 하는 것과 같음 -> POST"
   ]
  },
  {
   "attachments": {},
   "cell_type": "markdown",
   "metadata": {},
   "source": [
    "회원 탈퇴 로직 작성\n",
    "\n",
    "```python\n",
    "# accounts/urls.py\n",
    "app_name = 'accounts'\n",
    "urlpatterns = [\n",
    "    path('delete/', views.delete, name='delete'),\n",
    "]\n",
    "```\n",
    "\n",
    "```python\n",
    "# accounts/views.py\n",
    "def delete(request):\n",
    "    request.user.delete()\n",
    "    return redirect('articles:index')\n",
    "```\n",
    "\n",
    "```html\n",
    "<!-- base.html -->\n",
    "<form action=\"{% url 'accounts:delete' %}\" method=\"POST\">\n",
    "    {% csrf_token %}\n",
    "    <input type=\"submit\" value=\"회원탈퇴\">\n",
    "</form>\n",
    "```\n"
   ]
  },
  {
   "attachments": {},
   "cell_type": "markdown",
   "metadata": {},
   "source": [
    "탈퇴하면서 해당 유저의 세션 정보도 함께 지우고 싶을 경우\n",
    "\n",
    "- 탈퇴(1) 후 로그아웃(2) 의 순서가 바뀌면 안됨\n",
    "- 먼저 로그아웃 해버리면 해당 요청 객체 정보가 없어지기 때문에 탈퇴에 필요한 정보 또한 없어지기 때문\n",
    "\n",
    "```python\n",
    "# accounts/views.py\n",
    "def delete(request):\n",
    "    request.user.delete()\n",
    "    # auth_logout(request)\n",
    "    return redirect('articles:index')\n",
    "```"
   ]
  },
  {
   "attachments": {},
   "cell_type": "markdown",
   "metadata": {},
   "source": [
    "회원정보 수정\n",
    "- 회원정보 수정은 User를 Update 하는 것이며 UserChangeForm built-in form을 사용"
   ]
  },
  {
   "attachments": {},
   "cell_type": "markdown",
   "metadata": {},
   "source": [
    "UserChangeForm\n",
    "- 사용자의 정보 및 권한을 변경하기 위해 admin 인터페이스에서 사용되는 ModelForm\n",
    "- UserChangeForm 또한 ModelForm 이기 때문에 instance 인자로 기존 user 데이터 정보를 받는 구조 또한 동일함\n",
    "- 이미 이전에 `CustomUserChangeForm`으로 확장했기 때문에 `CustomUserChangeForm`을 사용"
   ]
  },
  {
   "attachments": {},
   "cell_type": "markdown",
   "metadata": {},
   "source": [
    "회원정보 수정 로직 작성\n",
    "\n",
    "```python\n",
    "# accounts/urls.py\n",
    "app_name = 'accounts'\n",
    "urlpatterns = [\n",
    "    path('update/', views.update, name='update'),\n",
    "]\n",
    "```\n",
    "\n",
    "```python\n",
    "# accounts/views.py\n",
    "def update(request):\n",
    "    if request.method=='POST':\n",
    "        pass\n",
    "    else:\n",
    "        form = CustomUserChangeForm(instance=request.user)\n",
    "    context = {\n",
    "        'form':form,\n",
    "    }\n",
    "    return render(request, 'accounts/update.html', context)\n",
    "```\n",
    "\n",
    "```html\n",
    "<!-- accounts/update.html -->\n",
    "{% extends \"base.html\" %}\n",
    "\n",
    "{% block content %}\n",
    "    <h1>회원정보 수정</h1>\n",
    "    \n",
    "    <form action=\"{% url 'accounts:update' %}\" method=\"POST\">\n",
    "        {% csrf_token %}\n",
    "        {{form.as_p}}\n",
    "        <input type=\"submit\" value=\"수정하기\">\n",
    "    </form>\n",
    "    <a href=\"{% url 'articles:index' %}\">목록보기</a>\n",
    "{% endblock content %}\n",
    "```\n",
    "\n",
    "```html\n",
    "<!-- base.html -->\n",
    "<a href=\"{% url 'accounts:update' %}\">정보수정</a>  \n",
    "```\n"
   ]
  },
  {
   "attachments": {},
   "cell_type": "markdown",
   "metadata": {},
   "source": [
    "UserChangeForm 사용 시 문제점\n",
    "- 일반 사용자가 접근해서는 안 될 정보들(fields)까지 모두 수정이 가능해짐\n",
    "    - admin 인터페이스에서 사용되는 ModelForm이기 때문\n",
    "- 따라서 UserChangeForm을 상속받아 작성해 두었던 서브 클래스 CustomUserForm에서 접근 가능한 필드를 조정해야 함\n",
    "\n"
   ]
  }
 ],
 "metadata": {
  "language_info": {
   "name": "python"
  },
  "orig_nbformat": 4
 },
 "nbformat": 4,
 "nbformat_minor": 2
}
