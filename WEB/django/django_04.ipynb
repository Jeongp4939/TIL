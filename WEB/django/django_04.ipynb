{
 "cells": [
  {
   "attachments": {},
   "cell_type": "markdown",
   "metadata": {},
   "source": [
    "django-admin startproject crud {디렉토리}\n",
    "\n",
    "디렉토리에 crud django 생성"
   ]
  },
  {
   "attachments": {},
   "cell_type": "markdown",
   "metadata": {},
   "source": [
    "urlpatterns에 빈 문자열('')이 들어오면 해당앱이 실행되면 실행"
   ]
  },
  {
   "attachments": {},
   "cell_type": "markdown",
   "metadata": {},
   "source": [
    "auto_now_add : 생성이 될 때 추가\n",
    "auto_add : 무언가 수정이 될 때마다 수정됨"
   ]
  },
  {
   "attachments": {},
   "cell_type": "markdown",
   "metadata": {},
   "source": [
    "detail 페이지 이동\n",
    "\n",
    "```html\n",
    "    <a href=\"{% url 'articles:detail' article.pk %}\">\n",
    "        <p>글 제목 : {{article.title}}</p>\n",
    "    </a>\n",
    "```\n",
    "위와 같이 해당 게시물의 pk(id)를 함께 불러와야함"
   ]
  },
  {
   "attachments": {},
   "cell_type": "markdown",
   "metadata": {},
   "source": [
    "python manage.py createsuperuser를 이용해 관리자 계정을 생성\n",
    "- admin(admin@admin / pass1234)\n",
    "\n",
    "모델의 record를 보기 위해서는 admin.py에 등록 필요\n",
    "```\n",
    "    from django.contrib import admin\n",
    "    form .models import Article\n",
    "\n",
    "    admin.site.register(Article)\n",
    "```"
   ]
  },
  {
   "attachments": {},
   "cell_type": "markdown",
   "metadata": {},
   "source": [
    "shell_plus 가 아닌 일반 shell에서는 model을 먼저 import 해줘야 해당 모델에 해당하는 object들을 불러 올 수 있다."
   ]
  },
  {
   "attachments": {},
   "cell_type": "markdown",
   "metadata": {},
   "source": [
    "POST 에는 무조건 csrf token이 함께 함\n"
   ]
  },
  {
   "attachments": {},
   "cell_type": "markdown",
   "metadata": {},
   "source": [
    "<hr>"
   ]
  },
  {
   "attachments": {},
   "cell_type": "markdown",
   "metadata": {},
   "source": [
    "# 오프라인"
   ]
  },
  {
   "attachments": {},
   "cell_type": "markdown",
   "metadata": {},
   "source": [
    "1. settings - urls - 앱의urls - views - template\n",
    "\n",
    "2. form 태그 사용해서 throw catch 다른페이지로 값 전달하고 받기 \n",
    "\n",
    "2. modle class 작성-스키마 정의해주고 \n",
    "   클래스변수 - 필드하나 만들기\n",
    "   makemigrations // migrate\n",
    "   \n",
    "-------------------------------------------------------------------------------------------------\n",
    "3.\n",
    "\n",
    "1 admin 사이트 만들기\t\t[1~9 page]\n",
    "   http://localhost:8000/admin/\n",
    "\n",
    "2 인덱스 페이지 만들기 (전체 게시글 조회)\t\t[18~20 page]\n",
    "   http://localhost:8000/articles/index/\n",
    "\n",
    "3 게시글 별 디테일 페이지 만들기 ( 땡 번째 게시글 만들기 ) - variable routing\t\t[21~25 page]\n",
    "   http://localhost:8000/articles/5/   \n",
    "\n",
    "4. 인덱스 페이지에서 게시글 제목 클릭하면 해당 게시글의 디테일 페이지로 넘어가기\t[26~28 page]\n",
    "\n",
    "5. 인덱스 페이지에서 게시글 새로 작성하기 (creat)\t\t[29~60 page]\n",
    "    4-1 게시글 작성할 폼을 띄우고 (GET) --> new 함수\n",
    "    4-2 작성한 글을 DB에 저장하기 (POST) ---> create 함수 \n",
    "\t( post 시 보안을 위해서 csrf 토큰 태그 반드시! 달아주기 )\n",
    "            ( redirect 해보기 )\n",
    "\n",
    "6. 게시글 지우기 ( 해당 게시글 접근해서 delete 버튼 누르기 ) \t\t[61~66 page]\n",
    "\n",
    "7. 게시글 수정하기 \t\t[67~72 page]\n",
    "    7-1 게시글 작성할 폼을 띄우고 (GET) + 그전에 작성했던 data 도 같이 띄우기 --> edit 함수\n",
    "    7-2 수정한 게시글 DB에 저장히기  ---> update 함수\n",
    "\n",
    "8. 그런데 create / update 하는데 views 함수를 2개 써줄 것이 아니라 하나로 합쳐서 쓰자.\n",
    "\n",
    "   예> 8-1 create\n",
    "\n",
    "    create 할떄 get (new 함수) 따로 \n",
    "                   post (create 함수) 따로 써주는 것이 아니라 \n",
    "\n",
    "     if else를 사용해서 하나의 함수로 합쳐주자 \n",
    "\n",
    "                    if - http method가 \"POST\" 일때!!!!\n",
    "\n",
    "                    else - \"GET\" 일때!!!!\n",
    "\n",
    "------------------------------------------------------------------------------------\n",
    "\n",
    "   예> 8-2 update \n",
    "\n",
    "    update 할떄 get (edit 함수) 따로 \n",
    "                   post (update 함수) 따로 써주는 것이 아니라 \n",
    "\n",
    "     if else를 사용해서 하나의 함수로 합쳐주자 \n",
    "\n",
    "                    if - http method가 \"POST\" 일때!!!!\n",
    "\n",
    "                    else - \"GET\" 일때!!!!    "
   ]
  },
  {
   "attachments": {},
   "cell_type": "markdown",
   "metadata": {},
   "source": [
    "[참고]관리자페이지 비밀번호 초기화\n",
    "python manage.py changepassword admin\n",
    "\n",
    "[참고]관리자페이지 아이디삭제 (다시만들기)\n",
    "pip install ipython\n",
    "python manage.py shell_plus\n",
    "from django.contrib.auth.models import User\n",
    "User.objects.get(username=\"설정한ID\", is_superuser=True).delete()\n",
    "exit()\n",
    "python manage.py createsuperuser"
   ]
  },
  {
   "cell_type": "markdown",
   "metadata": {},
   "source": []
  }
 ],
 "metadata": {
  "language_info": {
   "name": "python"
  },
  "orig_nbformat": 4
 },
 "nbformat": 4,
 "nbformat_minor": 2
}
