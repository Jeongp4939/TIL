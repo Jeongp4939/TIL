{
 "cells": [
  {
   "attachments": {},
   "cell_type": "markdown",
   "metadata": {},
   "source": [
    "# 알고리즘 4일차\n",
    "\n",
    "### 배열\n",
    "\n",
    "##### 2차원 배열의 선언\n",
    "- 1차원 List를 묶어놓은 List\n",
    "- 2차원 이상의 다차원 List는 차원에 따라 Index를 선언\n",
    "- 2차원 List선언: 세로길이(행의 개수), 가로길이(열의개수)를 필요로 함\n",
    "- Python에서는 데이터 초기화를 통해 변수 선언과 초기화가 가능함\n",
    "\n",
    "###### 배열 순회\n",
    "- n x m 배열의 n*m개의 모든 원소를 빠짐없이 조사하는 방법\n",
    "- 2중 for문 사용"
   ]
  },
  {
   "attachments": {},
   "cell_type": "markdown",
   "metadata": {},
   "source": [
    "##### 델타를 이용한 2차 배열 탐색\n",
    "- 2차 배열의 한 좌표에서 4방향의 인접 배열 요소를 탐색하는 방법\n",
    "\n",
    "```python\n",
    "arr=[0...N-1][0...N-1]\n",
    "di[] <- [0,0,-1,1]\n",
    "dj[] <- [-1,1,0,0]\n",
    "\n",
    "for i : 0 -> N-1:\n",
    "    for k in range(4):\n",
    "        ni <- i + di[k]\n",
    "        nj <- i + dj[k]\n",
    "        if 0<=<N and 0<=nj<N # 유효한 인덱스면 test(arr[ni][nj])\n",
    "```"
   ]
  },
  {
   "attachments": {},
   "cell_type": "markdown",
   "metadata": {},
   "source": [
    "##### 전치 행렬\n",
    "\n",
    "```python\n",
    "# i : 행의 좌표, len(arr)\n",
    "# j : 열의 좌표, len(arr[0])\n",
    "arr = [[1,2,3],[4,5,6,],[7,8,9]]    # 3x3 행렬\n",
    "\n",
    "for i in range(3):\n",
    "    for j in range(3):\n",
    "        if i<j:\n",
    "            arr[i][j], arr[j][i] = arr[j][i] , arr[i][j]\n",
    "\n",
    "```"
   ]
  },
  {
   "cell_type": "code",
   "execution_count": 7,
   "metadata": {},
   "outputs": [
    {
     "name": "stdout",
     "output_type": "stream",
     "text": [
      "23\n"
     ]
    }
   ],
   "source": [
    "# 이 모양으로 땅을 갖을 수 있다고 할때 어느 땅을 갖어야 할까요?\n",
    "#  2*3 배열만큼 잘라서 합을 구할떄 최대값은 몇 일까요? !!\n",
    "\n",
    "#  ***\n",
    "#  ***\n",
    "\n",
    "arr=[[1, 5, 4, 2],\n",
    "    [1, 3, 4, 2],\n",
    "    [3, 5, 3, 2],\n",
    "    [2, 6, 4, 1]]\n",
    "\n",
    "def ground_sum(a,b):\n",
    "    sum_ = 0\n",
    "    for i in range(2):\n",
    "        for j in range(3):\n",
    "            sum_+= arr[i+a][j+b]\n",
    "    return sum_\n",
    "\n",
    "sum_lst = []\n",
    "for i in range(3):\n",
    "    for j in range(2):\n",
    "        sum_lst.append(ground_sum(i,j))\n",
    "max_n = sum_lst[0]\n",
    "\n",
    "for i in sum_lst:\n",
    "    if i > max_n:\n",
    "        max_n = i\n",
    "        \n",
    "print(max_n)"
   ]
  },
  {
   "cell_type": "code",
   "execution_count": null,
   "metadata": {},
   "outputs": [],
   "source": []
  }
 ],
 "metadata": {
  "kernelspec": {
   "display_name": "Python 3",
   "language": "python",
   "name": "python3"
  },
  "language_info": {
   "codemirror_mode": {
    "name": "ipython",
    "version": 3
   },
   "file_extension": ".py",
   "mimetype": "text/x-python",
   "name": "python",
   "nbconvert_exporter": "python",
   "pygments_lexer": "ipython3",
   "version": "3.9.13"
  },
  "orig_nbformat": 4,
  "vscode": {
   "interpreter": {
    "hash": "c4b9ebf4ca459396e2ad1150752490c26670c1a037c08cad955a4425787bec2e"
   }
  }
 },
 "nbformat": 4,
 "nbformat_minor": 2
}
