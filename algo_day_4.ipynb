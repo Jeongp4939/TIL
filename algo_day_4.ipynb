{
 "cells": [
  {
   "attachments": {},
   "cell_type": "markdown",
   "metadata": {},
   "source": [
    "# 알고리즘 4일차\n",
    "\n",
    "### 배열\n",
    "\n",
    "##### 2차원 배열의 선언\n",
    "- 1차원 List를 묶어놓은 List\n",
    "- 2차원 이상의 다차원 List는 차원에 따라 Index를 선언\n",
    "- 2차원 List선언: 세로길이(행의 개수), 가로길이(열의개수)를 필요로 함\n",
    "- Python에서는 데이터 초기화를 통해 변수 선언과 초기화가 가능함\n",
    "\n",
    "###### 배열 순회\n",
    "- n x m 배열의 n*m개의 모든 원소를 빠짐없이 조사하는 방법\n",
    "- 2중 for문 사용"
   ]
  },
  {
   "attachments": {},
   "cell_type": "markdown",
   "metadata": {},
   "source": [
    "##### 델타를 이용한 2차 배열 탐색\n",
    "- 2차 배열의 한 좌표에서 4방향의 인접 배열 요소를 탐색하는 방법\n",
    "\n",
    "```python\n",
    "arr=[0...N-1][0...N-1]\n",
    "di[] <- [0,0,-1,1]\n",
    "dj[] <- [-1,1,0,0]\n",
    "\n",
    "for i : 0 -> N-1:\n",
    "    for k in range(4):\n",
    "        ni <- i + di[k]\n",
    "        nj <- i + dj[k]\n",
    "        if 0<=<N and 0<=nj<N # 유효한 인덱스면 test(arr[ni][nj])\n",
    "```"
   ]
  },
  {
   "attachments": {},
   "cell_type": "markdown",
   "metadata": {},
   "source": [
    "##### 전치 행렬\n",
    "\n",
    "```python\n",
    "# i : 행의 좌표, len(arr)\n",
    "# j : 열의 좌표, len(arr[0])\n",
    "arr = [[1,2,3],[4,5,6,],[7,8,9]]    # 3x3 행렬\n",
    "\n",
    "for i in range(3):\n",
    "    for j in range(3):\n",
    "        if i<j:\n",
    "            arr[i][j], arr[j][i] = arr[j][i] , arr[i][j]\n",
    "\n",
    "```"
   ]
  },
  {
   "cell_type": "code",
   "execution_count": 7,
   "metadata": {},
   "outputs": [
    {
     "name": "stdout",
     "output_type": "stream",
     "text": [
      "23\n"
     ]
    }
   ],
   "source": [
    "# 이 모양으로 땅을 갖을 수 있다고 할때 어느 땅을 갖어야 할까요?\n",
    "#  2*3 배열만큼 잘라서 합을 구할떄 최대값은 몇 일까요? !!\n",
    "\n",
    "#  ***\n",
    "#  ***\n",
    "\n",
    "arr=[[1, 5, 4, 2],\n",
    "    [1, 3, 4, 2],\n",
    "    [3, 5, 3, 2],\n",
    "    [2, 6, 4, 1]]\n",
    "\n",
    "def ground_sum(a,b):\n",
    "    sum_ = 0\n",
    "    for i in range(2):\n",
    "        for j in range(3):\n",
    "            sum_+= arr[i+a][j+b]\n",
    "    return sum_\n",
    "\n",
    "sum_lst = []\n",
    "for i in range(3):\n",
    "    for j in range(2):\n",
    "        sum_lst.append(ground_sum(i,j))\n",
    "max_n = sum_lst[0]\n",
    "\n",
    "for i in sum_lst:\n",
    "    if i > max_n:\n",
    "        max_n = i\n",
    "        \n",
    "print(max_n)"
   ]
  },
  {
   "cell_type": "code",
   "execution_count": 13,
   "metadata": {},
   "outputs": [
    {
     "name": "stdout",
     "output_type": "stream",
     "text": [
      "[9, 13, 11, 6, 12, 16, 5, 14, 14]\n"
     ]
    }
   ],
   "source": [
    "#arr= [[3,5,4],[1,1,2],[1,3,9]]\n",
    "\n",
    "arr= [[3,5,4],\n",
    "      [1,1,2],\n",
    "      [1,3,9]]\n",
    "\n",
    "dy,dx = [-1,1,0,0],[0,0,-1,1]\n",
    "sum_lst = []\n",
    "\n",
    "for i in range(3):\n",
    "    for j in range(3):\n",
    "        n_sum = arr[i][j]\n",
    "        for d in range(4):\n",
    "            if 0<=i+dy[d]<3 and 0<=j+dx[d]<3:\n",
    "                n_sum += arr[i+dy[d]][j+dx[d]]\n",
    "            else:\n",
    "                continue\n",
    "        sum_lst.append(n_sum)\n",
    "\n",
    "print(sum_lst)\n",
    "        "
   ]
  },
  {
   "cell_type": "code",
   "execution_count": 16,
   "metadata": {},
   "outputs": [
    {
     "name": "stdout",
     "output_type": "stream",
     "text": [
      "11\n"
     ]
    }
   ],
   "source": [
    "dy = [-1,1,0,0]\n",
    "dx = [0,0,-1,1]\n",
    "\n",
    "y,x = map(int,input().split())\n",
    "sum = 0\n",
    "for i in range(4):\n",
    "    ny = y+dy[i]\n",
    "    nx = x+dx[i]\n",
    "    if ny<0 or nx<0 or ny>=3 or nx>=3: continue\n",
    "    sum+=arr[ny][nx]\n",
    "print(sum)"
   ]
  },
  {
   "cell_type": "code",
   "execution_count": 19,
   "metadata": {},
   "outputs": [
    {
     "name": "stdout",
     "output_type": "stream",
     "text": [
      "108\n"
     ]
    }
   ],
   "source": [
    "# 좌표값 하나 입력받아, 입력받은 좌표로부터 대각선에 있는 곳의 값들의 곲을 구해서 출력\n",
    "\n",
    "arr = [ [3, 5, 4, 5, 6],\n",
    "        [1, 1, 2, 7, 8],\n",
    "        [1, 2, 9, 1, 2],\n",
    "        [3, 5, 4, 5, 6],\n",
    "        [1, 1, 2, 7, 8]]\n",
    "\n",
    "dy,dx = [1,1,-1,-1],[-1,1,-1,1]\n",
    "y,x = map(int,input().split())\n",
    "result = 1\n",
    "\n",
    "for i in range(4):\n",
    "    ny = y+dy[i]\n",
    "    nx = x+dx[i]\n",
    "    if 0<=ny<5 and 0<=nx<5:\n",
    "        result*=arr[ny][nx]\n",
    "\n",
    "print(result)\n",
    "    \n"
   ]
  },
  {
   "cell_type": "code",
   "execution_count": 24,
   "metadata": {},
   "outputs": [
    {
     "name": "stdout",
     "output_type": "stream",
     "text": [
      "30\n"
     ]
    }
   ],
   "source": [
    "arr = [ [3, 5, 4, 5, 6],\n",
    "        [1, 1, 2, 7, 8],\n",
    "        [1, 2, 9, 1, 2],\n",
    "        [3, 5, 4, 5, 6],\n",
    "        [1, 1, 2, 7, 8]]\n",
    "\n",
    "y,x = map(int,input().split())\n",
    "dy,dx = [-1,1,0,0],[0,0,-1,1]\n",
    "sum_n = 0\n",
    "\n",
    "for i in range(4):\n",
    "    for j in range(1,3):\n",
    "        ny = y + dy[i]*j\n",
    "        nx = x + dx[i]*j\n",
    "        if 0<=ny<5 and 0<=nx<5:\n",
    "            sum_n+=arr[ny][nx]\n",
    "\n",
    "print(sum_n)\n"
   ]
  },
  {
   "attachments": {},
   "cell_type": "markdown",
   "metadata": {},
   "source": [
    "#### 진수 변환"
   ]
  },
  {
   "cell_type": "code",
   "execution_count": 27,
   "metadata": {},
   "outputs": [
    {
     "name": "stdout",
     "output_type": "stream",
     "text": [
      "0b1010\n",
      "15\n",
      "15\n"
     ]
    }
   ],
   "source": [
    "a = 10\n",
    "print(bin(a))\n",
    "\n",
    "# 2진수 값을 정수로 표현\n",
    "b = 0b1111\n",
    "print(b)\n",
    "\n",
    "# 2진수(문자) 값을 정수로 출력\n",
    "c='0B1111'\n",
    "print(int(c,2))\n"
   ]
  },
  {
   "cell_type": "code",
   "execution_count": 31,
   "metadata": {},
   "outputs": [
    {
     "name": "stdout",
     "output_type": "stream",
     "text": [
      "1\n"
     ]
    }
   ],
   "source": [
    "# and(&)연산\n",
    "a = 0B1001\n",
    "b = 0B0001\n",
    "\n",
    "print(a&b)"
   ]
  },
  {
   "cell_type": "code",
   "execution_count": 32,
   "metadata": {},
   "outputs": [
    {
     "name": "stdout",
     "output_type": "stream",
     "text": [
      "9\n"
     ]
    }
   ],
   "source": [
    "# or(|) 연산\n",
    "a = 0B1001\n",
    "b = 0B0001\n",
    "\n",
    "print(a|b)"
   ]
  },
  {
   "cell_type": "code",
   "execution_count": 39,
   "metadata": {},
   "outputs": [
    {
     "name": "stdout",
     "output_type": "stream",
     "text": [
      "4\n",
      "328\n",
      "0\n",
      "10\n"
     ]
    }
   ],
   "source": [
    "# shift연산\n",
    "a=0b0001\n",
    "b=0b00101001\n",
    "\n",
    "print(a<<2)\n",
    "print(b<<3)\n",
    "\n",
    "print(a>>1)\n",
    "print(b>>2)\n"
   ]
  },
  {
   "cell_type": "code",
   "execution_count": 41,
   "metadata": {},
   "outputs": [
    {
     "name": "stdout",
     "output_type": "stream",
     "text": [
      "최대합:36, 좌표:(2,2)\n"
     ]
    }
   ],
   "source": [
    "# 위 아래 좌우 좌표들의 합이 가장 큰 곳의 합과\n",
    "# 그 기준 좌표값 출력\n",
    "\n",
    "arr=[[1,2,3,4],\n",
    "    [1,2,9,4],\n",
    "    [1,9,3,9],\n",
    "    [1,2,9,4]]\n",
    "\n",
    "dy,dx = [-1,1,0,0],[0,0,-1,1]\n",
    "\n",
    "max_sum = 0\n",
    "max_y=max_x=0\n",
    "sum = 0\n",
    "for y in range(4):\n",
    "    for x in range(4):\n",
    "        for d in range(4):\n",
    "            ny = y + dy[d]\n",
    "            nx = x + dx[d]\n",
    "            if 0<=ny<4 and 0<=nx<4:\n",
    "                sum+=arr[ny][nx]\n",
    "        \n",
    "            \n",
    "        if sum > max_sum:\n",
    "            max_sum = sum\n",
    "            max_y,max_x = y,x\n",
    "            \n",
    "        sum = 0\n",
    "\n",
    "print(f'최대합:{max_sum}, 좌표:({max_y},{max_x})')\n",
    "\n",
    "\n"
   ]
  }
 ],
 "metadata": {
  "kernelspec": {
   "display_name": "Python 3",
   "language": "python",
   "name": "python3"
  },
  "language_info": {
   "codemirror_mode": {
    "name": "ipython",
    "version": 3
   },
   "file_extension": ".py",
   "mimetype": "text/x-python",
   "name": "python",
   "nbconvert_exporter": "python",
   "pygments_lexer": "ipython3",
   "version": "3.9.13"
  },
  "orig_nbformat": 4,
  "vscode": {
   "interpreter": {
    "hash": "c4b9ebf4ca459396e2ad1150752490c26670c1a037c08cad955a4425787bec2e"
   }
  }
 },
 "nbformat": 4,
 "nbformat_minor": 2
}
