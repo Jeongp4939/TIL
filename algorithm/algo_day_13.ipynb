{
 "cells": [
  {
   "attachments": {},
   "cell_type": "markdown",
   "metadata": {},
   "source": [
    "# 알고리즘 13일차\n",
    "\n",
    "### 문제해결\n",
    "- 고대 유적\n",
    "- 쇠막대기 자르기\n",
    "- 백만장자 프로젝트\n",
    "- 자기 방으로 돌아가기\n",
    "- 재밌는 오셀로 게임"
   ]
  },
  {
   "cell_type": "code",
   "execution_count": null,
   "metadata": {},
   "outputs": [],
   "source": [
    "# 디버깅 연습을 위한 코드\n",
    "\n",
    "di = [0, 1, 0,-1]\n",
    "dj = [1, 0,-1, 0]\n",
    "T = int(input())\n",
    "for test_case in range(1, T + 1):\n",
    "    N = int(input())\n",
    "    arr = [[0]*N for _ in range(N)]\n",
    " \n",
    "    i = j = dr = 0      # 초기값 설정\n",
    "    for cnt in range(1, N*N+1):\n",
    "        arr[i][j] = cnt             # 현재좌표에 숫자 기록\n",
    "        ni,nj = i+di[dr], j+dj[dr]  # 이동할 위치 계산\n",
    " \n",
    "        # 이동할 위치가 범위내 and 빈칸(==0)인경우 이동\n",
    "        if 0<=ni< N and 0<=nj< N and arr[ni][nj]==0:\n",
    "            i,j = ni,nj\n",
    "        else:   # 방향을 꺽어서 이동위치 다시 계산\n",
    "            dr = (dr+1)%4           # 0-1-2-3-1-2..\n",
    "            i,j = i+di[dr], j+dj[dr]\n",
    " \n",
    "    print(f'#{test_case}')\n",
    "    for lst in arr:\n",
    "        print(*lst)"
   ]
  },
  {
   "cell_type": "code",
   "execution_count": null,
   "metadata": {},
   "outputs": [],
   "source": [
    "# 고대 유적\n",
    "\n",
    "def count(ar):\n",
    "    mx= 0\n",
    "    for lst in ar:\n",
    "        cnt = 0\n",
    "        for i in lst:\n",
    "            if i==1:\n",
    "                cnt+=1\n",
    "                if mx<cnt:\n",
    "                    mx = cnt\n",
    "            else:\n",
    "                cnt=0\n",
    "    return mx\n",
    "\n",
    "for tc in range(1,int(input())+1):\n",
    "    n,m = map(int,input().split())\n",
    "    arr = [list(map(int,input().split())) for _ in range(n)]\n",
    "    arr_t = list(map(list,zip(*arr)))\n",
    "\n",
    "    ans = count(arr)\n",
    "    t = count(arr_t)\n",
    "    if ans<t:\n",
    "        ans=t\n",
    "\n",
    "    print(f'#{tc} {ans}')"
   ]
  },
  {
   "cell_type": "code",
   "execution_count": null,
   "metadata": {},
   "outputs": [],
   "source": [
    "# 쇠막대기 자르기\n",
    "# 쌓여있는 막대기의 수 cnt\n",
    "# '(' cnt+=1 -> 레이저 시작(?)\n",
    "#  뒤를 체크(범위!)-> 앞을 체크 -> index 사용\n",
    "# else ')'\n",
    "# if st[i-1] == '('  # 레이저\n",
    "#           cnt -= 1, ans+=cnt\n",
    "# else # ')' 막대기 끝\n",
    "#           cnt-=1, ans+=1\n",
    "\n",
    "for tc in range(1,int(input())+1):\n",
    "\n",
    "    st = input()\n",
    "    ans = cnt = 0\n",
    "    for i in range(len(st)):\n",
    "        if st[i] == '(':\n",
    "            cnt += 1\n",
    "        else:           # ')'\n",
    "            if st[i-1]=='(':\n",
    "                cnt-=1\n",
    "                ans+=cnt\n",
    "            else:\n",
    "                cnt-=1\n",
    "                ans+=1\n",
    "\n",
    "    print(f'#{tc} {ans}')"
   ]
  },
  {
   "cell_type": "code",
   "execution_count": null,
   "metadata": {},
   "outputs": [],
   "source": [
    "# 백만장자 프로젝트\n",
    "# [1] 최대값 찾기(i~끝)\n",
    "# [2] i~i_mx 차이 누적\n",
    "# [3] i<-i_mx +1    while i<N\n",
    "\n",
    "T = int(input())\n",
    "for test_case in range(1, T + 1):\n",
    "    N = int(input())\n",
    "    lst = list(map(int, input().split()))\n",
    "\n",
    "    i = ans = 0\n",
    "    while i < N:\n",
    "        # [1] i~ 끝까지 최대값의 index 찾기\n",
    "        i_mx = i\n",
    "        for j in range(i + 1, N):\n",
    "            if lst[i_mx] < lst[j]:\n",
    "                i_mx = j\n",
    "\n",
    "        # [2] i~i_mx 까지의 최대값과의 차이 누적\n",
    "        for j in range(i, i_mx):\n",
    "            ans += lst[i_mx] - lst[j]\n",
    "\n",
    "        i = i_mx + 1\n",
    "    print(f'#{test_case} {ans}')"
   ]
  },
  {
   "cell_type": "code",
   "execution_count": null,
   "metadata": {},
   "outputs": [],
   "source": [
    "#  뒤에서부터 검색\n",
    "\n",
    "T = int(input())\n",
    "for test_case in range(1, T + 1):\n",
    "    N = int(input())\n",
    "    lst = list(map(int, input().split()))[::-1]\n",
    "\n",
    "    ans = mx = 0\n",
    "    for n in lst:\n",
    "        if mx>n:\n",
    "            ans += mx-n\n",
    "        else:\n",
    "            mx=n\n",
    "    print(f'#{test_case} {ans}')"
   ]
  },
  {
   "cell_type": "code",
   "execution_count": null,
   "metadata": {},
   "outputs": [],
   "source": [
    "# 테스트 케이스\n",
    "# N 돌아가야 할 학생들의 수\n",
    "# 현재방, 돌아갈 방으로 구성\n",
    "# 가는 경로가 겹치면 기다려야함\n",
    "# 홀수 짝수번 방이 복도를 공유\n",
    "# (방번호-1)//2 : 복도 번호\n",
    "\n",
    "for tc in range(1,int(input())+1):\n",
    "    n = int(input())\n",
    "    cnts = [0]*400                  # 복도\n",
    "    for _ in range(n):      # 학생 배열 구성\n",
    "        a,b = map(int,input().split())\n",
    "        # 인풋이 뒤가 크다라는 조건이 없음\n",
    "        if a<b:\n",
    "            for j in range((a-1)//2,(b-1)//2+1):\n",
    "                cnts[j]+=1\n",
    "        else:\n",
    "            for j in range((b-1)//2,(a-1)//2+1):\n",
    "                cnts[j]+=1\n",
    "    print(f'#{tc} {max(cnts)}')"
   ]
  },
  {
   "cell_type": "code",
   "execution_count": null,
   "metadata": {},
   "outputs": [],
   "source": [
    "# 오셀로 게임\n",
    "\n",
    "T = int(input())\n",
    "for test_case in range(1, T + 1):\n",
    "    N, M = map(int, input().split())\n",
    "    # arr 네방향 0으로 패딩해서 둘러쌈\n",
    "    arr = [[0]*(N+2) for _ in range(N+2)]\n",
    "    # [1] 초기 돌 위치 놓기\n",
    "    m = N//2\n",
    "    arr[m][m] = arr[m+1][m+1] = 2\n",
    "    arr[m+1][m] = arr[m][m+1] = 1\n",
    " \n",
    "    # [2] 흑돌 백돌 입력 받아서 처리\n",
    "    for _ in range(M):\n",
    "        si, sj, d = map(int, input().split())\n",
    "        arr[si][sj] = d\n",
    "        # 8방향 처리\n",
    "        for di,dj in ((-1,-1),(-1,0),(-1,1),(0,-1),(0,1),(1,-1),(1,0),(1,1)):\n",
    "            # 해당 방향으로 뻗어나가면서 처리\n",
    "            tlst = []\n",
    "            for mul in range(1, N):\n",
    "                ni, nj = si+di*mul, sj+dj*mul\n",
    "                if arr[ni][nj]==0:      # 빈칸 범위밖..\n",
    "                    break\n",
    "                elif arr[ni][nj] != d:  # 다른돌인 경우 뒤집기 후보에 추가\n",
    "                    tlst.append((ni,nj))\n",
    "                else:                   # 같은돌=>후보들을 뒤집고, 종료\n",
    "                    while tlst:\n",
    "                        ti,tj = tlst.pop()\n",
    "                        arr[ti][tj]=d\n",
    "                    break\n",
    " \n",
    "    bcnt = wcnt = 0\n",
    "    for lst in arr:\n",
    "        bcnt += lst.count(1)\n",
    "        wcnt += lst.count(2)\n",
    "    print(f'#{test_case} {bcnt} {wcnt}')"
   ]
  },
  {
   "attachments": {},
   "cell_type": "markdown",
   "metadata": {},
   "source": [
    "# 오프라인\n"
   ]
  },
  {
   "cell_type": "code",
   "execution_count": null,
   "metadata": {},
   "outputs": [],
   "source": [
    "dy = [-1,1,0,0,1,1,-1,-1]\n",
    "dx = [0,0,-1,1,1,-1,1,-1]\n",
    "\n",
    "def is_Sink(y,x):\n",
    "    global Max\n",
    "    cnt=0\n",
    "    for d in range(8):\n",
    "        ny = y+dy[d]\n",
    "        nx = x+dx[d]\n",
    "        if 0<=ny<n and 0<=nx<n:\n",
    "            if arr[y][x]<arr[ny][nx]:\n",
    "                cnt+=1\n",
    "                if arr[ny][nx]-arr[y][x] > Max:\n",
    "                    Max = arr[ny][nx]-arr[y][x]\n",
    "    if cnt==8:\n",
    "        return 1\n",
    "    return 0\n",
    "\n",
    "for tc in range(1,int(input())+1):\n",
    "    n = int(input())\n",
    "    rlt = 0\n",
    "    Max = 0\n",
    "    arr = [list(map(int,input().split())) for _ in range(n)]\n",
    "    for i in range(1,n-1):\n",
    "        for j in range(1,n-1):\n",
    "            rlt += is_Sink(i,j)\n",
    "\n",
    "    print(f'#{tc} {rlt} {Max}')"
   ]
  },
  {
   "cell_type": "code",
   "execution_count": 15,
   "metadata": {},
   "outputs": [
    {
     "name": "stdout",
     "output_type": "stream",
     "text": [
      "18\n"
     ]
    }
   ],
   "source": [
    "# n,m 입력\n",
    "# n개의 정수 입력을 받아 \n",
    "# Q. 연속된 m개 구간의 숫자들의 합 중 max일 때 값\n",
    "\n",
    "n,m = map(int,input().split())\n",
    "arr = list(map(int,input().split()))\n",
    "sum=0\n",
    "for i in range(m):\n",
    "    sum+=arr[i]\n",
    "Max = 0\n",
    "i = 0\n",
    "for i in range(m,n):\n",
    "    sum = sum - arr[i-m]+arr[i]\n",
    "    if Max<sum:\n",
    "        Max=sum\n",
    "\n",
    "print(Max)"
   ]
  },
  {
   "cell_type": "code",
   "execution_count": null,
   "metadata": {},
   "outputs": [],
   "source": [
    "n,m=map(int,input().split())\n",
    "arr=list(map(int,input().split()))\n",
    "\n",
    "Max,sum=0,0\n",
    "\n",
    "for i in range(m):  # 처음 첫 m개 구간의 합 구하기\n",
    "    sum+=arr[i]\n",
    "Max=sum\n",
    "for i in range(n-m):\n",
    "    sum+=arr[i+m]\n",
    "    sum-=arr[i]\n",
    "    if sum>Max:\n",
    "        Max=sum\n",
    "print(Max)"
   ]
  },
  {
   "cell_type": "code",
   "execution_count": null,
   "metadata": {},
   "outputs": [],
   "source": [
    "for i in range(m):  # 처음 첫 m개 구간의 합 구하기\n",
    "    sum+=arr[i]\n",
    "for i in range(n-m+1):\n",
    "    if sum>Max:\n",
    "        Max=sum\n",
    "    if i==n-m:\n",
    "        break\n",
    "    sum+=arr[i+m]\n",
    "    sum-=arr[i]\n",
    "print(Max)"
   ]
  },
  {
   "cell_type": "code",
   "execution_count": 27,
   "metadata": {},
   "outputs": [
    {
     "name": "stdout",
     "output_type": "stream",
     "text": [
      "3\n"
     ]
    }
   ],
   "source": [
    "# n,m 입력\n",
    "# n개의 자연수 중 연속된 숫자들을 더했을 때 합이 m이 되는 경우는 몇가지 인가요? (투포인터-구간의크키가 정해지지X)\n",
    "# 예시\n",
    "# 10 5\n",
    "# 1 2 3 4 2 5 3 1 1 2    => 3개\n",
    "#\n",
    "# 10 5\n",
    "# 1 2 3 4 2 5 3 1 1 5   => 4개\n",
    "\n",
    "n,target=map(int,input().split())\n",
    "arr=list(map(int,input().split()))\n",
    "cnt,sum=0,0\n",
    "high,low=0,0\n",
    "\n",
    "while(1):\n",
    "    if sum>=target or high==n:  # 합이 타겟보다 크다면 (같은때도 범위를 좁혔음)\n",
    "        sum-=arr[low]\n",
    "        low+=1\n",
    "    elif sum<target:           # 합이 타겟보다 작으면 (범위 넓히기)\n",
    "        sum+=arr[high]\n",
    "        high+=1\n",
    "    if sum==target:\n",
    "        cnt+=1\n",
    "    if low==n:  break\n",
    "print(cnt)\n"
   ]
  },
  {
   "cell_type": "code",
   "execution_count": 43,
   "metadata": {},
   "outputs": [
    {
     "name": "stdout",
     "output_type": "stream",
     "text": [
      "4\n"
     ]
    }
   ],
   "source": [
    "n, m = map(int,input().split())\n",
    "arr = list(map(int,input().split()))\n",
    "cnt=0\n",
    "sum = 0\n",
    "st = ed = 0\n",
    "\n",
    "while 1:\n",
    "    if sum>=m or ed == n:\n",
    "        sum-=arr[st]\n",
    "        st+=1\n",
    "    elif sum < m:\n",
    "        sum+=arr[ed]\n",
    "        ed+=1\n",
    "    if sum==m:\n",
    "        cnt+=1\n",
    "    if st == n:\n",
    "        break\n",
    "print(cnt)\n",
    "    "
   ]
  },
  {
   "cell_type": "code",
   "execution_count": 38,
   "metadata": {},
   "outputs": [
    {
     "name": "stdout",
     "output_type": "stream",
     "text": [
      "1 2 3 4 5\n",
      "2 3 4\n",
      "\n"
     ]
    }
   ],
   "source": [
    "from collections import deque\n",
    "\n",
    "q = deque()\n",
    "\n",
    "q.append(1)\n",
    "q.append(2)\n",
    "q.append(3)\n",
    "q.append(4)\n",
    "q.append(5)\n",
    "print(*q)\n",
    "q.pop()\n",
    "q.popleft()\n",
    "print(*q)\n",
    "\n",
    "print()"
   ]
  },
  {
   "cell_type": "code",
   "execution_count": 46,
   "metadata": {},
   "outputs": [
    {
     "name": "stdout",
     "output_type": "stream",
     "text": [
      "A B D C E F\n"
     ]
    }
   ],
   "source": [
    "from collections import deque\n",
    "\n",
    "name = list(input().split())    # A B C D E F\n",
    "\n",
    "arr = [[0,1,0,1,0,0],           #         A\n",
    "       [0,0,1,0,1,0],           #    B        D\n",
    "       [0,0,0,0,0,1],           #  C   E         F\n",
    "       [0,0,0,0,0,0],\n",
    "       [0,0,0,0,0,0],\n",
    "       [0,0,0,0,0,0]]\n",
    "\n",
    "answer = [] # 탐색 순서 저장 후 출력\n",
    "\n",
    "\n",
    "def bfs(st):    # 출발점\n",
    "    global answer\n",
    "    q = deque()\n",
    "    q.append(st)\n",
    "    while q:\n",
    "        now = q.popleft()\n",
    "        answer.append(name[now])\n",
    "\n",
    "        for i in range(6):\n",
    "            if arr[now][i]==1:\n",
    "                q.append(i)\n",
    "\n",
    "bfs(0)\n",
    "print(*answer)"
   ]
  },
  {
   "attachments": {},
   "cell_type": "markdown",
   "metadata": {},
   "source": [
    "DFS BFS\n",
    "- Graph 탐색 하는 방법\n",
    "\n",
    "BST(Binary Search Tree)\n",
    "- 트리의 형태로 저장하고 탐색 삭제 가능한 자료 구조\n",
    "\n",
    "BS(Binary Search)\n",
    "- 탐색 방법\n",
    "\n",
    "DFS\n",
    "- Backtracking\n",
    "- DFS\n",
    "- 완전탐색(Brute-force)"
   ]
  },
  {
   "cell_type": "code",
   "execution_count": 53,
   "metadata": {},
   "outputs": [
    {
     "name": "stdout",
     "output_type": "stream",
     "text": [
      "A B E C D F\n"
     ]
    }
   ],
   "source": [
    "from collections import deque\n",
    "# A B C D E F\n",
    "\n",
    "s = input().split()\n",
    "arr = [[0,1,0,0,1,0],\n",
    "       [0,0,1,1,0,0],\n",
    "       [0,0,0,0,0,0],\n",
    "       [0,0,0,0,0,0],\n",
    "       [0,0,0,0,0,1],\n",
    "       [0,0,0,0,0,0]]\n",
    "ans = []\n",
    "def bfs(st):\n",
    "    q = deque()\n",
    "    q.append(st)\n",
    "\n",
    "    while q:\n",
    "        n = q.popleft()\n",
    "        ans.append(s[n])\n",
    "\n",
    "        for i in range(6):\n",
    "            if arr[n][i]==1:\n",
    "                q.append(i)\n",
    "\n",
    "bfs(0)\n",
    "print(*ans)\n"
   ]
  },
  {
   "cell_type": "code",
   "execution_count": 63,
   "metadata": {},
   "outputs": [
    {
     "name": "stdout",
     "output_type": "stream",
     "text": [
      "A B C D\n"
     ]
    }
   ],
   "source": [
    "s = input().split()\n",
    "\n",
    "arr = [[0,1,1,0],\n",
    "       [0,0,1,1],\n",
    "       [0,1,0,1],\n",
    "       [0,0,0,0]]\n",
    "\n",
    "used = [0]*4\n",
    "\n",
    "ans=[]\n",
    "\n",
    "def BFS(st):\n",
    "    q = deque()\n",
    "    q.append(st)\n",
    "    used[st]=1\n",
    "    while q:\n",
    "        n = q.popleft()\n",
    "        ans.append(s[n])\n",
    "\n",
    "        for i in range(4):\n",
    "            if used[i]==0:\n",
    "                if arr[n][i]==1:\n",
    "                    q.append(i)\n",
    "                    used[i]=1\n",
    "\n",
    "BFS(0)\n",
    "print(*ans)\n",
    "\n"
   ]
  },
  {
   "cell_type": "code",
   "execution_count": 5,
   "metadata": {},
   "outputs": [
    {
     "name": "stdout",
     "output_type": "stream",
     "text": [
      "2 2 2\n",
      "2 1 2\n",
      "2 2 2\n"
     ]
    }
   ],
   "source": [
    "from collections import deque\n",
    "n=int(input()) # 3\n",
    "y,x=map(int,input().split())  # 1,1 민들레 꽃씨가 떨어지는 좌표 입력\n",
    "arr=[[0]*n for _ in range(n)]  # 3*3 배열 선언\n",
    "\n",
    "arr[y][x]=1\n",
    "q=deque()\n",
    "q.append([y,x])   # 시작 좌표값 넣기\n",
    "while q:\n",
    "    now=q.popleft()\n",
    "    nowy,nowx=now[0],now[1]   # 현재의 좌표값\n",
    "    directy=[-1,1,0,0]\n",
    "    directx=[0,0,-1,1]\n",
    "    for i in range(4):\n",
    "        dy=nowy+directy[i]\n",
    "        dx=nowx+directx[i]\n",
    "        if 0<=dy<n and 0<=dx<n: # 배열의 범위를 벗어나지 않는다면\n",
    "            if arr[dy][dx]==0:  # 꽃이 아직 피지 않은 곳이라면 (중복체크)\n",
    "                arr[dy][dx]=arr[y][x]+1\n",
    "                q.append([dy,dx])\n",
    "\n",
    "for i in arr:\n",
    "    print(*i)"
   ]
  }
 ],
 "metadata": {
  "kernelspec": {
   "display_name": "Python 3",
   "language": "python",
   "name": "python3"
  },
  "language_info": {
   "codemirror_mode": {
    "name": "ipython",
    "version": 3
   },
   "file_extension": ".py",
   "mimetype": "text/x-python",
   "name": "python",
   "nbconvert_exporter": "python",
   "pygments_lexer": "ipython3",
   "version": "3.9.13"
  },
  "orig_nbformat": 4,
  "vscode": {
   "interpreter": {
    "hash": "c4b9ebf4ca459396e2ad1150752490c26670c1a037c08cad955a4425787bec2e"
   }
  }
 },
 "nbformat": 4,
 "nbformat_minor": 2
}
