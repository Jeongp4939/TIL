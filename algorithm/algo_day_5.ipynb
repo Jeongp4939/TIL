{
 "cells": [
  {
   "attachments": {},
   "cell_type": "markdown",
   "metadata": {},
   "source": [
    "# 알고리즘 5일차\n",
    "\n",
    "##### 검색\n",
    "- 저장되어 있는 자료 중에서 원하는 항목을 찾는 작업\n",
    "\n",
    "- 목적하는 탐색 키를 가진 항목을 찾는 것\n",
    "    - 탐색 키(Search Key): 자료를 구별하여 인식할 수 있는 키\n",
    "\n",
    "- 검색의 종료\n",
    "    - 순차검색(sequential search)\n",
    "    - 이진검색(binary search)\n",
    "    - 해쉬(hash)\n",
    "\n",
    "- 일렬로 되어 있는 자료를 순서대로 검색하는 방법\n",
    "    - 가장 간단하고 직관적인 검색 방법\n",
    "    - 배열이나 연결 리스트 등 순차구조로 구현된 자료구조에서 원하는 항목을 찾을 때 유용한\n",
    "    - 알고리즘이 단순하여 구현이 쉽지만, 검색 대상의 수가 많은 경우에는 수행시간이 급격히 증가하여 비효율적임\n",
    "\n",
    "- 2가지 경우\n",
    "    -정렬되어 있지 않을 경우\n",
    "    - 정렬되어 있는 경우"
   ]
  },
  {
   "attachments": {},
   "cell_type": "markdown",
   "metadata": {},
   "source": [
    "##### 정렬되어 있지 않은 경우\n",
    "\n",
    "- 검색과정\n",
    "    - 첫 번째 원소부터 순서대로 검색 대상과 키 값이 같은 원소가 있는지 비교하면 찾는다.\n",
    "    - 키 값이 동일한 원소를 찾으면 그 원소의 인덱스를 반환한다\n",
    "    - 자료구조의 마지막에 이를 때까지 검색 대상을 찾지 못하면 검색 실패\n",
    "\n",
    "- 찾고자 하는 원소의 순서에 따라 비교회수가 결정됨\n",
    "    - 첫 번째 원소를 찾을 떄는 1번 비교, 두 번째 원소를 찾을 때는 2번 비교 ...\n",
    "    - 정렬되지 않은 자료에서의 순차 검색의 평균 비교 회수\n",
    "        - =(1/n)*(1+2+3+...+n) = (n+1)/2\n",
    "    - 시간 복잡도 : O(n)\n",
    "\n",
    "- 구현 예\n",
    "```python\n",
    "def sequentailSearch(a, n, key)\n",
    "    i <- 0\n",
    "    while i<n and a[i]!=key:\n",
    "        i <-i+1\n",
    "    if i<n:return i\n",
    "    else: return -1\n",
    "```"
   ]
  },
  {
   "attachments": {},
   "cell_type": "markdown",
   "metadata": {},
   "source": [
    "##### 정렬되어 있는 경우\n",
    "- 검색 과정\n",
    "    - 자료가 오름차순으로 정렬된 상태에서 검색을 실시한다고 가정\n",
    "    - 자료를 순차적으로 검색하면서 키 값을 비교하여, 원소의 키 값이 검색 대상의 키 값보다 크면 찾는 원소가 없다는 것이므로 더 이상 검색하지 않고 검색을 종료\n",
    "\n",
    "- 찾고자 하는 원소의 순서에 따라 비교회수가 결정됨\n",
    "    - 정렬이 되어있으므로, 검색 실패ㅡㄹ 반환하는 경우 평균 비교 회수가 반으로 줄어든다.\n",
    "    - 시간 복잡도 : O(n)\n",
    "\n",
    "- 구현 예\n",
    "```python\n",
    "def sequentailSearch2(a,n,key)\n",
    "    i <- 0\n",
    "    while i<n and a[i]<key:\n",
    "        i <-i+1\n",
    "    if i<n and a[i] == key:\n",
    "        return i\n",
    "    else:\n",
    "        return -1\n",
    "\n",
    "```\n"
   ]
  },
  {
   "attachments": {},
   "cell_type": "markdown",
   "metadata": {},
   "source": [
    "##### 이진검색\n",
    "- 자료의 가운데에 있는 항목의 카 값과 비교하여 다음 검색의 위치를 결정하고 검색을 계속 진행하는 방법\n",
    "    - 목적 키를 찾을 때까지 이진 검새을 순환적으로 반복 수행함으로써 검색 범위를 반으로 줄여가면서 보다 빠르게 검색을 수행함\n",
    "\n",
    "- 이진 검색을 하기 위해서는 자료가 정렬된 상태여야 한다\n",
    "\n",
    "- 검색 과정\n",
    "    - 자료의 중앙에 있는 원소를 고름\n",
    "    - 중앙 원소의 값과 찾고자 하는 목표 값을 비교\n",
    "    - 목표 값이 중앙 원소의 값보다 작으면 자료의 왼쪽 반에 대해서 새로 검색을 수행, 크다면 자료의 오른쪽 반에 대해서 새고 검색을 수행\n",
    "    - 찾고자 하는 값을 찾을 때까지 앞의 과정을 반복\n",
    "\n",
    "- 구현\n",
    "    - 검색 범위의 시작점과 종료점을 이용하여 검색을 반복 수행\n",
    "    - 이진 검색의 견우, 자료에 삽입이나 삭제가 발생했을 때 배열의 상태를 항상 정렬 상태로 유지하는 추가 작업이 필요\n",
    "\n",
    "```python\n",
    "def binarySearch(a, N, key)\n",
    "    start = 0\n",
    "    end = N-1\n",
    "    while start <= end:\n",
    "        middle = (start+end)//2\n",
    "        if a[middle] == key: # 검색 성공\n",
    "            return true\n",
    "        elif a[middle] > key:\n",
    "            end = middle - 1\n",
    "        else:\n",
    "            start = middle + 1\n",
    "    return false            # 검색 실패\n",
    "\n",
    "```\n"
   ]
  },
  {
   "attachments": {},
   "cell_type": "markdown",
   "metadata": {},
   "source": [
    "- 재귀 함수 이용\n",
    "    - 아래와 같이 재귀 함수를 이용하여 이진 검색을 구현할 수도 있다.\n",
    "\n",
    "```python\n",
    "def binarySearch2(a,low,high,key):\n",
    "    if low>high:    # 검색 실패\n",
    "        return False\n",
    "    else:\n",
    "        middle=(low+high)//2\n",
    "        if key == a[middle]: # 검색 성공\n",
    "            return True\n",
    "        elif key < a[middle]:\n",
    "            return binarySearch2(a,low,middle-1,key)\n",
    "        elif a[middle] < key:\n",
    "            return binarySearch2(a, middle+1, high, key)\n",
    "```"
   ]
  },
  {
   "attachments": {},
   "cell_type": "markdown",
   "metadata": {},
   "source": [
    "##### 인덱스\n",
    "- 인덱스라는 용어는 Database에서 유래했으며, 테이블에 대한 동작 속도를 높여주는 자료구조를 일컫음\n",
    "- Look up table 등의 용어를 사용하기도 함\n",
    "\n",
    "- 인덱스를 저장하는데 필요한 디스크 공간은 보통 테이블을 저장하는데 필요한 디스크 공간보다 작다.\n",
    "    - 보통 인덱스는 키-필드만 갖고 이쏙, 테이블의 다른 세부 항목들은 갖고 있지 않음\n",
    "\n",
    "- 배열을 사용한 인덱스\n",
    "    - 대량의 데이터를 매번 정렬하면, 프로그램의 반응은 느려질 수 밖에 없음. 이러한 대량 데이터의 성능 저하 문제를 해결하기 위해 배열 인덱스를 사용 가능\n",
    "\n",
    "- 원본 데이터에 데이터가 삽입될 경우 상대적으로 크기가 작은 인덱스 배열을 정렬하기 때문에 속도가 빠름"
   ]
  },
  {
   "attachments": {},
   "cell_type": "markdown",
   "metadata": {},
   "source": [
    "##### 선택 정렬\n",
    "- 포켓볼 순서대로 정렬하기\n",
    "    - 많은 사람들이 당구대 위에 있는 공 중 가장 작은 숫자의 공부터 골라서 차례대로 정리\n",
    "    - 이것이 선택 정렬\n",
    "\n",
    "- 주어진 잘들 중 가장 작은 값의 원소부터 차례대로 선택하여 위치를 교환하는 방식\n",
    "    - 셀렉션 알고리즘을 전체 자료에 적용한 것\n",
    "\n",
    "- 정렬 과정\n",
    "    - 주어진 리스트 중에서 최소값을 찾음\n",
    "    - 그 값을 리스트의 맨 앞에 위치한 값과 교환\n",
    "    - 맨 처음 위치를 제외한 나머지 리스트를 대상으로 위의 과정을 반복\n",
    "\n",
    "- 시간 복잡도\n",
    "    - O(n^2)\n",
    "\n",
    "- 알고리즘\n",
    "```python\n",
    "\n",
    "def SelectionSort(a[],n)\n",
    "    for i from 0 to n-2\n",
    "        a[i],...,a[n-1] 원소 중 최소값 a[k] 찾음\n",
    "        a[i]와 a[k]교환\n",
    "\n",
    "```\n",
    "\n",
    "- 선택 정렬\n",
    "```python\n",
    "def selectionSort(a,N):\n",
    "    for i in range(N-1):\n",
    "        minIdx = i\n",
    "        for j in range(1+i,N):\n",
    "            if a[minIdx] > a[j]:\n",
    "                minIdx = j\n",
    "        a[i], a[minIdx] = a[minIdx],a[i]\n",
    "\n",
    "```\n",
    "\n",
    "- 저장되어 있는 자료로부터 k번째로 큰 혹은 작은 원소를 찾는 방법을 셀렉션 알고리즘이라 함\n",
    "    - 최소값, 최대값 혹은 중간값을 찾는 알고리즘을 의미하기도 함\n",
    "\n",
    "- 선택 과정\n",
    "    - 셀렉션은 아래와 같은 과정을 통해 이루어짐\n",
    "        - 정렬 알고리즘을 이용하여 자료 정렬\n",
    "        - 원하는 순서에 있는 원소 가져오기\n",
    "\n",
    "- 일반적인 셀렉션 알고리즘\n",
    "    - 1번부터 k번째 까지 작은원솓들을 찾아 배열의 앞쪽으로 이동시키고, 배열의 k번째를 반환\n",
    "    - k가 비교적 작을 떄 유용하며 O(kn)의 수행시간을 필요로 함\n",
    "```python\n",
    "def select(arr, k):\n",
    "    for i in range(0,k):\n",
    "        minIndex = i\n",
    "        for j in range(i+1, len(arr)):\n",
    "            if arr[minIndex] > arr[j]:\n",
    "                minIndex = j\n",
    "        arr[i],arr[minIndex] = arr[minIndex],arr[i]\n",
    "    return arr[k-1]\n",
    "```"
   ]
  },
  {
   "cell_type": "code",
   "execution_count": 2,
   "metadata": {},
   "outputs": [
    {
     "name": "stdout",
     "output_type": "stream",
     "text": [
      "[2, 3, 4, 4, 5, 6, 7]\n"
     ]
    }
   ],
   "source": [
    "N = int(input())\n",
    "arr = list(map(int,input().split()))\n",
    "\n",
    "for i in range(N-1):\n",
    "    minIdx = i\n",
    "    for j in range(i+1,N):\n",
    "        if arr[minIdx] > arr[j]:\n",
    "            minIdx = j\n",
    "    arr[i],arr[minIdx] = arr[minIdx],arr[i]\n",
    "print(arr)"
   ]
  },
  {
   "attachments": {},
   "cell_type": "markdown",
   "metadata": {},
   "source": [
    "#### 오프라인\n",
    "\n",
    "- binary search\n",
    "    - 정렬된 데이터에서 원하는 값을 빠르게 찾기 위한 탐색 방법\n",
    "    - binary search tree와 구분 주의"
   ]
  },
  {
   "cell_type": "code",
   "execution_count": 3,
   "metadata": {},
   "outputs": [
    {
     "name": "stdout",
     "output_type": "stream",
     "text": [
      "찾았음\n"
     ]
    }
   ],
   "source": [
    "arr=[1,3,5,6,8,11,13,15]\n",
    "target=int(input())\n",
    "def bs(st,ed,target):\n",
    "    while 1:\n",
    "        mid=(st+ed)//2\n",
    "        if arr[mid] == target:\n",
    "            return 1\n",
    "        elif arr[mid] > target:\n",
    "            ed=mid-1\n",
    "        elif arr[mid] < target:\n",
    "            st=mid+1\n",
    "        if ed<st:\n",
    "            return 0\n",
    "answer=bs(0,len(arr)-1,target)\n",
    "if answer: print('찾았음')\n",
    "else: print('없음')"
   ]
  },
  {
   "cell_type": "code",
   "execution_count": null,
   "metadata": {},
   "outputs": [],
   "source": []
  },
  {
   "cell_type": "code",
   "execution_count": 7,
   "metadata": {},
   "outputs": [
    {
     "name": "stdout",
     "output_type": "stream",
     "text": [
      "60 %\n"
     ]
    }
   ],
   "source": [
    "# 배터리가 몇% 충전되어 있는지 O(n)보다 빠르게\n",
    "bettery = '######____'\n",
    "def parametric_search(st,ed):\n",
    "    Max = -1\n",
    "    while 1:\n",
    "        mid = (st+ed)//2\n",
    "        if bettery[mid]=='_':\n",
    "            ed = mid-1\n",
    "        elif bettery[mid]=='#':\n",
    "            Max=mid\n",
    "            st=mid+1\n",
    "        if st>ed:\n",
    "            break\n",
    "    return Max+1\n",
    "\n",
    "answer = parametric_search(0,9)\n",
    "print(answer*10,'%')"
   ]
  },
  {
   "cell_type": "code",
   "execution_count": 21,
   "metadata": {},
   "outputs": [
    {
     "name": "stdout",
     "output_type": "stream",
     "text": [
      "2,3\n"
     ]
    }
   ],
   "source": [
    "# 워드 작업 중 정전으로 인하여 컴퓨터가 강제 종료 되었습니다.\n",
    "# 다시 전기가 들어와 컴퓨터를 켰더니 다행이도 자동복구가 실행 되었습니다.\n",
    "# 우리는 자동복구가 되었을떄 커서의 위치가 어디인지를 알려줘야 합니다.\n",
    "# 커서의 위치를 알려주는 프로그램을 완성해 주세요.\n",
    "# 시간복잡도 O(n) 보다 빨라야 합니다.\n",
    "\n",
    "# 6*12 size 리스트 입니다.\n",
    "\n",
    "def parametric_search(bettery,st,ed):\n",
    "    Max = -1\n",
    "    while 1:\n",
    "        mid = (st+ed)//2\n",
    "        if bettery[mid] == '_':\n",
    "            ed = mid-1\n",
    "        elif bettery[mid] == '#':\n",
    "            Max=mid\n",
    "            st=mid+1\n",
    "        if st>ed:\n",
    "            break\n",
    "    return Max+1\n",
    "\n",
    "curser=[ \n",
    " '##########',\n",
    " '##########',\n",
    " '###_______',\n",
    " '__________',\n",
    " '__________',\n",
    " '__________',\n",
    "]\n",
    "\n",
    "# O(nlogn)\n",
    "for bettery in range(len(curser)):\n",
    "    if parametric_search(curser[bettery],0,9)==10:\n",
    "        continue\n",
    "    print(f'{bettery},{parametric_search(curser[bettery],0,9)}')\n",
    "    break\n",
    "\n"
   ]
  },
  {
   "cell_type": "code",
   "execution_count": null,
   "metadata": {},
   "outputs": [],
   "source": [
    "\n",
    "def parametric_search(bettery,st,ed):\n",
    "    Max = -1\n",
    "    while 1:\n",
    "        mid = (st+ed)//2\n",
    "        if bettery[mid] == '_':\n",
    "            ed = mid-1\n",
    "        elif bettery[mid] == '#':\n",
    "            Max=mid\n",
    "            st=mid+1\n",
    "        if st>ed:\n",
    "            break\n",
    "    return Max+1\n",
    "\n",
    "curser=[ \n",
    " '##########',\n",
    " '##########',\n",
    " '###_______',\n",
    " '__________',\n",
    " '__________',\n",
    " '__________',\n",
    "]\n",
    "\n",
    "# O(nlogn)\n",
    "for bettery in range(len(curser)):\n",
    "    if parametric_search(curser[bettery],0,9)==10:\n",
    "        continue\n",
    "    print(f'{bettery},{parametric_search(curser[bettery],0,9)}')\n",
    "    break\n"
   ]
  },
  {
   "attachments": {},
   "cell_type": "markdown",
   "metadata": {},
   "source": [
    "아래로 parametric_search 해서 #을 찾고, 그 이후 parametric_serch를 사용하면 O(2logn)의 속도로 해결 가능"
   ]
  },
  {
   "cell_type": "code",
   "execution_count": null,
   "metadata": {},
   "outputs": [],
   "source": [
    "curser=[\n",
    " '##########',\n",
    " '##########',\n",
    " '###_______',\n",
    " '__________',\n",
    " '__________',\n",
    " '__________',\n",
    "]\n",
    "\n",
    "def bs1(st,ed):\n",
    " Max=-1\n",
    " while(1):\n",
    "  mid=(st+ed)//2\n",
    "  if curser[mid][0]=='_':\n",
    "   ed=mid-1\n",
    "  elif curser[mid][0]=='#':\n",
    "   Max=mid\n",
    "   st=mid+1\n",
    "  if st>ed:\n",
    "   break\n",
    "  return Max+1\n",
    "\n",
    "def bs2(st,ed,yy):\n",
    " Maxx = -1\n",
    " while (1):\n",
    "  mid = (st + ed) // 2\n",
    "  if curser[yy][mid] == '_':\n",
    "   ed = mid - 1\n",
    "  elif curser[yy][mid] == '#':\n",
    "   Maxx = mid\n",
    "   st = mid + 1\n",
    "  if st > ed:\n",
    "   break\n",
    " return Maxx + 1   \n",
    "\n",
    "yaxis=bs1(0,5)\n",
    "xaxis=bs2(0,9,yaxis-1)\n",
    "print(yaxis-1,xaxis)"
   ]
  }
 ],
 "metadata": {
  "kernelspec": {
   "display_name": "Python 3",
   "language": "python",
   "name": "python3"
  },
  "language_info": {
   "codemirror_mode": {
    "name": "ipython",
    "version": 3
   },
   "file_extension": ".py",
   "mimetype": "text/x-python",
   "name": "python",
   "nbconvert_exporter": "python",
   "pygments_lexer": "ipython3",
   "version": "3.9.13"
  },
  "orig_nbformat": 4,
  "vscode": {
   "interpreter": {
    "hash": "c4b9ebf4ca459396e2ad1150752490c26670c1a037c08cad955a4425787bec2e"
   }
  }
 },
 "nbformat": 4,
 "nbformat_minor": 2
}
