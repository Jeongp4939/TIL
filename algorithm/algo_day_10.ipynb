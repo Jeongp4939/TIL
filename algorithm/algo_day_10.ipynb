{
 "cells": [
  {
   "attachments": {},
   "cell_type": "markdown",
   "metadata": {},
   "source": [
    "# 알고리즘 10일 차\n",
    "\n",
    "## 스택\n",
    "\n",
    "### 재귀호출\n",
    "- 자기 자신을 호출하여 순환 수행되는 것\n",
    "- 함수에서 실행해야 하는 작업의 특성에 따라 일반적인 호출방식보다 재귀호출 방식을 사용하여 함수를 만들면 프로그램의 크기를 줄이고 간단하게 작성\n",
    "- EX) 피보나치 수열, 팩토리얼"
   ]
  },
  {
   "attachments": {},
   "cell_type": "markdown",
   "metadata": {},
   "source": [
    "### 메모이제이션(memoization)\n",
    "- 컴퓨터 프로그램을 실행할 때 이전에 계산한 값을 메모리에 저장해서 매번 다시 계산하지 않도록 하여 전체적인 실행속도를 빠르게 하는 기술\n",
    "    - 동적 계획법의 핵심이 되는 기술\n",
    "\n",
    "- 메모이제이션은 글자 그대로 해석하면 메모리에 넣기라는 의미이며 기억되어야 할 것이라는 뜻의 라틴어 memorandum에서 파생됨"
   ]
  },
  {
   "cell_type": "code",
   "execution_count": 4,
   "metadata": {},
   "outputs": [],
   "source": [
    "# memo를 위한 배열을 할당하고, 모두 0으로 초기화\n",
    "# memo[0]을 0으로 memo[1]은 1로 초기화\n",
    "\n",
    "def fibo1(n):\n",
    "    global memo\n",
    "    if n>=2 and memo[n] == 0:\n",
    "        memo[n]=(fibo1(n-1) + fibo1(n-2))\n",
    "    return memo[n]\n",
    "\n",
    "n=1\n",
    "memo = [0]*(n+1)\n",
    "memo[0]=0\n",
    "memo[1]=1\n",
    "\n",
    "\n"
   ]
  },
  {
   "attachments": {},
   "cell_type": "markdown",
   "metadata": {},
   "source": [
    "### DP(동적 계획:Dynamic Programming)\n",
    "- 그리디 알고리즘과 같이 최적화 문제를 해결하는 아록리즘\n",
    "\n",
    "- 동적 계획 알고리즘은 먼저 입력 크기가 작은 부분 문제들을 모두 해결한 후에 그 해들을 이용하여 보다 큰 크기의 부분 문제들을 해결하여, 최족적으로 원래 주어진 입력의 문제를 해결하는 알고리즘"
   ]
  },
  {
   "cell_type": "code",
   "execution_count": 5,
   "metadata": {},
   "outputs": [],
   "source": [
    "def fibo2(n):\n",
    "    f = [0]*(n+1)\n",
    "    f[0]=0\n",
    "    f[1]=1\n",
    "    for i in range(2,n+1):\n",
    "        f[i] = f[i-1]+f[i-2]\n",
    "    \n",
    "    return f[n]"
   ]
  },
  {
   "attachments": {},
   "cell_type": "markdown",
   "metadata": {},
   "source": [
    "- memoiation은 재귀적 구조에 사용하는 것보다 반복적 구조로 DP를 구현한 것이 성능 면에서 보다 효율적이다.\n",
    "\n",
    "- 재귀적 구조는 내부에 시스템 호출 스택을 사용하는 오버헤드가 발생"
   ]
  },
  {
   "attachments": {},
   "cell_type": "markdown",
   "metadata": {},
   "source": [
    "### DFS(깊이우선탐색)\n",
    "\n",
    "- 비선형구조인 그래프 구조는 그래프로 표현된 모든 자료를 빠짐없이 검색하는 것이 중요\n",
    "\n",
    "- 두 가지 방법\n",
    "    - 깊이 우선 탐색(Depth First Search, DFS)\n",
    "    - 너비 우선 탐색(Breadth First Search, BFS)\n",
    "\n",
    "- DFS\n",
    "    - 시작 정점의 한 방향으로 갈 수 있는 경로가 있는 곳까지 깊이 탐색해 가다가 더 이상 갈 곳이 없게 되면, 가장 마지막에 만났던 갈림길 간선이 있는 정점으로 되돌아와서 다른 방향의 정점으로 탐색을 계속 반복하여 결국 모든 정점을 방문하는 순회방법\n",
    "    \n",
    "    - 가장 마지막에 만났던 갈림길의 정점으로 되돌아가서 다시 깊이 우선 탐색을 반복해야 하므로 후입선출 구조의 스택 사용"
   ]
  },
  {
   "attachments": {},
   "cell_type": "markdown",
   "metadata": {},
   "source": [
    "- DFS 알고리즘\n",
    "\n",
    "1. 시작 정점 v를 결정하여 방문한다.\n",
    "\n",
    "2. 정점 v에 인접한 정점 중에서\n",
    "    - 방문하지 않은 정점 w가 있으면, 정점 v를 스택에 push하고 정점 w를 방문한다. 그리고 w를 v로 하여 다시 반복\n",
    "    - 방문하지 않은 정점이 없으면, 탐색의 방향을 바꾸기 위해서 스택을 pop하여 받은 가장 마지막 방문 정점을 v로 하여 다시 반복\n",
    "\n",
    "3. 스택이 공백이 될 때까지 2를 반복한다."
   ]
  },
  {
   "attachments": {},
   "cell_type": "markdown",
   "metadata": {},
   "source": [
    "```\n",
    "visited[], stack[] 초기화\n",
    "DFS(v)\n",
    "    시작점 v 방문;\n",
    "    visited[v] <- True;\n",
    "    while {\n",
    "        if ( v의 인접 정점 중 방문 안 한 정점 w가 있으면)\n",
    "            push(v);\n",
    "            v<-w; (w에 방문)\n",
    "            visited[w] <- True;\n",
    "        else\n",
    "            if (스택이 비어 있지 않으면)\n",
    "                v <- pop(stack);\n",
    "            else\n",
    "                break\n",
    "    }\n",
    "end DFS()\n",
    "```"
   ]
  },
  {
   "cell_type": "code",
   "execution_count": null,
   "metadata": {},
   "outputs": [],
   "source": [
    "'''\n",
    "7 8\n",
    "1 2 1 3 2 4 2 5 4 6 5 6 6 7 3 7\n",
    "'''\n",
    "# 스택1 연습3\n",
    "V,E = map(int,input().split())\n",
    "arr = list(map(int,input().split()))\n",
    "adjM = [[0]*(V+1) for _ in range(V+1)]\n",
    "\n",
    "for i in range(E):\n",
    "    v1,v2 = arr[i*2], arr[i*2+1]\n",
    "    adjM[v1][v2] = 1\n",
    "    adjM[v2][v1] = 1"
   ]
  },
  {
   "cell_type": "code",
   "execution_count": 6,
   "metadata": {},
   "outputs": [
    {
     "name": "stdout",
     "output_type": "stream",
     "text": [
      "\n"
     ]
    }
   ],
   "source": [
    "V,E = map(int,input().split())\n",
    "arr = list(map(int,input().split()))\n",
    "\n",
    "adjM = [[0]*(V+1) for _ in range(V+1)]\n",
    "adjL = [[] for _ in range(V+1)]\n",
    "\n",
    "for i in range(E):\n",
    "    v1,v2 = arr[i*2], arr[i*2+1]\n",
    "    adjM[v1][v2] = 1\n",
    "    adjM[v2][v1] = 1\n",
    "    \n",
    "    adjL[v1].append(v2)\n",
    "    adjL[v2].append(v1)\n",
    "    \n",
    "print()"
   ]
  },
  {
   "attachments": {},
   "cell_type": "markdown",
   "metadata": {},
   "source": [
    "# 오프라인\n",
    "\n"
   ]
  },
  {
   "cell_type": "code",
   "execution_count": 7,
   "metadata": {},
   "outputs": [
    {
     "name": "stdout",
     "output_type": "stream",
     "text": [
      "A B D E C F\n"
     ]
    }
   ],
   "source": [
    "# TREE dfs 탐색 순서 출력하기\n",
    "name = list(input().split())    # A, B, C, D, E, F\n",
    "arr = [[0,1,1,0,0,0],           # 인접행렬로 그래프 표현하기\n",
    "       [0,0,0,1,1,0],\n",
    "       [0,0,0,0,0,1],\n",
    "       [0,0,0,0,0,0],\n",
    "       [0,0,0,0,0,0],\n",
    "       [0,0,0,0,0,0]]\n",
    "\n",
    "answer=[]\n",
    "def dfs(now):\n",
    "    global answer\n",
    "    answer.append(name[now])\n",
    "    \n",
    "    for i in range(6):\n",
    "        if arr[now][i]==1:\n",
    "            dfs(i)\n",
    "            \n",
    "dfs(0)\n",
    "print(*answer)"
   ]
  },
  {
   "cell_type": "code",
   "execution_count": 15,
   "metadata": {},
   "outputs": [
    {
     "name": "stdout",
     "output_type": "stream",
     "text": [
      "K F M G C A D\n"
     ]
    }
   ],
   "source": [
    "# 연습문제\n",
    "# K에서부터 DFS 탐색하면서 탐색되는 순서를 출력해 주세요\n",
    "name = input().split()          # K F C D M G A\n",
    "arr = [[0,1,1,1,0,0,0],         # 인접행렬로 그래프 표현하기\n",
    "       [0,0,0,0,1,1,0],\n",
    "       [0,0,0,0,0,0,1],\n",
    "       [0,0,0,0,0,0,0],\n",
    "       [0,0,0,0,0,0,0],\n",
    "       [0,0,0,0,0,0,0],\n",
    "       [0,0,0,0,0,0,0]]\n",
    "\n",
    "path=[]\n",
    "def dfs(now):\n",
    "    path.append(name[now])\n",
    "    \n",
    "    for i in range(len(name)):\n",
    "        if arr[now][i]==1:\n",
    "            dfs(i)\n",
    "            \n",
    "dfs(0)\n",
    "print(*path)"
   ]
  },
  {
   "cell_type": "code",
   "execution_count": 5,
   "metadata": {},
   "outputs": [
    {
     "name": "stdout",
     "output_type": "stream",
     "text": [
      "B C A D\n"
     ]
    }
   ],
   "source": [
    "# TREE 모양이 아닌 그래프 DFS 1번씩 탐색 순서 출력하기\n",
    "\n",
    "name = input().split()      # B A C D\n",
    "arr = [[0,0,1,1],\n",
    "       [1,0,0,0],\n",
    "       [0,1,0,1],\n",
    "       [0,0,0,0]]\n",
    "\n",
    "path=[]\n",
    "visited = [0]*len(name)\n",
    "def dfs(now):\n",
    "    path.append(name[now])\n",
    "    \n",
    "    visited[now]=1\n",
    "    for i in range(len(name)):\n",
    "        if arr[now][i]==1 and not visited[i]:\n",
    "            dfs(i)\n",
    "dfs(0)\n",
    "print(*path)"
   ]
  },
  {
   "cell_type": "code",
   "execution_count": 19,
   "metadata": {},
   "outputs": [
    {
     "name": "stdout",
     "output_type": "stream",
     "text": [
      "4\n"
     ]
    }
   ],
   "source": [
    "# A에서 D까지 가는 방법이 몇 가지 있는지(경로 탐색)\n",
    "# 경로를 탐색 할 때에는\n",
    "# used를 1로 바꾸고 들어간 후 나왔을 때 0으로 다시 바꿔줘야\n",
    "# 다른 경로를 탐색할 수 있음\n",
    "name = input().split()  # B A C D\n",
    "arr = [[0,0,1,1],\n",
    "       [1,0,1,0],\n",
    "       [1,0,0,1],\n",
    "       [0,0,0,0],]\n",
    "\n",
    "used=[0]*4\n",
    "\n",
    "cnt = 0\n",
    "def dfs(now):\n",
    "    global cnt\n",
    "    if now==3:\n",
    "        cnt+=1\n",
    "    used[now]=1\n",
    "    for i in range(4):\n",
    "        if arr[now][i]==1 and not used[i]:\n",
    "            dfs(i)\n",
    "            used[i]=0\n",
    "\n",
    "dfs(1)\n",
    "print(cnt)\n"
   ]
  },
  {
   "cell_type": "code",
   "execution_count": 20,
   "metadata": {},
   "outputs": [
    {
     "name": "stdout",
     "output_type": "stream",
     "text": [
      "A B C D\n",
      "A B D\n",
      "A C B D\n",
      "A C D\n",
      "4\n"
     ]
    }
   ],
   "source": [
    "# A에서 D까지 가는 경로 탐색\n",
    "# 경로를 탐색 할 때에는\n",
    "# used를 1로 바꾸고 들어간 후 나왔을 때 0으로 다시 바꿔줘야\n",
    "# 다른 경로를 탐색할 수 있음\n",
    "name = input().split()  # B A C D\n",
    "arr = [[0,0,1,1],\n",
    "       [1,0,1,0],\n",
    "       [1,0,0,1],\n",
    "       [0,0,0,0],]\n",
    "\n",
    "used=[0]*4\n",
    "path = []\n",
    "cnt = 0\n",
    "\n",
    "def dfs(now):\n",
    "    global cnt\n",
    "    path.append(name[now])\n",
    "    if now==3:\n",
    "        cnt+=1\n",
    "        print(*path)\n",
    "    used[now]=1\n",
    "    for i in range(4):\n",
    "        if arr[now][i]==1 and not used[i]:\n",
    "            dfs(i)\n",
    "            used[i]=0\n",
    "            path.pop()\n",
    "\n",
    "dfs(1)\n",
    "print(cnt)"
   ]
  },
  {
   "cell_type": "code",
   "execution_count": 25,
   "metadata": {},
   "outputs": [
    {
     "name": "stdout",
     "output_type": "stream",
     "text": [
      "11\n"
     ]
    }
   ],
   "source": [
    "# 가중치가 있는 그래프\n",
    "name = input().split()      # B A C D\n",
    "arr = [[0,0,3,14],\n",
    "       [7,0,19,0],\n",
    "       [3,0,0,1],\n",
    "       [0,0,0,0],]\n",
    "\n",
    "used=[0]*4\n",
    "min_n = 10e28\n",
    "# A에서 D 까지 가는 데 최소 비용을 구하기\n",
    "def dfs(now,rlt=0):\n",
    "    global min_n\n",
    "    if now == 3:\n",
    "        if rlt < min_n:\n",
    "            min_n=rlt\n",
    "        return\n",
    "\n",
    "    used[now]=1\n",
    "    for i in range(4):\n",
    "        if arr[now][i]>0 and not used[i]:\n",
    "            dfs(i,rlt+arr[now][i])\n",
    "            used[i]=0\n",
    "\n",
    "dfs(1)\n",
    "print(min_n)\n"
   ]
  },
  {
   "cell_type": "code",
   "execution_count": 42,
   "metadata": {},
   "outputs": [
    {
     "name": "stdout",
     "output_type": "stream",
     "text": [
      "1\n"
     ]
    }
   ],
   "source": [
    "# 출발점을 입력 받습니다.\n",
    "# 입력받은 출발점 알파벳부터 E가 써있는 곳까지 갈 수 있는\n",
    "# 방법이 몇가지 있는지 출력해주세요\n",
    "# cnt global\n",
    "\n",
    "name=['A','B','C','D','E']\n",
    "arr = [[0,1,0,0,0],\n",
    "       [0,0,1,1,1],\n",
    "       [1,0,0,1,0],\n",
    "       [0,0,0,0,1],\n",
    "       [0,0,0,0,0]]\n",
    "\n",
    "s = input()\n",
    "# start = name.index(s)\n",
    "start=0\n",
    "for i in range(5):\n",
    "    if name[i]==s:\n",
    "        start = i\n",
    "        break\n",
    "\n",
    "cnt = 0\n",
    "visited = [0]*5\n",
    "\n",
    "def dfs(start):\n",
    "    global cnt\n",
    "    if start == 4:\n",
    "        cnt += 1\n",
    "        return\n",
    "    visited[start]=1\n",
    "    for i in range(5):\n",
    "        if arr[start][i]>0 and not visited[i]:\n",
    "            dfs(i)\n",
    "            visited[i]=0\n",
    "\n",
    "dfs(start)\n",
    "print(cnt)\n"
   ]
  },
  {
   "cell_type": "code",
   "execution_count": 51,
   "metadata": {},
   "outputs": [
    {
     "name": "stdout",
     "output_type": "stream",
     "text": [
      "1\n"
     ]
    }
   ],
   "source": [
    "# 출발점을 입력 받습니다.\n",
    "# 입력받은 출발점 알파벳부터 E가 써있는 곳까지 갈 수 있는\n",
    "# 최소비용\n",
    "# cnt global\n",
    "\n",
    "name=['A','B','C','D','E']\n",
    "arr = [[0,4,0,0,0],\n",
    "       [0,0,1,2,9],\n",
    "       [5,0,0,7,0],\n",
    "       [0,0,0,0,1],\n",
    "       [0,0,0,0,0]]\n",
    "\n",
    "s = input()\n",
    "# start = name.index(s)\n",
    "start=0\n",
    "for i in range(5):\n",
    "    if name[i]==s:\n",
    "        start = i\n",
    "        break\n",
    "\n",
    "Min = 21e8\n",
    "visited = [0]*5\n",
    "\n",
    "def dfs(start,Sum=0):\n",
    "    global Min\n",
    "    if start == 4:\n",
    "        if Min > Sum:\n",
    "              Min=Sum\n",
    "        return\n",
    "    visited[start]=1\n",
    "    for i in range(5):\n",
    "        if arr[start][i]>0 and not visited[i]:\n",
    "            dfs(i,Sum+arr[start][i])\n",
    "            visited[i]=0\n",
    "\n",
    "dfs(start)\n",
    "print(Min)\n"
   ]
  }
 ],
 "metadata": {
  "kernelspec": {
   "display_name": "Python 3",
   "language": "python",
   "name": "python3"
  },
  "language_info": {
   "codemirror_mode": {
    "name": "ipython",
    "version": 3
   },
   "file_extension": ".py",
   "mimetype": "text/x-python",
   "name": "python",
   "nbconvert_exporter": "python",
   "pygments_lexer": "ipython3",
   "version": "3.9.13"
  },
  "orig_nbformat": 4,
  "vscode": {
   "interpreter": {
    "hash": "c4b9ebf4ca459396e2ad1150752490c26670c1a037c08cad955a4425787bec2e"
   }
  }
 },
 "nbformat": 4,
 "nbformat_minor": 2
}
