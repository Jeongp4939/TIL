{
 "cells": [
  {
   "attachments": {},
   "cell_type": "markdown",
   "metadata": {},
   "source": [
    "# 알고리즘 21일차\n",
    "\n",
    "### 오프라인"
   ]
  },
  {
   "cell_type": "code",
   "execution_count": 15,
   "metadata": {},
   "outputs": [
    {
     "name": "stdout",
     "output_type": "stream",
     "text": [
      "[0, 1, 2, 2, 3, 3, 3]\n"
     ]
    }
   ],
   "source": [
    "# a,b,c,d\n",
    "from collections import deque\n",
    "arr = [[0,1,1,0],\n",
    "       [0,0,1,1],\n",
    "       [0,1,0,1],\n",
    "       [0,0,0,0]]\n",
    "used=[0]*4\n",
    "answer=[]\n",
    "def bfs(st=0):\n",
    "    q = deque()\n",
    "    q.append(st)\n",
    "    while q:\n",
    "        x = q.popleft()\n",
    "        answer.append(x)\n",
    "        for i in range(4):\n",
    "            if not used[i] and arr[x][i]:\n",
    "                    used[x]=1\n",
    "                    q.append(i)\n",
    "\n",
    "bfs()\n",
    "print(answer)"
   ]
  },
  {
   "cell_type": "code",
   "execution_count": 17,
   "metadata": {},
   "outputs": [
    {
     "name": "stdout",
     "output_type": "stream",
     "text": [
      "5 4 3\n",
      "4 3 2\n",
      "3 2 1\n",
      "5일\n"
     ]
    }
   ],
   "source": [
    "# 3*3 행렬\n",
    "# 2,2 꽃이 있음\n",
    "# 상하좌우 꽃씨가 퍼짐\n",
    "\n",
    "dy,dx =  [-1,1,0,0],[0,0,-1,1]\n",
    "\n",
    "arr=[[0]*3 for _ in range(3)]\n",
    "\n",
    "def bfs(y,x):\n",
    "    q = [[y,x]]\n",
    "    while q:\n",
    "        y,x = q.pop(0)\n",
    "        for i in range(4):\n",
    "            ny=y+dy[i]\n",
    "            nx=x+dx[i]\n",
    "            if 0<=ny<3 and 0<=nx<3:\n",
    "                if not arr[ny][nx]:\n",
    "                    arr[ny][nx]=arr[y][x]+1\n",
    "                    answer=arr[ny][nx]\n",
    "                    q.append([ny,nx])\n",
    "    return answer\n",
    "        \n",
    "n = int(input())\n",
    "y,x = map(int,input().split())\n",
    "arr[y][x]=1\n",
    "result =bfs(y,x)\n",
    "for i in arr:\n",
    "    print(*i)\n",
    "print(f'{result}일')"
   ]
  },
  {
   "cell_type": "code",
   "execution_count": 28,
   "metadata": {},
   "outputs": [
    {
     "name": "stdout",
     "output_type": "stream",
     "text": [
      "54432\n",
      "43321\n",
      "32332\n",
      "21233\n",
      "32344\n",
      "5\n"
     ]
    }
   ],
   "source": [
    "from collections import deque\n",
    "\n",
    "n = int(input()) # 배열 크기입력\n",
    "flower = list(map(int, input().split())) # 좌표 입력\n",
    "y1, x1 = flower[0], flower[1] # 시작 좌표값 저장\n",
    "y2, x2 = flower[2], flower[3]\n",
    "flower = [(y1, x1,1), (y2, x2,1)] # 좌표 level을 같이 튜플로 넣기\n",
    "arr = [[0] * n for _ in range(n)]  # 화단 선언\n",
    "\n",
    "answer=0\n",
    "\n",
    "def bfs(flower):\n",
    "    global n, arr,answer\n",
    "    q=deque(flower)             # 큐에 시작좌표 넣어주기\n",
    "\n",
    "    while q:\n",
    "        nowy,nowx,level=q.popleft() \n",
    "\n",
    "        arr[nowy][nowx]=level   # 배열에 현재 레벨 넣어주기\n",
    "        answer=level            # 큐가 돌때마다 정답을 저장하기 \n",
    "\n",
    "        directy=[-1,1,0,0]\n",
    "        directx=[0,0,-1,1]\n",
    "\n",
    "        for i in range(4):\n",
    "            dy=nowy+directy[i]\n",
    "            dx=nowx+directx[i]\n",
    "            if not(0<=dy<n and 0<=dx<n):continue # 배열범위벗어나면 안됨\n",
    "            if arr[dy][dx]!=0: continue # 이미 꽃이 심어진곳 안됨\n",
    "            arr[dy][dx]=arr[nowy][nowx]+1 # 화단에 표시해주기\n",
    "            q.append((dy,dx,level+1)) # 큐에 푸쉬하기\n",
    "\n",
    "bfs(flower)\n",
    "\n",
    "for row in arr:\n",
    "    print(*row,sep=\"\")\n",
    "print(answer)\n"
   ]
  }
 ],
 "metadata": {
  "kernelspec": {
   "display_name": "Python 3",
   "language": "python",
   "name": "python3"
  },
  "language_info": {
   "codemirror_mode": {
    "name": "ipython",
    "version": 3
   },
   "file_extension": ".py",
   "mimetype": "text/x-python",
   "name": "python",
   "nbconvert_exporter": "python",
   "pygments_lexer": "ipython3",
   "version": "3.9.13"
  },
  "orig_nbformat": 4,
  "vscode": {
   "interpreter": {
    "hash": "c4b9ebf4ca459396e2ad1150752490c26670c1a037c08cad955a4425787bec2e"
   }
  }
 },
 "nbformat": 4,
 "nbformat_minor": 2
}
