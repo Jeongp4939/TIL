{
 "cells": [
  {
   "attachments": {},
   "cell_type": "markdown",
   "metadata": {},
   "source": [
    "# 알고리즘 9일 차\n",
    "\n",
    "#### Stack1\n",
    "- 스택\n",
    "- 재귀호출\n",
    "- Memoization\n",
    "- DP\n",
    "- DFS"
   ]
  },
  {
   "attachments": {},
   "cell_type": "markdown",
   "metadata": {},
   "source": [
    "##### 스택(Stack)의 특성\n",
    "- 물건을 쌓아 올리듯 자료를 쌓아올린 형태의 자료구조\n",
    "- 스택에 저장된 자료는 선형 구조\n",
    "    - 선형구조 : 자료 간의 관계가 1대1의 관계를 갖는다\n",
    "    - 비선형구조 : 자료 간의 관계가 1대 N의 관계를 갖는다(ex: 트리)\n",
    "- 스택에 자료를 삽입하거나 스택에서 자료를 꺼낼 수 있다\n",
    "- 마지막에 삽입한 자료를 가장 먼저 꺼낸다. 후입선출(LIFO)\n",
    "\n",
    "- 스택을 프로그램에서 구현하기 위해서 필요한 자료구조와 연산\n",
    "    - 자료구조 : 자료를 선형으로 저장할 저장소\n",
    "        - 배열을 사용할 수 있다\n",
    "        - 저장소 자체를 스택이라 부르기도 함\n",
    "        - 스택에서 마지막 삽입된 원소의 위치를 top이라 부름\n",
    "\n",
    "    - 연산\n",
    "        - 삽입 : 저장소에 자료를 저장. 보통 push라 부름\n",
    "        - 삭제 : 저장소에서 자료를 꺼냄. 꺼낸 자료는 삽입한 자료의 역순으로 꺼냄. 보통 pop이라 부름\n",
    "        - 스택이 공백인지 확인하는 연산. isEmpty\n",
    "        - 스택의 top에 있는 item(원소)을 반환하는 연산 peek"
   ]
  },
  {
   "cell_type": "code",
   "execution_count": null,
   "metadata": {},
   "outputs": [],
   "source": [
    "s=[]\n",
    "def push(item):\n",
    "    s.append(item)"
   ]
  },
  {
   "cell_type": "code",
   "execution_count": 6,
   "metadata": {},
   "outputs": [],
   "source": [
    "# 스택의 push 알고리즘\n",
    "def push(item, size):\n",
    "    global top\n",
    "    top += 1\n",
    "    if top==size:\n",
    "        print('overflow!')\n",
    "    else:\n",
    "        stack[top] = item\n",
    "\n",
    "size = 10\n",
    "stack = [0]*size\n",
    "top = -1\n",
    "\n",
    "push(10,size)\n",
    "top += 1    # push(20)\n",
    "stack[top] = 20"
   ]
  },
  {
   "cell_type": "code",
   "execution_count": null,
   "metadata": {},
   "outputs": [],
   "source": [
    "# 스택의 pop 알고리즘\n",
    "def pop():\n",
    "    if len(s) == 0:\n",
    "        # underflow\n",
    "        return\n",
    "    else:\n",
    "        return s.pop()"
   ]
  },
  {
   "cell_type": "code",
   "execution_count": 7,
   "metadata": {},
   "outputs": [
    {
     "name": "stdout",
     "output_type": "stream",
     "text": [
      "20\n",
      "10\n"
     ]
    }
   ],
   "source": [
    "def pop():\n",
    "    global top\n",
    "    if top==-1:\n",
    "        print('underflow')\n",
    "        return 0\n",
    "    else:\n",
    "        top -= 1\n",
    "        return stack[top+1]\n",
    "\n",
    "print(pop())\n",
    "\n",
    "if top > -1:    # pop()\n",
    "    top -=1\n",
    "    print(stack[top+1])"
   ]
  },
  {
   "attachments": {},
   "cell_type": "markdown",
   "metadata": {},
   "source": [
    "#### 스택의 응용\n",
    "##### Function call\n",
    "- 프로그램에서의 함수 호출과 복귀에 따른 수행 순서 관리\n",
    "    - 가장 마지막에 호출된 함수가 가장 먼저 실행을 완료하고 복귀하는 후입선출 구조이므로, 후입선출 구조의 스택을 이용하여 수행순서 관리\n",
    "\n",
    "    - 함수 호출이 발생하면 호출한 함수 수행에 필요한 지역변수, 매개변수 및 수행 후 복귀할 주소 등의 정보를 스택 프레임(stack frame)에 저장하여 시스템 스택에 삽입\n",
    "\n",
    "    - 함수의 실행이 끝나면 시스템 스택의 top원소(스택 프레임)를 삭제(pop) 하면서 프레임에 저장되어 있던 복귀주소를 확인하고 복귀\n",
    "    \n",
    "    - 함수 호출과 복귀에 따라 이 과정을 반복하여 전체 프로그램 수행이 종료되면 시스템 스택은 공백스택이 됨"
   ]
  },
  {
   "attachments": {},
   "cell_type": "markdown",
   "metadata": {},
   "source": [
    "## 오프라인\n",
    "\n",
    "- 순열\n",
    "    - used 사용\n",
    "- 가지치기(진입x, 진입 후 리턴)\n",
    "    - 'C'로 시작 제외\n",
    "    - 'B'는 다 제외\n",
    "    - 연속해서 2장 뽑기 제외\n",
    "- 조합\n",
    "- 중복조합"
   ]
  },
  {
   "cell_type": "code",
   "execution_count": null,
   "metadata": {},
   "outputs": [],
   "source": [
    "# n 개의 주사위를 던졌을 때 나올 수 있는 모든 경우\n",
    "n = int(input())\n",
    "def roll(level,s=''):\n",
    "    if level==n:\n",
    "        print(s)\n",
    "        return\n",
    "    for i in '123456':\n",
    "        roll(level+1,s+i)\n",
    "        \n",
    "roll(0)"
   ]
  },
  {
   "cell_type": "code",
   "execution_count": 12,
   "metadata": {},
   "outputs": [
    {
     "name": "stdout",
     "output_type": "stream",
     "text": [
      "1 2 3 \n",
      "1 2 4 \n",
      "1 3 2 \n",
      "1 3 4 \n",
      "1 4 2 \n",
      "1 4 3 \n",
      "2 1 3 \n",
      "2 1 4 \n",
      "2 3 1 \n",
      "2 3 4 \n",
      "2 4 1 \n",
      "2 4 3 \n",
      "3 1 2 \n",
      "3 1 4 \n",
      "3 2 1 \n",
      "3 2 4 \n",
      "3 4 1 \n",
      "3 4 2 \n",
      "4 1 2 \n",
      "4 1 3 \n",
      "4 2 1 \n",
      "4 2 3 \n",
      "4 3 1 \n",
      "4 3 2 \n"
     ]
    }
   ],
   "source": [
    "n =3\n",
    "dice = [1,2,3,4]\n",
    "path = ['']*n\n",
    "used=[0]*4\n",
    "\n",
    "def abc(level):\n",
    "    if level == n:\n",
    "        for i in range(n):\n",
    "            print(path[i],end=' ')\n",
    "        print()\n",
    "        return\n",
    "    for i in range(4):\n",
    "        if used[i]==1: continue\n",
    "        path[level]=dice[i]\n",
    "        used[i]=1\n",
    "        abc(level+1)\n",
    "        #path[level]=' '\n",
    "        used[i]=0   # 다른 가지로 진행하기 위해서 0으로 다시 바꿔줌\n",
    "abc(0)\n"
   ]
  },
  {
   "cell_type": "code",
   "execution_count": null,
   "metadata": {},
   "outputs": [],
   "source": [
    "n =3\n",
    "dice = [1,2,3,4]\n",
    "path = ['']*n\n",
    "used=[0]*4\n",
    "\n",
    "def abc(level):\n",
    "    if level == n:\n",
    "        for i in range(n):\n",
    "            print(path[i],end=' ')\n",
    "        print()\n",
    "        return\n",
    "    for i in range(4):\n",
    "        if used[i]==1: continue\n",
    "        path[level]=dice[i]\n",
    "        used[i]=1\n",
    "        abc(level+1)\n",
    "        #path[level]=' '\n",
    "        used[i]=0   # 다른 가지로 진행하기 위해서 0으로 다시 바꿔줌\n",
    "abc(0)"
   ]
  },
  {
   "cell_type": "code",
   "execution_count": null,
   "metadata": {},
   "outputs": [],
   "source": [
    "# Q. 첫번 째 주사위에서 '2'가 나오지 않는 경우\n",
    "n=3\n",
    "arr = [1,2,3,4]\n",
    "path = ['']*n\n",
    "\n",
    "def abc(level):\n",
    "    if level == n:\n",
    "        if path[0]==2:  # 진입 후 리턴 x\n",
    "            return\n",
    "        for i in range(n):\n",
    "            print(path[i], end=' ')\n",
    "        print()\n",
    "        return\n",
    "    for i in range(4):\n",
    "        # if level==0 and i==1:   # 진입 x\n",
    "        #     continue\n",
    "        path[level] = arr[i]\n",
    "        abc(level+1)\n",
    "\n",
    "abc(0)"
   ]
  },
  {
   "cell_type": "code",
   "execution_count": null,
   "metadata": {},
   "outputs": [],
   "source": [
    "# ABCD가 적혀있는 카드 3묶음이 있습니다.\n",
    "# 각 묶음에서 카드를 1장씩 뽑았을 때\n",
    "# C로 시작하는 경우는 다 제외\n",
    "\n",
    "n=3\n",
    "card = 'ABCD'\n",
    "\n",
    "def abc(level,s=''):\n",
    "    if level==n:\n",
    "        # if s[0]=='C':\n",
    "        #     return\n",
    "        print(s)\n",
    "        return\n",
    "    for i in card:\n",
    "        # if level==0 and i=='C':\n",
    "        #     continue\n",
    "\n",
    "        abc(level+1,s+i)\n",
    "abc(0)"
   ]
  },
  {
   "cell_type": "code",
   "execution_count": null,
   "metadata": {},
   "outputs": [],
   "source": [
    "# 모든 경우 B는 제외\n",
    "n=3\n",
    "card = 'ABCD'\n",
    "\n",
    "def abc(level,s=''):\n",
    "    # 진입 후 검사\n",
    "    # if level>0 and s[level-1]=='B':return\n",
    "    if level==n:\n",
    "        # 리턴 전에 검사\n",
    "        # if 'B' in s:\n",
    "        #     return\n",
    "        print(s)\n",
    "        return\n",
    "    for i in card:\n",
    "        # 진입 x\n",
    "        # if i=='B':\n",
    "        #     continue\n",
    "        abc(level+1,s+i)\n",
    "abc(0)"
   ]
  },
  {
   "cell_type": "code",
   "execution_count": null,
   "metadata": {},
   "outputs": [],
   "source": [
    "# 연속해서 같은 카드 x\n",
    "n=3\n",
    "card = 'ABCD'\n",
    "\n",
    "def abc(level,s=''):\n",
    "    # 진입 후 검사\n",
    "    # if level>1 and s[level-1]==s[level-2]:return\n",
    "    if level==n:\n",
    "        print(s)\n",
    "        return\n",
    "    for i in card:\n",
    "        # 진입 x\n",
    "        if level>0 and i==s[-1]:\n",
    "            continue\n",
    "        abc(level+1,s+i)\n",
    "abc(0)\n"
   ]
  },
  {
   "cell_type": "code",
   "execution_count": null,
   "metadata": {},
   "outputs": [],
   "source": [
    "# ABCD가 적혀있는 카드 3 묶음이 있습니다\n",
    "# 각 묶음에서 카드를 1장씩 뽑았을때\n",
    "# 1.c로 시작하는 경우는 다 제외하기 (생략)\n",
    "# 2.모든 경우에서 B는 제외하기\n",
    "# 3.연속해서 같은 카드를 뽑으면 않됨 !!!\n",
    "candidates=['A','B','C','D']\n",
    "path=['']*10\n",
    "\n",
    "def abc(level):\n",
    "    if level>1 and path[level-1]==path[level-2]: return # 진입 후 리턴\n",
    "    if level==3:\n",
    "        for i in range(level):\n",
    "            print(path[i],end=' ')\n",
    "        print()\n",
    "        return\n",
    "    for i in range(4):\n",
    "        #if level>0 and (path[level-1]==candidates[i]):continue # 진입을 안하는 경우\n",
    "        path[level]=candidates[i]\n",
    "        abc(level+1)\n",
    "abc(0)"
   ]
  },
  {
   "attachments": {},
   "cell_type": "markdown",
   "metadata": {},
   "source": [
    "### 조합"
   ]
  },
  {
   "cell_type": "code",
   "execution_count": 14,
   "metadata": {},
   "outputs": [
    {
     "name": "stdout",
     "output_type": "stream",
     "text": [
      "A B C \n",
      "A B D \n",
      "A C D \n",
      "B C D \n"
     ]
    }
   ],
   "source": [
    "# path배열을 활용하여 조합 구현\n",
    "\n",
    "candidates=['A','B','C','D']\n",
    "path=['']*10\n",
    "\n",
    "def abc(level):\n",
    "\n",
    "    if level==3:\n",
    "        for i in range(level):\n",
    "            print(path[i],end=' ')\n",
    "        print()\n",
    "        return\n",
    "    for i in range(4):\n",
    "        #path[level - 1] # 그전에 들어온 곳\n",
    "        #candidates[i] # 앞으로 들어갈 곳\n",
    "        if level>0 and path[level-1] >= candidates[i]: continue #앞으로 들어갈 곳이 그전보다 커야함\n",
    "        path[level]=candidates[i]\n",
    "        abc(level+1)\n",
    "abc(0)"
   ]
  },
  {
   "cell_type": "code",
   "execution_count": 13,
   "metadata": {},
   "outputs": [
    {
     "name": "stdout",
     "output_type": "stream",
     "text": [
      "A B C \n",
      "A B D \n",
      "A C D \n",
      "B C D \n"
     ]
    }
   ],
   "source": [
    "# for문을 시작하는 i를 변경하여 조합 구현\n",
    "\n",
    "candidates=['A','B','C','D']\n",
    "path=['']*10\n",
    "\n",
    "def abc(level,start):\n",
    "\n",
    "    if level==3:\n",
    "        for i in range(level):\n",
    "            print(path[i],end=' ')\n",
    "        print()\n",
    "        return\n",
    "    for i in range(start,4):\n",
    "        path[level]=candidates[i]\n",
    "        abc(level+1,i+1)\n",
    "abc(0,0)    # level,start(for 문 시작점)"
   ]
  },
  {
   "attachments": {},
   "cell_type": "markdown",
   "metadata": {},
   "source": [
    "#### DFS/BFS\n",
    "\n",
    "- 선형구조 : 배열, 연결리스트\n",
    "- 비선형구조 : 그래프(관계중심)\n",
    "    - 트리형 그래프, 트리가 아닌 그래프 "
   ]
  },
  {
   "attachments": {},
   "cell_type": "markdown",
   "metadata": {},
   "source": [
    "- 트리형 그래프의 특징\n",
    "    1. 부모-자식관계\n",
    "    2. 단방향\n",
    "    3. cycle이 발생하지 않음\n",
    "    - 루트(최상위), 부모, 자식 노드\n",
    "    - 리프노드(가장 끝 노드들)\n",
    "\n",
    "- 그래프 탐색 방법\n",
    "    - 깊이 우선(DFS)\n",
    "    - 너비 우선(BFS)"
   ]
  },
  {
   "cell_type": "code",
   "execution_count": 15,
   "metadata": {},
   "outputs": [],
   "source": [
    "#           A\n",
    "#       B        C\n",
    "#\n",
    "#   D          E     F\n",
    "#\n",
    "\n",
    "people  = ['A','B','D','C','E','F']\n",
    "\n",
    "# 1. 인접 행렬(이차배열)\n",
    "    #   A B D C E F\n",
    "arr = [[0,1,0,1,0,0],\n",
    "       [0,0,1,0,0,0],\n",
    "       [0,0,0,0,0,0],\n",
    "       [0,0,0,0,1,1],\n",
    "       [0,0,0,0,0,0],\n",
    "       [0,0,0,0,0,0]]\n",
    "\n",
    "# 2. 인접 리스트\n",
    "lst = [[] for _ in range(6)]\n",
    "lst[0].append('A')\n",
    "lst[0].append('C')\n",
    "lst[1].append('D')\n",
    "lst[3].append('E')\n",
    "lst[3].append('F')\n",
    "\n",
    "# 3. 리스트(일차원 배열 - 이진트리)\n",
    "lst2=['_','A','B','C','D','_','E','F',]"
   ]
  },
  {
   "cell_type": "code",
   "execution_count": 19,
   "metadata": {},
   "outputs": [
    {
     "name": "stdout",
     "output_type": "stream",
     "text": [
      "Bob\n"
     ]
    }
   ],
   "source": [
    "\n",
    "# 여기서 가장 인기가 많은 사람은 누구인지 출력\n",
    "people = ['Amy','Bob','Chloe','Diane','Edger'] \n",
    "\n",
    "arr=[[0,0,1,0,1],\n",
    "     [1,0,0,0,0],\n",
    "     [0,1,0,0,0],\n",
    "     [0,1,0,0,0],\n",
    "     [0,0,0,1,0]]\n",
    "\n",
    "cnts = [0]*5\n",
    "\n",
    "for i in range(5):\n",
    "    for j in range(5):\n",
    "        if arr[i][j]==1:\n",
    "            cnts[j]+=1\n",
    "    \n",
    "max = 0\n",
    "max_idx = 0        \n",
    "for i in range(5):\n",
    "    if cnts[i] > max:\n",
    "        max = cnts[i]\n",
    "        max_idx = i\n",
    "\n",
    "print(people[max_idx])"
   ]
  },
  {
   "cell_type": "code",
   "execution_count": 41,
   "metadata": {},
   "outputs": [
    {
     "name": "stdout",
     "output_type": "stream",
     "text": [
      "형제 없음\n"
     ]
    }
   ],
   "source": [
    "# 문자 하나 입력 받아\n",
    "# 입력 받은 문자의 형제노드를 출력\n",
    "# 예\n",
    "# A 입력시 형제 없음 출력\n",
    "# B 입력시 C 출력\n",
    "# E 입력시 D 출력\n",
    "# F 입력 시 형제없음이 출력\n",
    "\n",
    "lst=['A','B','C','D','E','F']\n",
    "\n",
    "arr=[[0,1,1,0,0,0],\n",
    "     [0,0,0,1,1,0],\n",
    "     [0,0,0,0,0,1],\n",
    "     [0,0,0,0,0,0],\n",
    "     [0,0,0,0,0,0],\n",
    "     [0,0,0,0,0,0],]\n",
    "\n",
    "s=input()\n",
    "idx = lst.index(s)\n",
    "\n",
    "flag=False\n",
    "\n",
    "for i in range(6):\n",
    "    if arr[i][idx]==1:\n",
    "        for j in range(6):\n",
    "            if j != idx:\n",
    "                if arr[i][j] == 1:\n",
    "                    print(lst[j])\n",
    "                    flag=True\n",
    "    if flag:\n",
    "        break\n",
    "else:\n",
    "    print('형제 없음')\n",
    "        \n",
    "\n",
    "    "
   ]
  }
 ],
 "metadata": {
  "kernelspec": {
   "display_name": "Python 3",
   "language": "python",
   "name": "python3"
  },
  "language_info": {
   "codemirror_mode": {
    "name": "ipython",
    "version": 3
   },
   "file_extension": ".py",
   "mimetype": "text/x-python",
   "name": "python",
   "nbconvert_exporter": "python",
   "pygments_lexer": "ipython3",
   "version": "3.9.13"
  },
  "orig_nbformat": 4,
  "vscode": {
   "interpreter": {
    "hash": "c4b9ebf4ca459396e2ad1150752490c26670c1a037c08cad955a4425787bec2e"
   }
  }
 },
 "nbformat": 4,
 "nbformat_minor": 2
}
