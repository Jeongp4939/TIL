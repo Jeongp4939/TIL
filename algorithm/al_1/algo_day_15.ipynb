{
 "cells": [
  {
   "attachments": {},
   "cell_type": "markdown",
   "metadata": {},
   "source": [
    "# 알고리즘 15일 차\n",
    "\n",
    "### 우선순위 큐"
   ]
  },
  {
   "attachments": {},
   "cell_type": "markdown",
   "metadata": {},
   "source": [
    "우선순위 큐의 특성\n",
    "- 우선순위를 가진 항목들을 저장하는 큐\n",
    "- FIFO 순서가 아니라 우선순위가 높은 순서대로 먼저 나가게 된다.\n",
    "\n",
    "우선순위 큐의 적용 분야\n",
    "- 시뮬레이션 시스템\n",
    "- 네트워크 트래픽 제어\n",
    "- 운영체제의 테스크 스케줄링\n",
    "\n",
    "우선순위 큐의 구현\n",
    "- 배열을 이용한 우선순위 큐\n",
    "- 리스트를 이용한 우선순위 큐\n",
    "\n",
    "우선순위 큐의 기본 연산\n",
    "- 삽입 : enQueue\n",
    "- 삭제 : deQueue\n",
    "\n",
    "배열을 이용하여 우선순위 큐 구현\n",
    "- 배열을 이용하여 자료 저장\n",
    "- 원소를 삽입하는 과정에서 우선순위를 비교하여 적절한 위치에 삽입하는 구조\n",
    "- 가장 앞에 최고 우선순위의 원소가 위치하게 됨\n",
    "\n",
    "문제점\n",
    "- 배열을 사용하므로, 삽입이나 삭제 연산이 일어날 때 원소의 재배치가 발생합\n",
    "- 이에 소요되는 시간이나 메모리 낭비가 큼"
   ]
  },
  {
   "attachments": {},
   "cell_type": "markdown",
   "metadata": {},
   "source": [
    "### 버퍼(Buffer)\n",
    "\n",
    "버퍼\n",
    "- 데이터를 한 곳에서 다른 한 곳으로 전송하는 동안 일시적으로 그 데이터를 보관하는 메모리의 영역\n",
    "- 버퍼링 : 버퍼를 활용하는 방식 또는 버퍼를 채우는 동작을 의미\n",
    "\n",
    "버퍼의 자료 구조\n",
    "- 버퍼는 일반적으로 입출력 및 네트워크와 관련된 기능에서 이용된다.\n",
    "- 순서대로 입력/출력/전달되어야 하므로 FIFO 방식의 자료구조인 큐가 활용된다."
   ]
  },
  {
   "attachments": {},
   "cell_type": "markdown",
   "metadata": {},
   "source": [
    "### BFS(Breadth First Search)\n",
    "\n",
    "- 그래프 탐색 방법 두가지\n",
    "    - 깊이 우선 탐색 (DFS: Depth First Search)\n",
    "    - 너비 우선 탐색 (BFS: Breadth First Search)\n",
    "- 너비우선 탐색은 탐색 시작점의 인접한 정점들을 먼저 모두 차례로 방문할 후에, 방문했던 정점을 시작점으로 하여 다시 인접한 정점들을 차례로 방문하는 방식\n",
    "- 인접한 정점들에 대해 탐색을 한 후, 차례로 다시 너비우선 탐색을 진행해야 하므로, 선입선출 형태의 자료구조인 큐를 활용함"
   ]
  },
  {
   "cell_type": "code",
   "execution_count": null,
   "metadata": {},
   "outputs": [],
   "source": [
    "def BFS(G,v): # 그래프 G, 탐색 시작점 v\n",
    "    visited = [0]*(n+1)                     # n : 정점의 개수\n",
    "    queue = []                              # 큐 생성\n",
    "    queue.append(v)                         # 시작점 v를 큐에 삽입\n",
    "    while queue:                            # 큐가 비어있지 않은 경우\n",
    "        t = queue.pop(0)                    # 큐의 첫번째 원소 반환\n",
    "        if not visited[t]:                  # 방문되지 않은 곳이라면\n",
    "            visited[t] = True               # 방문한 것으로 표시\n",
    "            # visit(t)                      # 정점 t에서 할 일\n",
    "            for i in G[t]:                  # t와 연결된 모든 정점에 대해\n",
    "                if not visited[i]:          # 방문되지 않은 곳이라면\n",
    "                    queue.append(i)         # 큐에 넣기"
   ]
  },
  {
   "cell_type": "code",
   "execution_count": null,
   "metadata": {},
   "outputs": [],
   "source": [
    "def BFS(G,v,n):\n",
    "    visited = [0]*(n+1)                     # n : 정점의 개수\n",
    "    queue = []                              # 큐 생성\n",
    "    queue.append(v)                         # 시작점 v를 큐에 삽입\n",
    "    visited[v] = 1\n",
    "    while queue :                           # 큐가 비어있지 않은 경우\n",
    "        t = queue.pop(0)                    # 큐의 첫번째 원소 반환\n",
    "        # visit(t)\n",
    "        for i in G[t] :                     # t와 연결된 모든 정점에 대해\n",
    "            if not visited[i]:              # 방문되지 않은 곳이라면\n",
    "                queue.append(i)             # 큐에 넣기\n",
    "                visited[i] = visited[n]+1   # n으로 부터 1만큼 이동"
   ]
  },
  {
   "attachments": {},
   "cell_type": "markdown",
   "metadata": {},
   "source": [
    "# 오프라인\n",
    "- 트리순회\n",
    "- BST\n",
    "- heap"
   ]
  },
  {
   "attachments": {},
   "cell_type": "markdown",
   "metadata": {},
   "source": [
    "```\n",
    "         A\n",
    "    B         C\n",
    "  D   E     F   G\n",
    "```\n",
    "### 트리순회\n",
    "- 전위 순회(preorder)\n",
    "    - A B D E C F G\n",
    "- 후위 순회(postorder)\n",
    "    - D E B F G C A\n",
    "- 중위 순회(inorder)\n",
    "    - D B E A F C G"
   ]
  },
  {
   "attachments": {},
   "cell_type": "markdown",
   "metadata": {},
   "source": [
    "# 슈도 코드\n",
    "```\n",
    "def preorder(now):\n",
    "    if now>len(arr)-1: return\n",
    "\n",
    "    preorder(now*2)\n",
    "    preorder(now*2+1)\n",
    "```"
   ]
  },
  {
   "cell_type": "code",
   "execution_count": 4,
   "metadata": {},
   "outputs": [
    {
     "name": "stdout",
     "output_type": "stream",
     "text": [
      "A B D E C F G \n",
      "D E B F G C A \n",
      "D B E A F C G "
     ]
    }
   ],
   "source": [
    "arr = ' ABCDEFG'\n",
    "\n",
    "def preorder(now):\n",
    "    if now > len(arr) - 1: return\n",
    "    print(arr[now],end=' ') # 전위 순회\n",
    "    preorder(now*2)\n",
    "    preorder(now*2+1)\n",
    "\n",
    "def postorder(now):\n",
    "    if now > len(arr) - 1: return\n",
    "    postorder(now*2)\n",
    "    postorder(now*2+1)\n",
    "    print(arr[now],end=' ') # 후위 순회\n",
    "\n",
    "def inorder(now):\n",
    "    if now > len(arr) - 1: return\n",
    "    inorder(now*2)\n",
    "    print(arr[now],end=' ') # 중위 순회\n",
    "    inorder(now*2+1)\n",
    "    \n",
    "\n",
    "preorder(1)\n",
    "print()\n",
    "postorder(1)\n",
    "print()\n",
    "inorder(1)\n"
   ]
  },
  {
   "attachments": {},
   "cell_type": "markdown",
   "metadata": {},
   "source": [
    "### BST(Binary Search Tree)\n",
    "- 부모보다 크면 왼쪽, 작으면 오른쪽에 저장\n",
    "- 내부 탐색 시 O(logn)\n",
    "- 정렬된 데이터가 들어오면 최악의 경우 O(n)\n",
    "\n",
    "- balnced tree\n",
    "    - 완벽한 2진트리의 형태로 바꿔줌\n",
    "    - 가장 유명한 알고리즘은 red black tree\n",
    "\n",
    "- 검색을 빠르게 하는 대표적인 알고리즘으로 BST와 HASH가 있음\n",
    "- BST는 로그 n의 속도로 검색을 가능하게 하지만\n",
    "- 입력되는 데이터가 좋지 않을 시 최악의 경우 O(n)의 속도가 나옴\n",
    "- 이때 발란스드 트리로 만들어주는 알고리즘을 적용하여\n",
    "- logn의 속도로 탐색이 가능하게끔 하는 과정이 필요\n",
    "- red-black tree"
   ]
  },
  {
   "cell_type": "code",
   "execution_count": 6,
   "metadata": {},
   "outputs": [
    {
     "name": "stdout",
     "output_type": "stream",
     "text": [
      "존재함\n"
     ]
    }
   ],
   "source": [
    "lst = [4,7,1,9,3,1,6]\n",
    "arr=[0]*20\n",
    "\n",
    "def insert(target):\n",
    "\n",
    "    now = 1\n",
    "    while 1:\n",
    "        if arr[now]==0:         # root노드가 비어있다면 target 값을 저장\n",
    "            arr[now]=target\n",
    "            return\n",
    "        \n",
    "        if arr[now]<target: now = now*2+1\n",
    "        else: now=now*2\n",
    "\n",
    "def search(target):\n",
    "    now = 1\n",
    "    while 1:\n",
    "        if now >len(arr): return 0      # now가 배열의 범위를 벗어나면 없다는 의미\n",
    "        if arr[now]==0: return 0        # 타겟이 없으면 0 리턴\n",
    "        if arr[now]==target: return 1   # 타겟을 찾으면 1 리턴\n",
    "        if arr[now]<target: now=now*2+1\n",
    "        else: now=now*2\n",
    "\n",
    "\n",
    "for i in range(len(lst)):\n",
    "    insert(lst[i])      # 트리의 모양으로 lst의 값을 저장\n",
    "\n",
    "n = int(input())\n",
    "ret = search(n)         # 입력받은 정수가 있는지 없는지 탐색\n",
    "\n",
    "if ret==1:\n",
    "    print(\"존재함\")\n",
    "else:\n",
    "    print(\"없는 숫자\")\n"
   ]
  },
  {
   "attachments": {},
   "cell_type": "markdown",
   "metadata": {},
   "source": [
    "### heap\n",
    "\n",
    "- Max heap\n",
    "    - 내림차순\n",
    "    - 부모노드의 값이 자식보다 큰 상태를 유지해야함\n",
    "    - 자시노드에 부모노드 보다 큰 수가 들어올 시 swap\n",
    "    - 큰 수를 우선순위로 뽑을 때 사용\n",
    "    - 항상 완벽한 이진트리의 형태를 유지\n",
    "\n",
    "- Min heap\n",
    "    - 오름차순"
   ]
  },
  {
   "cell_type": "code",
   "execution_count": 7,
   "metadata": {},
   "outputs": [
    {
     "name": "stdout",
     "output_type": "stream",
     "text": [
      "31 8 7 7 4 3 1 "
     ]
    }
   ],
   "source": [
    "arr=[3,7,1,4,7,31,8]\n",
    "heap = [0]*30\n",
    "hindex=1        # 1번 인덱스에 첫값 저장하기 위함\n",
    "\n",
    "def insert(value):\n",
    "    global hindex\n",
    "    heap[hindex]=value\n",
    "    now=hindex\n",
    "    hindex+=1\n",
    "\n",
    "    while 1:\n",
    "        p=now//2                                # 부모 인덱스 구하기\n",
    "        if p==0: break                          # 만약 부모인덱스가 0 이라면(now는 루트노드) 비교할것 없음, 꺼버림\n",
    "        if heap[p]>=heap[now]: break            # 부모와 now값 비교해서 부모가 크거나 같으면 꺼버림\n",
    "        heap[p],heap[now] = heap[now],heap[p]   # 부모값 < now값 이라면 swap\n",
    "        now = p                                 # 부모가 그 다음 now가 됨(부모가 부모의 부모(그 조상)와 비교를 실행)\n",
    "\n",
    "def top():\n",
    "    return heap[1]\n",
    "\n",
    "def pop():\n",
    "    global hindex\n",
    "    heap[1]=heap[hindex-1]                      # 맨 뒤의 아이를 루트로 올리고\n",
    "    heap[hindex]=0                              # 맨 뒤의 값을 0으로 바꾸고\n",
    "    hindex-=1                                   # hindex 값 감소\n",
    "    now = 1                                     # 루트부터 자식들이랑 비교하기 위해서 now를 1로 setting\n",
    "    while 1:\n",
    "        son=now*2                               # 왼쪽 자식\n",
    "        rson=now*2+1                            # 오른쪽 자식\n",
    "        # 자식이 있고, 오른쪽 자식이 왼쪽 자식보다 크면 오른쪽 자식과 now와 비교)\n",
    "        if son<=hindex and heap[son] < heap[rson]: son=rson\n",
    "        # 자식이 없거나 부모가 더 크다면 break\n",
    "        if son>hindex or heap[now] > heap[son]: break\n",
    "        heap[now],heap[son] = heap[son],heap[now]\n",
    "        now=son\n",
    "\n",
    "\n",
    "for i in range(len(arr)):\n",
    "    insert(arr[i])\n",
    "\n",
    "for i in range(len(arr)):\n",
    "    print(top(),end=' ')\n",
    "    pop()"
   ]
  }
 ],
 "metadata": {
  "kernelspec": {
   "display_name": "Python 3",
   "language": "python",
   "name": "python3"
  },
  "language_info": {
   "codemirror_mode": {
    "name": "ipython",
    "version": 3
   },
   "file_extension": ".py",
   "mimetype": "text/x-python",
   "name": "python",
   "nbconvert_exporter": "python",
   "pygments_lexer": "ipython3",
   "version": "3.9.13"
  },
  "orig_nbformat": 4,
  "vscode": {
   "interpreter": {
    "hash": "c4b9ebf4ca459396e2ad1150752490c26670c1a037c08cad955a4425787bec2e"
   }
  }
 },
 "nbformat": 4,
 "nbformat_minor": 2
}
