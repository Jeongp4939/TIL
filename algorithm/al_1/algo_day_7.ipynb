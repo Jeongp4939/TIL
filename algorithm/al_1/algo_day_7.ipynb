{
 "cells": [
  {
   "attachments": {},
   "cell_type": "markdown",
   "metadata": {},
   "source": [
    "# 알고리즘 7일차\n",
    "\n",
    "#### 패턴 매칭\n",
    "\n",
    "- 고지식한 패턴 검색 알고리즘\n",
    "- 카프-라빈 알고리즘\n",
    "- KMP 알고리즘\n",
    "- 보이어-무어 알고리즘\n",
    "\n",
    "##### 고지식한 알고리즘(Brute Force)\n",
    "- 본문 문자열을 처음부터 끝까지 차례대로 순회하면서 패턴 내의 문자들을 일일이 비교하는 방식으로 동작"
   ]
  },
  {
   "cell_type": "code",
   "execution_count": null,
   "metadata": {},
   "outputs": [],
   "source": [
    "p = 'is'    # 찾을 패턴\n",
    "t = 'This is a book~!'  # 전체 텍스트\n",
    "M = len(p)  # 찾을 패턴의 길이\n",
    "N = len(t)  # 전체 텍슽의 길이\n",
    "\n",
    "def BruteForce(p,t):\n",
    "    i = 0   # t의 인덱스\n",
    "    j = 0   # p의 인덱스\n",
    "    while j<M and i<N:\n",
    "        if t[i]!=p[j]:\n",
    "            i = i-j\n",
    "            j = -1\n",
    "        i = i+1\n",
    "        j = j+1\n",
    "    if j == M : return i - M    # 검색 성공\n",
    "    else: return -1             # 검색 실패"
   ]
  },
  {
   "cell_type": "code",
   "execution_count": null,
   "metadata": {},
   "outputs": [],
   "source": [
    "def bf2(p,t,N,M):\n",
    "    cnt = 0\n",
    "    for i in range(N-M+1):\n",
    "        for j in range(M):\n",
    "            if t[i+j] != p[j]:\n",
    "                break"
   ]
  },
  {
   "attachments": {},
   "cell_type": "markdown",
   "metadata": {},
   "source": [
    "- 고지식한 패턴 검색 알고리즘의 시간 복잡도\n",
    "    - 최악의 경우 시간 복잡도는 텍스트의 모든 위치에서 패턴을 비교해야 하므로 O(MN)이 됩\n",
    "    - 길이가 10000 인 문자열의 길이 80인 패턴 -> 10000*80 = 800000번 비교\n",
    "    - 비교회수를 줄일 방법?"
   ]
  },
  {
   "attachments": {},
   "cell_type": "markdown",
   "metadata": {},
   "source": [
    "##### KMP 알고리즘\n",
    "- 불일치가 발생한 텍스트 스트링 앞 부분에 어떤 문자가 있는지 미리 알고 있으므로, 불일치가 발생한 앞 부분에 대하여 다시 비교하지 않고 매칭을 수행\n",
    "\n",
    "- 패턴을 전처리하여 배열 next[M]을 구해서 잘못된 시작을 최소화함\n",
    "    - next[M] : 불일치가 발생했을 경우 이동할 다음 위치\n",
    "\n",
    "- 시간 복잡도 : O(M+N)"
   ]
  },
  {
   "attachments": {},
   "cell_type": "markdown",
   "metadata": {},
   "source": [
    "\n",
    "##### 보이어-무어 알고리즘\n",
    "- 오른쪽에서 왼쪽으로 비교\n",
    "- 대부분의 상용 소프트웨어에서 채택하고 있는 알고리즘\n",
    "- 보이어-무어 알고리즘은 패턴에 오른쪽 끝에 있는 문자가 불일치하고 이 문자가 패턴 내에 존재하지 않는 경우, 이동 거리는 무려 패턴으 길이만큼이 된다."
   ]
  },
  {
   "attachments": {},
   "cell_type": "markdown",
   "metadata": {},
   "source": [
    "- 앞의 두 매칭 알고리즘들의 공통점 텍스트 문자열의 문자를 적어도 한번씩 훑음. 따라서 최선의 경우에도 - 오메가(n)\n",
    "- 보이어-무어 알고리즘은 텍스트 문자를 다 보지 않아도 됨\n",
    "- 발상의 전환 : 패턴의 오른쪽부터 비교\n",
    "- 최악의 경우 수행시간 : 세타(mn)\n",
    "- 입력에 따라 다르지만 일반적으로 세타(n)보다 시간이 덜 든다"
   ]
  },
  {
   "attachments": {},
   "cell_type": "markdown",
   "metadata": {},
   "source": [
    "##### 문자열 매칭 알고리즘 비교\n",
    "    - 찾고자 하는 문자열 패턴의 길이 m, 총 문자열 길이 n\n",
    "    - 고지식한 패턴 검색 알고리즘 : 수행시간 O(mn)\n",
    "    - 카프-라빈 알고리즘 : 수행시간 세타(n)\n",
    "    - KMP 알고리즘 : 수행시간 세타(n)"
   ]
  },
  {
   "attachments": {},
   "cell_type": "markdown",
   "metadata": {},
   "source": [
    "KMP -> 더 알아보고 싶으면 나동빈 설명 찾아보기"
   ]
  },
  {
   "cell_type": "markdown",
   "metadata": {},
   "source": []
  }
 ],
 "metadata": {
  "kernelspec": {
   "display_name": "Python 3",
   "language": "python",
   "name": "python3"
  },
  "language_info": {
   "name": "python",
   "version": "3.9.13"
  },
  "orig_nbformat": 4,
  "vscode": {
   "interpreter": {
    "hash": "c4b9ebf4ca459396e2ad1150752490c26670c1a037c08cad955a4425787bec2e"
   }
  }
 },
 "nbformat": 4,
 "nbformat_minor": 2
}
