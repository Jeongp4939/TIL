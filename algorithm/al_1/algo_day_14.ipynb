{
 "cells": [
  {
   "attachments": {},
   "cell_type": "markdown",
   "metadata": {},
   "source": [
    "# 알고리즘 14일차\n",
    "\n",
    "### 큐(Queue)\n",
    "\n",
    "- 선형 큐\n",
    "- 원형 큐\n",
    "- 우선순위 큐\n",
    "- 큐의 활용 : 버퍼\n",
    "- BFS"
   ]
  },
  {
   "attachments": {},
   "cell_type": "markdown",
   "metadata": {},
   "source": [
    "큐의 특성\n",
    "- 스택과 마찬가지로 삽입과 삭제의 위치가 제한적인 자료구조\n",
    "    - 큐의 뒤에서는 삽입만 하고, 큐의 앞에서는 삭제만 이루어지는 구조\n",
    "\n",
    "- 선입선출구조(FIFO:First In First Out)\n",
    "    - 큐에 삽입한 순서대로 원소가 저장되어, 가장 먼저 삽입된 원소는 가장 먼저 삭제된다.(줄서기 생각)\n",
    "\n",
    "- 큐의 기본연산\n",
    "    - 삽입 : enQueue\n",
    "    - 삭제 : deQueue\n"
   ]
  },
  {
   "attachments": {},
   "cell_type": "markdown",
   "metadata": {},
   "source": [
    "선형 큐\n",
    "- 1차원 배열을 이용한 큐\n",
    "    - 큐의 크기 = 배열의 크기\n",
    "    - front : 저장된 첫 번째 원소의 인덱스\n",
    "    - rear : 저장된 마지막 원소의 인덱스\n",
    "\n",
    "- 상태 표현\n",
    "    - 초기 상태 : fornt = rear = -1\n",
    "    - 공백 상태 : front == rear\n",
    "    - 포화 상태 : rear == n-1(n:배열의 크기, n-1: 배열의 마지막 인덱스)"
   ]
  },
  {
   "attachments": {},
   "cell_type": "markdown",
   "metadata": {},
   "source": [
    "- 초기 공백 큐 생성\n",
    "    - 크기 n인 1차원 배열 생성\n",
    "    - front와 rear를 -1로 초기화\n",
    "<br></br>\n",
    "- 삽입(enQueue)\n",
    "    - 마지막 원소 뒤에 새로운 원소를 삽입하기 위해\n",
    "        - rear값을 하나 증가시켜 새로운 원소를 삽입할 자리 마련\n",
    "        - 그 인덱스에 해당하는 배열원소 Q[rear]에 item을 저장\n",
    "<br></br>\n",
    "- 삭제(deQueue)\n",
    "    - 가장 앞에 있는 원소를 삭제하기 위해\n",
    "        - front값을 하나 증가시켜 큐에 남아있게 될 첫 번째 원소 이동\n",
    "        - 새로운 첫 번째 원소를 리턴함으로써 삭제와 동일한 기능\n",
    "<br></br>\n",
    "- 공백상태 및 포화상태 검사(isEmpty, isFull)\n",
    "    - 공백상태 : front==rear\n",
    "    - 포화상태 : rear==n-1\n",
    "<br></br>\n",
    "- 검색(Qpeek)\n",
    "    - 가장 앞에 있는 원소를 검색하여 반환하는 연산\n",
    "    - 현재 front의 한자리 뒤(front+1)에 있는 원소, 즉 큐의 첫번째에 이쓴 원소를 반환"
   ]
  },
  {
   "attachments": {},
   "cell_type": "markdown",
   "metadata": {},
   "source": [
    "선형 큐 이용시 문제점\n",
    "- 잘못된 포화상태 인식\n",
    "    - 선형큐를 이용하여 원소의 삽입과 삭제를 계속할 경우, 배열의 앞부분에 활용할 수 있는 공간이 있음에도 불구하고, rear=n-1인 상태 즉, 포화상태로 인식하여 더 이상의 삽입을 수행하지 않게 됨\n",
    "- 해결방법 1\n",
    "    - 매 연산이 이루어질 때마다 저장된 원소들을 배열의 앞부분으로 모두 이동시킴\n",
    "    - 원소 이동에 많은 시간이 소요되어 큐의 효율성이 급격히 떨어짐\n",
    "\n",
    "- 해결방법 2\n",
    "    - 1차원 배열을 사용하되, 논리적으로는 배열의 처음과 끝이 연결되어 원형 형태의 큐를 이룬다고 가정하고 사용"
   ]
  },
  {
   "attachments": {},
   "cell_type": "markdown",
   "metadata": {},
   "source": [
    "원형 큐의 구조\n",
    "- 초기 공백 상태\n",
    "    - fornt = rear = 0\n",
    "- index의 순환\n",
    "    - front와 rear의 위치가 배열이 마지막 인덱스인 n-1을 가리킨 후, 그 다음에는 논리적 순환을 이루어 배열의 첫 인덱스인 0으로 이동\n",
    "    - 이를 위해 나머지 연산자 mod를 사용"
   ]
  },
  {
   "attachments": {},
   "cell_type": "markdown",
   "metadata": {},
   "source": [
    "원형 큐의 구현\n",
    "- 초기 공백 큐 생성\n",
    "    - 크기 n인 1차원 배열 생성\n",
    "    - fornt와 rear를 0으로 초기화\n",
    "- 공백상태 및 포화상탱 검사(isEmpty, isFull)\n",
    "    - 공백상태 : front==rear\n",
    "    - 포화상태 : 삽일할 rear의 다음 위치 == 현재 front\n",
    "        - (rear+1)mod n == front\n",
    "    \n",
    "- 삽입(enQueue)\n",
    "    - 마지막 원소 뒤에 새로운 원소를 삽입하기 위해\n",
    "        - rear 값을 조정하여 새로운 원소를 삽입할 자리를 마련함\n",
    "            - rear <-(rear+1)mode n;\n",
    "    - 그 인덱스에 해당하는 배열원소 cQ[rear]에 item을 저장"
   ]
  }
 ],
 "metadata": {
  "kernelspec": {
   "display_name": "Python 3",
   "language": "python",
   "name": "python3"
  },
  "language_info": {
   "name": "python",
   "version": "3.9.13"
  },
  "orig_nbformat": 4,
  "vscode": {
   "interpreter": {
    "hash": "c4b9ebf4ca459396e2ad1150752490c26670c1a037c08cad955a4425787bec2e"
   }
  }
 },
 "nbformat": 4,
 "nbformat_minor": 2
}
