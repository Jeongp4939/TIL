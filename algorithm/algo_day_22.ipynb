{
 "cells": [
  {
   "attachments": {},
   "cell_type": "markdown",
   "metadata": {},
   "source": [
    "# 알고리즘 22일차\n",
    "\n"
   ]
  },
  {
   "attachments": {},
   "cell_type": "markdown",
   "metadata": {},
   "source": [
    "- 2805. 농작물 수확하기\n",
    "- 5356. 의석이의 세로로 말해요\n",
    "- 1860. 진기의 최고급 붕어빵\n",
    "- 1220. Magnetic\n",
    "- 12712. 파리퇴치3\n",
    "- 11315. 오목 판정"
   ]
  },
  {
   "cell_type": "code",
   "execution_count": 6,
   "metadata": {},
   "outputs": [
    {
     "name": "stdout",
     "output_type": "stream",
     "text": [
      "#1 23\n"
     ]
    }
   ],
   "source": [
    "# 농작물 수확하기 [1]\n",
    "T = int(input())\n",
    "for tc in range(1,1+T):\n",
    "    N = int(input())\n",
    "    arr = [list(map(int,input())) for _ in range(N)]\n",
    "    ans = 0\n",
    "    m = N//2\n",
    "\n",
    "    for i in range(N):\n",
    "        for j in range(abs(m-i),N-abs(m-i)):\n",
    "            ans += arr[i][j]\n",
    "    print(f'#{tc} {ans}')"
   ]
  },
  {
   "cell_type": "code",
   "execution_count": 7,
   "metadata": {},
   "outputs": [
    {
     "name": "stdout",
     "output_type": "stream",
     "text": [
      "#1 23\n"
     ]
    }
   ],
   "source": [
    "# 농작물 수확하기 [2]\n",
    "T = int(input())\n",
    "for tc in range(1,1+T):\n",
    "    N = int(input())\n",
    "    arr = [list(map(int,input())) for _ in range(N)]\n",
    "    ans = 0\n",
    "    m = N//2\n",
    "\n",
    "    # 범위\n",
    "    s=e=m\n",
    "    for i in range(N):\n",
    "        for j in range(s,e+1):\n",
    "            ans += arr[i][j]\n",
    "        if i<m:\n",
    "            s-=1\n",
    "            e+=1\n",
    "        else:\n",
    "            s+=1\n",
    "            e-=1\n",
    "    print(f'#{tc} {ans}')"
   ]
  },
  {
   "cell_type": "code",
   "execution_count": null,
   "metadata": {},
   "outputs": [],
   "source": [
    "# 의석이의 세로로 말해요 [1]\n",
    "T = int(input())\n",
    "for test_case in range(1, T + 1):\n",
    "    arr = [input() for _ in range(5)]\n",
    "    ans = ''\n",
    "    for j in range(15):\n",
    "        for i in range(5):\n",
    "            # if j < len(arr[i]):\n",
    "            try:\n",
    "                ans += arr[i][j]\n",
    "            except:\n",
    "                pass\n",
    "    print(f'#{test_case} {ans}')"
   ]
  },
  {
   "cell_type": "code",
   "execution_count": null,
   "metadata": {},
   "outputs": [],
   "source": [
    "# 의석이의 세로로 말해요 [2]\n",
    "T = int(input())\n",
    "for test_case in range(1, T + 1):\n",
    "    arr = [input() for _ in range(5)]\n",
    "    ans = ''\n",
    "    for j in range(15):\n",
    "        for i in range(5):\n",
    "            if j < len(arr[i]):\n",
    "                ans += arr[i][j]\n",
    "    print(f'#{test_case} {ans}')"
   ]
  },
  {
   "cell_type": "code",
   "execution_count": null,
   "metadata": {},
   "outputs": [],
   "source": [
    "# 진기의 최고급 붕어빵\n",
    "T = int(input())\n",
    "for test_case in range(1, T + 1):\n",
    "    N, M, K = map(int, input().split())\n",
    "    lst = list(map(int,input().split()))\n",
    "    cnt = 0\n",
    "    ans = 'Possible'\n",
    "    for t in sorted(lst):\n",
    "        cnt += 1\n",
    "        if cnt > (t//M)*K:      # 도착한 사람수 > 만들어진 붕어빵수\n",
    "            ans = 'Impossible'\n",
    "            break\n",
    " \n",
    "    print(f'#{test_case} {ans}')"
   ]
  },
  {
   "cell_type": "code",
   "execution_count": null,
   "metadata": {},
   "outputs": [],
   "source": [
    "# 파리퇴치 3\n",
    "T = int(input())\n",
    "for test_case in range(1, T + 1):\n",
    "    N, M = map(int, input().split())\n",
    "    arr = [list(map(int, input().split())) for _ in range(N)]\n",
    "    ans = 0\n",
    "    for si in range(N):\n",
    "        for sj in range(N):\n",
    "            cnt = arr[si][sj]\n",
    "            for di,dj in ((-1,0),(1,0),(0,-1),(0,1)):\n",
    "                for mul in range(1, M):\n",
    "                    ni,nj = si+di*mul, sj+dj*mul\n",
    "                    if 0<=ni<N and 0<=nj<N:\n",
    "                        cnt += arr[ni][nj]\n",
    "            ans = max(ans, cnt)\n",
    " \n",
    "            cnt = arr[si][sj]\n",
    "            for di,dj in ((-1,-1),(-1,1),(1,-1),(1,1)):\n",
    "                for mul in range(1, M):\n",
    "                    ni,nj = si+di*mul, sj+dj*mul\n",
    "                    if 0<=ni<N and 0<=nj<N:\n",
    "                        cnt += arr[ni][nj]\n",
    "            ans = max(ans, cnt)\n",
    " \n",
    " \n",
    "    print(f'#{test_case} {ans}')"
   ]
  },
  {
   "cell_type": "code",
   "execution_count": null,
   "metadata": {},
   "outputs": [],
   "source": [
    "# magnetic\n",
    "\n",
    "T = 10\n",
    "for test_case in range(1, T + 1):\n",
    "    N = int(input())\n",
    "    arr = [input().split() for _ in range(N)]\n",
    "    ans = 0\n",
    "    for st in zip(*arr):\n",
    "        ans+=\"\".join(st).replace('0','').count('12')\n",
    "    # arr_t = list(zip(*arr))\n",
    "    # for lst in arr_t:\n",
    "    #     prev = 0\n",
    "    #     for n in lst:\n",
    "    #         if n!='0':\n",
    "    #             if n=='2' and prev=='1':\n",
    "    #                 ans += 1\n",
    "    #             prev = n\n",
    " \n",
    "    print(f'#{test_case} {ans}')"
   ]
  },
  {
   "cell_type": "code",
   "execution_count": null,
   "metadata": {},
   "outputs": [],
   "source": [
    "# magnetic\n",
    "\n",
    "T = 10\n",
    "for test_case in range(1, T + 1):\n",
    "    N = int(input())\n",
    "    arr = [input().split() for _ in range(N)]\n",
    "    arr_t = list(zip(*arr))\n",
    "    ans = 0\n",
    "    for lst in arr_t:\n",
    "        prev = 0\n",
    "        for n in lst:\n",
    "            if n!='0':\n",
    "                if n=='2' and prev=='1':\n",
    "                    ans += 1\n",
    "                prev = n\n",
    " \n",
    "    print(f'#{test_case} {ans}')"
   ]
  },
  {
   "cell_type": "code",
   "execution_count": null,
   "metadata": {},
   "outputs": [],
   "source": [
    "# 오목판정\n",
    "def solve(arr):\n",
    "    for si in range(1, N+1):\n",
    "        for sj in range(1, N+1):\n",
    "            for di,dj in ((-1,1),(0,1),(1,1),(1,0)):\n",
    "                for mul in range(5):\n",
    "                    ni,nj = si+di*mul, sj+dj*mul\n",
    "                    if arr[ni][nj]!='o':\n",
    "                        break\n",
    "                else:\n",
    "                    return 'YES'\n",
    "    return 'NO'\n",
    " \n",
    "T = int(input())\n",
    "for test_case in range(1, T + 1):\n",
    "    N = int(input())\n",
    "    arr = ['.'*(N+2)]+['.'+input()+'.' for _ in range(N)]+['.'*(N+2)]\n",
    " \n",
    "    ans = solve(arr)\n",
    "    print(f'#{test_case} {ans}')"
   ]
  },
  {
   "attachments": {},
   "cell_type": "markdown",
   "metadata": {},
   "source": [
    "# 오프라인"
   ]
  },
  {
   "cell_type": "code",
   "execution_count": 14,
   "metadata": {},
   "outputs": [
    {
     "name": "stdout",
     "output_type": "stream",
     "text": [
      "9\n"
     ]
    }
   ],
   "source": [
    "# 4*5 배열\n",
    "# 벽이 존재\n",
    "dy = [-1,1,0,0]\n",
    "dx = [0,0,-1,1]\n",
    "arr = [[0,0,0,0,2],\n",
    "       [2,0,2,0,2],\n",
    "       [2,0,2,0,0],\n",
    "       [3,0,0,0,4]]\n",
    "\n",
    "\n",
    "def dfs(y,x,cnt=0,target=3):\n",
    "    global Min, fx,fy\n",
    "    if cnt>Min:\n",
    "        return\n",
    "    if arr[y][x]==target:\n",
    "        Min=min(cnt+1,Min)\n",
    "        fy,fx = y,x\n",
    "        return\n",
    "    for i in range(4):\n",
    "        ny = y + dy[i]\n",
    "        nx = x + dx[i]\n",
    "        if 0<=ny<n and 0<=nx<m:\n",
    "            if not visited[ny][nx] and arr[ny][nx]!=2:\n",
    "                visited[ny][nx]=1\n",
    "                dfs(ny,nx,cnt+1)\n",
    "                visited[ny][nx]=0\n",
    "\n",
    "\n",
    "n = 4\n",
    "m = 5\n",
    "visited=[[0]*5 for _ in range(4)]\n",
    "y=x=0\n",
    "Min = 28e8\n",
    "flag = 0\n",
    "fy=fx=0\n",
    "dfs(y,x)\n",
    "cnt1=Min\n",
    "Min = 28e8\n",
    "dfs(fy,fx,target=4)\n",
    "cnt2 = Min\n",
    "\n",
    "print(cnt1+cnt2)"
   ]
  },
  {
   "cell_type": "code",
   "execution_count": 22,
   "metadata": {},
   "outputs": [
    {
     "name": "stdout",
     "output_type": "stream",
     "text": [
      "9\n"
     ]
    }
   ],
   "source": [
    "# 4*5 배열\n",
    "# 벽이 존재\n",
    "from collections import deque\n",
    "dy = [-1,1,0,0]\n",
    "dx = [0,0,-1,1]\n",
    "arr = [[0,0,0,0,1],\n",
    "       [1,0,2,0,1],\n",
    "       [1,0,2,0,0],\n",
    "       [3,0,0,0,4]]\n",
    "\n",
    "def bfs(sty,stx,edy,edx):\n",
    "    q = deque()\n",
    "    q.append([sty,stx,0])\n",
    "    visited=[[0]*m for _ in range(n)]\n",
    "    visited[sty][stx]=1\n",
    "    while q:\n",
    "        node =q.popleft()\n",
    "        yy,xx,lvl = node[0],node[1],node[2]\n",
    "        if yy==edy and xx==edx:\n",
    "            return lvl\n",
    "        for i in range(4):\n",
    "            ny = yy+dy[i]\n",
    "            nx = xx+dx[i]\n",
    "            if not (0<=ny<n and 0<=nx<m): continue\n",
    "            if visited[ny][nx]==1: continue\n",
    "            if arr[ny][nx]==1: continue\n",
    "            visited[ny][nx]=1\n",
    "            q.append([ny,nx,lvl+1])\n",
    "\n",
    "n,m = 4,5\n",
    "\n",
    "answer=0\n",
    "answer+=bfs(0,0,3,0)\n",
    "answer+=bfs(3,0,3,4)\n",
    "print(answer)"
   ]
  },
  {
   "cell_type": "code",
   "execution_count": 40,
   "metadata": {},
   "outputs": [
    {
     "name": "stdout",
     "output_type": "stream",
     "text": [
      "0 6\n"
     ]
    }
   ],
   "source": [
    "# 5*5 배열\n",
    "# 섬은 1 바다는 0\n",
    "# 섬의 크기는\n",
    "from collections import deque\n",
    "arr = [[0,0,1,0,0],\n",
    "       [0,0,1,0,0],\n",
    "       [0,1,1,1,0],\n",
    "       [0,0,1,0,0],\n",
    "       [0,0,0,0,0]]\n",
    "dy,dx = [-1,1,0,0],[0,0,-1,1]\n",
    "visited=[[0]*5 for _ in range(5)]\n",
    "\n",
    "def bfs(y,x,size=0):\n",
    "    # if not arr[y][x]:\n",
    "    #     return\n",
    "    q = deque()\n",
    "    q.append([y,x])\n",
    "    while q:\n",
    "        y,x = q.popleft()\n",
    "        for i in range(4):\n",
    "            ny=y+dy[i]\n",
    "            nx=x+dx[i]\n",
    "            if 0<=ny<n and 0<=nx<n:\n",
    "                if arr[ny][nx]==1 and not visited[ny][nx]:\n",
    "                    visited[ny][nx]=1\n",
    "                    size+=1\n",
    "                    q.append([ny,nx])\n",
    "    return size\n",
    "\n",
    "cnt=0\n",
    "\n",
    "for i in range(5):\n",
    "    for j in range(5):\n",
    "        size += bfs(i,j)\n",
    "\n",
    "print(cnt,size)"
   ]
  },
  {
   "cell_type": "code",
   "execution_count": 56,
   "metadata": {},
   "outputs": [
    {
     "name": "stdout",
     "output_type": "stream",
     "text": [
      "섬의 개수 : 3\n",
      "가장 큰 섬의 넓이 : 6\n",
      "가장 작은 섬의 넓이 : 1\n"
     ]
    }
   ],
   "source": [
    "# 5*5 배열\n",
    "# 섬은 1 바다는 0\n",
    "# 섬의 크기는\n",
    "from collections import deque\n",
    "arr = [[0,0,1,0,1],\n",
    "       [0,0,1,0,1],\n",
    "       [0,1,1,1,0],\n",
    "       [0,0,1,0,0],\n",
    "       [1,0,0,0,0]]\n",
    "dy,dx = [-1,1,0,0],[0,0,-1,1]\n",
    "visited=[[0]*5 for _ in range(5)]\n",
    "\n",
    "def bfs(y,x,size=0):\n",
    "    q = deque()\n",
    "    q.append([y,x])\n",
    "    visited[y][x]=1\n",
    "    size+=1\n",
    "    while q:\n",
    "        y,x = q.popleft()\n",
    "\n",
    "        for i in range(4):\n",
    "            ny=y+dy[i]\n",
    "            nx=x+dx[i]\n",
    "            if 0<=ny<n and 0<=nx<n:\n",
    "                if arr[ny][nx]==1 and not visited[ny][nx]:\n",
    "                    visited[ny][nx]=1\n",
    "                    size+=1\n",
    "                    q.append([ny,nx])\n",
    "    return size\n",
    "\n",
    "n=5\n",
    "cnt=0\n",
    "Min = 28e8\n",
    "Max = 0\n",
    "for i in range(5):\n",
    "    for j in range(5):\n",
    "        if arr[i][j]==1 and not visited[i][j]:\n",
    "\n",
    "            size = bfs(i,j)\n",
    "            cnt+=1\n",
    "            Max=max(size,Max)\n",
    "            Min=min(size,Min)\n",
    "\n",
    "print(f'섬의 개수 : {cnt}\\n가장 큰 섬의 넓이 : {Max}\\n가장 작은 섬의 넓이 : {Min}')"
   ]
  }
 ],
 "metadata": {
  "kernelspec": {
   "display_name": "Python 3",
   "language": "python",
   "name": "python3"
  },
  "language_info": {
   "codemirror_mode": {
    "name": "ipython",
    "version": 3
   },
   "file_extension": ".py",
   "mimetype": "text/x-python",
   "name": "python",
   "nbconvert_exporter": "python",
   "pygments_lexer": "ipython3",
   "version": "3.9.13"
  },
  "orig_nbformat": 4
 },
 "nbformat": 4,
 "nbformat_minor": 2
}
