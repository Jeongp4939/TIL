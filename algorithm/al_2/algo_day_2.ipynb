{
 "cells": [
  {
   "attachments": {},
   "cell_type": "markdown",
   "metadata": {},
   "source": [
    "# 알고리즘 2일 차"
   ]
  },
  {
   "attachments": {},
   "cell_type": "markdown",
   "metadata": {},
   "source": [
    "### 부분집합\n",
    "\n",
    "집합에 포함된 원소들을 선택하는 것\n",
    "\n",
    "다수의 중요 알고리즘들이 춴소들의 그룹에서 최적의 부분 집합을 찾는 것\n",
    "- 배낭 짐싸기(knapsack)\n",
    "\n",
    "N개의 원소를 포함한 집합\n",
    "- 자기 자신과 공집합 포함한 모든 부분집합(power set)의 개수는 2^n개\n",
    "- 원소의 수가 증가하면 부분집합의 개수는 지수적으로 증가"
   ]
  },
  {
   "attachments": {},
   "cell_type": "markdown",
   "metadata": {},
   "source": [
    "### 부분 집합 생성 방법\n",
    "\n",
    "바이너리 카운팅을 통한 사전적 순서(Lexicographic Order)\n",
    "- 부분집합을 생성하기 위한 가장 자연스러운 방법\n",
    "- 바이너리 카운팅(Binary counting)은 사전적 순서로 생성하기 위한 가장 간단한 방법이다.\n",
    "\n",
    "1. 원소 수에 해당하는 N개의 비트열을 이용한다.\n",
    "2. n번째 비트값이 1이면 n번째 원소가 포함되었음을 의미한다.\n",
    "\n",
    "```python\n",
    "arr = [3,6,7,1,5,4]\n",
    "n = len(arr)\n",
    "\n",
    "for i in range(0,(1<<n)):   # 1<<n : 부분 집합의 개수\n",
    "    for j in range(0,n):    # 원소의 수만큼 비트를 비교\n",
    "        if i&(1<<j):        # i의 j번째 비트가 1이면 j번째 원소를 출력\n",
    "            print('%d'%arr[j],end=' ')\n",
    "    print()\n",
    "```"
   ]
  },
  {
   "attachments": {},
   "cell_type": "markdown",
   "metadata": {},
   "source": [
    "### 조합\n",
    "- 서로 다른 n개의 원소 중 r개를 순서없이 골라낸 것을 조합(Combination)이라고 부른다."
   ]
  },
  {
   "attachments": {},
   "cell_type": "markdown",
   "metadata": {},
   "source": [
    "재귀 호출을 이용한 조합 생성 알고리즘\n",
    "```\n",
    "an[] : n개의 원소를 가지고 있는 배열\n",
    "tr[] : r개의 크기의 배열, 조합이 임시 저장 될 배열\n",
    "\n",
    "comb(n,r)\n",
    "    if (r==0) print_arr()\n",
    "    else if (n<r) return\n",
    "    else\n",
    "        tr[r-q] = an[n-1]\n",
    "        comb(n-1, r-1)\n",
    "        comb(n-1, r)\n",
    "```"
   ]
  },
  {
   "attachments": {},
   "cell_type": "markdown",
   "metadata": {},
   "source": [
    "### 탐욕(Greedy) 알고리즘\n",
    "\n",
    "탐욕 알고리즘은 최적해를 구하는 데 사용되는 근시안적인 방법\n",
    "일반적으로, 머리속에 떠오르는 생각을 검증없이 바로 구현하면 Greedy 접근이 된다.\n",
    "\n",
    "여러 경우 중 하나를 선택할 때마다 그 순간에 최적이라고 생각되는 것을 선택해 나가는 방식으로 진행하여 최종적인 해답에 도달한다.\n",
    "\n",
    "각 선택 시점에서 이루어지는 결정은 지역적으로는 최적이지만, 그 선택들을 계속 수집하여 최종적인 해답을 만들었다고 하여, `그것이 최적이라는 보장은 없다.`"
   ]
  },
  {
   "attachments": {},
   "cell_type": "markdown",
   "metadata": {},
   "source": [
    "일단, 한번 선택된 것은 번복하지 않는다. 이런 특성 떄문에 대부분의 탐욕 알고리즘들은 단순하며, 또한 제한적인 문제들에 적용된다.\n",
    "\n",
    "최적화 문제(optimization)란 가능한 해들 중에서 가장 좋은(최대 또는 최소) 해를 찾는 문제이다."
   ]
  },
  {
   "attachments": {},
   "cell_type": "markdown",
   "metadata": {},
   "source": [
    "#### 탐욕 알고리즘의 동작 과정\n",
    "1. 해 선택 : 현재 상태에서 부분 문제의 최적 해를 구한 뒤, 이를 부분해 집합(Solution Set)에 추가한다.\n",
    "\n",
    "2. 실행 가능성 검사 : 새로운 부분 해 집합이 실행가능한지를 확인한다. 곧, 문제의 제약 조건을 위반하지 않는 지를 검사한다.\n",
    "\n",
    "3. 해 검사 : 새로운 부분 해 집합이 문제의 해가 되는지를 확인한다. 아직 전체 문제의 해가 완성되지 않았다면 1의 해 선택부터 다시 시작한다."
   ]
  },
  {
   "attachments": {},
   "cell_type": "markdown",
   "metadata": {},
   "source": []
  },
  {
   "cell_type": "markdown",
   "metadata": {},
   "source": []
  },
  {
   "cell_type": "code",
   "execution_count": null,
   "metadata": {},
   "outputs": [],
   "source": [
    "# ATM\n",
    "\n",
    "n = int(input())\n",
    "A = list(map(int, input().split()))\n",
    "A.sort()\n",
    "for i in range(1,n):\n",
    "    A[i] += A[i-1]\n",
    "print(sum(A))"
   ]
  },
  {
   "cell_type": "code",
   "execution_count": null,
   "metadata": {},
   "outputs": [],
   "source": [
    "# party(예약 문제)\n",
    "n = int(input())\n",
    "A = [list(map(int, input().split())) for _ in range(n)]\n",
    "cnt = 0\n",
    "A.sort(key=lambda x: x[1])\n",
    "i=0\n",
    "time = 0\n",
    "for i in range(n):\n",
    "    if time <= A[i][0]:\n",
    "        time = A[i][1]\n",
    "        cnt+=1\n",
    "print(cnt)"
   ]
  },
  {
   "cell_type": "code",
   "execution_count": 10,
   "metadata": {},
   "outputs": [
    {
     "name": "stdout",
     "output_type": "stream",
     "text": [
      "18\n"
     ]
    }
   ],
   "source": [
    "# bottom-up 방식\n",
    "# 작은부분 해결하면서 하나씩 해결\n",
    "\n",
    "A = [0, 7, 3, -5, -1, -9, -2, 6, 5, -4, 0]\n",
    "for i in range(2, len(A)):\n",
    "    if i % 2:\n",
    "        A[i] = max(A[i] + A[i - 2], A[i] + A[i - 1])\n",
    "    else:\n",
    "        A[i] = max(A[i] + A[i - 2], A[i] + A[i - 1], A[i]+A[i//2])\n",
    "\n",
    "print(A[-1])"
   ]
  },
  {
   "cell_type": "code",
   "execution_count": null,
   "metadata": {},
   "outputs": [],
   "source": [
    "A = [[0,7,1,4,3],\n",
    "     [1,9,6,1,5],\n",
    "     [3,2,5,4,7],\n",
    "     [1,6,5,9,8],\n",
    "     [7,4,3,5,0]]\n",
    "\n",
    "for i in range(1,5):\n",
    "    A[i][0] = A[i][0]+A[i-1][0]\n",
    "for i in range(1, 5):\n",
    "    A[0][i] = A[0][i] + A[0][i-1]\n",
    "\n",
    "for i in range(1,5):\n",
    "    for j in range(1,5):\n",
    "        A[i][j] = min(A[i][j]+A[i-1][j], A[i][j]+A[i][j-1])\n",
    "\n",
    "for i in A:\n",
    "    print(*i)\n",
    "print(A[4][4])\n",
    "\n"
   ]
  },
  {
   "cell_type": "code",
   "execution_count": null,
   "metadata": {},
   "outputs": [],
   "source": [
    "# 지게차 이동 (시작->도착지 까지 최소비용) \n",
    "\n",
    "arr=[[0,7,1,4,3],\n",
    "    [1,9,6,1,5],\n",
    "    [3,2,5,4,7],\n",
    "    [1,6,5,9,8],\n",
    "    [7,4,3,5,0]]\n",
    "\n",
    "acc=[[0]*5 for _ in range(5)]\n",
    "\n",
    "# 가장 우측 그리고 최 하단값 셋팅하기\n",
    "def sett():\n",
    "    for i in range(3,-1,-1):\n",
    "        acc[i][4]=acc[i+1][4]+arr[i][4]\n",
    "        acc[4][i]=acc[4][i+1]+arr[4][i]\n",
    "\n",
    "sett()\n",
    "\n",
    "# 2중 for 돌면서 \n",
    "# (우측 그리고 아래 값 중 작은값) + 원본데이터값\n",
    "for i in range(3,-1,-1):\n",
    "    for j in range(3,-1,-1):\n",
    "        down=acc[i+1][j]\n",
    "        right=acc[i][j+1]\n",
    "        \n",
    "        if down>right:\n",
    "            value=right\n",
    "        else:\n",
    "            value=down\n",
    "            \n",
    "        acc[i][j]=value+arr[i][j]\n",
    "print(acc[0][0])\n"
   ]
  },
  {
   "cell_type": "code",
   "execution_count": null,
   "metadata": {},
   "outputs": [],
   "source": [
    "# https://www.acmicpc.net/problem/12865\n",
    "\n",
    "n, k = map(int, input().split())\n",
    "knapsack = [[0 for _ in range(k + 1)] for _ in range(n + 1)]  # 배열\n",
    "\n",
    "item = [[0, 0]]\n",
    "for i in range(1, n + 1):  # 아이템 입력\n",
    "    item.append(list(map(int, input().split())))\n",
    "\n",
    "for i in range(1, n + 1):  # 아이템 개수만큼 반복\n",
    "    for j in range(1, k + 1):  # 최대무게까지 반복\n",
    "\n",
    "        weight = item[i][0]\n",
    "        value = item[i][1]\n",
    "\n",
    "        if j < weight:  # 가방에 넣을 수 없으면\n",
    "            knapsack[i][j] = knapsack[i - 1][j]  # 위에 값 그대로 가져오기\n",
    "        else: # 가방에 넣을 수 있으면\n",
    "            knapsack[i][j] = max(knapsack[i - 1][j],value + knapsack[i - 1][j - weight])\n",
    "            # 위에 값 vs\n",
    "            # 현재 아이템 가치 + 그전 단계에서 구한 남은무게의 가치"
   ]
  },
  {
   "cell_type": "code",
   "execution_count": null,
   "metadata": {},
   "outputs": [],
   "source": [
    "# 동전 knapsack\n",
    "\n",
    "\n",
    "coin=[1,7,10]\n",
    "n=int(input())\n",
    "arr = [[0 for _ in range(n+1)] for _ in range(3)]  # 배열\n",
    "for i in range(3):\n",
    "    for j in range(n+1):\n",
    "        mok=j//coin[i]  # 몫 구하기\n",
    "        if j%coin[i]==0: arr[i][j]=mok  # 몫으로 나눌 수 있으면 몫 넣기\n",
    "        else: # 몫으로 나눌수 없다면...\n",
    "            if mok==0: arr[i][j]=arr[i-1][j] #동전단위가 너무 크다면 위에값\n",
    "            else:\n",
    "                arr[i][j]=min(arr[i-1][j],mok+arr[i][j%coin[i]])\n",
    "                # 윗값 vs 몫+최적화되어있는 그 줄에서의 나머지 값\n",
    "print(arr[2][n])\n"
   ]
  },
  {
   "cell_type": "markdown",
   "metadata": {},
   "source": []
  },
  {
   "cell_type": "markdown",
   "metadata": {},
   "source": []
  }
 ],
 "metadata": {
  "kernelspec": {
   "display_name": "Python 3",
   "language": "python",
   "name": "python3"
  },
  "language_info": {
   "codemirror_mode": {
    "name": "ipython",
    "version": 3
   },
   "file_extension": ".py",
   "mimetype": "text/x-python",
   "name": "python",
   "nbconvert_exporter": "python",
   "pygments_lexer": "ipython3",
   "version": "3.9.12"
  },
  "orig_nbformat": 4
 },
 "nbformat": 4,
 "nbformat_minor": 2
}
