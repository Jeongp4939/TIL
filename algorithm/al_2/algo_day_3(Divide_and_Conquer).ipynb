{
 "cells": [
  {
   "attachments": {},
   "cell_type": "markdown",
   "metadata": {},
   "source": [
    "# 알고리즘 3일 차"
   ]
  },
  {
   "attachments": {},
   "cell_type": "markdown",
   "metadata": {},
   "source": [
    "### 분할 정복\n",
    "\n",
    "문제를 분할해서 해결하는 분할 정복(Divide and Conquer) 기법을 이해하고 대표적인 알고리즘인 퀵 정렬과 병합 정렬에 대해 학습\n",
    "\n",
    "상태 공간 트리의 모든 노드를 검색하는 백트래킹에 대해 학습\n",
    "\n",
    "이진 트리(Binary Tree)의 특성을 이해하고 이진 트리의 중요한 연산인 탐색, 삽입, 삭제 알고리즘을 학습"
   ]
  },
  {
   "attachments": {},
   "cell_type": "markdown",
   "metadata": {},
   "source": [
    "#### 분할 정복 기법\n",
    "\n",
    "유래\n",
    "- 나폴레옹이 사용한 전략에서 유래\n",
    "- 중앙부로 쳐들어가 연합군을 둘로 나누고, 두롤 나뉜 연합군을 한 부분씩 격파 한 것에서 유래함\n",
    "\n",
    "설계 전략\n",
    "- 분할(Divide) : 해결할 문제를 여러 개의 작은 부분으로 나눈다.\n",
    "- 정복(Conquer) : 나눈 작은 문제를 각각 해결한다.\n",
    "- 통합(Combine) : (필요하다면) 해결된 해답을 모은다."
   ]
  },
  {
   "attachments": {},
   "cell_type": "markdown",
   "metadata": {},
   "source": [
    "### 병합 정렬\n",
    "\n",
    "여러 개의 정렬된 자료의 집합을 병합하여 한 개의 정렬된 집합으로 만드는 방식\n",
    "\n",
    "분할 정복 알고리즘 활용\n",
    "- 자료를 최소 단위의 문제까지 나눈 후에 차례대로 정렬하여 최종 결과를 얻어냄\n",
    "- top-down 방식\n",
    "\n",
    "시간 복잡도\n",
    "- O(nlogn)"
   ]
  },
  {
   "attachments": {},
   "cell_type": "markdown",
   "metadata": {},
   "source": [
    "#### 알고리즘 : 분할 과정\n",
    "\n",
    "```\n",
    "    merge_sort(LIST m)\n",
    "    IF length(m) == 1 : RETURN m\n",
    "\n",
    "    LIST left, right\n",
    "    middle <- length(m) / 2\n",
    "    \n",
    "    FOR x in m before middle\n",
    "        add x to left\n",
    "    FOR x in m after or equal middle\n",
    "        add x to right\n",
    "    \n",
    "    left <- merge_sort(left)\n",
    "    right <- merge_sort(right)\n",
    "\n",
    "    RETURN merge(left, right)\n",
    "```"
   ]
  },
  {
   "attachments": {},
   "cell_type": "markdown",
   "metadata": {},
   "source": [
    "#### 알고리즘 : 병합 과정\n",
    "\n",
    "```\n",
    "    merge(LIST left, LIST right)\n",
    "        LIST result\n",
    "\n",
    "        WHILE lenth(left) > 0 OR length(right) > 0\n",
    "            IF length(left) > 0 AND length(right) > 0\n",
    "                IF first(left) <= first(right)\n",
    "                    append popfirst(left) to result\n",
    "                ELSE\n",
    "                    append popfirst(right) to result\n",
    "            ELIF length(left) > 0\n",
    "                append popfirst(left) to result\n",
    "            ELIF length(right) > 0\n",
    "                append popfirst(right) to result\n",
    "        RETURN result\n",
    "```\n"
   ]
  },
  {
   "attachments": {},
   "cell_type": "markdown",
   "metadata": {},
   "source": [
    "###  퀵 정렬\n",
    "\n",
    "주어진 배열을 두 개로 분할하고, 각각을 정렬한다.\n",
    "\n",
    "병합정렬과의 차이점\n",
    "1. 병합 정렬은 그냥 두 부분으로 나누는 반면에, 퀵 정렬은 분할할 때, 기준 아이템(pivot item) 중심으로, 이보다 작은 것은 왼편, 큰 것은 오른편에 위치시킨다.\n",
    "2. 각 부분 정렬이 끝난 후, 병합정렬은 \"병합\"이란 후처리 작업이 필요하나, 퀵 정렬은 필요로 하지 않는다."
   ]
  },
  {
   "attachments": {},
   "cell_type": "markdown",
   "metadata": {},
   "source": [
    "알고리즘\n",
    "\n",
    "```\n",
    "    quickSort(A[],l,r)\n",
    "        if l < r:\n",
    "            s <- partition(a,l,r)\n",
    "            quickSort(A,l,s-1)\n",
    "            quickSort(A,s+1,r)\n",
    "```\n",
    "\n",
    "Hoare-partition 알고리즘\n",
    "\n",
    "```\n",
    "    partition(A[],l,r)\n",
    "        p <- A[l]\n",
    "        i <- l, j <- r\n",
    "        WHILE i<=j\n",
    "            WHILE i<=j AND A[i] <= p : i++\n",
    "            WHILE i<=j AND A[j] >= p : j--\n",
    "            IF i<j : swap(A[i],A[j])\n",
    "\n",
    "        swap(A[l],A[j])\n",
    "        return j\n",
    "```"
   ]
  },
  {
   "attachments": {},
   "cell_type": "markdown",
   "metadata": {},
   "source": [
    "Lomuto partition 알고리즘\n",
    "\n",
    "```\n",
    "    partition(A[],p,r)\n",
    "    x <- A[r]\n",
    "    i <- p - 1\n",
    "\n",
    "    FOR j in p -> r -1\n",
    "        IF A[j] <= x\n",
    "            i++, swqp(A[i],A[j])\n",
    "\n",
    "    swap(A[i+1],A[r])\n",
    "    \n",
    "    RETURN i+1\n",
    "```"
   ]
  },
  {
   "attachments": {},
   "cell_type": "markdown",
   "metadata": {},
   "source": [
    "### 이진 검색\n",
    "\n",
    "자료의 가운데에 있는 항목의 키 값과 비교하여 다음 검색의 위치를 결정하고 검색을 계속 진행하는 방법\n",
    "- 목적 키를 찾을 때까지 이진 검색을 순환적으로 반복 수행함으로써 검색 범위를 반으로 줄여가면서 보다 빠르게 검색을 수행함\n",
    "\n",
    "이진 검색을 하기 위해서는 자료가 정렬된 상태여야 한다"
   ]
  },
  {
   "attachments": {},
   "cell_type": "markdown",
   "metadata": {},
   "source": [
    "##### 검색 과정\n",
    "\n",
    "1. 자료의 중앙에 있는 원소를 고른다.\n",
    "2. 중앙 원소의 값과 찾고자 하는 목표 값을 비교한다.\n",
    "3. 목표 값이 중앙 원소의 값보다 작으면 자료의 왼쪽 반에 대해서 새로 검생을 수행하고, 크다면 자료의 오른쪽 반에 대해서 새로 검색을 수행한다.\n",
    "4. 찾고자 하는 값을 찾을 때까지 1~3의 과정을 반복한다."
   ]
  },
  {
   "cell_type": "code",
   "execution_count": null,
   "metadata": {},
   "outputs": [],
   "source": [
    "def dfs(lvl,b,idx=0,Sum=0):\n",
    "    global Min\n",
    "    if Sum>Min:\n",
    "        return\n",
    "    if lvl==n:\n",
    "        if Sum >= b:\n",
    "            Min = min(Min, Sum)\n",
    "        return\n",
    "    if Sum>=b:\n",
    "        Min = min(Min,Sum)\n",
    "    for i in range(n):\n",
    "        if i>=idx:\n",
    "            dfs(lvl+1,b,i+1,Sum+h_lst[i])\n",
    "\n",
    "\n",
    "for tc in range(1,1+int(input())):\n",
    "    Min=int(28e8)\n",
    "    n,b = map(int,input().split())\n",
    "    h_lst = list(map(int,input().split()))\n",
    "    dfs(0,b)\n",
    "\n",
    "    print(f'#{tc} {Min-b}')"
   ]
  },
  {
   "cell_type": "markdown",
   "metadata": {},
   "source": []
  },
  {
   "cell_type": "markdown",
   "metadata": {},
   "source": []
  },
  {
   "cell_type": "code",
   "execution_count": null,
   "metadata": {},
   "outputs": [],
   "source": [
    "# merge sort(교수님)\n",
    "\n",
    "arr=[3,4,1,7,2,9,8,3]\n",
    "result=[0]*8\n",
    "def merge(start,end):\n",
    "    mid=(start+end)//2\n",
    "    if start>=end: return\n",
    "\n",
    "    merge(start,mid)\n",
    "    merge(mid+1,end)\n",
    "\n",
    "    a=start\n",
    "    b=mid+1\n",
    "    index=0\n",
    "\n",
    "    while 1:\n",
    "        if a>mid and b>end: break\n",
    "        if a>mid:\n",
    "            result[index]=arr[b]\n",
    "            index+=1\n",
    "            b+=1\n",
    "        elif b>end:\n",
    "            result[index]=arr[a]\n",
    "            index+=1\n",
    "            a+=1\n",
    "        elif arr[a]<=arr[b]:\n",
    "            result[index]=arr[a]\n",
    "            index+=1\n",
    "            a+=1\n",
    "        else:\n",
    "            result[index]=arr[b]\n",
    "            index+=1\n",
    "            b+=1\n",
    "    for i in range(index):\n",
    "        arr[start+i]=result[i]\n",
    "\n",
    "merge(0,7)\n",
    "\n",
    "print(*arr)"
   ]
  },
  {
   "cell_type": "code",
   "execution_count": null,
   "metadata": {},
   "outputs": [],
   "source": [
    "# 직접 짠 코드\n",
    "A = list(map(int,input().split()))\n",
    "B = list(map(int,input().split()))\n",
    "result = []\n",
    "\n",
    "def merge_sort(l_lst,result,r_lst):\n",
    "    if l_lst==[]:\n",
    "        result+=r_lst\n",
    "        l_lst = []\n",
    "        return result\n",
    "    elif r_lst==[]:\n",
    "        result+=l_lst\n",
    "        r_lst = []\n",
    "        return result\n",
    "    else:\n",
    "        if l_lst[0] <= r_lst[0]:\n",
    "            result.append(l_lst.pop(0))\n",
    "        elif l_lst[0] >= r_lst[0]:\n",
    "            result.append(r_lst.pop(0))\n",
    "    return merge_sort(l_lst,result,r_lst)\n",
    "\n",
    "print(*merge_sort(A,result,B))"
   ]
  },
  {
   "cell_type": "code",
   "execution_count": 3,
   "metadata": {},
   "outputs": [
    {
     "name": "stdout",
     "output_type": "stream",
     "text": [
      "3 1 3 4 6 9 7 6\n"
     ]
    }
   ],
   "source": [
    "# 퀵 핵심 코드\n",
    "\n",
    "arr=list(map(int,input().split()))\n",
    "pivot=arr[0]\n",
    "a=1\n",
    "b=len(arr)-1\n",
    "\n",
    "while 1:\n",
    "    while a<len(arr) and arr[a]<=pivot:\n",
    "        a+=1\n",
    "    while b>0 and arr[b]>pivot:\n",
    "        b-=1\n",
    "    if a>b: break\n",
    "    arr[a],arr[b]=arr[b],arr[a]\n",
    "arr[b],arr[0]=arr[0],arr[b]\n",
    "print(*arr)"
   ]
  },
  {
   "cell_type": "code",
   "execution_count": 12,
   "metadata": {},
   "outputs": [
    {
     "name": "stdout",
     "output_type": "stream",
     "text": [
      "1 3 3 4 6 6 7 9\n"
     ]
    }
   ],
   "source": [
    "# 퀵 소트\n",
    "\n",
    "arr = [4,1,7,9,6,3,3,6]\n",
    "\n",
    "def quicksort(st,ed):\n",
    "    if st>=ed: return\n",
    "\n",
    "    pivot = st\n",
    "    a = st+1\n",
    "    b = ed\n",
    "\n",
    "    while 1:\n",
    "        while a<=ed and arr[a]<=arr[pivot]: a+=1\n",
    "        while b>=st and arr[b]>arr[pivot]: b-=1\n",
    "        if a>b: break\n",
    "        arr[a],arr[b] = arr[b],arr[a]\n",
    "\n",
    "    arr[pivot],arr[b] = arr[b],arr[pivot]\n",
    "\n",
    "    quicksort(st,b-1)\n",
    "    quicksort(b+1,ed)\n",
    "    \n",
    "quicksort(0,7)\n",
    "print(*arr)"
   ]
  },
  {
   "cell_type": "code",
   "execution_count": 11,
   "metadata": {},
   "outputs": [
    {
     "name": "stdout",
     "output_type": "stream",
     "text": [
      "1 3 3 4 6 6 7 9\n"
     ]
    }
   ],
   "source": [
    "# 퀵 소트 \n",
    "\n",
    "arr=[4,1,7,9,6,3,3,6]\n",
    "\n",
    "\n",
    "def quick(start,end):\n",
    "    if start>=end: return\n",
    "\n",
    "    pivot=start\n",
    "    a=start+1\n",
    "    b=end\n",
    "    while 1:\n",
    "        while a<=end and arr[a]<=arr[pivot]: a+=1\n",
    "        while b>=start and arr[b]>arr[pivot]: b-=1\n",
    "        if a>b: break\n",
    "        arr[a],arr[b]=arr[b],arr[a]\n",
    "\n",
    "    arr[pivot],arr[b]=arr[b],arr[pivot]\n",
    "\n",
    "    quick(start,b-1)\n",
    "    quick(b+1,end)\n",
    "\n",
    "quick(0,7)\n",
    "print(*arr)"
   ]
  }
 ],
 "metadata": {
  "kernelspec": {
   "display_name": "Python 3",
   "language": "python",
   "name": "python3"
  },
  "language_info": {
   "codemirror_mode": {
    "name": "ipython",
    "version": 3
   },
   "file_extension": ".py",
   "mimetype": "text/x-python",
   "name": "python",
   "nbconvert_exporter": "python",
   "pygments_lexer": "ipython3",
   "version": "3.9.12"
  },
  "orig_nbformat": 4
 },
 "nbformat": 4,
 "nbformat_minor": 2
}
