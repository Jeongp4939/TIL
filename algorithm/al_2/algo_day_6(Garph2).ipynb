{
 "cells": [
  {
   "attachments": {},
   "cell_type": "markdown",
   "metadata": {},
   "source": [
    "# 알고리즘 6일차\n",
    "\n",
    "### 서로소 집합(Disjoint-sets)\n",
    "서로소 또는 상호 배타 집합들은 서로 중복 포함된 원소가 없는 집합들이다. 다시 말해 교집합이 없다.\n",
    "\n",
    "집합에 속한 하나의 특정 멤버를 통해 각 집합들을 구분한다. 이를 대표자(representative)라 한다."
   ]
  },
  {
   "attachments": {},
   "cell_type": "markdown",
   "metadata": {},
   "source": [
    "상호배타 집합을 표현하는 방법\n",
    "- 연결 리스트\n",
    "- 트리\n",
    "\n",
    "상호배타 집합 연산\n",
    "- Make-Set(x)\n",
    "- Find-Set(x)\n",
    "- Union(x,y)"
   ]
  },
  {
   "attachments": {},
   "cell_type": "markdown",
   "metadata": {},
   "source": [
    "### 연결리스트\n",
    "같은 집합의 원소들은 하난의 연결리스트로 관리한다.\n",
    "\n",
    "연결리스트의 맨 앞의 원소를 집합의 대표 원소로 삼는다\n",
    "\n",
    "각 원소는 집합의 대표원소를 가리키는 링크를 갖는다"
   ]
  },
  {
   "attachments": {},
   "cell_type": "markdown",
   "metadata": {},
   "source": [
    "### 트리\n",
    "하나의 집합(a disjoint set)을 하나의 트리로 표현한다.\n",
    "\n",
    "자식 노드가 부모 노드를 가리키며 루트 노드가 대표자가 된다.\n",
    "\n",
    "\n",
    "Make-Set(x) : 유일한 멤버 x를 포함하는 새로운 집합을 생성하는 연산\n",
    "```\n",
    "    Make-Set(x)\n",
    "        p[x]<-x\n",
    "```\n",
    "\n",
    "Find-Set(x) : x를 포함하는 집합을 찾는 연산\n",
    "```\n",
    "    Find-Set(x)\n",
    "        IF x == p[x] : RETURN x\n",
    "        ELSE         : RETURN Find_Set(p[x])\n",
    "```\n",
    "\n",
    "Union(x,y) : x와 y를 포함하는 두 집합을 통합하는 연산\n",
    "```\n",
    "    Union(x,y)\n",
    "        p[Find-set(y)] <- Find-Set(x)\n",
    "```\n",
    "\n",
    "참고\n",
    "Find_Set(x) : x를 포함하는 집합을 찾는 연산(반복)\n",
    "```\n",
    "    Find-Set(x)\n",
    "        while x != p[x]\n",
    "            x = p[x]\n",
    "        return x\n",
    "```"
   ]
  },
  {
   "attachments": {},
   "cell_type": "markdown",
   "metadata": {},
   "source": [
    "### 상호배타집합에 대한 연산\n",
    "연산의 효율을 높이는 방법\n",
    "- Rank를 이용한 Union\n",
    "    - 각 노드는 자신을 루트로 하는 subtree의 높이를 랭크 Rank라는 이름으로 저장한다.\n",
    "    - 두 집합을 합칠 때 rank가 낮은 집합을 rank가 높은 집합에 붙인다\n",
    "- path compression\n",
    "    - Find-Set을 행하는 과정에서 만나는 모든 노드들이 직접 root를 가리키도록 포인터를 바꿔준다"
   ]
  },
  {
   "attachments": {},
   "cell_type": "markdown",
   "metadata": {},
   "source": [
    "Make_Set 연산\n",
    "- Make_Set(x): 유일한 멤버 x를 포함하는 새로운 집합을 생성하는 연산\n",
    "\n",
    "    ```\n",
    "        p[x] : 노드 x의 부모 저장\n",
    "        rank[x] : 루트 노드가 x인 트리의 랭크 값 저장\n",
    "\n",
    "        Make_Set(x)\n",
    "            p[x] <- x\n",
    "            rank[x] <- 0\n",
    "    ```"
   ]
  },
  {
   "attachments": {},
   "cell_type": "markdown",
   "metadata": {},
   "source": [
    "Find_Set 연산\n",
    "- Find_Set(x) : x를 포함하는 집합을 찾는 오퍼레이션\n",
    "\n",
    "    ```\n",
    "        Find_Set(x)\n",
    "            IF x != p[x]    // x가 루트가 아닌 경우\n",
    "                    p[x] <- Find_Set(p[x])\n",
    "            RETURN p[x]\n",
    "    ```\n",
    "\n",
    "- Find_Set 연산은 특정 노드에서 루트까지의 경로를 찾아가면서 노드의 부모 정보를 갱신한다"
   ]
  },
  {
   "attachments": {},
   "cell_type": "markdown",
   "metadata": {},
   "source": [
    "Union 연산\n",
    "- Union(x,y) : x와 y를 포함하는 두 집합을 통합하는 오퍼레이션\n",
    "    ```\n",
    "        Union(x,y)\n",
    "            Link(Find_Set(x), Find_Set(y))\n",
    "    ```\n",
    "\n",
    "    ```\n",
    "        Link(x,y)\n",
    "            IF rank[x] > rank[y]\n",
    "                p[y] <- x\n",
    "            ELSE\n",
    "                p[x] <- y\n",
    "                IF rank[x] == rank[y]\n",
    "                    rank[y]++\n",
    "    ```"
   ]
  },
  {
   "attachments": {},
   "cell_type": "markdown",
   "metadata": {},
   "source": [
    "### 최소 신장 트리(MST)\n",
    "\n",
    "그래프에서 최소 비용 문제\n",
    "1. 모든 정점을 연결하는 간선들의 가중치의 합이 최소가 되는 트리\n",
    "2. 두 정점 사이의 최소 비용의 경로 찾기\n",
    "\n",
    "신장 트리\n",
    "- n개의 정점으로 이루어진 `무방향 그래프`에서 n개의 정점과 n-1개의 간선으로 이루어진 트리\n",
    "\n",
    "최소 신장 트리(Minimum Spanning Tree)\n",
    "- `무방향 가중치 그래프`에서 신장 트리를 구성하는 간선들의 가중치의 합이 최소인 신장 트리"
   ]
  },
  {
   "attachments": {},
   "cell_type": "markdown",
   "metadata": {},
   "source": [
    "### Prim 알고리즘\n",
    "하나의 정점에서 연결된 간선들 중에 하나씩 선택하면서 MST를 만들어 가는 방식\n",
    "1. 임의 정점을 하나 선택해서 시작\n",
    "2. 선택한 정점과 인접하는 정점들 중의 최소 비용의 간선이 존재하는 정점을 선택\n",
    "3. 모든 정점이 선택될 떄 까지 1,2 과정을 반복\n",
    "\n",
    "서로소인 2개의 집합(2disjoint-sets) 정보를 유지\n",
    "- 트리 정점들(tree vertices) - MST를 만들기 위해 선택된 정점들\n",
    "- 비트리 정점들(nontree vertices) - 선택 되지 않은 정점들"
   ]
  },
  {
   "attachments": {},
   "cell_type": "markdown",
   "metadata": {},
   "source": [
    "알고리즘\n",
    "\n",
    "```\n",
    "    MST_PRIM(G,r)                   //G:그래프, r: 시작 정점\n",
    "        FOR u in G.V\n",
    "            u.key <- INF            // u.key: u에 연결된 간선 중 최소 가중치\n",
    "            u.(pi) <- NULL          // u.(pi) : 트리에서 u의 부모\n",
    "        r.key <- 0\n",
    "        Q <- G.V                    // 우선순위 Q에 모든 정점을 넣는다\n",
    "        WHILE Q != 0                // 빈 Q가 아닐 동안 반복\n",
    "            u <- Extract_MIN(Q)     // key 값이 가장 작은 정점 가져오기\n",
    "            FOR v in G.Adj[u]       // u의 인접 정점들\n",
    "                IF v in Q AND w(u,v) < v.key    // Q에 있는 v의 key값 생성\n",
    "                    v.(pi) <- u\n",
    "                    v.key <- w(u,v)\n",
    "```"
   ]
  },
  {
   "attachments": {},
   "cell_type": "markdown",
   "metadata": {},
   "source": [
    "### KRUSKAL 알고리즘\n",
    "간선을 하나씩 선택해서 MST를 찾는 알고리즘\n",
    "1. 최초, 모든 간선을 가중치에 따라 오름차순으로 정렬\n",
    "2. 가중치가 가장 낮은 간선부터 선택하면서 트리를 증가시킴\n",
    "    - 사이클이 존재하면 다음으로 가중치가 낮은 간선 선택\n",
    "3. n-1개의 간선이 선택될 때까지 2를 반복"
   ]
  },
  {
   "attachments": {},
   "cell_type": "markdown",
   "metadata": {},
   "source": [
    "알고리즘\n",
    "```\n",
    "    MST-KRUSKAL(G,w)\n",
    "        A <- 0                  // 0 : 공집합\n",
    "        FOR vertex v in G.V     // G.v : 그래프의 정점 집합\n",
    "            Make_Set(v)         // G.E : 그래프의 간선 집합\n",
    "        G.E에 포함된 간선들을 가중치 w에 의해 정렬\n",
    "\n",
    "        FOR 가중치가 가장 낮은 간선 (u,v) in G.E 선택(n-1개)\n",
    "            IF Finde_Set(u) != Find_Set(v)\n",
    "                A <- A U(합집합) {(u,v)}\n",
    "                Union(u,v);\n",
    "        RETURN A\n",
    "```"
   ]
  },
  {
   "attachments": {},
   "cell_type": "markdown",
   "metadata": {},
   "source": [
    "### 최단 경로\n",
    "최단 경로 정의\n",
    "- 간선의 가중치가 있는 그래프에서 두 정점 사이의 경로들 중에 간선의 가중치의 합이 최소인 경로\n",
    "\n",
    "하나의 시작 정점에서 끝 정점까지의 최단경로\n",
    "- 다익스트라(dijkstra) 알고리즘\n",
    "    - 음의 가중치를 허용하지 않음\n",
    "- 벤만-포드(Bellman-Ford)알고리즘\n",
    "    - 음의 가중치 허용\n",
    "\n",
    "모든 정점들에 대한 최단 경로\n",
    "    - 플로이드-워샬(Floyd-Warchall)알고리즘"
   ]
  },
  {
   "attachments": {},
   "cell_type": "markdown",
   "metadata": {},
   "source": [
    "### Dijkstra 알고리즘\n",
    "시작 정점에서 거리가 최소인 정점을 선택해 나가면서 최단 경로를 구하는 방식이다.\n",
    "\n",
    "시작 점점(s)에서 끝 정점(t)까지의 최단 경로에 정점 x가 존재한다\n",
    "\n",
    "이때, 최단 경로는 s에서 x까지의 최단 경로와 x에서 t까지의 최단경로로 구성된다.\n",
    "\n",
    "탐욕 기법을 사용한 알고리즘으로 MST의 프림 알고리즘과 유사하다"
   ]
  },
  {
   "cell_type": "markdown",
   "metadata": {},
   "source": []
  },
  {
   "cell_type": "markdown",
   "metadata": {},
   "source": []
  },
  {
   "cell_type": "markdown",
   "metadata": {},
   "source": []
  },
  {
   "cell_type": "markdown",
   "metadata": {},
   "source": []
  },
  {
   "attachments": {},
   "cell_type": "markdown",
   "metadata": {},
   "source": [
    "![Alt text](floydwarshalll.PNG)"
   ]
  },
  {
   "attachments": {},
   "cell_type": "markdown",
   "metadata": {},
   "source": [
    "### Floyd-Warshall"
   ]
  },
  {
   "cell_type": "code",
   "execution_count": 1,
   "metadata": {},
   "outputs": [
    {
     "name": "stdout",
     "output_type": "stream",
     "text": [
      "0 5 11 8 \n",
      "7 0 9 13 \n",
      "2 7 0 4 \n",
      "5 10 3 0 \n"
     ]
    }
   ],
   "source": [
    "inf=int(21e8)\n",
    "arr=[\n",
    "    [0,5,inf,8],\n",
    "    [7,0,9,inf],\n",
    "    [2,inf,0,4],\n",
    "    [inf,inf,3,0]\n",
    "]\n",
    "\n",
    "for ky in range(4):\n",
    "    for si in range(4):\n",
    "        for do in range(4):\n",
    "            if arr[si][do]>arr[si][ky]+arr[ky][do]:\n",
    "                arr[si][do]=arr[si][ky]+arr[ky][do]\n",
    "\n",
    "for i in range(4):\n",
    "    for j in range(4):\n",
    "        print(arr[i][j],end=' ')\n",
    "    print()"
   ]
  },
  {
   "attachments": {},
   "cell_type": "markdown",
   "metadata": {},
   "source": [
    "연습해볼만한 문제\n",
    "백준 11403 경로찾기\n",
    "백준 11404 가장빠른버스노선구하기\n",
    "백준 2458 키순서"
   ]
  },
  {
   "cell_type": "code",
   "execution_count": 4,
   "metadata": {},
   "outputs": [
    {
     "name": "stdout",
     "output_type": "stream",
     "text": [
      "no anagram\n"
     ]
    }
   ],
   "source": [
    "# 문자열 2개 입력받고 입력받은 두 문자열이 anagram 관계인지 확인하기\n",
    "\n",
    "arr1 = input()\n",
    "arr2 = input()\n",
    "\n",
    "# result = \"anagram\" if sorted(arr1)==sorted(arr2) else \"no anagram\"\n",
    "\n",
    "dic1 = {}\n",
    "dic2 = {}\n",
    "\n",
    "for i in arr1:\n",
    "    if i in dic1:\n",
    "        dic1[i] +=1\n",
    "    else:\n",
    "        dic1[i] = 1\n",
    "\n",
    "for i in arr2:\n",
    "    if i in dic2:\n",
    "        dic2[i] +=1\n",
    "    else:\n",
    "        dic2[i] = 1\n",
    "\n",
    "result = \"anagram\"\n",
    "for i in dic1.keys():\n",
    "    if i in dic2.keys():\n",
    "        if dic1[i]==dic2[i]:\n",
    "            continue\n",
    "        else:\n",
    "            result = \"no anagram\"\n",
    "            break\n",
    "    else:\n",
    "        result = \"no anagram\"\n",
    "        break\n",
    "\n",
    "print(result)"
   ]
  },
  {
   "cell_type": "code",
   "execution_count": 8,
   "metadata": {},
   "outputs": [
    {
     "name": "stdout",
     "output_type": "stream",
     "text": [
      "2\n"
     ]
    }
   ],
   "source": [
    "# 문자열 2개를 입력 받고 최소 몇개의 글자를 지우면 두 문자열이 anagram이 되나요(두 문자열은 반드시 1개의 애너그램이 존재한다고 가정)\n",
    "\n",
    "arr1 = input()\n",
    "arr2 = input()\n",
    "\n",
    "if len(arr1) < len(arr2):\n",
    "    arr1,arr2 = arr2,arr1\n",
    "\n",
    "dic1 = {}\n",
    "dic2 = {}\n",
    "\n",
    "for i in arr1:\n",
    "    if i in dic1:\n",
    "        dic1[i] +=1\n",
    "    else:\n",
    "        dic1[i] = 1\n",
    "\n",
    "for i in arr2:\n",
    "    if i in dic2:\n",
    "        dic2[i] +=1\n",
    "    else:\n",
    "        dic2[i] = 1\n",
    "\n",
    "cnt=0\n",
    "\n",
    "for i in dic1.keys():\n",
    "    if i in dic2.keys():\n",
    "        if dic1[i]==dic2[i]:\n",
    "            continue\n",
    "        else:\n",
    "            cnt += abs(dic1[i]-dic2[i])\n",
    "    else:\n",
    "        cnt += dic1[i]\n",
    "\n",
    "print(cnt)\n",
    "\n"
   ]
  },
  {
   "cell_type": "code",
   "execution_count": null,
   "metadata": {},
   "outputs": [],
   "source": [
    "arr1 = input()\n",
    "arr2 = input()\n",
    "\n",
    "dat = [0]*26\n",
    "\n",
    "for i in arr1:\n",
    "    dat[ord(i)-ord('a')]+=1\n",
    "for i in arr2:\n",
    "    dat[ord(i)-ord('a')]-=1\n",
    "\n",
    "cnt = 0\n",
    "for i in range(26):\n",
    "    if dat[i]:\n",
    "        cnt+=abs(dat[i])\n",
    "print(cnt)\n"
   ]
  },
  {
   "cell_type": "code",
   "execution_count": 21,
   "metadata": {},
   "outputs": [
    {
     "name": "stdout",
     "output_type": "stream",
     "text": [
      "2\n"
     ]
    }
   ],
   "source": [
    "# arr1 sort 한 것이랑 arr2 sort 비교( sliding window )\n",
    "\n",
    "arr1=input()\n",
    "arr2=input()\n",
    "cnt=0\n",
    "for i in range(len(arr2)-len(arr1)+1):\n",
    "    if sorted(arr1)==sorted(arr2[i:i+len(arr1)]):\n",
    "        cnt+=1\n",
    "print(cnt)\n"
   ]
  },
  {
   "attachments": {},
   "cell_type": "markdown",
   "metadata": {},
   "source": [
    "# 위상정렬\n",
    "![Alt text](topological_sort.PNG)"
   ]
  },
  {
   "cell_type": "code",
   "execution_count": null,
   "metadata": {},
   "outputs": [],
   "source": [
    "# 위상정렬\n",
    "\n",
    "from collections import deque\n",
    "name=['cs','language','datastructure','algorithm','project','codingtest','to be a programmer']\n",
    "arr=[\n",
    "    [0,0,0,0,0,0,1],\n",
    "    [0,0,1,1,0,0,0],\n",
    "    [0,0,0,0,0,1,0],\n",
    "    [0,0,0,0,0,1,0],\n",
    "    [0,0,0,0,0,0,1],\n",
    "    [0,0,0,0,0,0,1],\n",
    "    [0,0,0,0,0,0,0]]\n",
    "\n",
    "acc=[0]*7   # 사전 작업 개수\n",
    "used=[0]*7  # 작업 들어갈지 check\n",
    "\n",
    "q=deque()\n",
    "for j in range(7):     # acc 배열에 사전 작업 개수 넣기\n",
    "    for i in range(7):\n",
    "        if arr[i][j]==1:\n",
    "            acc[j]+=1\n",
    "\n",
    "for i in range(7):    # 바로 작업 착수 가능한 것들은 used에 1 체크하고 큐에 등록\n",
    "    if acc[i]==0:\n",
    "        used[i]=1\n",
    "        q.append(i)\n",
    "\n",
    "while q:\n",
    "    now=q.popleft()\n",
    "    print(name[now],end=' ')\n",
    "    for i in range(7):\n",
    "        if arr[now][i]==1 and used[i]==0:\n",
    "            if acc[i]==1:\n",
    "                used[i]=1\n",
    "                acc[i]-=1\n",
    "                q.append(i)\n",
    "            else:\n",
    "                acc[i]-=1\n"
   ]
  }
 ],
 "metadata": {
  "kernelspec": {
   "display_name": "Python 3",
   "language": "python",
   "name": "python3"
  },
  "language_info": {
   "codemirror_mode": {
    "name": "ipython",
    "version": 3
   },
   "file_extension": ".py",
   "mimetype": "text/x-python",
   "name": "python",
   "nbconvert_exporter": "python",
   "pygments_lexer": "ipython3",
   "version": "3.9.12"
  },
  "orig_nbformat": 4
 },
 "nbformat": 4,
 "nbformat_minor": 2
}
