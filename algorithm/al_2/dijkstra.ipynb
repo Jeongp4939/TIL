{
 "cells": [
  {
   "cell_type": "code",
   "execution_count": 2,
   "metadata": {},
   "outputs": [
    {
     "name": "stdout",
     "output_type": "stream",
     "text": [
      "0 3 5 6 4\n"
     ]
    }
   ],
   "source": [
    "# Dijkstra's Algorithm\n",
    "\n",
    "name = 'ABCEDE'\n",
    "inf = int(21e8)\n",
    "arr=[\n",
    "    [0,3,inf,9,5],\n",
    "    [inf,0,7,inf,1],\n",
    "    [inf,inf,0,1,inf],\n",
    "    [inf,inf,inf,0,inf],\n",
    "    [inf,inf,1,inf,0],\n",
    "    ]\n",
    "\n",
    "used = [0]*5 # 경유지 선택 여부 체크\n",
    "result = [0,3,inf,9,5] # 시작점에서 모든 정점까지 최소비용 갱신 테이블\n",
    "used[0]=1 # A에서 시작할 것이므로 0번 인덱스에 1 체크\n",
    "\n",
    "def select_ky():\n",
    "    Min = int(21e8)\n",
    "    Minindex=0\n",
    "    for i in range(5):\n",
    "        if used[i]==0 and result[i]<Min:    # 경유지로 선택한 적이 없고\n",
    "            Min=result[i]                   # 시작점에서 경유지까지 드는 비용 중 최소비용이 드는 곳을\n",
    "            Minindex=i                      # 우선적으로 경유지로 선택\n",
    "    return Minindex\n",
    "\n",
    "def dijkstra():\n",
    "    # 경유지 선택\n",
    "    for i in range(4):\n",
    "        via = select_ky()\n",
    "        used[via] = 1\n",
    "    \n",
    "    # 경유지 선택 후 모든 정점까지의 최소비용 갱신하기\n",
    "        for j in range(5):\n",
    "            baro = result[j]                # 시작점에서 다른 모든 정점까지 비용\n",
    "            ky = result[via]+arr[via][j]    # 시작점 -> 경유지 + 경유지->도착점\n",
    "            if ky<baro:\n",
    "                result[j] = ky\n",
    "\n",
    "dijkstra()\n",
    "\n",
    "print(*result)"
   ]
  }
 ],
 "metadata": {
  "kernelspec": {
   "display_name": "Python 3",
   "language": "python",
   "name": "python3"
  },
  "language_info": {
   "codemirror_mode": {
    "name": "ipython",
    "version": 3
   },
   "file_extension": ".py",
   "mimetype": "text/x-python",
   "name": "python",
   "nbconvert_exporter": "python",
   "pygments_lexer": "ipython3",
   "version": "3.9.12"
  },
  "orig_nbformat": 4
 },
 "nbformat": 4,
 "nbformat_minor": 2
}
