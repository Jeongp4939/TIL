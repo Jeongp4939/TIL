{
 "cells": [
  {
   "attachments": {},
   "cell_type": "markdown",
   "metadata": {},
   "source": [
    "# 알고리즘 4일 차"
   ]
  },
  {
   "cell_type": "code",
   "execution_count": null,
   "metadata": {},
   "outputs": [],
   "source": [
    "# 최대 공약수 (LCD)\n",
    "# 38 8\n",
    "# 2 부터 8까지의 수로 두 수를 나누었을 때\n",
    "# 각각 0으로 떨어지는 수 들 중에서 가장 큰 수\n",
    "\n",
    "answer = 0\n",
    "a,b = map(int,input().split())\n",
    "for i in range(2,min(a,b)+1):\n",
    "    if a%i == 0 and b%i == 0:\n",
    "        answer = i\n",
    "print(answer)"
   ]
  },
  {
   "cell_type": "code",
   "execution_count": 7,
   "metadata": {},
   "outputs": [
    {
     "name": "stdout",
     "output_type": "stream",
     "text": [
      "5\n"
     ]
    }
   ],
   "source": [
    "# 유클리드 호제법( 최대공약수를 구하는 알고리즘 )\n",
    "\n",
    "anwer = 0\n",
    "a,b = map(int,input().split())\n",
    "def gcd(a,b):\n",
    "    while b:\n",
    "        answer = a%b\n",
    "        a=b\n",
    "        b=answer\n",
    "    return a\n",
    "print(gcd(a,b))\n"
   ]
  },
  {
   "cell_type": "code",
   "execution_count": 10,
   "metadata": {},
   "outputs": [
    {
     "name": "stdout",
     "output_type": "stream",
     "text": [
      "10\n"
     ]
    }
   ],
   "source": [
    "# 최소공배수(LCM : Least commom mutiple)\n",
    "# a,b의 최소 공배수를 구하자\n",
    "\n",
    "def lcm(a,b):\n",
    "    return gcd(a,b)*(a//gcd(a,b))*(b//gcd(a,b))\n",
    "print(lcm(a,b))"
   ]
  },
  {
   "cell_type": "code",
   "execution_count": null,
   "metadata": {},
   "outputs": [],
   "source": [
    "# prime number 구하기\n",
    "# 숫자 하나 입력 받으면\n",
    "# 입력 받은 그 숫자가 소수인지 아닌지 출력\n",
    "# 소수 : 1과 자기 자신으로만 나눌 수 있는 수\n",
    "\n",
    "a = int(input())\n",
    "for i in range(2,a):\n",
    "    if a%i == 0:\n",
    "        flag = 1\n",
    "        break\n",
    "if flag:\n",
    "    print('소수아님')\n",
    "else:\n",
    "    print('소수임')"
   ]
  },
  {
   "cell_type": "code",
   "execution_count": null,
   "metadata": {},
   "outputs": [],
   "source": [
    "# prime number 소수 구하기\n",
    "#\n",
    "# 숫자 하나 입력 받으면\n",
    "# 입력받은 그 숫자가 소수 인지 아닌지 출력해주세요.\n",
    "# 소수- 1과 자기 자신으로만 나눌 수 있는 수\n",
    "#\n",
    "# a=int(input())\n",
    "# flag=0\n",
    "# for i in range(2,a):\n",
    "#     if a%i==0:\n",
    "#         flag=1\n",
    "#         break\n",
    "# if flag: print('소수아님')\n",
    "# else: print('소수임')\n",
    "#\n",
    "# 에라토스테네스의 체\n",
    "# 숫자 하나 입력 받은후 입력받은 숫자보다 작은 소수들 모두 출력하시오\n",
    "\n",
    "a=int(input())\n",
    "check=[1]*(a+1)\n",
    "answer=[]\n",
    "\n",
    "for i in range(2,a+1):\n",
    "    if check[i]==1:\n",
    "        answer.append(i)\n",
    "    for j in range(i+i,a+1,i):\n",
    "        check[j]=0\n",
    "print(*answer)\n"
   ]
  },
  {
   "cell_type": "code",
   "execution_count": 18,
   "metadata": {},
   "outputs": [
    {
     "name": "stdout",
     "output_type": "stream",
     "text": [
      "2 3 5 7 11 13 17 19 23 29 31 37 41 43 47 53 59 61 67 71 73 79 83 89 97\n"
     ]
    }
   ],
   "source": [
    "import math\n",
    "a=int(input())\n",
    "check=[1]*(a+1)\n",
    "answer=[]\n",
    "\n",
    "for i in range(2,int(math.sqrt(a))+1):\n",
    "    if check[i]==0: continue\n",
    "    for j in range(i+i,a+1,i):\n",
    "        check[j]=0\n",
    "\n",
    "for i in range(2,a+1):\n",
    "    if check[i]==1:\n",
    "        print(i,end=' ')\n"
   ]
  }
 ],
 "metadata": {
  "kernelspec": {
   "display_name": "Python 3",
   "language": "python",
   "name": "python3"
  },
  "language_info": {
   "codemirror_mode": {
    "name": "ipython",
    "version": 3
   },
   "file_extension": ".py",
   "mimetype": "text/x-python",
   "name": "python",
   "nbconvert_exporter": "python",
   "pygments_lexer": "ipython3",
   "version": "3.9.12"
  },
  "orig_nbformat": 4
 },
 "nbformat": 4,
 "nbformat_minor": 2
}
