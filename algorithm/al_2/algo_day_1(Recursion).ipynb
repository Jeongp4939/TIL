{
 "cells": [
  {
   "attachments": {},
   "cell_type": "markdown",
   "metadata": {},
   "source": [
    "# 다시 돌아온 알고리즘 1일 차"
   ]
  },
  {
   "attachments": {},
   "cell_type": "markdown",
   "metadata": {},
   "source": [
    "반복(Iteration)과 재귀(Recursion)\n",
    "\n",
    "반복과 재귀는 유사한 작업을 수행할 수 있음\n",
    "반복은 수행하는 작업이 완료될 때까지 계속 반복\n",
    "- 루프(for, while 구조)\n",
    "\n",
    "재귀는 주어진 문제의 해를 구하기 위해 동일하면서 더 작은 문제의 해를 이용하는 방법\n",
    "- 하나의 큰 문제를 해결할 수 있는(해결하기 쉬운) 더 작은 문제로 쪼개고 결과들을 결합한다.\n",
    "- 재귀함수로 구현"
   ]
  },
  {
   "attachments": {},
   "cell_type": "markdown",
   "metadata": {},
   "source": [
    "초기화\n",
    "- 반복되는 명령문을 실행하기 전에 (한번만) 조건 검사에 사용할 변수의 초기값 설정\n",
    "- 조건검사(check control expression)\n",
    "- 반복할 명령문 실행(action)\n",
    "- 업데이트(loop update)\n",
    "    - 무한루프(infinite loop)가 되지 않게 조건이 거짓(false)이 되게 한다."
   ]
  },
  {
   "attachments": {},
   "cell_type": "markdown",
   "metadata": {},
   "source": [
    "재귀적 알고리즘\n",
    "- 재귀적 정의는 두 부분으로 나뉜다.\n",
    "- 하나 또는 그 이상의 기본 경우(basis case or rule)\n",
    "    - 집합에 포함되어 있는 원소로 induction을 생성하기 위한 시드(seed)역할\n",
    "- 하나 또는 그 이상의 유도된 경우(inductive case or rule)\n",
    "    - 새로운 집합의 원소를 생성하기 위해 결합되어지는 방법\n"
   ]
  },
  {
   "attachments": {},
   "cell_type": "markdown",
   "metadata": {},
   "source": [
    "재귀 함수(reculsive function)\n",
    "- 함수 내부에서 직접 혹은 간접적으로 자기 자신을 호출하는 함수.\n",
    "- 일반적으로 재귀적 정의를 이용해서 재귀 함수를 구현한다.\n",
    "- 따라서, 기본부분(basis part)와 유도 부분(inductive part)로 구성된다.\n",
    "- 재귀적 프로그램을 작성하는 것은 반복 구조에 비해 간결하고 이해하기 쉽다.\n",
    "    - 그러나, 재귀에 대해 익숙하지 않은 개발자들은 재귀적 프로그램이 어렵다고 느낌\n",
    "- 함수 호출은 프로그램 메모리 구조에서 스택을 사용한다. 따라서 재귀 호출은 반복적인 스택의 사용을 의미하며 메모리 및 속도에서 성능저하가 발생한다."
   ]
  },
  {
   "attachments": {},
   "cell_type": "markdown",
   "metadata": {},
   "source": [
    "해결할 문제를 고려해서 반복이나 재귀의 방법을 선택\n",
    "재귀는 문제 해결을 위한 알고리즘 설계가 간단하고 자연스럽다.\n",
    "- 추상 자료형(List, tree 등) 알고리즘은 재귀적 구현이 간단하고 자연스러운 경우가 많다.\n",
    "- 일반적으로,, 재귀적 알고리즘은 반복(Iterative) 알고리즘보다 더 많은 메모리와 연산을 필요로 한다.\n",
    "- 입력값 n이 커질수록 재귀 알고리즘은 반복에 비해 비효율적일 수 있다."
   ]
  },
  {
   "attachments": {},
   "cell_type": "markdown",
   "metadata": {},
   "source": [
    "Brute-force 탐색(Sequentail search)\n",
    "- 자료들의 리스트에서 키 값을 찾기 위해 첫 번째 자료부터 비교하면서 진행\n",
    "\n",
    "모든 경우의 수를 생성하고 테스트하기 때문에 수행 속도는 느리지만, 해답을 찾아내지 못할 확률이 작다.\n",
    "- 완전검색은 입력의 크기를 작게 해서 간편하고 빠르게 답을 구하는 프로그램을 작성한다.\n",
    "\n",
    "이를 기반으로 그리디 기법이나 동적 계획법을 이용해서 효율적인 알고리즘을 찾을 수 있다.\n",
    "\n",
    "검정 등에서 주어진 문제를 풀 때, 우선 완전 검색으로 접근하여 해답을 도출할 후, 성능 개선을 위해 다른 알고리즘을 사용하고 해답을 확인하는 것이 바람직하다."
   ]
  },
  {
   "attachments": {},
   "cell_type": "markdown",
   "metadata": {},
   "source": [
    "완전 검색\n",
    "- 많은 종류의 문제들이 특정 조건을 만족하는 경우나 요소를 찾는 것이다.\n",
    "- 또한, 이들은 전형적으로 순열(permutation), 조합(combination), 그리고 부분집합(subsets)과 같은 조합적 문제들(Combinatiorial Problems)과 연관된다.\n",
    "- 완전 검색은 조합적 문제에 대한 brute-force 방법이다."
   ]
  },
  {
   "attachments": {},
   "cell_type": "markdown",
   "metadata": {},
   "source": [
    "### 순열\n",
    "서로 다른 것들 중 몇 개를 뽑아서 한 줄로 나열하는 것\n",
    "\n",
    "다수의 알고리즘 문제를 순서화된 요소들의 집합에서 최선의 방법을 찾는 것과 관련 있다.\n",
    "\n",
    "N개의 요소들에 대해서 `n1`개의 순열들이 존재한다.\n",
    "12! = 479,001,600\n",
    "N>12인 경우, 시간 복잡도 폭발적으로 증가\n"
   ]
  },
  {
   "attachments": {},
   "cell_type": "markdown",
   "metadata": {},
   "source": [
    "순열 생성 방법\n",
    "- 사전적 순서\n",
    "- 최소 변경을 통한 방법(Minimum-exchange requirement)\n",
    "    - 각각의 순열들은 이전의 상태에서 단지 두개의 요소들 교환을 통해 생성"
   ]
  },
  {
   "cell_type": "markdown",
   "metadata": {},
   "source": []
  }
 ],
 "metadata": {
  "language_info": {
   "name": "python"
  },
  "orig_nbformat": 4
 },
 "nbformat": 4,
 "nbformat_minor": 2
}
