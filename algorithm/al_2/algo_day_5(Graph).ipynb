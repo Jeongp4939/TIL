{
 "cells": [
  {
   "attachments": {},
   "cell_type": "markdown",
   "metadata": {},
   "source": [
    "# 그래프&백트래킹\n",
    "\n",
    "그래프는 아이템(사물 또는 추상적 개념)들과 이들 사이의 연결 관계를 표현한다.\n",
    "\n",
    "그래프는 정점(Vertex)들의 집합과 이들을 연결하는 간선(Edge)들의 집합으로 구성된 자료구조\n",
    "- [V] : 정점의 개수, [E] : 그래프에 포함된 간선의 개수\n",
    "- [V] 개의 정점을 가지는 그래프는 최대 `[V]([V]-1)/2` 간선이 가능\n",
    "\n",
    "선형 자료구조나 트리 자료구조로 표현하기 어려운 N:N 관계를 가지는 원소들을 표현하기에 용이하다"
   ]
  },
  {
   "attachments": {},
   "cell_type": "markdown",
   "metadata": {},
   "source": [
    "그래프 유형\n",
    "- 무향 그래프(Undirected Graph)\n",
    "- 유향 그래프(Directe Graph)\n",
    "- 가중치 그래프(Weighted Graph)\n",
    "- 사이클 없는 방향 그래프(DAG, Directed Acyclic Graph)"
   ]
  },
  {
   "attachments": {},
   "cell_type": "markdown",
   "metadata": {},
   "source": [
    "완전 그래프\n",
    "- 정점들에 대해 가능한 모든 간선들을 가진 그래프\n",
    "\n",
    "부분 그래프\n",
    "- 원래 그래프에서 일부의 정점이나 간선을 제외한 그래프"
   ]
  },
  {
   "attachments": {},
   "cell_type": "markdown",
   "metadata": {},
   "source": [
    "인접(Adjacency)\n",
    "- 두 개의 정점에 간선이 존재(연결된) 하면 서로 인접해 있다고 한다.\n",
    "- 완전 그래프에 속한 임의의 두 정점들은 모두 인접해 있다."
   ]
  },
  {
   "attachments": {},
   "cell_type": "markdown",
   "metadata": {},
   "source": [
    "### 그래프 경로\n",
    "경로란 간선들을 순서대로 나열한 것\n",
    "- 간선들 : (0,2),(2,4),(4,6)\n",
    "- 정점들 : 0-2-4-6\n",
    "\n",
    "경로 중 한 정점을 최대한 한번만 지나는 경로를 단순경로라 한다.\n",
    "- 0-2-4-6, 0-1-6\n",
    "\n",
    "시작한 정점에서 끝나는 경로를 사이클(Cycle)이라고 한다.\n",
    "- 1-3-5-1\n"
   ]
  },
  {
   "attachments": {},
   "cell_type": "markdown",
   "metadata": {},
   "source": [
    "### 그래프 표현\n",
    "\n",
    "간선의 정보를 저장하는 방식, 메모리나 성능을 고려해서 결정\n",
    "\n",
    "인접 행렬(Adjacent matrix)\n",
    "- [V] X [V] 크기의 2차원 배열을 이용해서 간선 정보를 저장\n",
    "- 배열의 배열(포인터 배열)\n",
    "\n",
    "인접 리스트\n",
    "- 각 정점마다 해당 정점으로 나가는 간선의 정보를 저장\n",
    "\n",
    "간선의 배열\n",
    "- 간선(시작 정점, 끝 정점)을 배열에 연속적으로 저장"
   ]
  },
  {
   "attachments": {},
   "cell_type": "markdown",
   "metadata": {},
   "source": [
    "### 인접 행렬\n",
    "\n",
    "두 정점을 연결하는 간선의 유무를 행렬로 표현\n",
    "- [V] X [V] 정방 행렬\n",
    "- 행 번호와 열 번호는 그래프의 정점에 대응\n",
    "- 두 정점이 인접되어 있으면 1, 그렇지 않으면 0으로 표현\n",
    "- 무향 그래프\n",
    "    - i번째 행의 합 = i번째 열의 합 = Vi의 차수\n",
    "- 유향 그래프\n",
    "    - 행 i의 합 = Vi의 진출 차수\n",
    "    - 열 i의 합 = Vi의 진입 차수"
   ]
  },
  {
   "attachments": {},
   "cell_type": "markdown",
   "metadata": {},
   "source": [
    "### 인접 리스트\n",
    "각 정점에 대한 인접 정점들을 순차적으로 표현\n",
    "\n",
    "하나의 정점에 대한 인접 정점들을 각각 노드로 하는 연결 리스트로 저장"
   ]
  },
  {
   "attachments": {},
   "cell_type": "markdown",
   "metadata": {},
   "source": [
    "### 그래프 순회(탐색)\n",
    "\n",
    "그래프 순회는 비선형구조인 그래프로 표현된 모든 자료(정점)를 빠짐없이 탐색하는 것을 의미\n",
    "\n",
    "두가지 방법\n",
    "- 깊이 우선 탐색(Depth First Search, DFS)\n",
    "- 너비 우선 탐색(Breadth First Search, BFS)"
   ]
  },
  {
   "attachments": {},
   "cell_type": "markdown",
   "metadata": {},
   "source": [
    "### DFS(깊이우선탐색)\n",
    "시작 정점의 한 방향으로 갈 수 있는 경로가 있는 곳까지 깊이 탐색해 가다가 더이상 갈 곳이 없게 되면, 가장 마지막에 만났던 갈림길 간선이 있는 정점으로 되돌아와서 다른 방향의 정점으로 탄색을 계속 반복하여 결국 모든 정점을 방문하는 순회 방법\n",
    "\n",
    "가장 마지막에 만났던 갈림길의 정점으로 되돌아가서 다시 깊이 우선 탐색을 반복해야 하므로 후입선출 구조의 스택 사용"
   ]
  },
  {
   "attachments": {},
   "cell_type": "markdown",
   "metadata": {},
   "source": [
    "### 스택\n",
    "#### 스택(stack)의 특성\n",
    "- 물건을 쌓아 올리듯 자료를 쌓아 올린 형태의 자료구조\n",
    "- 선형구조 : 자료 간의 관계가 1대 1의 관계를 갖는다\n",
    "    - 비선형구조 : 자료 간의 관계가 1대N의 관계를 갖는다\n",
    "- 마지막에 삽입한 자료를 가장 먼저 꺼낸다.\n",
    "    - 후입선출(LIFO, Last-In-First-Out)이라고 부른다"
   ]
  },
  {
   "attachments": {},
   "cell_type": "markdown",
   "metadata": {},
   "source": [
    "#### 스택의 구현\n",
    "\n",
    "스택을 구현하기 위해서 필요한 저장소와 연산\n",
    "- 자료를 선형으로 저장할 저장소\n",
    "    - C언어에서는 배열을 사용할 수 있다.\n",
    "    - 저장소 자체를 스택이라 부르기도 한다.\n",
    "    - 스택에서 마지막 삽입된 원소의 위치를 top이라 부른다.\n",
    "- 연산\n",
    "    - push : 저장소에 자료를 삽입\n",
    "    - pop : 저장소에서 자료를 꺼냄\n",
    "    - isEmpty : 스택이 공백인지 아닌지를 확인\n",
    "    - peek : 스택의 top에 있는 item(원소)를 반환하는 연산"
   ]
  },
  {
   "attachments": {},
   "cell_type": "markdown",
   "metadata": {},
   "source": [
    "### BFS(Bredth First Search)\n",
    "너비우선탐색은 탐색 시작점의 인접한 정점들을 먼저 모두 차례로 방문한 후에, 방문했던 정점을 시작점으로 하여 다시 인접한 정점들을 차례로 방문하는 방식\n",
    "\n",
    "인점한 정점들에 대해 탐색을 한 후, 차례로 다시 너비우선 탐색을 진행해야 하므로, 선입선출 형태의 자료구조인 큐를 활용함"
   ]
  },
  {
   "attachments": {},
   "cell_type": "markdown",
   "metadata": {},
   "source": [
    "### 큐의 특성\n",
    "스택과 마찬가지로 삽입과 삭제의 위치가 제한적인 자료구조\n",
    "- 큐의 뒤에서는 삽입만 하고, 큐의 앞에서는 삭제만 이루어지는 구조\n",
    "\n",
    "큐에 삽입한 순서대로 원소가 저장되어, 가장 먼저 삽입된 원소는 가장 먼저 삭제된다.\n",
    "- 선입선출구조(FIFO: First In First Out)\n"
   ]
  },
  {
   "attachments": {},
   "cell_type": "markdown",
   "metadata": {},
   "source": [
    "큐의 기본 연산\n",
    "- 삽입 : enQueue\n",
    "- 삭제 : deQueue"
   ]
  },
  {
   "cell_type": "markdown",
   "metadata": {},
   "source": []
  },
  {
   "attachments": {},
   "cell_type": "markdown",
   "metadata": {},
   "source": [
    "### 우선순위 큐\n",
    "\n"
   ]
  },
  {
   "cell_type": "code",
   "execution_count": 11,
   "metadata": {},
   "outputs": [
    {
     "name": "stdout",
     "output_type": "stream",
     "text": [
      "[1, 11, 14, 81, 13, 61]\n",
      "1 [11, 13, 14, 81, 61]\n",
      "11 [13, 61, 14, 81]\n",
      "13 [14, 61, 81]\n",
      "14 [61, 81]\n",
      "61 [81]\n",
      "81 []\n"
     ]
    }
   ],
   "source": [
    "import heapq\n",
    "\n",
    "arr=[]\n",
    "heapq.heappush(arr,1)\n",
    "heapq.heappush(arr,11)\n",
    "heapq.heappush(arr,61)\n",
    "heapq.heappush(arr,81)\n",
    "heapq.heappush(arr,13)\n",
    "heapq.heappush(arr,14)\n",
    "\n",
    "print(arr)\n",
    "\n",
    "for i in range(len(arr)):\n",
    "    print(heapq.heappop(arr),arr)\n",
    "\n"
   ]
  },
  {
   "cell_type": "code",
   "execution_count": 13,
   "metadata": {},
   "outputs": [
    {
     "name": "stdout",
     "output_type": "stream",
     "text": [
      "[-81, -61, -14, -1, -13, -11]\n",
      "81 [-61, -13, -14, -1, -11]\n",
      "61 [-14, -13, -11, -1]\n",
      "14 [-13, -1, -11]\n",
      "13 [-11, -1]\n",
      "11 [-1]\n",
      "1 []\n"
     ]
    }
   ],
   "source": [
    "import heapq\n",
    "\n",
    "arr=[]\n",
    "heapq.heappush(arr,1*-1)\n",
    "heapq.heappush(arr,11*-1)\n",
    "heapq.heappush(arr,61*-1)\n",
    "heapq.heappush(arr,81*-1)\n",
    "heapq.heappush(arr,13*-1)\n",
    "heapq.heappush(arr,14*-1)\n",
    "\n",
    "print(arr)\n",
    "\n",
    "for i in range(len(arr)):\n",
    "    print(-heapq.heappop(arr),arr)\n",
    "\n"
   ]
  },
  {
   "cell_type": "code",
   "execution_count": 16,
   "metadata": {},
   "outputs": [
    {
     "name": "stdout",
     "output_type": "stream",
     "text": [
      "88\n",
      "65\n",
      "34\n",
      "23\n",
      "8\n",
      "6\n",
      "4\n",
      "1\n"
     ]
    }
   ],
   "source": [
    "import heapq\n",
    "\n",
    "arr =[88,1,6,8,34,23,4,65]\n",
    "heap = []\n",
    "\n",
    "for i in range(len(arr)):\n",
    "    heapq.heappush(heap,-arr[i])\n",
    "\n",
    "for i in range(len(arr)):\n",
    "    print(-heapq.heappop(heap))"
   ]
  },
  {
   "cell_type": "code",
   "execution_count": 17,
   "metadata": {},
   "outputs": [
    {
     "name": "stdout",
     "output_type": "stream",
     "text": [
      "88\n",
      "65\n",
      "34\n",
      "23\n",
      "8\n",
      "6\n",
      "4\n",
      "1\n"
     ]
    }
   ],
   "source": [
    "# 튜플 이용하기\n",
    "arr = [88,1,6,8,34,23,4,65]\n",
    "heap=[]\n",
    "\n",
    "for i in range(len(arr)):\n",
    "    heapq.heappush(heap,(-arr[i],arr[i]))\n",
    "\n",
    "# print(*heap)\n",
    "for i in range(len(arr)):\n",
    "    print(heapq.heappop(heap)[1])"
   ]
  },
  {
   "cell_type": "code",
   "execution_count": 19,
   "metadata": {},
   "outputs": [
    {
     "name": "stdout",
     "output_type": "stream",
     "text": [
      "1\n",
      "4\n",
      "6\n",
      "8\n",
      "23\n",
      "34\n",
      "65\n",
      "88\n",
      "\n",
      "8\n",
      "8\n",
      "5\n",
      "5\n",
      "4\n",
      "3\n",
      "2\n",
      "1\n"
     ]
    }
   ],
   "source": [
    "import heapq\n",
    "# heapify 이용해 보기\n",
    "\n",
    "arr=[88,1,6,8,34,23,4,65]\n",
    "\n",
    "heapq.heapify(arr)\n",
    "\n",
    "for i in range(len(arr)):\n",
    "    print(heapq.heappop(arr))\n",
    "\n",
    "print()\n",
    "\n",
    "arr2 = [3,8,5,2,8,4,1,5]\n",
    "\n",
    "rev = lambda x:x*-1\n",
    "heap=list(map(rev,arr2))\n",
    "heapq.heapify(heap)\n",
    "\n",
    "for i in range(len(arr2)):\n",
    "    print(-heapq.heappop(heap))"
   ]
  },
  {
   "attachments": {},
   "cell_type": "markdown",
   "metadata": {},
   "source": [
    "heappush -> O(logn)\n",
    "\n",
    "heapify->O(n)\n"
   ]
  },
  {
   "attachments": {},
   "cell_type": "markdown",
   "metadata": {},
   "source": [
    "문제 풀어보기\n",
    "\n",
    "카드 정렬하기\n",
    "\n",
    "정렬된 두 묶음의 숫자 카드가 있다고 하자. 각 묶음의 카드의 수를 A, B라 하면 보통 두 묶음을 합쳐서 하나로 만드는 데에는 A+B 번의 비교를 해야 한다. 이를테면, 20장의 숫자 카드 묶음과 30장의 숫자 카드 묶음을 합치려면 50번의 비교가 필요하다.\n",
    "\n",
    "매우 많은 숫자 카드 묶음이 책상 위에 놓여 있다. 이들을 두 묶음씩 골라 서로 합쳐나간다면, 고르는 순서에 따라서 비교 횟수가 매우 달라진다. 예를 들어 10장, 20장, 40장의 묶음이 있다면 10장과 20장을 합친 뒤, 합친 30장 묶음과 40장을 합친다면 (10 + 20) + (30 + 40) = 100번의 비교가 필요하다. 그러나 10장과 40장을 합친 뒤, 합친 50장 묶음과 20장을 합친다면 (10 + 40) + (50 + 20) = 120 번의 비교가 필요하므로 덜 효율적인 방법이다.\n",
    "\n",
    "N개의 숫자 카드 묶음의 각각의 크기가 주어질 때, 최소한 몇 번의 비교가 필요한지를 구하는 프로그램을 작성하시오.\n",
    "\n",
    "\n",
    "입력`\n",
    "첫째 줄에 N이 주어진다. (1 ≤ N ≤ 100,000) 이어서 N개의 줄에 걸쳐 숫자 카드 묶음의 각각의 크기가 주어진다. 숫자 카드 묶음의 크기는 1,000보다 작거나 같은 양의 정수이다.\n",
    "\n",
    "\n",
    "출력\n",
    "첫째 줄에 최소 비교 횟수를 출력한다.\n",
    "\n",
    "입력\n",
    "4\n",
    "50\n",
    "20\n",
    "70\n",
    "30\n",
    "\n",
    "출력\n",
    "320\n",
    "\n",
    "\n",
    "입력\n",
    "3\n",
    "10\n",
    "20\n",
    "40\n",
    "\n",
    "출력\n",
    "100"
   ]
  },
  {
   "cell_type": "code",
   "execution_count": 35,
   "metadata": {},
   "outputs": [
    {
     "name": "stdout",
     "output_type": "stream",
     "text": [
      "100\n"
     ]
    }
   ],
   "source": [
    "# 백준 1715\n",
    "\n",
    "import heapq\n",
    "\n",
    "n = int(input())\n",
    "card = []\n",
    "\n",
    "for i in range(n):\n",
    "    heapq.heappush(card,int(input()))\n",
    "\n",
    "ans = 0\n",
    "\n",
    "while len(card)>1:\n",
    "    temp1 = heapq.heappop(card)\n",
    "    temp2 = heapq.heappop(card)\n",
    "    ans+=(temp1+temp2)\n",
    "    heapq.heappush(card,temp1+temp2)\n",
    "\n",
    "print(ans)"
   ]
  },
  {
   "attachments": {},
   "cell_type": "markdown",
   "metadata": {},
   "source": [
    "다익스트라는 항상 시작점이 주어진다"
   ]
  },
  {
   "cell_type": "code",
   "execution_count": null,
   "metadata": {},
   "outputs": [],
   "source": [
    "import heapq\n",
    "# 입력받기\n",
    "n = int(input())                    # 정점의 개수 입력\n",
    "m = int(input())                    # 간선의 개수 입력\n",
    "arr=[[] for _ in range(n)]          # 인접 리스트 생성\n",
    "for _ in range(m):                  # 인접리스트에 입력\n",
    "    a,b,c = map(int,input().split())    # a: 출발, b:도착, c:비용\n",
    "    arr[a].append((b,c))\n",
    "start,end = map(int,input().split())        # 문제에서 주어지는 시작점과 도착점\n",
    "\n",
    "#세팅하기\n",
    "name = 'ABCDE'\n",
    "inf=int(21e8)\n",
    "result = [inf]*n\n",
    "result[start]=0\n",
    "heap=[]\n",
    "\n",
    "# Dijkstra\n",
    "\n",
    "def dijkstra(start):\n",
    "    heapq.heappush(heap,(0,start)) # 시작점 index(첫 시작점을 첫 경유지로 놓기 때문), 비용(시작점->경유지까지)\n",
    "    \n",
    "    while heap:                     # 경유지 선택이 끝날때까지\n",
    "        k, sk = heapq.heappop(heap) # k: 경유지, sk : 경유지까지 비용(힙 안에 있는 시작점->경유지)\n",
    "        if result[k] < sk: continue # 이미 갱신되어 있는 값이 뽑은 값보다 작으면 비교할 필요 없음\n",
    "\n",
    "        for i in arr[k]:    # 경유지에서 다른 도착점까지 갈 수 있는 횟수만큼 for문 돌리기(인접행렬 탐색)\n",
    "            cost = sk+i[1]  # cost=시작->경유 + 경유지에서 도착점까지 가는 비용\n",
    "            if cost<result[i[0]]:   # cost : 시->경->도 result[i[0]] 시작점 -> 도착\n",
    "                result[i[0]] = cost # 갱신 해주고\n",
    "                heapq.heappush(heap,(cost,i[0]))    # 힙에 푸시\n",
    "\n",
    "dijkstra(start)\n",
    "print(*result)"
   ]
  },
  {
   "cell_type": "code",
   "execution_count": null,
   "metadata": {},
   "outputs": [],
   "source": [
    "수정본\n",
    "\n",
    "import heapq\n",
    "\n",
    "# 5       # 정점개수\n",
    "# 7       # 간선의 개수\n",
    "# 0 1 3   # 간선의 정보\n",
    "# 0 4 5   # 출발index  도착index  비용\n",
    "# 0 3 9\n",
    "# 1 4 1\n",
    "# 1 2 7\n",
    "# 2 3 1\n",
    "# 4 2 1\n",
    "# 0 3     # 시작점 && 도착지\n",
    "\n",
    "# 입력받기\n",
    "n=int(input()) # 정점개수 입력\n",
    "m=int(input()) # 간선 개수 입력\n",
    "arr=[[] for _ in range(n)] # 인접 리스트 만들어주고\n",
    "for _ in range(m):  # 인접리스트에 입력받기\n",
    "    a,b,c=map(int,input().split()) # a 출발 b 도착 c 비용\n",
    "    arr[a].append((b,c))\n",
    "start,end=map(int,input().split())  # 문제에서 주어지는 시작점과 최종도착점(알고싶은값)\n",
    "\n",
    "# 셋팅하기\n",
    "name='ABCDE'\n",
    "inf=int(21e8)\n",
    "result=[inf]*n\n",
    "result[start]=0 # 시작인덱스를 첫 경유지로 할것 인데.. 시작인덱스에 해당하는 경우지 까지의 비용을 0으로 초기 셋팅\n",
    "heap=[] # 경유지를 뽑은 (우선순위큐로 뽑을) 힙 만들어 놓기\n",
    "\n",
    "\n",
    "def dijkstra(start):\n",
    "    #heapq.heappush(heap,(start,0))\n",
    "    heapq.heappush(heap, (0, start))\n",
    "    while heap: # 경유지 선택이 끝날때 까지\n",
    "\n",
    "        #k,sk = heapq.heappop(heap)\n",
    "        sk,k = heapq.heappop(heap)\n",
    "\n",
    "        if result[k]<sk: continue\n",
    "\n",
    "        for i in arr[k]:\n",
    "            cost=sk+i[1]\n",
    "            if cost<result[i[0]]:\n",
    "                result[i[0]]=cost\n",
    "                heapq.heappush(heap,(cost,i[0])) # 힙에 푸쉬!!\n",
    "                #heapq.heappush(heap,(i[0],cost)) # 힙에 푸쉬!!\n",
    "\n",
    "dijkstra(start)\n",
    "\n",
    "print(*result)\n",
    "print(result[end])\n"
   ]
  }
 ],
 "metadata": {
  "kernelspec": {
   "display_name": "Python 3",
   "language": "python",
   "name": "python3"
  },
  "language_info": {
   "codemirror_mode": {
    "name": "ipython",
    "version": 3
   },
   "file_extension": ".py",
   "mimetype": "text/x-python",
   "name": "python",
   "nbconvert_exporter": "python",
   "pygments_lexer": "ipython3",
   "version": "3.9.12"
  },
  "orig_nbformat": 4
 },
 "nbformat": 4,
 "nbformat_minor": 2
}
