{
 "cells": [
  {
   "attachments": {},
   "cell_type": "markdown",
   "metadata": {},
   "source": [
    "# 알고리즘 17일차\n"
   ]
  },
  {
   "cell_type": "code",
   "execution_count": 6,
   "metadata": {},
   "outputs": [
    {
     "name": "stdout",
     "output_type": "stream",
     "text": [
      "1 2 4 7 12 3 5 8 9 6 10 11 13 \n",
      "12 7 4 2 1 8 5 9 3 10 6 13 11 \n",
      "12 7 4 2 8 9 5 10 13 11 6 3 1 "
     ]
    }
   ],
   "source": [
    "# 이진트리 전위순회 하여 정점의 번호 출력\n",
    "\"\"\"\n",
    "13 : 정점의 개수\n",
    "1 2 1 3 2 4 3 5 3 6 4 7 5 8 5 9 6 10 6 11 7 12 11 13\n",
    "\"\"\"\n",
    "\n",
    "def preorder(i):\n",
    "    if i:\n",
    "        print(i, end = ' ')\n",
    "        preorder(left[i])\n",
    "        preorder(right[i])\n",
    "    return\n",
    "def inorder(i):\n",
    "    if i:\n",
    "        inorder(left[i])\n",
    "        print(i, end = ' ')\n",
    "        inorder(right[i])\n",
    "    return\n",
    "def postorder(i):\n",
    "    if i:\n",
    "        postorder(left[i])\n",
    "        postorder(right[i])\n",
    "        print(i, end = ' ')\n",
    "    return\n",
    "\n",
    "\n",
    "V = int(input())\n",
    "arr = list(map(int, input().split()))\n",
    "E = V -1    # 간선수\n",
    "left = [0]*(V+1)    # 부모를 인덱스로 왼쪽 자식 저장\n",
    "right = [0]*(V+1)   # 부모를 인덱스로 오른쪽 자식 저장\n",
    "par = [0]*(V+1)     # 자식을 인덱스로 부모 저장\n",
    "# child = [[] for _ in range(V+1)]\n",
    "for i in range(E):\n",
    "    p, c = arr[i*2], arr[i*2+1]\n",
    "    if left[p] == 0:\n",
    "        left[p] = c\n",
    "    else:\n",
    "        right[p] = c\n",
    "    par[c] = p\n",
    "    # child[p].append(c)\n",
    "root = 1\n",
    "while par[root]:    # root 찾기\n",
    "    root+=1\n",
    "\n",
    "preorder(root)\n",
    "print()\n",
    "inorder(root)\n",
    "print()\n",
    "postorder(root)\n",
    "\n"
   ]
  },
  {
   "attachments": {},
   "cell_type": "markdown",
   "metadata": {},
   "source": [
    "### 이진 탐색 트리\n",
    "- 탐색작업을 효율적으로 하기 위한 자료구조\n",
    "- 모든 원소는 서로 다른 유일한 키를 갖는다\n",
    "- key(왼쪽 서브트리) < key(루트 노드) < key(오른쪽 서브트리)\n",
    "- 왼쪽 서브트리와 오른쪽 서브트리도 이진 탐색 트리다\n",
    "- 중위 순회하면 오름차순으로 정렬된 값을 얻을 수 있다."
   ]
  },
  {
   "attachments": {},
   "cell_type": "markdown",
   "metadata": {},
   "source": [
    "##### 탐색연산\n",
    "- 루트에서 시작한다.\n",
    "- 탐색할 키 값 x를 루트 노드의 키 값과 비교한다.\n",
    "- 키 값 x == 루트노드의 키 값 : 원하는 원소를 찾았으므로 탐색연산 성공\n",
    "- 키 값 x < 루트노드의 키 값 : 루트노드의 왼쪽 서브트리에 대해서 탐색연산 수행\n",
    "- 키 값 x > 루트노드의 키 값 : 루트노드의 오른쪽 서브트리에 대해서 탐색연산 수행\n",
    "\n",
    "- 서브트리에 대해서 순환적으로 탐색연산 반복"
   ]
  },
  {
   "attachments": {},
   "cell_type": "markdown",
   "metadata": {},
   "source": [
    "##### 삽입 연산\n",
    "- 먼저 탐색 연산을 수행\n",
    "    - 삽입할 원소와 같은 원소가 트리에 있으면 삽입할 수 없으므로, 같은 원소가 트리에 있는지 탐색하여 확인\n",
    "    - 탐색에서 탐색 실패가 결정되는 위치가 삽입 위치가 된다.\n",
    "- 탐색 실패한 위치에서 원소를 삽입"
   ]
  },
  {
   "attachments": {},
   "cell_type": "markdown",
   "metadata": {},
   "source": [
    "#### 이진 탐색 트리 - 성능\n",
    "- 탐색(searching), 삽입(insertion), 삭제(deletion) 시간은 트리의 높이 만큼 시간이 걸린다.\n",
    "    - O(h),h : BST의 깊이 (height)\n",
    "\n",
    "- 평균의 경우\n",
    "    - 이진 트리가 균형적으로 생성되어 있는 경우\n",
    "    - O(logn)\n",
    "- 최악의 경우\n",
    "    - 한쪽으로 치우친 경사 이진트리의 경우\n",
    "    - O(n)\n",
    "    - 순차탐색과 시간복잡도가 같다."
   ]
  },
  {
   "attachments": {},
   "cell_type": "markdown",
   "metadata": {},
   "source": [
    "##### 검색 알고리즘의 비교\n",
    "\n",
    "- 배열에서의 순차 검색 : O(N)\n",
    "- 정렬된 배열에서의 순차 검색 : O(N)\n",
    "- 정렬된 배열에서의 이진탐색 : O(logN)\n",
    "    - 고정 배열 크기와 삽입, 삭제 시 추가 연산 필요\n",
    "- 이진 탐색트리에서의 평균 : O(logN)\n",
    "    - 최악의 경우 : O(N)\n",
    "    - 완전 이진 트리 또는 균형트리로 바꿀 수 있다면 최악의 경우를 없앨 수 있따.\n",
    "        - 새로운 원소를 삽입할 때 삽입 시간을 줄인다.\n",
    "        - 평균과 최악의 시간이 같다.O(logN)\n",
    "- 해쉬 검색 : O(1)\n",
    "    - 추가 저장 공간이 필요"
   ]
  },
  {
   "cell_type": "code",
   "execution_count": 10,
   "metadata": {},
   "outputs": [
    {
     "name": "stdout",
     "output_type": "stream",
     "text": [
      "5\n",
      "10\n",
      "15\n",
      "20\n",
      "20\n",
      "15\n",
      "10\n"
     ]
    }
   ],
   "source": [
    "# 최대힙 구현\n",
    "# 최대 100개의 key\n",
    "\n",
    "def enq(n):\n",
    "    global last\n",
    "    last += 1       # 완전이진트리에 마지막 정점을 추가하고\n",
    "    heap[last] = n  # 마지막 정점에 저장\n",
    "    c = last        # 부모가 있고, 부모 > 자식 검사를 위해\n",
    "    p = c//2\n",
    "\n",
    "    while p>0 and heap[p] < heap[c]:\n",
    "        heap[p],heap[c] = heap[c],heap[p]\n",
    "        c = p           # 옮긴 자리에서 부모와 비교하기 위해\n",
    "        p = c//2\n",
    "    return\n",
    "\n",
    "def deq():\n",
    "    global last\n",
    "    tmp = heap[1]               # 루트 임시저장\n",
    "    heap[1] = heap[last]        # 마지막 정점의 값을 루트로 이동\n",
    "    last -=1                    # 마지막 정점 삭제\n",
    "    p = 1\n",
    "    c = p*2                     # 왼쪽 자식 번호\n",
    "    while c<=last:              # 자식이 하나 이상 있으면\n",
    "        # 오른쪽 자식도 있고, 오른쪽 자식의 키가 더 크면\n",
    "        if c+1 <= last and heap[c] < heap[c+1]: \n",
    "            c+=1                # 비교 대상을 오른쪽 자식으로 변경\n",
    "        if heap[c] > heap[p]:   # 자식이 부모보다 크면\n",
    "            heap[c],heap[p] = heap[p],heap[c]\n",
    "            p = c\n",
    "            c = p*2\n",
    "        else:\n",
    "            break\n",
    "    return tmp\n",
    "\n",
    "\n",
    "heap = [0]*101  # 완전이진트리 1~100번 인덱스 준비\n",
    "last = 0        # 완전이진트리의 마지막 정점 번호\n",
    "\n",
    "enq(5)\n",
    "print(heap[1])\n",
    "enq(10)\n",
    "print(heap[1])\n",
    "enq(15)\n",
    "print(heap[1])\n",
    "enq(20)\n",
    "print(heap[1])\n",
    "\n",
    "\n",
    "while last>1:\n",
    "    print(deq())\n"
   ]
  }
 ],
 "metadata": {
  "kernelspec": {
   "display_name": "Python 3",
   "language": "python",
   "name": "python3"
  },
  "language_info": {
   "codemirror_mode": {
    "name": "ipython",
    "version": 3
   },
   "file_extension": ".py",
   "mimetype": "text/x-python",
   "name": "python",
   "nbconvert_exporter": "python",
   "pygments_lexer": "ipython3",
   "version": "3.9.13"
  },
  "orig_nbformat": 4,
  "vscode": {
   "interpreter": {
    "hash": "c4b9ebf4ca459396e2ad1150752490c26670c1a037c08cad955a4425787bec2e"
   }
  }
 },
 "nbformat": 4,
 "nbformat_minor": 2
}
