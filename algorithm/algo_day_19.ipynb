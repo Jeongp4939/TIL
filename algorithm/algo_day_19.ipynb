{
 "cells": [
  {
   "attachments": {},
   "cell_type": "markdown",
   "metadata": {},
   "source": [
    "# 알고리즘 19일차\n",
    "\n",
    "- SW 문제 해결\n",
    "- 복잡도 분석\n",
    "- 표준 입출력 방법\n",
    "- 비트 연산\n",
    "- 진수\n",
    "- 실수"
   ]
  },
  {
   "attachments": {},
   "cell_type": "markdown",
   "metadata": {},
   "source": [
    "SW 문제 해결 역량?\n",
    "\n",
    "- 프로그램을 하기 위한 많은 제약 조건과 요구사항을 이해하고 최선의 방법을 찾아내는 능력\n",
    "- 프로그래머가 사용하는 언어나 라이브러리, 자료구조, 알고리즘에 대한 지식을 적재적소에 퍼즐을 배치하듯 이들을 연결하여 큰 그림을 만드는 능력\n",
    "- 추상적인 기술\n",
    "    - 프로그래밍 언어 알고리즘처럼 명확히 정의된 실체가 없음\n",
    "    - 무작정 알고리즘을 암기하고 문제를 풀어본다고 향상되지 않음\n",
    "- 문제 해결 역량을 향상시키기 위해 훈련이 필요"
   ]
  },
  {
   "attachments": {},
   "cell_type": "markdown",
   "metadata": {},
   "source": [
    "문제 해결 과정\n",
    "1. 문제를 읽고 이해\n",
    "2. 문제를 익숙한 용어로 재정의\n",
    "3. 어떻게 해결할 지 계획\n",
    "4. 계획을 검증\n",
    "5. 프로그램을 구현\n",
    "6. 어떻게 풀었는지 돌아보고, 개선방안 탐색"
   ]
  },
  {
   "attachments": {},
   "cell_type": "markdown",
   "metadata": {},
   "source": [
    "알고리즘의 효율\n",
    "- 공간적 효율성과 시간적 효율성\n",
    "    - 공간적 효율성은 연산량 대비 얼마나 적은 메모리 공간을 요하는 가를 말한다\n",
    "    - 시간적 효율성은 연산량 대비 얼마나 적은 시간을 요하는 가를 말한다\n",
    "    - 효율성을 뒤집어 표연하면 복잡도가 된다. 복잡도가 높을수록 효율성은 저하된다.\n",
    "\n",
    "- 시간복잡도 분석\n",
    "    - 하드웨어 환경에 따라 처리시간이 달라짐\n",
    "        - 부동소수 처리 프로세서 존재유무, 나눗셈 가속기능 유무\n",
    "        - 입출력 장비의 성능 공유여부\n",
    "    - 소프트웨어 환경에 따라 처리시간이 달라진다.\n",
    "        - 프로그램 언어의 종류\n",
    "        - 운영체제, 컴파일러의 종류\n",
    "    - 이러한 환경적 차이로 인해 분석이 어려움\n",
    "\n",
    "- 복잡도의 점근적 표기\n",
    "    - 시간복잡도는 입력 크기에 대한 함수로 표기하는데, 이 함수는 주로 여러 개의 항을 가지는 다항식\n",
    "    - 이를 단순한 함수로 표현하기 위해 점근적 표기를 사용\n",
    "    - 입력 크기 n이 무한대로 커질 때의 복잡도를 간단히 표현하기 위해 사용하는 표기법\n",
    "        - 빅 오\n",
    "            - 점근적 상한을 의미\n",
    "        - 빅 오메가\n",
    "            - 점근적 하한을 의미\n",
    "        - 빅 세타\n",
    "            - 빅오와 빅오메가가 같을 경우 사용\n",
    "    "
   ]
  },
  {
   "cell_type": "code",
   "execution_count": 14,
   "metadata": {},
   "outputs": [
    {
     "name": "stdout",
     "output_type": "stream",
     "text": [
      "6\n"
     ]
    }
   ],
   "source": [
    "# 중복 허용\n",
    "A=[1,2,3,4]\n",
    "cnt = 0\n",
    "n = int(input())\n",
    "\n",
    "def abc(level,Sum=0):\n",
    "    global cnt\n",
    "    if Sum==10:\n",
    "        cnt+=1\n",
    "        return\n",
    "    if level==n:\n",
    "        return\n",
    "\n",
    "    for i in A:\n",
    "        abc(level+1,Sum+i)\n",
    "abc(0)\n",
    "print(cnt)"
   ]
  },
  {
   "cell_type": "code",
   "execution_count": 28,
   "metadata": {},
   "outputs": [
    {
     "name": "stdout",
     "output_type": "stream",
     "text": [
      "4\n"
     ]
    }
   ],
   "source": [
    "# 중복 허용 x\n",
    "A=['T','K','A','B']\n",
    "cnt = 0\n",
    "n = int(input())\n",
    "\n",
    "def abc(level,idx=0,S=''):\n",
    "    global cnt\n",
    "    if level==n:\n",
    "        cnt+=1\n",
    "        # print(S)\n",
    "        return\n",
    "\n",
    "    for i in range(4):\n",
    "        if i>=idx:\n",
    "            abc(level+1,i+1,S+A[i])\n",
    "abc(0)\n",
    "print(cnt)"
   ]
  },
  {
   "cell_type": "code",
   "execution_count": null,
   "metadata": {},
   "outputs": [],
   "source": [
    "name = '1234'\n",
    "cnt = 0\n",
    "path=['']*3\n",
    "\n",
    "def abc(level,start):\n",
    "    global cnt\n",
    "    if level==3:\n",
    "        for i in range(3):\n",
    "            print(path[i],end=' ')\n",
    "        print()\n",
    "        cnt+=1\n",
    "        return\n",
    "    for i in range(4):\n",
    "        path[level] = name[i]\n",
    "        abc(level+1,i)\n",
    "        path[level]=0\n",
    "\n",
    "abc(0,0)\n",
    "print(cnt)"
   ]
  },
  {
   "cell_type": "code",
   "execution_count": 36,
   "metadata": {},
   "outputs": [
    {
     "name": "stdout",
     "output_type": "stream",
     "text": [
      "\n",
      "A\n",
      "AB\n",
      "ABC\n",
      "ABCD\n",
      "ABD\n",
      "AC\n",
      "ACD\n",
      "AD\n",
      "B\n",
      "BC\n",
      "BCD\n",
      "BD\n",
      "C\n",
      "CD\n",
      "D\n",
      "16\n"
     ]
    }
   ],
   "source": [
    "A = 'ABCD'\n",
    "\n",
    "cnt = 0\n",
    "n = int(input())\n",
    "\n",
    "def abc(level,idx=0,S=''):\n",
    "    global cnt\n",
    "    print(S)\n",
    "    cnt+=1\n",
    "\n",
    "    if level==n:\n",
    "        return\n",
    "\n",
    "    for i in range(4):\n",
    "        if i>=idx:\n",
    "            abc(level+1,i+1,S+A[i])\n",
    "abc(0)\n",
    "print(cnt)"
   ]
  },
  {
   "cell_type": "code",
   "execution_count": null,
   "metadata": {},
   "outputs": [],
   "source": [
    "# 조합\n",
    "\n",
    "name='1234'\n",
    "cnt=0\n",
    "path=['']*3\n",
    "def abc(level,start):\n",
    "    global cnt\n",
    "    if level==3:\n",
    "        for i in range(3):\n",
    "            print(path[i],end=' ')\n",
    "        print()\n",
    "        cnt+=1\n",
    "        return\n",
    "    for i in range(start,4):\n",
    "        path[level]=name[i]\n",
    "        abc(level+1,i+1)\n",
    "        path[level]=0\n",
    "abc(0,0)  # level start\n",
    "print(cnt)"
   ]
  },
  {
   "cell_type": "code",
   "execution_count": 43,
   "metadata": {},
   "outputs": [
    {
     "name": "stdout",
     "output_type": "stream",
     "text": [
      "1\n"
     ]
    }
   ],
   "source": [
    "# 라인별로 한번씩 번갈아 숫자를 선택\n",
    "# 각 라인에서 선택한 숫자는 선택 못함\n",
    "# 번갈아 갈때 가중치 * n번\n",
    "# 다 더했을 때의 합이 0에 가장 가까울 때의 합의 값\n",
    "\n",
    "line_1 = [-2,3,4,9,-5,2]\n",
    "line_2 = [4,7,-3,-6,-1,2]\n",
    "\n",
    "used1=[0]*6\n",
    "used2=[0]*6\n",
    "\n",
    "Min = 10e10\n",
    "\n",
    "def abc(level,start,Sum=0):\n",
    "    global Min\n",
    "    if level==12:\n",
    "        if abs(Sum)<Min:\n",
    "            Min=abs(Sum)\n",
    "        return\n",
    "    if level%2==0:\n",
    "        for i in range(6):\n",
    "            if not used1[i]:\n",
    "                used1[i]=1\n",
    "                abc(level+1,start+1,Sum+line_1[i]*start)\n",
    "                used1[i]=0\n",
    "    else:\n",
    "        for i in range(6):\n",
    "            if not used2[i]:\n",
    "                used2[i]=1\n",
    "                abc(level+1,start+1,Sum+line_2[i]*start)\n",
    "                used2[i]=0\n",
    "\n",
    "abc(0,1)\n",
    "print(Min)"
   ]
  }
 ],
 "metadata": {
  "kernelspec": {
   "display_name": "Python 3",
   "language": "python",
   "name": "python3"
  },
  "language_info": {
   "codemirror_mode": {
    "name": "ipython",
    "version": 3
   },
   "file_extension": ".py",
   "mimetype": "text/x-python",
   "name": "python",
   "nbconvert_exporter": "python",
   "pygments_lexer": "ipython3",
   "version": "3.9.13"
  },
  "orig_nbformat": 4,
  "vscode": {
   "interpreter": {
    "hash": "c4b9ebf4ca459396e2ad1150752490c26670c1a037c08cad955a4425787bec2e"
   }
  }
 },
 "nbformat": 4,
 "nbformat_minor": 2
}
