{
 "cells": [
  {
   "attachments": {},
   "cell_type": "markdown",
   "metadata": {},
   "source": [
    "## 알고리즘 6일차\n",
    "\n",
    "##### 문자열(String)\n",
    "- 문자의 표현\n",
    "- 문자열\n",
    "- 패턴 매칭\n",
    "- 문자열 암호화\n",
    "- 문자열 압축"
   ]
  },
  {
   "attachments": {},
   "cell_type": "markdown",
   "metadata": {},
   "source": [
    "##### 문자의 표현\n",
    "- 컴퓨터에서의 문자표현\n",
    "    - 영어가 대소문자 합쳐서 52이므로 6(64가지)비트면 모두 표현 가능 -> 이를 코드체계라고 함\n",
    "    \n",
    "    - 네트워크의 발전으로 서로간의 정보를 주고 받을 때 정보 해석의 문제가 생김\n",
    "    \n",
    "    - 혼동을 피하기 위해 표준안이 만들기로 했고, 1967년 미국에서 ASCII(American Standard Code for Information Interchange)라는 문자 인코딩 표준 제정\n",
    "\n",
    "    - ASCII는 7bit 인코딩으로 128문자를 표현하며 22개의 출력 불가능한 제어 문자들과 공백을 비롯한 95개의 출력 가능한 문자들로 이루어져 있음\n",
    "\n",
    "    - 확장 아스키는 표준 문자 이외의 악센트 문자, 도형 문자, 특수 문자, 특수 기호 등 부가적인 문자를 128개 추가할 수 있게 하는 부호\n",
    "        - 확장 아스키는 1B 내의 8bit를 모두 사용함으로써 추가적인 문자를 표현 가능\n",
    "\n",
    "        - 컴퓨터 생산자와 소프트웨어 개발자가 여러가지 다양한 문자에 할당할 수 있도록 했고, 이렇게 할당된 확장 부호는 표준 아스키와 같이 서로 다른 프로그램이나 컴퓨터 사이에 교환 불가능\n",
    "\n",
    "        - 따라서 확장 아스키는 프로그램이나 컴퓨터 또는 프린터가 그것을 해독할 수 있도록 설계되어 있어야만 올바로 해독 가능함"
   ]
  },
  {
   "attachments": {},
   "cell_type": "markdown",
   "metadata": {},
   "source": [
    "- 컴퓨터의 발전으로 각 나라에서 자국의 문자를 표현하기 위해 코드체계를 만들어 사용\n",
    "\n",
    "- 자국의 코드체계를 타 국가가 가지고 있지 않으면 정보를 잘못 해석 할 수밖에 없음\n",
    "\n",
    "- 이를 위해 마련된 표준을 유니코드라고 함\n",
    "\n",
    "- 유니코드는 Character Set으로 분류됨\n",
    "    - UCS-2\n",
    "    - UCS-4\n",
    "    - 유니코드를 저장하는 변수의 크기를 정의\n",
    "    - 바이트 순서에 대해 표준화 하지 못함\n",
    "    - 파일을 인식 시 이 파일이 UCS-2,UCS-4인지 인식하고 각 경우를 구분해서 모두 다르게 구현해야 하는 문제 발생\n",
    "    - 외부 인코딩이 필요하게 됨"
   ]
  },
  {
   "attachments": {},
   "cell_type": "markdown",
   "metadata": {},
   "source": [
    "##### 유니코드 인코딩(UTF:Unicode Transformation Format)\n",
    "- UTF-8\n",
    "    - MIN:8bit, MAX:32bit(1Byte * 4)\n",
    "- UTF-16\n",
    "    - MIN:16bit, MAX:32bit(2Byte * 2)\n",
    "- UTF-32\n",
    "    - MIN:32bit, MAX:32bit(4Byte * 1)\n",
    "\n",
    "##### Python 인코딩\n",
    "- 2.x 버전 - ASCII -> #-*-codingL utf-8 -*- (첫줄에 명시)\n",
    "- 3.x 버전 - 유니코드 UTF-8 -> 생략 가능\n",
    "- 다른 인코딩 방식으로 처리 시 첫 줄에 작성하는 위 항목에 원하는 인코딩 방식을 지정\n"
   ]
  },
  {
   "attachments": {},
   "cell_type": "markdown",
   "metadata": {},
   "source": [
    "## 오프라인\n",
    "\n",
    "##### 재귀\n",
    "\n",
    "- for,while 만으로 해결하기 어려운 문제의 경우 재귀를 이용하면 해결 할 수 있음"
   ]
  },
  {
   "cell_type": "code",
   "execution_count": 2,
   "metadata": {},
   "outputs": [
    {
     "name": "stdout",
     "output_type": "stream",
     "text": [
      "\n"
     ]
    }
   ],
   "source": [
    "n = int(input())\n",
    "\n",
    "def abc(level,path):\n",
    "    if level==n:\n",
    "        print(path)\n",
    "        return\n",
    "    for i in range(1,7):\n",
    "        abc(level+1,path+str(i))\n",
    "\n",
    "abc(1,'')"
   ]
  },
  {
   "cell_type": "code",
   "execution_count": 5,
   "metadata": {},
   "outputs": [
    {
     "name": "stdout",
     "output_type": "stream",
     "text": [
      "2\n"
     ]
    }
   ],
   "source": [
    "def abc(lev):\n",
    "    if lev == 2:\n",
    "        print(lev)\n",
    "        return\n",
    "    lev += 1\n",
    "    abc(lev)\n",
    "    \n",
    "abc(0)\n"
   ]
  },
  {
   "cell_type": "code",
   "execution_count": null,
   "metadata": {},
   "outputs": [],
   "source": [
    "def abc(lev):\n",
    "    if lev==2:\n",
    "        return\n",
    "    abc(lev+1)\n",
    "    dummy=1\n",
    "\n",
    "\n",
    "abc(0)"
   ]
  },
  {
   "cell_type": "code",
   "execution_count": 23,
   "metadata": {},
   "outputs": [
    {
     "name": "stdout",
     "output_type": "stream",
     "text": [
      "0 1 2 3 4 5 4 3 2 1 0 "
     ]
    }
   ],
   "source": [
    "#0123454321\n",
    "\n",
    "def abc(n):\n",
    "    print(n,end=' ')\n",
    "    if n==5:\n",
    "        return\n",
    "    abc(n+1)\n",
    "    print(n,end=' ')\n",
    "\n",
    "\n",
    "abc(0)"
   ]
  },
  {
   "cell_type": "code",
   "execution_count": 25,
   "metadata": {},
   "outputs": [
    {
     "name": "stdout",
     "output_type": "stream",
     "text": [
      "0 1 2 3 4 5 4 3 2 1 0 "
     ]
    }
   ],
   "source": [
    "def abc(n):\n",
    "    \n",
    "    if n==5:\n",
    "        print(n,end=' ')\n",
    "        return\n",
    "    print(n,end=' ')\n",
    "    abc(n+1)\n",
    "    print(n,end=' ')\n",
    "abc(0)"
   ]
  },
  {
   "cell_type": "code",
   "execution_count": 36,
   "metadata": {},
   "outputs": [
    {
     "name": "stdout",
     "output_type": "stream",
     "text": [
      "7 6 5 4 3 2 2 3 4 5 6 7 "
     ]
    }
   ],
   "source": [
    "# 7 6 5 4 3 2 2 3 4 5 6 7\n",
    "\n",
    "def abc(level):\n",
    "    print(level, end =' ')\n",
    "    \n",
    "    if level == 2:\n",
    "        print(level, end =' ')\n",
    "        return\n",
    "    \n",
    "    abc(level-1)\n",
    "    print(level, end =' ')\n",
    "\n",
    "abc(7)"
   ]
  },
  {
   "cell_type": "code",
   "execution_count": 35,
   "metadata": {},
   "outputs": [
    {
     "name": "stdout",
     "output_type": "stream",
     "text": [
      "7 5 3 1 "
     ]
    }
   ],
   "source": [
    "# 정수 하나 입력 받은 후\n",
    "# 합수를 3번 호출 하면서 입력 받은 수에 2씩 더함\n",
    "\n",
    "# 1 입력시 7 5 3 1\n",
    "# 2 입력시 8 6 4 2\n",
    "\n",
    "\n",
    "n = int(input())\n",
    "\n",
    "def abc(level,value):\n",
    "    if level==4:\n",
    "        return\n",
    "    abc(level+1,value+2)\n",
    "    print(value, end=' ')\n",
    "\n",
    "abc(0,n)\n"
   ]
  },
  {
   "cell_type": "code",
   "execution_count": 37,
   "metadata": {},
   "outputs": [
    {
     "name": "stdout",
     "output_type": "stream",
     "text": [
      "3 7 12 13 19 28 "
     ]
    }
   ],
   "source": [
    "arr=[3,4,5,1,6,9]\n",
    "\n",
    "# 3 7 12 13 19 28 출력\n",
    "# 누적합\n",
    "\n",
    "\n",
    "def acumulated_sum(arr,idx=0,sum=0):\n",
    "    if idx == len(arr):\n",
    "        return\n",
    "    sum+=arr[idx]\n",
    "    print(sum, end = ' ')\n",
    "    acumulated_sum(arr,idx+1,sum)\n",
    "\n",
    "acumulated_sum(arr)\n",
    "        "
   ]
  },
  {
   "cell_type": "code",
   "execution_count": 40,
   "metadata": {},
   "outputs": [
    {
     "name": "stdout",
     "output_type": "stream",
     "text": [
      "3 7 12 13 19 28 "
     ]
    }
   ],
   "source": [
    "arr=[3,4,5,1,6,9]\n",
    "sum=arr[0]\n",
    "def abc(level):\n",
    "    global sum\n",
    "    print(sum, end=' ')\n",
    "    if level==5:\n",
    "        return\n",
    "    sum+=arr[level+1]\n",
    "    abc(level+1)\n",
    "\n",
    "abc(0)"
   ]
  },
  {
   "cell_type": "code",
   "execution_count": 41,
   "metadata": {},
   "outputs": [
    {
     "name": "stdout",
     "output_type": "stream",
     "text": [
      "3 7 12 13 19 28 "
     ]
    }
   ],
   "source": [
    "arr=[3,4,5,1,6,9]\n",
    "\n",
    "def abc(level,sum):\n",
    "    print(sum,end=' ')\n",
    "    if level == 5:\n",
    "        return\n",
    "    abc(level+1, sum+arr[level+1])\n",
    "\n",
    "abc(0,arr[0])\n"
   ]
  },
  {
   "cell_type": "code",
   "execution_count": 62,
   "metadata": {},
   "outputs": [
    {
     "name": "stdout",
     "output_type": "stream",
     "text": [
      "28 19 13 12 7 3 "
     ]
    }
   ],
   "source": [
    "# 28 19  13 12 7 3 출력하기\n",
    "\n",
    "# 1. sum 을 매개변수로\n",
    "arr=[3,4,5,1,6,9]\n",
    "\n",
    "def abc(level,sum=arr[0]):\n",
    "    if level == 5:\n",
    "        print(sum,end=' ')\n",
    "        return\n",
    "    \n",
    "    abc(level+1, sum+arr[level+1])\n",
    "    print(sum,end=' ')\n",
    "\n",
    "abc(0)\n"
   ]
  },
  {
   "cell_type": "code",
   "execution_count": 80,
   "metadata": {},
   "outputs": [
    {
     "name": "stdout",
     "output_type": "stream",
     "text": [
      "28 19 13 12 7 3 "
     ]
    }
   ],
   "source": [
    "# 28 19  13 12 7 3 출력하기\n",
    "\n",
    "# 2. sum 을 전역변수로\n",
    "arr=[3,4,5,1,6,9]\n",
    "\n",
    "sum=arr[0]\n",
    "def abc(level):\n",
    "    global sum\n",
    "    s = sum\n",
    "    if level == 5:\n",
    "        print(s,end=' ')\n",
    "        return\n",
    "    sum+=arr[level+1]\n",
    "    \n",
    "    abc(level+1)\n",
    "    # sum-=arr[level+1]\n",
    "    # print(sum)\n",
    "    print(s,end=' ')\n",
    "\n",
    "abc(0)"
   ]
  },
  {
   "cell_type": "code",
   "execution_count": 4,
   "metadata": {},
   "outputs": [],
   "source": [
    "def abc(level):\n",
    "    if level==2:\n",
    "        return\n",
    "    abc(level+1)\n",
    "    abc(level+1)\n",
    "    dummy=1\n",
    "    \n",
    "abc(0)"
   ]
  },
  {
   "cell_type": "code",
   "execution_count": 6,
   "metadata": {},
   "outputs": [
    {
     "name": "stdout",
     "output_type": "stream",
     "text": [
      "1 3 4 1 3 4 1 2 5 4 1 2 5 6 5 4 1 3 4 1 2 5 4 1 2 5 6 5 6 "
     ]
    }
   ],
   "source": [
    "def abc(level):\n",
    "    print('1',end=' ')\n",
    "    if level==2:\n",
    "        print('2',end=' ')\n",
    "        return\n",
    "    print('3',end=' ')\n",
    "    for i in range(2):\n",
    "        print('4',end=' ')\n",
    "        abc(level+1)\n",
    "        print('5',end=' ')\n",
    "    print('6',end=' ')\n",
    "\n",
    "abc(0)"
   ]
  },
  {
   "cell_type": "code",
   "execution_count": null,
   "metadata": {},
   "outputs": [],
   "source": []
  }
 ],
 "metadata": {
  "kernelspec": {
   "display_name": "Python 3",
   "language": "python",
   "name": "python3"
  },
  "language_info": {
   "codemirror_mode": {
    "name": "ipython",
    "version": 3
   },
   "file_extension": ".py",
   "mimetype": "text/x-python",
   "name": "python",
   "nbconvert_exporter": "python",
   "pygments_lexer": "ipython3",
   "version": "3.9.13"
  },
  "orig_nbformat": 4,
  "vscode": {
   "interpreter": {
    "hash": "c4b9ebf4ca459396e2ad1150752490c26670c1a037c08cad955a4425787bec2e"
   }
  }
 },
 "nbformat": 4,
 "nbformat_minor": 2
}
