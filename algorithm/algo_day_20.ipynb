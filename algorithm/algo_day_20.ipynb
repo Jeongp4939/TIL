{
 "cells": [
  {
   "attachments": {},
   "cell_type": "markdown",
   "metadata": {},
   "source": [
    "# 알고리즘 20일차\n",
    "\n",
    "### 비트연산\n",
    "\n",
    "```&```\n",
    "    - 비트단위 AND 연산\n",
    "\n",
    "```|``` \n",
    "    - 비트단위 OR 연산\n",
    "\n",
    "```^```\n",
    "    - 비트단위 XOR 연산\n",
    "    \n",
    "````~````\n",
    "    - 단한연산자로서 피연산자의 모든 비트를 반전"
   ]
  },
  {
   "attachments": {},
   "cell_type": "markdown",
   "metadata": {},
   "source": [
    "```<<```\n",
    "    - 피연산자의 비트 열을 왼쪽으로 이동\n",
    "    \n",
    "```>>```\n",
    "    - 피 연산자의 비트 열을 오른쪽으로 이동"
   ]
  },
  {
   "attachments": {},
   "cell_type": "markdown",
   "metadata": {},
   "source": [
    "# 오프라인"
   ]
  },
  {
   "attachments": {},
   "cell_type": "markdown",
   "metadata": {},
   "source": [
    "- a~g 가 서바이벌 게임을 하려고 합니다.\n",
    "- 두 팀으로 나누었을떄 전투력 차이가 최소로 하려고 할 때 두 팀의 최소 전투력 차이는 몇일까요?\n",
    "\n",
    "- 이 문제룰 풀기 전에 조합 중복조합 순열 중복순열에 대한 완변한 이해 그리고 부분집합을 DFS로 구현하는것을 연습 후 문제를 풀어주세요."
   ]
  },
  {
   "cell_type": "code",
   "execution_count": 43,
   "metadata": {},
   "outputs": [
    {
     "name": "stdout",
     "output_type": "stream",
     "text": [
      "1\n"
     ]
    }
   ],
   "source": [
    "score=[49,6,54,80,3,18,71]\n",
    "Min=int(21e8)\n",
    "check=[0]*7\n",
    "def dfs(start,level,sum):\n",
    "    global Min\n",
    "    against=0\n",
    "    for i in range(7):\n",
    "        if check[i]==0:\n",
    "            against+=score[i]\n",
    "\n",
    "    gap=abs(sum-against)\n",
    "    Min=min(Min,gap)\n",
    "\n",
    "    if level==6:\n",
    "        return\n",
    "\n",
    "    for i in range(start,7):\n",
    "        check[i]=1\n",
    "        dfs(i+1,level+1,sum+score[i])\n",
    "        check[i]=0\n",
    "dfs(0,0,0)  # start,level, sum\n",
    "print(Min)\n"
   ]
  },
  {
   "cell_type": "code",
   "execution_count": 45,
   "metadata": {},
   "outputs": [
    {
     "name": "stdout",
     "output_type": "stream",
     "text": [
      "1\n"
     ]
    }
   ],
   "source": [
    "# a,b,c,d,e,f,g\n",
    "# 1명 팀 가능\n",
    "# 두 팀의 전투력 차이의 최소일 때\n",
    "# 두 팀의 최소 전투력 차이는\n",
    "\n",
    "score = [49,6,54,80,3,18,71]\n",
    "Min = int(21e8)\n",
    "M = sum(score)\n",
    "check=[0]*7\n",
    "\n",
    "def dfs(start,level,Sum):\n",
    "    global Min\n",
    "\n",
    "    Min = min(abs(M-2*Sum),Min)    \n",
    "\n",
    "    if level==6:\n",
    "        return\n",
    "    for i in range(start,7):\n",
    "        check[i]=1\n",
    "        dfs(i+1,level+1,Sum+score[i])\n",
    "        check[i]=0\n",
    "\n",
    "dfs(0,0,0)\n",
    "print(Min)"
   ]
  },
  {
   "cell_type": "code",
   "execution_count": 67,
   "metadata": {},
   "outputs": [
    {
     "name": "stdout",
     "output_type": "stream",
     "text": [
      "도착가능\n"
     ]
    }
   ],
   "source": [
    "# 미로 탈출이 가능한 지 출력\n",
    "\n",
    "from collections import deque\n",
    "# 상하좌우\n",
    "dy,dx = [-1,1,0,0],[0,0,-1,1]\n",
    "\n",
    "def bfs(y,x):\n",
    "    q = deque()\n",
    "    q.append([y,x])\n",
    "    while q:\n",
    "        y,x = q.popleft()\n",
    "        for i in range(4):\n",
    "            ny=y+dy[i]\n",
    "            nx=x+dx[i]\n",
    "            if 0<=ny<n and 0<=nx<n:\n",
    "                if arr[ny][nx]==3:\n",
    "                    return 1\n",
    "                if arr[ny][nx]==0:\n",
    "                    arr[ny][nx]=1\n",
    "                    q.append([ny,nx])\n",
    "    return 0\n",
    "\n",
    "def dfs(y,x):\n",
    "    global flag\n",
    "    if arr[y][x]==3:\n",
    "        flag=1\n",
    "        return 1\n",
    "    \n",
    "    for i in range(4):\n",
    "        ny=y+dy[i]\n",
    "        nx=x+dx[i]\n",
    "        if 0<=ny<n and 0<=nx<n:\n",
    "            if arr[ny][nx]==3:\n",
    "                flag=1\n",
    "                return 1\n",
    "            if arr[ny][nx]==0:\n",
    "                arr[ny][nx]=1\n",
    "                dfs(ny,nx)\n",
    "                arr[ny][nx]=0\n",
    "    \n",
    "n = 4\n",
    "arr = [[2,0,0,0],\n",
    "       [1,0,1,0],\n",
    "       [1,0,1,0],\n",
    "       [0,1,0,3]]\n",
    "flag=0\n",
    "dfs(0,0)\n",
    "# print(bfs(0,0))\n",
    "print('도착가능' if flag else '도착불가능')"
   ]
  },
  {
   "cell_type": "code",
   "execution_count": 74,
   "metadata": {},
   "outputs": [
    {
     "name": "stdout",
     "output_type": "stream",
     "text": [
      "65\n"
     ]
    }
   ],
   "source": [
    "# 3*3 크기의 땅이 있음\n",
    "# 땅의 가치를 높이기 위해 개발을 함\n",
    "# 개발하면 자기자신을 포함 상하좌우 (n*7)%10이 된다\n",
    "# 총 3번의 개발 과정을 거친 후 9개 구역의 합의 max값을 구해라\n",
    "import copy\n",
    "\n",
    "dy,dx = [0,-1,1,0,0],[0,0,0,-1,1]\n",
    "ar = [[3,2,7],\n",
    "      [4,5,1],\n",
    "      [7,2,8]]\n",
    "\n",
    "dic = {0:0,1:7,2:4,3:1,4:8,5:5,6:2,7:9,8:6,9:3}\n",
    "\n",
    "def upgrade(ar,y,x):\n",
    "    arr = copy.deepcopy(ar)\n",
    "    for i in range(5):\n",
    "        ny=y+dy[i]\n",
    "        nx=x+dx[i]\n",
    "        if 0<=ny<3 and 0<=nx<3:\n",
    "            arr[ny][nx]=dic.get(arr[ny][nx])\n",
    "    return arr\n",
    "\n",
    "def dfs(level,arr):\n",
    "    global Max\n",
    "    if level==3:\n",
    "        Sum = 0\n",
    "        for i in range(3):\n",
    "            Sum+=sum(arr[i])\n",
    "        Max=max(Max,Sum)\n",
    "        return\n",
    "    for i in range(3):\n",
    "        for j in range(3):\n",
    "            dfs(level+1,upgrade(arr,i,j))\n",
    "\n",
    "Max = 0    \n",
    "dfs(0,ar)\n",
    "print(Max)\n"
   ]
  },
  {
   "cell_type": "code",
   "execution_count": 75,
   "metadata": {},
   "outputs": [
    {
     "name": "stdout",
     "output_type": "stream",
     "text": [
      "65\n"
     ]
    }
   ],
   "source": [
    "# 교수님 코드\n",
    "\n",
    "# 3*3 배열에 땅을 총 3번 팠을때\n",
    "# 모든 땅의 가치 합의 Max 값 출력하기 (중복 땅파기 가능함)\n",
    "\n",
    "import copy\n",
    "arr=[[3,2,7],[4,5,1],[7,2,8]]\n",
    "Max=-21e8\n",
    "\n",
    "\n",
    "def digging(y,x):           # 땅을 파는 함수\n",
    "    directy=[0,-1,1,0,0]\n",
    "    directx=[0,0,0,-1,1]\n",
    "    for i in range(5):\n",
    "        dy=directy[i]+y\n",
    "        dx=directx[i]+x\n",
    "        if dy<0 or dx<0 or dy>2 or dx>2: continue\n",
    "        arr[dy][dx]=(arr[dy][dx]*7)%10\n",
    "\n",
    "\n",
    "def getsum():       # 배열의 합을 구한후 리턴\n",
    "    sum=0\n",
    "    for i in range(3):\n",
    "        for j in range(3):\n",
    "            sum+=arr[i][j]\n",
    "    return sum\n",
    "\n",
    "def dfs(level):\n",
    "    global Max,arr\n",
    "    backup=copy.deepcopy(arr)    #원상복구를 위해 미리 arr배열을 backup에 카피 해 놓기!!\n",
    "\n",
    "    if level==3:                # 바닥에 왔을떄\n",
    "        result=getsum()         # 배열합 구하고\n",
    "        Max=max(Max,result)     # Max 값 갱신\n",
    "        return\n",
    "\n",
    "    for i in range(3):\n",
    "        for j in range(3):\n",
    "            digging(i,j)        # 땅파고\n",
    "            dfs(level+1)        # dfs 깊이로 들어가고\n",
    "            arr=copy.deepcopy(backup)   # 다녀와서는 원상복구 ************************** 핵심\n",
    "\n",
    "dfs(0)          # dfs level = 0\n",
    "print(Max)"
   ]
  }
 ],
 "metadata": {
  "kernelspec": {
   "display_name": "Python 3",
   "language": "python",
   "name": "python3"
  },
  "language_info": {
   "codemirror_mode": {
    "name": "ipython",
    "version": 3
   },
   "file_extension": ".py",
   "mimetype": "text/x-python",
   "name": "python",
   "nbconvert_exporter": "python",
   "pygments_lexer": "ipython3",
   "version": "3.9.13"
  },
  "orig_nbformat": 4,
  "vscode": {
   "interpreter": {
    "hash": "c4b9ebf4ca459396e2ad1150752490c26670c1a037c08cad955a4425787bec2e"
   }
  }
 },
 "nbformat": 4,
 "nbformat_minor": 2
}
