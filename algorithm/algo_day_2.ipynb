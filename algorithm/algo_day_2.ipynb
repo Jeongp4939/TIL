{
 "cells": [
  {
   "attachments": {},
   "cell_type": "markdown",
   "metadata": {},
   "source": [
    "# 알고리즘 2일차\n",
    "\n",
    "### 정렬\n",
    "\n",
    "##### 카운팅 정렬(Counting Sort)\n",
    "- 항목들의 순서를 결정하기 위해 집합에 각 항목이 몇 개씩 있는지 세는 작업을 하여, 선형 시간에 정렬하는 효율적인 알고리즘\n",
    "\n",
    "제한 사항\n",
    "- 정수나 정수로 표현할 수 있는 자료에 대해서만 적용 가능: 각 항목의 발생 회수를 기록하기 위해, 정수 항목으로 인덱스 되는 카운트들의 배열을 사용하기 때문\n",
    "- 카운트들을 위한 충분한 공간을 할당하려면 집합 내의 가장 큰 정수를 알아야 한다\n",
    "- n이 비교적 작을 때만 가능\n",
    "\n",
    "시간 복잡도\n",
    "- O(n+k) : n은 리스트 길이, k는 정수의 최대값"
   ]
  },
  {
   "attachments": {},
   "cell_type": "markdown",
   "metadata": {},
   "source": [
    "Ex)\n",
    "```\n",
    "Data = [0,4,1,3,1,2,4,1]\n",
    "COUNTS = [0,0,0,0,0]\n",
    "COUNTS = [1,3,1,1,2]\n",
    "```\n",
    "\n",
    "과정\n",
    "- 1단계\n",
    "    - Data에서 각 항목들의 발생 회수를 세고, 정수 항목들로 직접 인덱스 되는 카운트 배열 counts에 저장\n",
    "    - 정렬된 집합에서 각 항목의 앞에 위치할 항목의 개수를 반영하기 위해 counts의 원소를 조정\n",
    "    \n",
    "    - counts[1]을 감소시키고 temp에 1을 삽입\n",
    "    - counts[4]를 감소시키고 temp에 4를 삽입\n",
    "    - ...\n",
    "\n",
    "    - temp를 업데이트 완료하고 정렬 작업을 종료\n",
    "\n"
   ]
  },
  {
   "cell_type": "code",
   "execution_count": 1,
   "metadata": {},
   "outputs": [],
   "source": [
    "def Counting_Sort(A,B,k):\n",
    "    # A = [] -- 입력 배열\n",
    "    # B = [] -- 정렬된 배열\n",
    "    # C = [] -- 카운트 배열\n",
    "    C = [0] * (k+1)\n",
    "    \n",
    "    for i in range(0,len(A)):\n",
    "        C[A[i]] += 1 \n",
    "    for i in range(1,len(C)):\n",
    "        C[i] += C[i-1]\n",
    "    \n",
    "    for i in range(len(B)-1, -1,-1):\n",
    "        C[A[i]] -= 1\n",
    "        B[C[A[i]]] = A[i]"
   ]
  },
  {
   "attachments": {},
   "cell_type": "markdown",
   "metadata": {},
   "source": [
    "#### 순열\n",
    "\n",
    "- 서로 다른 것들 중 몇 개를 뽑아서 한 줄로 나열하는 것\n",
    "- 서로 다른 n개 중 r개를 택하는 순열은 아래와 같이 표현\n",
    "``` nPr ```\n",
    "- 그리고 ```nPr```은 다음과 같은 식이 성립\n",
    "\n",
    "    ```nPr=n*(n-1)*(n-2)*...*(n-r+1)```\n",
    "\n",
    "- nPn=n!라고 표기하며 Factorial이라 부른다.\n",
    "\n",
    "    ```n!=n*(n-1)*(n-2)*...*2*1```"
   ]
  },
  {
   "attachments": {},
   "cell_type": "markdown",
   "metadata": {},
   "source": [
    "#### 탐욕(Greedy) 알고리즘\n",
    "\n",
    "- 최적해를 구하는 데 사용되는 근시안적인 방법\n",
    "- 여러 경우 중 하나를 결정해야 할 때마다 그 순간에 최적이라고 생각되는 것을 선택해 나가는 방식으로 진행하여 최종적인 해답에 도달\n",
    "- 각 선택의 시점에서 이루어지는 결정은 지역적으로 최적이지만, 그 선택들을 계속 수집하여 최종적인 해답을 만들었다고 하여, 그것이 최적이라는 보장은 없음\n",
    "- 일반적으로, 머릿속에 떠오르는 생각을 검증 없이 바로 구현하면 Greedy 접근이 됨"
   ]
  },
  {
   "attachments": {},
   "cell_type": "markdown",
   "metadata": {},
   "source": [
    "탐욕 알고리즘의 동작 과정\n",
    "\n",
    "1. 해 선택: 현재 상태에서 부분 문제의 최적 해를 구한 뒤, 이를 부분해 집합(Solution Set)에 추가한다.\n",
    "2. 실행 가능성 검사 : 새로운 부분해 집합이 실행 가능한지를 확인\n",
    "    - 곧, 문제의 제약 조건을 위반하지 않는지 검사\n",
    "3. 해 검사 : 새로운 부분해 집합이 문제의 해가 되는지 확인\n",
    "    - 아직 전체 문제의 해가 완성되지 않았다면 1부터 다시 시작"
   ]
  },
  {
   "cell_type": "code",
   "execution_count": 3,
   "metadata": {},
   "outputs": [
    {
     "name": "stdout",
     "output_type": "stream",
     "text": [
      "Baby Gin\n"
     ]
    }
   ],
   "source": [
    "# 구현 예\n",
    "num = 456789 # BabyGin 확인할 6자리수\n",
    "c = [0]*12 # 6자리 수로부터 각 자리 수를 추출하여 개수를 누적할 리스트\n",
    "\n",
    "for i in range(6):\n",
    "    c[num%10] += 1\n",
    "    num//=10\n",
    "\n",
    "i = 0\n",
    "tri = run = 0\n",
    "while i < 10:\n",
    "    if c[i]>=3: # triplete 조사 후 데이터 삭제\n",
    "        c[i] -= 3\n",
    "        tri += 1\n",
    "        continue\n",
    "    if c[i] >= 1 and c[i+1] >= 1 and c[i+2] >= 1: # run 조사 후 데이터 삭제\n",
    "        c[i] -= 1\n",
    "        c[i+1] -= 1\n",
    "        c[i+2] -= 1\n",
    "        run += 1\n",
    "        continue\n",
    "    i += 1\n",
    "\n",
    "if run + tri ==2: print('Baby Gin')\n",
    "else: print(\"Lose\")\n",
    "\n",
    "        "
   ]
  },
  {
   "attachments": {},
   "cell_type": "markdown",
   "metadata": {},
   "source": [
    "# 오프라인"
   ]
  },
  {
   "cell_type": "code",
   "execution_count": 8,
   "metadata": {},
   "outputs": [
    {
     "name": "stdout",
     "output_type": "stream",
     "text": [
      "28\n"
     ]
    }
   ],
   "source": [
    "coin = [500,100,50,10]\n",
    "changes = int(input())\n",
    "answer = 0\n",
    "idx = 0\n",
    "\n",
    "while 1:\n",
    "    cnt = changes//coin[idx]    # index가 0 일 떄 500짜리 동전 개수를 cnt에 넣기\n",
    "    changes -= cnt*coin[idx]    # 거슬러 준 만큼 changes에서 빼고\n",
    "    answer += cnt               # 동전 사용한 만큼 정답에 더해주고\n",
    "    idx += 1                    # 500 다음에 100원짜리 이용\n",
    "    if idx==4:                  # 10원짜리까지 다 사용 했으면 break\n",
    "        break\n",
    "print(answer)"
   ]
  },
  {
   "cell_type": "code",
   "execution_count": 9,
   "metadata": {},
   "outputs": [
    {
     "name": "stdout",
     "output_type": "stream",
     "text": [
      "26\n"
     ]
    }
   ],
   "source": [
    "# 연속되는 숫자 3개의 합이 가장 클 때 의 값은?\n",
    "\n",
    "def sum_lst(lst):\n",
    "    sum_=0\n",
    "    for i in lst:\n",
    "        sum_ += i\n",
    "    return sum_\n",
    "\n",
    "lst= [[4, 5, 2, 6, 7, 3, 1],\n",
    "      [2, 9, 9, 6, 1, 6, 7]]\n",
    "\n",
    "n = int(input())\n",
    "max_sum = 0\n",
    "\n",
    "for line in lst:\n",
    "    for j in range(len(line)-n):\n",
    "        if max_sum<sum_lst(line[j:j+n]):\n",
    "            max_sum = sum_lst(line[j:j+n])\n",
    "print(max_sum)"
   ]
  },
  {
   "cell_type": "code",
   "execution_count": 11,
   "metadata": {},
   "outputs": [
    {
     "name": "stdout",
     "output_type": "stream",
     "text": [
      "Y N\n",
      "N Y\n"
     ]
    }
   ],
   "source": [
    "# 리스트에 숫자 4개 입력을 받은 후\n",
    "# 입력받은 숫자라 lst 안에 존재하면 Y를\n",
    "# lst 안에 존재하지 않으면 N을 출력해 주세요\n",
    "\n",
    "lst= [[4, 5, 2, 6, 7],\n",
    "      [2, 9, 9, 6, 1],\n",
    "      [2, 9, 9, 6, 1]]\n",
    "\n",
    "def is_in(n,lst):\n",
    "    for line in lst:\n",
    "        if n in line:\n",
    "            return 1\n",
    "    return 0\n",
    "    \n",
    "lst_1 = [list(map(int,input().split())) for _ in range(2)]\n",
    "result = [[0]*2 for _ in range(2)]\n",
    "\n",
    "for i in range(2):\n",
    "    for j in range(2):\n",
    "        if is_in(lst_1[i][j],lst):\n",
    "            result[i][j]='Y'\n",
    "        else:\n",
    "            result[i][j]='N'\n",
    "\n",
    "for i in result:\n",
    "    print(*i)\n",
    "# 5 3\n",
    "# 8 2 입력시\n",
    "# Y N\n",
    "# N Y 출력\n",
    "\n",
    "# 1 2\n",
    "# 3 4 입력시\n",
    "# Y Y\n",
    "# N Y 출력"
   ]
  },
  {
   "cell_type": "code",
   "execution_count": 15,
   "metadata": {},
   "outputs": [
    {
     "name": "stdout",
     "output_type": "stream",
     "text": [
      "존재함\n"
     ]
    }
   ],
   "source": [
    "# 정수 4개를 입력받고\n",
    "# 패턴 존재 여부 출력하기\n",
    "\n",
    "# 1 1 2 1 : 없음\n",
    "# 5 8 5 3 : 존재함\n",
    "\n",
    "def lst_match(l1,l2):\n",
    "    for i in range(len(l1)):\n",
    "        if l1[i] == l2[i]:\n",
    "            continue\n",
    "        else:\n",
    "            return 0\n",
    "    return 1\n",
    "\n",
    "arr = [3,6,5,8,5,3,5,8,5,3,3,1,1,3]\n",
    "\n",
    "lst = list(map(int,input().split()))\n",
    "\n",
    "for i in range(len(arr)-len(lst)):\n",
    "    if lst_match(lst,arr[i:i+len(lst)]):\n",
    "        print('존재함')\n",
    "        break\n",
    "else:\n",
    "    print('없음')"
   ]
  },
  {
   "cell_type": "code",
   "execution_count": null,
   "metadata": {},
   "outputs": [],
   "source": [
    "# 이차원 배열에 패턴이 몇개 존재 하는지 출력하기\n",
    "\n",
    "# AB\n",
    "# TT\n",
    "# 발견2개\n",
    "\n",
    "board = [\n",
    "    ['A','B','G','K'],\n",
    "    ['T','T','A','B'],\n",
    "    ['A','C','T','T']]\n",
    "\n",
    "def is_pattern(lst,pattern):\n",
    "    for i in range(2):\n",
    "        for j in range(2):\n",
    "            if lst[i][j] != pattern[i][j]:\n",
    "                return 0\n",
    "    return 1\n",
    "\n",
    "pattern = [list(input()) for _ in range(2)]\n",
    "cnt=0\n",
    "for i in range(2):\n",
    "    for j in range(3):\n",
    "        pattern_board = [[board[i][j],board[i][j+1]],\n",
    "                         [board[i+1][j],board[i+1][j+1]]]\n",
    "        cnt+=is_pattern(pattern_board,pattern)       \n",
    "\n",
    "if cnt:\n",
    "    print(f'발견 {cnt}개')\n",
    "else:\n",
    "    print('미발견')"
   ]
  },
  {
   "cell_type": "code",
   "execution_count": null,
   "metadata": {},
   "outputs": [],
   "source": [
    "# 강사님 코드\n",
    "board = [\n",
    "    ['A','B','G','K'],\n",
    "    ['T','T','A','B'],\n",
    "    ['A','C','T','T']]\n",
    "\n",
    "ptn = [list(input()) for _ in range(2)]\n",
    "\n",
    "def findptn(by,bx):\n",
    "    for dy in range(2):\n",
    "        for dx in range(2):\n",
    "            if board[by+dy][bx+dx]!=ptn[dy][dx]:\n",
    "                return 0\n",
    "    return 1\n",
    "\n",
    "cnt = 0\n",
    "\n",
    "for i in range(2):\n",
    "    for j in range(3):\n",
    "        if findptn(i,j):\n",
    "            cnt+=1\n",
    "            \n",
    "if cnt:\n",
    "    print(f'발견 {cnt}개')\n",
    "else:\n",
    "    print('미발견')"
   ]
  }
 ],
 "metadata": {
  "kernelspec": {
   "display_name": "Python 3",
   "language": "python",
   "name": "python3"
  },
  "language_info": {
   "codemirror_mode": {
    "name": "ipython",
    "version": 3
   },
   "file_extension": ".py",
   "mimetype": "text/x-python",
   "name": "python",
   "nbconvert_exporter": "python",
   "pygments_lexer": "ipython3",
   "version": "3.9.13"
  },
  "orig_nbformat": 4,
  "vscode": {
   "interpreter": {
    "hash": "c4b9ebf4ca459396e2ad1150752490c26670c1a037c08cad955a4425787bec2e"
   }
  }
 },
 "nbformat": 4,
 "nbformat_minor": 2
}
