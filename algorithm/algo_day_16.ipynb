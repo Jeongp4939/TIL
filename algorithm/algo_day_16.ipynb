{
 "cells": [
  {
   "attachments": {},
   "cell_type": "markdown",
   "metadata": {},
   "source": [
    "# 알고리즘 16일차\n",
    "\n",
    "### TREE\n",
    "\n",
    "- 트리\n",
    "- 이진 트리\n",
    "- 이진트리의 표현\n",
    "- 이진 트리의 저장\n",
    "- 이진탐색 트리\n",
    "- 힙"
   ]
  },
  {
   "attachments": {},
   "cell_type": "markdown",
   "metadata": {},
   "source": [
    "### 트리\n",
    "\n",
    "트리의 개념\n",
    "- 비선형 구조\n",
    "- 원소들 간에 1:n 관계를 가지는 자료구조\n",
    "- 원소들 간에 계층 관계를 가지는 계층형 자료구조\n",
    "- 상위 원소에서 하위 원소로 내려가면서 확장되는 트리(나무) 모양의 구조\n",
    "\n",
    "트리-정의\n",
    "- 한개 이상의 노드로 이루어진 유한 집합이며 다음 조건을 만족한다.\n",
    "    - 노드 중 최상위 노드를 루트(root)라 한다.\n",
    "    - 나머지 노드들은 n(>=0)개의 분리 집합 T1,...,TN으로 분리될 수 있다.\n",
    "- 이들 T1, ..., TN 은 각각 하나의 트리가 되며(재귀적 정의) 루트의 부 트리(subtree)라 한다.\n",
    "\n",
    "트리-용어정리\n",
    "- 노드(node) - 트리의 원소\n",
    "- 간선(edge) - 노드를 연결하는 선. 부모 노드와 자식 노드를 연결\n",
    "- 루트 노드(root node) - 트리의 시작 노드\n",
    "- 형제 노드(sibling node) - 같은 부모 노드의 자식 노드들\n",
    "- 조상 노드 - 간선을 따라 루트 노드까지 이르는 경로에 있는 모든 노드들\n",
    "- 서브 트리(subtree) - 부모노드와 연결된 간선을 끊었을 때 생성되는 트리\n",
    "- 자손 노드 - 서브트리에 있는 하위 레벨의 노드들\n",
    "\n",
    "- 차수(degree)\n",
    "    - 노드의 차수 : 노드에 연결된 자식 노드의 수\n",
    "    - 트리의 차수 : 트리에 있는 노드의 차수 중에서 가장 큰 값\n",
    "    - 단말 노드(리프 노드) : 차수가 0인 노드. 자식 노드가 없는 노드\n",
    "\n",
    "- 높이\n",
    "    - 노드의 높이 : 루트에서 노드에 이르는 간선의 수. 노드의 레벨\n",
    "    - 트리의 높이 : 트리에 있는 노드의 높이 중에서 가장 크 값. 최대 레벨\n"
   ]
  },
  {
   "attachments": {},
   "cell_type": "markdown",
   "metadata": {},
   "source": [
    "### 이진트리\n",
    "- 모든 노드들이 2개의 서브트리를 갖는 특별한 형태의 트리\n",
    "- 각 노드가 자식 노드를 최대한 2개 까지만 가질 수 있는 트리\n",
    "    - 왼쪽 자식 노드(left child node)\n",
    "    - 오른쪽 자식 노드(right child node)\n",
    "    <br></br>\n",
    "    \n",
    "- 레벨 i에서의 노드의 최대 개수는 2^i개\n",
    "- 높이가 h인 이진 트리가 가질 수 있는 노드의 최소 개수는 (h+1)개가 되며, 최대 개수는 (2^(h+1)-1)개가 된다.\n",
    "<br></br>\n",
    "- 포화 이진 트리(Full Binary Tree)\n",
    "    - 모든 레벨에 노드가 포화상태로 차 있는 이진 트리\n",
    "    - 높이가 h일 때, 최대의 노드 개수인 (2^(h+1)-1) 노드를 가진 이진 트리\n",
    "    - 루트를 1번으로 하여 h^(h+1)-1까지 정해진 위치에 대한 노드 번호를 가짐\n",
    "<br></br>\n",
    "\n",
    "- 완전 이진 트리(Complete Binary Tree)\n",
    "    - 높이가 h이고 노드의 수가 n개일 때 (단, 2^h <=n<2^(h+1)-1), 포화 이진 트리의 노드 번호 1번부터 n번까지 빈 자리가 없는 이진 트리\n",
    "<br></br>\n",
    "- 편향 이진 트리(Skewed Binary Tree)\n",
    "    - 높이 h에 대한 최소 개수의 노드를 가지면서 한쪽 방향의 자식 노드만을 가진 이진 트리\n",
    "        - 왼쪽 편향 이진 트리\n",
    "        - 오른쪽 편향 이진 트리"
   ]
  },
  {
   "attachments": {},
   "cell_type": "markdown",
   "metadata": {},
   "source": [
    "#### 이진트리 - 순회(traversal)\n",
    "- 순회(traversal)란 트리의 각 노드를 중복되지 않게 전부 방문(visit) 하는것\n",
    "- 트리는 비 선형 구조이므로 선형구조에서와 같이 선후 연결 관계를 알 수 없다.\n",
    "\n",
    "- 순회(traversal) : 트리의 노드들을 체계적으로 방문하는 것\n",
    "- 3가지의 기본적인 순회 방법\n",
    "    - 전위순회(preorder traversal) : VLR\n",
    "        - 부모노드 방문 후, 자식노드를 좌,우 순서로 방문\n",
    "    - 중위순회(inorder traversal) : LVR\n",
    "        - 왼쪽 자식노드, 부모노드, 오른쪽 자식노드 순으로 방문한다.\n",
    "    - 후위순회(postorder traversal) : LRV\n",
    "        - 자식노드를 좌우 순서로 방문한 후, 부모노드로 방문"
   ]
  },
  {
   "attachments": {},
   "cell_type": "markdown",
   "metadata": {},
   "source": [
    "전위 순회(preorder traversal)\n",
    "- 수행 방법\n",
    "    - 현재 노드 n을 방문하여 처리 -> V\n",
    "    - 현재 노드 n의 왼쪽 서브트리로 이동 -> L\n",
    "    - 현재 노드 n의 오른쪽 서브트리로 이동 -> R\n",
    "- 전위 순회 알고리즘\n",
    "\n",
    "```python\n",
    "def preorder_traverse(T): # 전위 순회\n",
    "    if T :  # T is not None\n",
    "        visit(T)    # print(T.item)\n",
    "        preorder_traverse(T.left)\n",
    "        preorder_traverse(T.right)\n",
    "```"
   ]
  },
  {
   "attachments": {},
   "cell_type": "markdown",
   "metadata": {},
   "source": [
    "중위 순회(preorder traversal)\n",
    "- 수행 방법\n",
    "    - 현재 노드 n의 왼쪽 서브트리로 이동 -> L\n",
    "    - 현재 노드 n을 방문하여 처리 -> V\n",
    "    - 현재 노드 n의 오른쪽 서브트리로 이동 -> R\n",
    "- 중위 순회 알고리즘\n",
    "\n",
    "```python\n",
    "def inorder_traverse(T): # 중위 순회\n",
    "    if T :  # T is not None\n",
    "        inorder_traverse(T.left)\n",
    "        visit(T)    # print(T.item)\n",
    "        inorder_traverse(T.right)\n",
    "```"
   ]
  },
  {
   "attachments": {},
   "cell_type": "markdown",
   "metadata": {},
   "source": [
    "    \n",
    "후위 순회(preorder traversal)\n",
    "- 수행 방법\n",
    "    - 현재 노드 n의 왼쪽 서브트리로 이동 -> L\n",
    "    - 현재 노드 n의 오른쪽 서브트리로 이동 -> R\n",
    "    - 현재 노드 n을 방문하여 처리 -> V\n",
    "- 후위 순회 알고리즘\n",
    "\n",
    "```python\n",
    "def postorder_traverse(T): # 중위 순회\n",
    "    if T :  # T is not None\n",
    "        postorder_traverse(T.left)\n",
    "        postorder_traverse(T.right)\n",
    "        visit(T)    # print(T.item)\n",
    "```"
   ]
  },
  {
   "attachments": {},
   "cell_type": "markdown",
   "metadata": {},
   "source": [
    "### 이진트리의 표현\n",
    "\n",
    "- 배열을 이용한 이진 트리의 표현\n",
    "    - 루트의 번호를 1\n",
    "    - 레벨 n에 있는 노드에 대하여 왼쪽부터 오른쪽으로 2^n부터 2^(n+1)-1까지 번호를 차례로 부여\n",
    "\n",
    "- 노드 번호의 성징\n",
    "    - 노드 번호가 i 인 노드의 부모 노드 번호 : i//2\n",
    "    - 노드 번호가 i 인 노드의 왼쪽 자식 노드 번호 : i*2\n",
    "    - 노드 번호가 i 인 노드의 오른쪽 자식 노드 번호 : i*2+1\n",
    "    - 레벨 n의 시작 노드의 번호 : 2^n\n",
    "\n",
    "- 배열을 이용한 이진 트리 표현의 단점\n",
    "    - 편향 이진 트리의 경우에 사용하지 않는 배열 원소에 대한 메모리 공간 낭비 발생\n",
    "    - 트리의 중간에 새로운 노드를 삽입하거나 기존의 노드를 삭제할 경우 배열의 크기 변경 어려워 비효율적"
   ]
  },
  {
   "attachments": {},
   "cell_type": "markdown",
   "metadata": {},
   "source": [
    "- 배열을 이용한 이진 트리의 표현의 단점을 보완하기 위해 연결리스트를 이용하여 트리를 표현\n",
    "\n",
    "- 연결 자료구조를 이용한 이진트리의 표현\n",
    "    - 이진 트리의 모든 노드는 최대 2개의 자식 노드를 가지므로 일정한 구조의 단순 연결 리스트 노드를 사용하여 구현\n",
    "    - 왼쪽자식노드(left), 데이터 , 오른쪽 자식노드(right)\n"
   ]
  },
  {
   "cell_type": "code",
   "execution_count": null,
   "metadata": {},
   "outputs": [],
   "source": []
  }
 ],
 "metadata": {
  "language_info": {
   "name": "python"
  },
  "orig_nbformat": 4
 },
 "nbformat": 4,
 "nbformat_minor": 2
}
