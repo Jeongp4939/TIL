{
 "cells": [
  {
   "attachments": {},
   "cell_type": "markdown",
   "metadata": {},
   "source": [
    "# 알고리즘 12일 차\n",
    "\n",
    "### 분할 정복 알고리즘\n",
    "- 설계 전략\n",
    "    - 분할(Divide) : 해결할 문제를 여러 개의 작은 부분으로 나눔\n",
    "    - 정복(Conquer) : 나눈 작은 문제를 각각 해결\n",
    "    - 통합(Combine) : (필요하다면) 해결된 해답을 모음\n",
    "\n",
    "- 거듭제곱(Exponentiation)\n",
    "    ```python\n",
    "    def Power(Base, Exponent):\n",
    "        if Base == 0:\n",
    "            return 1\n",
    "        result = 1 # Base^0은 1이므로\n",
    "        for i in range(Exponent):\n",
    "            result *= Base\n",
    "        return result\n",
    "    ```\n",
    "\n",
    "    ```python\n",
    "\n",
    "    def Power(Base, Exponent):\n",
    "        if Exponent == 0 or Base == 0:\n",
    "            return 1\n",
    "        if Exponene % 2 == 0:\n",
    "            NewBase = Power(Base, Exponent/2)\n",
    "            return NewBase * NewBase\n",
    "        else:\n",
    "            NewBase = Power(Base, (Exponent-1)/2)\n",
    "            return (NewBase*NewBase)*Base\n",
    "    ```"
   ]
  },
  {
   "attachments": {},
   "cell_type": "markdown",
   "metadata": {},
   "source": [
    "### 퀵 정렬\n",
    "- 주어진 배열을 두 개로 분할하고, 각각을 정렬한다.\n",
    "\n",
    "- 합병정렬과 다른 점\n",
    "    - 합병정렬은 그냥 두 부분으로 나누는 반면에, 퀵 정렬은 분할할 때, 기준 아이템(pivot item) 중신으로, 이보다 작은 것은 왼편, 큰 것은 오른편에 위치시킨다.\n",
    "    \n",
    "    - 각 부분 정렬이 끝난 후, 합병정렬은 \"합병\"이란 후처리 작업이 필요하나, 퀵 정렬은 필요로 하지 않는다."
   ]
  },
  {
   "cell_type": "code",
   "execution_count": 2,
   "metadata": {},
   "outputs": [],
   "source": [
    "# 퀵 정렬 알고리즘\n",
    "def quickSort(a,begin,end):\n",
    "    if begin < end:\n",
    "        p = partition(a,begin,end)\n",
    "        quickSort(a,begin,p-1)\n",
    "        quickSort(a,p+1,end)\n",
    "\n",
    "def partition(a,begin,end):\n",
    "    pivot = (begin+end)//2\n",
    "    L = begin\n",
    "    R = end\n",
    "\n",
    "    while L<R:\n",
    "        while(L<R and a[L]<a[pivot]) : L+=1\n",
    "        while(L<R and a[R]>=a[pivot]) : R-=1\n",
    "\n",
    "        if L<R:\n",
    "            if L==pivot: pivot=R\n",
    "            a[L],a[R] = a[R],a[L]\n",
    "    a[pivot],a[R] = a[R],a[pivot]\n",
    "    return R\n"
   ]
  },
  {
   "attachments": {},
   "cell_type": "markdown",
   "metadata": {},
   "source": [
    "- 퀵정렬의 최악의 시간 복잡도는 O(n^2)으로, 합병정렬에 비해 좋지 못하다.\n",
    "- 퀵정렬의 평균 복잡도는 O(nlogn)\n",
    "- 분할정복을 이용한 정렬"
   ]
  },
  {
   "attachments": {},
   "cell_type": "markdown",
   "metadata": {},
   "source": [
    "# 오프라인\n",
    "\n",
    "-"
   ]
  },
  {
   "cell_type": "markdown",
   "metadata": {},
   "source": []
  }
 ],
 "metadata": {
  "kernelspec": {
   "display_name": "Python 3",
   "language": "python",
   "name": "python3"
  },
  "language_info": {
   "codemirror_mode": {
    "name": "ipython",
    "version": 3
   },
   "file_extension": ".py",
   "mimetype": "text/x-python",
   "name": "python",
   "nbconvert_exporter": "python",
   "pygments_lexer": "ipython3",
   "version": "3.9.13"
  },
  "orig_nbformat": 4,
  "vscode": {
   "interpreter": {
    "hash": "c4b9ebf4ca459396e2ad1150752490c26670c1a037c08cad955a4425787bec2e"
   }
  }
 },
 "nbformat": 4,
 "nbformat_minor": 2
}
