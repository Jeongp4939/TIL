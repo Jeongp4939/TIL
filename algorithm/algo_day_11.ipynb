{
 "cells": [
  {
   "attachments": {},
   "cell_type": "markdown",
   "metadata": {},
   "source": [
    "# 알고리즘 11일차\n",
    "\n",
    "#### 계산기 1\n",
    "\n",
    "- 문자열로 된 계산식이 주어질 때, 스택을 이용하여 이 계산식의 값을 계산할 수 있다.\n",
    "- 문자열 수식 계산의 일반적 방법\n",
    "    - 중위 표기법의 수식을 후위 표기법으로 변경한다.(스택 이용)\n",
    "    - 후위 표기법의 수식을 스택을 이용하여 계산한다.\n",
    "\n",
    "- 중위 표기법(infix notation)\n",
    "    - 연산자를 피연산자의 가운데 표기하는 방법\n",
    "        - ex) A+B\n",
    "- 후위 표기법(postfix notation)\n",
    "    - 연산자를 피연산자 뒤에 표기하는 방법\n",
    "        - AB+"
   ]
  },
  {
   "attachments": {},
   "cell_type": "markdown",
   "metadata": {},
   "source": [
    "#### step1. 중위표기식의 후기표기식 변환\n",
    "- 수식의 각 연산자에 대해 우선순위에 따라 괄호를 사용하여 다시 표현\n",
    "- 각 연산자를 그에 대응하는 오른쪽 괄호의 뒤로 이동\n",
    "- 괄호를 제거\n",
    "\n",
    "##### 중위표기식의 후기표기식 변환(스택이용)\n",
    "1. 입력 받은 중위 표기식에서 토큰을 읽는다\n",
    "\n",
    "2. 토큰이 피연산자 이면 토큰을 출력한다\n",
    "\n",
    "3. 토큰이 연산자(괄호포함)일 때, 이 토큰이 스택의 top에 저장되어 있는 연산자보다 우선순위가 높으면 스택에 push하고, 그렇지 않다면 스택 top의 연산자의 우선순위 토큰의 우선순위보다 작을 때까지 스택에서 pop 한 후 토큰의 연산자를 push\n",
    "    - 만약 top에 연산자가 없으면 push한다\n",
    "\n",
    "4. 토큰이 오른쪽 괄호')' 이면 스택 top에 왼쪽 괄호'('가 올 때까지 스택에 연산수행하고 pop한 연산자를 출력한다. 왼쪽 괄호를 만나면 pop 만 하고 출력하지는 않는다.\n",
    "\n",
    "5. 주우이 표기식에 더 읽을 것이 없다면 중지하고, 더 읽을 것이 있다면 1부터 다시 반복한다.\n",
    "\n",
    "6. 스택에 남아있는 연산자를 모두 pop하여 출력한다.\n",
    "    - 스택 밖의 왼쪽 괄호는 우선 순위가 가장 높으며, 스택 안의 왼쪽 괄호는 우선순위가 가장 낮다.\n"
   ]
  },
  {
   "attachments": {},
   "cell_type": "markdown",
   "metadata": {},
   "source": [
    "#### step2. 후위 표기법의 수식을 스택을 이용하여 계산\n",
    "- 피연산자를 만나면 스택에 push\n",
    "- 연산자를 만나면 필요한 만큼의 피연산자를 스택에서 pop하여 연산하고, 연산결과를 다시 스택에 push\n",
    "- 수식이 끝나면, 마지막으로 스택을 pop하여 출력"
   ]
  },
  {
   "attachments": {},
   "cell_type": "markdown",
   "metadata": {},
   "source": [
    "### 백트래킹(Backtracking)\n",
    "- 해를 찾는 도중에 '막히면'(즉, 해가 아니면) 되돌아가서 다시 해를 찾아가는 기법\n",
    "- 백트래킹 기법은 최적화(optimization) 문제와 결정(decision)문제를 해결할 수 있다.\n",
    "- 결정 문제 : 문제의 조건을 만족하는 해가 존재하는지의 여부를 'yes' 또는 'no'가 답하는 문제\n",
    "    - 미로 찾기\n",
    "    - n-Queen 문제\n",
    "    - Map coloring\n",
    "    - 부분 집합의 합(Subset Sum) 문제 등\n"
   ]
  },
  {
   "attachments": {},
   "cell_type": "markdown",
   "metadata": {},
   "source": [
    "### 백트래킹과 깊이우선탐색(DFS)와 차이\n",
    "- 어떤 노드에서 출발하는 경로가 해결책으로 이어질 것 같지 않으면 더 이상 그 경로를 따라가지 않음으로써 시도의 횟수를 줄임(Prunning 가지치기)\n",
    "- 깊이우선탐색이 모든 경로를 추적하는데 비해 백트래킹은 불필요한 경로를 조기에 차단\n",
    "- 깊이우선탐색을 가하기에는 경우의 수가 너무나 많음. 즉, N! 가지의 경우의 수를 가진 문제에 대해 깊이우선탐색을 가하면 당연히 처리 불가능한 문제\n",
    "- 백트래킹 알고리즘을 적용하면 일반적으로 경우의 수가 줄어들지만 이 역시 최악의 경우에는 여전히 지수함수 시간(Exponential Time)을 요하므로 처리 불가능"
   ]
  },
  {
   "attachments": {},
   "cell_type": "markdown",
   "metadata": {},
   "source": [
    "#### 백트래킹 기법\n",
    "- 어떤 노드의 유망성을 점검한 후에 유망(promising)하지 않다고 결정되면 그 노드의 부모로 되돌아가(backtracking) 다음 자식 노드로 감\n",
    "- 어떤 노드를 방문하였을 때 그 노드를 포함한 경로가 해답이 될 수 없으면 그 노드는 유망하지 않다고 하며, 반대로 해답의 가능성이 있으면 유망하다고 한다.\n",
    "- 가지치기(prunning): 유망하지 않는 노드가 포함되는 경로는 더이상 고려하지 않는다.\n",
    "\n",
    "#### 백트래킹을 이용한 알고리즘 진행 절차\n",
    "1. 상태 공간 트리의 깊이 우선 검색을 실시한다.\n",
    "2. 각 노드가 유망한지를 점검한다.\n",
    "3. 만일 그 노드가 유망하지 않으면, 그 노드의 부모 노드로 돌아가서 검색을 계속한다."
   ]
  },
  {
   "attachments": {},
   "cell_type": "markdown",
   "metadata": {},
   "source": [
    "### 부분집합 구하기\n",
    "- 어떤 집합의 공집합과 자기자신을 포함한 모든 부분집합을 powerset이라고 하며 구하고자 하는 어떤 집합의 원소 개수가 n일 경우 부분집합의 개수는 2^n개이다.\n",
    "\n",
    "##### 백트래킹 기법으로 powerset을 구해보자\n",
    "- 앞에서 설명한 일반적인 백트래킹 접근 방법을 이용\n",
    "- n개의 원소가 들어있는 집합의 2^n개의 부분집합을 만들 떄는, True 또는 False 값을 가지는 항목들로 구성된 n개의 배열을 만든는 방법을 이용\n",
    "- 여기서 배열의 i번째 항목은 i번쨰의 원소가 부분집합의 값인지 아닌지를 나타내는 값"
   ]
  },
  {
   "attachments": {},
   "cell_type": "markdown",
   "metadata": {},
   "source": [
    "```python\n",
    "def backtrack(a,k,input):\n",
    "    global MAXCANDIDATES\n",
    "    c = [0]*MAXCANDIDATES\n",
    "    \n",
    "    if k == input:\n",
    "        process_solution(a,k) # 답이면 원하는 작업을 진행\n",
    "    else:\n",
    "        k+=1\n",
    "        ncnadidates=construct_candidates(a,k,input,c)\n",
    "        for i in range(ncnadidates):\n",
    "            a[k] = c[i]\n",
    "            backtrack(a,k,input)\n",
    "```\n",
    "\n",
    "```python\n",
    "def construct_candidates(a,k,input,c):\n",
    "    c[0] = True\n",
    "    c[1] = False\n",
    "    return 2\n",
    "\n",
    "MAXCANDIDATES = 2\n",
    "NMAX = 4\n",
    "a = [0]*NMAX\n",
    "backtrack(a,0,3)\n",
    "```"
   ]
  },
  {
   "cell_type": "code",
   "execution_count": 2,
   "metadata": {},
   "outputs": [
    {
     "name": "stdout",
     "output_type": "stream",
     "text": [
      "1 2 3 \n",
      "1 3 2 \n",
      "2 1 3 \n",
      "2 3 1 \n",
      "3 1 2 \n",
      "3 2 1 \n"
     ]
    }
   ],
   "source": [
    "def backtrack(a,k,input):\n",
    "    global MAXCANDIDATES\n",
    "    c = [0]*MAXCANDIDATES\n",
    "    \n",
    "    if k == input:\n",
    "        for i in range(1,k+1):\n",
    "            print(a[i],end=\" \")\n",
    "        print()\n",
    "    else:\n",
    "        k+=1\n",
    "        ncnadidates=construct_candidates(a,k,input,c)\n",
    "        for i in range(ncnadidates):\n",
    "            a[k] = c[i]\n",
    "            backtrack(a,k,input)\n",
    "\n",
    "def construct_candidates(a,k,input,c):\n",
    "    in_perm = [False] * NMAX\n",
    "    \n",
    "    for i in range(1,k):\n",
    "        in_perm[a[i]] = True\n",
    "        \n",
    "    ncandidates = 0\n",
    "    for i in range(1, input+1):\n",
    "        if in_perm[i] == False:\n",
    "            c[ncandidates]=i\n",
    "            ncandidates += 1\n",
    "    return ncandidates\n",
    "\n",
    "MAXCANDIDATES = 10\n",
    "NMAX = 11\n",
    "a = [0]*NMAX\n",
    "backtrack(a,0,3)"
   ]
  },
  {
   "attachments": {},
   "cell_type": "markdown",
   "metadata": {},
   "source": [
    "# 오프라인\n",
    "\n"
   ]
  },
  {
   "cell_type": "code",
   "execution_count": 12,
   "metadata": {},
   "outputs": [
    {
     "name": "stdout",
     "output_type": "stream",
     "text": [
      "7\n"
     ]
    }
   ],
   "source": [
    "arr=[[4,5,2],\n",
    "     [-2,1,6],\n",
    "     [3,9,-4],\n",
    "     [3,5,2]]\n",
    "\n",
    "def abc(level,sum=0):\n",
    "    global cnt\n",
    "    if level == 4:\n",
    "        if sum>20:\n",
    "            cnt+=1\n",
    "        return\n",
    "    for i in range(3):\n",
    "        abc(level+1,sum+arr[level][i])\n",
    "        \n",
    "cnt = 0\n",
    "abc(0)\n",
    "print(cnt)\n"
   ]
  },
  {
   "cell_type": "code",
   "execution_count": 18,
   "metadata": {},
   "outputs": [
    {
     "name": "stdout",
     "output_type": "stream",
     "text": [
      "3600\n"
     ]
    }
   ],
   "source": [
    "arr=[[3,5,9],\n",
    "     [7,-8,1],\n",
    "     [-10,2,3],\n",
    "     [5,1,2]]\n",
    "\n",
    "def dfs(level, mul=1):\n",
    "    global Max\n",
    "    if level == 4:\n",
    "        if mul>Max:\n",
    "            Max=mul\n",
    "        return\n",
    "    for i in range(3):\n",
    "        dfs(level+1,mul*arr[level][i])\n",
    "\n",
    "        \n",
    "Max=int(-28e10)\n",
    "dfs(0)\n",
    "print(Max)\n"
   ]
  },
  {
   "cell_type": "code",
   "execution_count": 24,
   "metadata": {},
   "outputs": [
    {
     "name": "stdout",
     "output_type": "stream",
     "text": [
      "11\n"
     ]
    }
   ],
   "source": [
    "# 아래 대각선 좌우로 한칸 이동\n",
    "# 합이 30보다 큰 경우는 몇가지인지\n",
    "# 시작지점은 모든 지점에서 가능 -> for문으로 진행\n",
    "\n",
    "# dy=[1,1,1]\n",
    "dx=[0,-1,1]\n",
    "\n",
    "arr=[[3,5,9,6],\n",
    "     [7,-8,1,6],\n",
    "     [-10,2,3,9],\n",
    "     [5,1,2,8],\n",
    "     [4,7,1,8]]\n",
    "\n",
    "def dfs(level,idx=0,sum=0):\n",
    "    global cnt\n",
    "    if level==5:\n",
    "        if sum>30:\n",
    "            cnt+=1\n",
    "        return\n",
    "    if level==0:\n",
    "        for i in range(4):\n",
    "            dfs(level+1,i,sum+arr[level][i])\n",
    "    else:\n",
    "        for i in range(3):\n",
    "            if 0<=idx+dx[i]<4:\n",
    "                dfs(level+1,idx+dx[i],sum+arr[level][idx+dx[i]])\n",
    "            \n",
    "cnt = 0\n",
    "dfs(0)\n",
    "\n",
    "print(cnt)"
   ]
  },
  {
   "cell_type": "code",
   "execution_count": null,
   "metadata": {},
   "outputs": [],
   "source": [
    "# 교수님 코드 - 잘못되서 수정\n",
    "\n",
    "# 위에서 부터 한칸 씩 내려오면서\n",
    "# 숫자 한개씩을 선택합니다.\n",
    "# 계단을 밑으로 내려오면서 이동할 수 있는 범위는\n",
    "# 7시방향 6시방향 5시방향 입니다.\n",
    "# 선택한 숫자들을 모두 더했을 때\n",
    "# 합이 30 이상인 경우가 몇가지 인지 출력해 주세요\n",
    "\n",
    "arr=[[3,5,9,6],\n",
    "     [7,-8,1,6],\n",
    "     [-10,2,3,9],\n",
    "     [5,1,2,8],\n",
    "     [4,7,1,8]]\n",
    "path=[]\n",
    "cnt=0\n",
    "def dfs(now,level,sum):\n",
    "     global cnt\n",
    "     if level==5:\n",
    "          if sum>30:\n",
    "               cnt+=1\n",
    "               print(*path)\n",
    "          return\n",
    "     for i in range(3):\n",
    "         direct=[-1,0,1]\n",
    "         dy=level\n",
    "         dx=now+direct[i]\n",
    "         if dx<0 or dx>3: continue\n",
    "         path.append(arr[dy][dx])\n",
    "         dfs(dx,level+1,sum+arr[dy][dx])\n",
    "         path.pop()\n",
    "\n",
    "for i in range(4):\n",
    "     dfs(i,0,0)     #now level sum\n",
    "print(cnt)"
   ]
  },
  {
   "cell_type": "code",
   "execution_count": null,
   "metadata": {},
   "outputs": [],
   "source": [
    "# 수정된 코드\n",
    "\n",
    "# 위에서 부터 한칸 씩 내려오면서\n",
    "# 숫자 한개씩을 선택합니다.\n",
    "# 계단을 밑으로 내려오면서 이동할 수 있는 범위는\n",
    "# 7시방향 6시방향 5시방향 입니다.\n",
    "# 선택한 숫자들을 모두 더했을 때\n",
    "# 합이 30 이상인 경우가 몇가지 인지 출력해 주세요\n",
    "\n",
    "arr=[[3,5,9,6],\n",
    "     [7,-8,1,6],\n",
    "     [-10,2,3,9],\n",
    "     [5,1,2,8],\n",
    "     [4,7,1,8]]\n",
    "path=[]\n",
    "cnt=0\n",
    "def dfs(now,level,sum):\n",
    "     global cnt\n",
    "     if level==5:\n",
    "          if sum>30:\n",
    "               cnt+=1\n",
    "               print(*path)\n",
    "          return\n",
    "     for i in range(3):\n",
    "         direct=[-1,0,1]\n",
    "         dy=level\n",
    "         dx=now+direct[i]\n",
    "         if dx<0 or dx>3: continue\n",
    "         path.append(arr[dy][dx])\n",
    "         dfs(dx,level+1,sum+arr[dy][dx])\n",
    "         path.pop()\n",
    "\n",
    "for i in range(4):\n",
    "     dfs(i,1,arr[0][i])     #now level sum\n",
    "print(cnt)"
   ]
  },
  {
   "cell_type": "code",
   "execution_count": 16,
   "metadata": {},
   "outputs": [
    {
     "data": {
      "text/plain": [
       "1"
      ]
     },
     "execution_count": 16,
     "metadata": {},
     "output_type": "execute_result"
    }
   ],
   "source": [
    "arr=[[0,0,0,0],\n",
    "     [1,0,1,0],\n",
    "     [1,0,1,0],\n",
    "     [0,0,0,0]]\n",
    "\n",
    "dy,dx=[-1,1,0,0],[0,0,-1,1]\n",
    "\n",
    "def to_goal(y,x):\n",
    "    stack = [[y,x]]\n",
    "    \n",
    "    while stack:\n",
    "        y,x = stack.pop()\n",
    "\n",
    "        if y==3 and x==3:\n",
    "            return 1\n",
    "        for i in range(4):\n",
    "            ny=y+dy[i]\n",
    "            nx=x+dx[i]\n",
    "            if 0<=ny<4 and 0<=nx<4 and arr[ny][nx]!=1:\n",
    "                arr[ny][nx] = 1\n",
    "                stack.append([ny,nx])\n",
    "    return 0\n",
    "\n",
    "to_goal(0,0)"
   ]
  },
  {
   "cell_type": "code",
   "execution_count": 15,
   "metadata": {},
   "outputs": [
    {
     "name": "stdout",
     "output_type": "stream",
     "text": [
      "도착가능\n"
     ]
    }
   ],
   "source": [
    "# 0,0 에서 출발해서 3,3까지 도착하고자 한다.\n",
    "# 방탈출이 가능한지 불가능 한지 출력해 주세요\n",
    "\n",
    "arr=[[0,0,0,0],\n",
    "     [1,0,1,0],\n",
    "     [1,0,1,0],\n",
    "     [0,0,0,0]]\n",
    "visited = [[0]*4 for _ in range(4)]\n",
    "dy,dx=[-1,1,0,0],[0,0,-1,1]\n",
    "flag=0\n",
    "\n",
    "def dfs(y,x):\n",
    "    global flag\n",
    "\n",
    "    if y==3 and x==3:\n",
    "        flag=1\n",
    "        return 1\n",
    "    for i in range(4):\n",
    "        ny=y+dy[i]\n",
    "        nx=x+dx[i]\n",
    "        if 0<=ny<4 and 0<=nx<4 and arr[ny][nx]!=1 and visited[ny][nx]!=1:\n",
    "            visited[ny][nx]=1\n",
    "            dfs(ny,nx)\n",
    "            if flag:\n",
    "                return\n",
    "\n",
    "dfs(0,0)\n",
    "if flag:\n",
    "    print('도착가능')\n",
    "else:\n",
    "    print('불가능')"
   ]
  },
  {
   "cell_type": "code",
   "execution_count": 34,
   "metadata": {},
   "outputs": [
    {
     "name": "stdout",
     "output_type": "stream",
     "text": [
      "4\n"
     ]
    }
   ],
   "source": [
    "arr = [[0,0,0,0,1],\n",
    "       [1,0,1,3,1],\n",
    "       [1,0,1,0,1],\n",
    "       [1,0,1,0,1],\n",
    "       [0,0,0,0,0]]\n",
    "\n",
    "dy,dx=[-1,1,0,0],[0,0,-1,1]\n",
    "\n",
    "def dfs_maze(y,x,cnt=0):\n",
    "    global Min\n",
    "    if arr[y][x]==3:\n",
    "        if cnt<Min:\n",
    "            Min = cnt\n",
    "        return\n",
    "    \n",
    "    for i in range(4):\n",
    "        ny = y+dy[i]\n",
    "        nx = x+dx[i]\n",
    "        if 0<=ny<5 and 0<=nx<5 and arr[ny][nx]!=1:\n",
    "            if arr[ny][nx] == 3:\n",
    "                cnt+=1\n",
    "                if cnt<Min:\n",
    "                    Min = cnt\n",
    "                return\n",
    "            arr[ny][nx]=1\n",
    "            dfs_maze(ny,nx,cnt+1)\n",
    "            arr[ny][nx]=0\n",
    "            \n",
    "Min = 28e10\n",
    "dfs_maze(0,0)\n",
    "print(Min)\n"
   ]
  },
  {
   "cell_type": "code",
   "execution_count": null,
   "metadata": {},
   "outputs": [],
   "source": []
  }
 ],
 "metadata": {
  "kernelspec": {
   "display_name": "Python 3",
   "language": "python",
   "name": "python3"
  },
  "language_info": {
   "codemirror_mode": {
    "name": "ipython",
    "version": 3
   },
   "file_extension": ".py",
   "mimetype": "text/x-python",
   "name": "python",
   "nbconvert_exporter": "python",
   "pygments_lexer": "ipython3",
   "version": "3.9.13"
  },
  "orig_nbformat": 4,
  "vscode": {
   "interpreter": {
    "hash": "c4b9ebf4ca459396e2ad1150752490c26670c1a037c08cad955a4425787bec2e"
   }
  }
 },
 "nbformat": 4,
 "nbformat_minor": 2
}
