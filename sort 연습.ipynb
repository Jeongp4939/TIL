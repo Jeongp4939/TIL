{
 "cells": [
  {
   "cell_type": "code",
   "execution_count": 3,
   "metadata": {},
   "outputs": [
    {
     "name": "stdout",
     "output_type": "stream",
     "text": [
      "['A', 'AA', 'B', 'B', 'BB', 'C', 'DD', 'E', 'F', 'G']\n"
     ]
    }
   ],
   "source": [
    "# 1. 람다 함수를 사용하여 아래와 같이 정렬해서 출력해 주세요\n",
    "# 출력결과: ['A', 'AA', 'B', 'B', 'BB', 'C', 'DD', 'E', 'F', 'G']\n",
    "arr=['A','C','B','F','BB','G','DD','E','B','AA']\n",
    "# 1. 정답을 아래에 적어 주세요\n",
    "\n",
    "print(sorted(arr,key=lambda x:(x,len(x))))"
   ]
  },
  {
   "cell_type": "code",
   "execution_count": 4,
   "metadata": {},
   "outputs": [
    {
     "name": "stdout",
     "output_type": "stream",
     "text": [
      "['A', 'B', 'B', 'C', 'E', 'F', 'G', 'AA', 'BB', 'DD']\n"
     ]
    }
   ],
   "source": [
    "# 2. 람다 함수를 사용하여 아래와 같이 정렬해서 출력해 주세요\n",
    "# 출력결과: ['A', 'B', 'B', 'C', 'E', 'F', 'G', 'AA', 'BB', 'DD']\n",
    "arr=['A','C','B','F','BB','G','DD','E','B','AA']\n",
    "# 2. 정답을 아래에 적어 주세요\n",
    "\n",
    "print(sorted(arr,key=lambda x:(len(x),x)))"
   ]
  },
  {
   "cell_type": "code",
   "execution_count": 14,
   "metadata": {},
   "outputs": [
    {
     "name": "stdout",
     "output_type": "stream",
     "text": [
      "['AA', 'BB', 'DD', 'A', 'B', 'B', 'C', 'E', 'F', 'G']\n"
     ]
    }
   ],
   "source": [
    "# 3. 람다 함수를 사용하여 아래와 같이 정렬해서 출력해 주세요\n",
    "# 출력결과: ['AA', 'BB', 'DD', 'A', 'B', 'B', 'C', 'E', 'F', 'G']\n",
    "arr=['A','C','B','F','BB','G','DD','E','B','AA']\n",
    "# 3. 정답을 아래에 적어 주세요\n",
    "\n",
    "# print(sorted(sorted(arr,key=lambda x:x),key=lambda x:len(x), reverse=True))\n",
    "print(sorted(arr,key=lambda x:(-len(x),x)))"
   ]
  },
  {
   "cell_type": "code",
   "execution_count": 18,
   "metadata": {},
   "outputs": [
    {
     "name": "stdout",
     "output_type": "stream",
     "text": [
      "['G', 'F', 'E', 'C', 'B', 'B', 'A', 'DD', 'BB', 'AA']\n"
     ]
    }
   ],
   "source": [
    "# 4. 람다 함수를 사용하여 아래와 같이 정렬해서 출력해 주세요\n",
    "# 출력결과: ['G', 'F', 'E', 'C', 'B', 'B', 'A', 'DD', 'BB', 'AA']\n",
    "arr=['A','C','B','F','BB','G','DD','E','B','AA']\n",
    "# 4. 정답을 아래에 적어 주세요\n",
    "print(sorted(arr, key = lambda x:(-len(x),x), reverse=True))"
   ]
  },
  {
   "cell_type": "code",
   "execution_count": 19,
   "metadata": {},
   "outputs": [
    {
     "name": "stdout",
     "output_type": "stream",
     "text": [
      "[(0, 3), (0, 1), (1, 3), (1, 4), (1, 5), (2, 4)]\n"
     ]
    }
   ],
   "source": [
    "# 5. 람다 함수를 사용하여 아래와 같이 정렬해서 출력해 주세요 (튜플의 첫번째 값을 기준으로 정렬)\n",
    "# 출력결과: [(0, 3), (0, 1), (1, 3), (1, 4), (1, 5), (2, 4)]\n",
    "arr=[(1,3),(0,3),(1,4),(1,5),(0,1),(2,4)]\n",
    "# 5. 정답을 아래에 적어 주세요\n",
    "\n",
    "print(sorted(arr,key=lambda x: x[0]))"
   ]
  },
  {
   "cell_type": "code",
   "execution_count": 20,
   "metadata": {},
   "outputs": [
    {
     "name": "stdout",
     "output_type": "stream",
     "text": [
      "[(0, 1), (0, 3), (1, 3), (1, 4), (1, 5), (2, 4)]\n"
     ]
    }
   ],
   "source": [
    "# 6. 람다 함수를 사용하여 아래와 같이 정렬해서 출력해 주세요 ( 우선순위 1. 튜플의 첫번째 값 / 우선순위 2. 두번째 값)\n",
    "# 출력결과: [(0, 1), (0, 3), (1, 3), (1, 4), (1, 5), (2, 4)]\n",
    "arr=[(1,3),(0,3),(1,4),(1,5),(0,1),(2,4)]\n",
    "# 6. 정답을 아래에 적어 주세요\n",
    "print(sorted(arr,key=lambda x:(x[0],x[1])))\n"
   ]
  },
  {
   "cell_type": "code",
   "execution_count": 25,
   "metadata": {},
   "outputs": [
    {
     "name": "stdout",
     "output_type": "stream",
     "text": [
      "['A', 'A', 'A', 'Y', 'Y', 'Y', 'Z', 'Z', 'B', 'T']\n"
     ]
    }
   ],
   "source": [
    "# 7. 빈도수가 가장 많은 문자우선순위로 정렬하기\n",
    "#    (단, 빈도수가 같다면 사전순으로 빠른 문자를 먼저 출력)\n",
    "# 출력결과: ['A', 'A', 'A', 'Y', 'Y', 'Y', 'Z', 'Z', 'B', 'T']\n",
    "arr = ['A', 'B', 'Z', 'Z', 'A', 'Y', 'Y', 'Y', 'A', 'T']\n",
    "# 7. 정답을 아래에 적어 주세요\n",
    "print(sorted(arr,key=lambda x:(-arr.count(x),x)))"
   ]
  },
  {
   "cell_type": "code",
   "execution_count": 26,
   "metadata": {},
   "outputs": [
    {
     "name": "stdout",
     "output_type": "stream",
     "text": [
      "-3\n"
     ]
    }
   ],
   "source": [
    "# 8. sort를 활용하여 리스트 안에 가작 작은 수(Min value) 출력하기\n",
    "# 출력결과: -3\n",
    "arr = [1, 3, 2, 4, 5, 8, 3, -2, -3]\n",
    "# 8. 정답을 아래에 적어 주세요\n",
    "print(sorted(arr)[0])"
   ]
  }
 ],
 "metadata": {
  "kernelspec": {
   "display_name": "Python 3",
   "language": "python",
   "name": "python3"
  },
  "language_info": {
   "codemirror_mode": {
    "name": "ipython",
    "version": 3
   },
   "file_extension": ".py",
   "mimetype": "text/x-python",
   "name": "python",
   "nbconvert_exporter": "python",
   "pygments_lexer": "ipython3",
   "version": "3.9.12"
  },
  "orig_nbformat": 4
 },
 "nbformat": 4,
 "nbformat_minor": 2
}
