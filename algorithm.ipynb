{
 "cells": [
  {
   "attachments": {},
   "cell_type": "markdown",
   "metadata": {},
   "source": [
    "# 알고리즘"
   ]
  },
  {
   "attachments": {},
   "cell_type": "markdown",
   "metadata": {},
   "source": [
    "유한한 단계를 통해 문제를 해결하기 위한 절차나 방법으로\n",
    "주로 컴퓨터용어로 쓰이며, 컴퓨터가 어떤 일을 수행하기 위한 단계적 방법\n",
    "\n",
    "간단하게 다시 말하면 어떠한 문제를 해결하기 위한 절차"
   ]
  },
  {
   "attachments": {},
   "cell_type": "markdown",
   "metadata": {},
   "source": [
    "컴퓨터 분야에서 알고리즘을 표현하는 방법은 두가지\n",
    "- 의사코드\n",
    "- 순서도"
   ]
  },
  {
   "attachments": {},
   "cell_type": "markdown",
   "metadata": {},
   "source": [
    "무엇이 좋은 알고리즘??\n",
    "1. 정확성 : 얼마나 정확하게 동작하는가\n",
    "2. 작업량 : 얼마나 적은 연산으로 원하는 결과를 얻어내는가\n",
    "3. 메모리 사용량 : 얼마나 적은 메모리를 사용하는가\n",
    "4. 단순성 : 얼마나 단순한가\n",
    "5. 최적성 : 더 이상 개선할 여지없이 최적화 되었는가"
   ]
  },
  {
   "attachments": {},
   "cell_type": "markdown",
   "metadata": {},
   "source": [
    "주어진 문제를 해결하기 위해 여러개의 다양한 알고리즘이 가능\n",
    "-> 어떤 알고리즘을 사용해야 하는가\n",
    "\n",
    "알고리즘의 성능 분석 필요\n",
    "- 많은 문제에서 성능 분석의 기준으로 알고리즘의 작업량을 비교한다"
   ]
  },
  {
   "attachments": {},
   "cell_type": "markdown",
   "metadata": {},
   "source": [
    "## 시간 복잡도(Time Complexity)\n",
    "- 실제 걸리는 시간을 측정\n",
    "- 실행되는 명령문의 개수를 계산"
   ]
  },
  {
   "attachments": {},
   "cell_type": "markdown",
   "metadata": {},
   "source": [
    "##### 빅-오(O) 표기법\n",
    "- 시간 복잡도 함수 중에서 가장 큰 영향력을 주는 n에 대한 항만을 표시\n",
    "- 계수(Confficient)는 생략하여 표시"
   ]
  },
  {
   "attachments": {},
   "cell_type": "markdown",
   "metadata": {},
   "source": [
    "### 배열\n",
    "\n",
    "배열이란\n",
    "- 일정한 자료형의 변수들을 하나의 이름으로 열거하여 사용하는 자료구조"
   ]
  },
  {
   "attachments": {},
   "cell_type": "markdown",
   "metadata": {},
   "source": [
    "배열의 필요성\n",
    "- 프로그램 내에서 여러개의 변수가 필요할 때, 일일이 다른 변수명을 이용하여 자료에 접근하는 것은 매우 비효율적일 수 있다.\n",
    "- 배열을 사용하면 하나의 선언을 통해서 둘 이상의 변수를 선언할 수 있다.\n",
    "- 단순히 다수의 변수 선언을 의미하는 것이 아니라, 다수의 변수로는 하기 힘든 작업을 배열을 활용해 쉽게 할 수 있다."
   ]
  },
  {
   "attachments": {},
   "cell_type": "markdown",
   "metadata": {},
   "source": [
    "1차원 배열의 선언\n",
    "- 별도의 선언 방법이 없으면 변수에 처음 값을 할당할 때 생성\n",
    "- 이름 : 프로그램에서 사용할 배열의 이름"
   ]
  },
  {
   "cell_type": "code",
   "execution_count": 1,
   "metadata": {},
   "outputs": [],
   "source": [
    "arr = list()\n",
    "arr = []\n",
    "arr = [1,2,3]\n",
    "arr = [0]*10"
   ]
  },
  {
   "attachments": {},
   "cell_type": "markdown",
   "metadata": {},
   "source": [
    "1차원 배열의 접근\n",
    "- arr[0] = 10   # 배열 arr의 0번 원소에 10 저장\n",
    "- arr[idx] = 20 # 배열 arr의 idx번 원소에 20을 저장"
   ]
  },
  {
   "attachments": {},
   "cell_type": "markdown",
   "metadata": {},
   "source": [
    "## 정렬\n",
    "\n",
    "- 2개 이상의 자료를 특정 기준에 의해 작은 값부터 큰 값(오름차순: ascending), 혹은 그 반대의 순서대로(내림차순:descending) 재배열 하는 것\n",
    "- 키\n",
    "    - 자료를 정렬하는 기준이 되는 특정 값"
   ]
  },
  {
   "attachments": {},
   "cell_type": "markdown",
   "metadata": {},
   "source": [
    "대표적인 정렬 방식의 종류\n",
    "- 버블 정렬(Bubble Sort)\n",
    "- 카운팅 정렬(Counting Sort)\n",
    "- 선택 정렬(Selection Sort)\n",
    "- 퀵 정렬(Quick Sort)\n",
    "- 삽입 정렬(Insertion Sort)\n",
    "- 병합 정렬(Merge Sort)"
   ]
  },
  {
   "attachments": {},
   "cell_type": "markdown",
   "metadata": {},
   "source": [
    "버블 정렬\n",
    "- 인접한 두 개의 원소를 비교히며 자리를 계속 교환하는 방식\n",
    "\n",
    "정렬 과정\n",
    "- 첫 번째 원소부터 인접한 원소끼리 계속 자리를 교환하면서 맨 마지막 자리까지 이동한다.\n",
    "- 한 단계가 끝나면 가장 큰 원소가 마지막 자리로 정렬된다.\n",
    "- 교환하며 자리를 이동하는 모습이 물 위에 올라오는 거품 모양과 같다고 하여 버블 정렬이라고 한다.\n",
    "\n",
    "시간 복잡도\n",
    "= O(n^2)"
   ]
  },
  {
   "attachments": {},
   "cell_type": "markdown",
   "metadata": {},
   "source": [
    "슈도 코드\n",
    "```\n",
    "for i : N-1 -> 1    # 각 구간의 끝\n",
    "    for j : 0 -> i-1    # 비교할 왼쪽 원소\n",
    "        if arr[j] > arr[j+1]\n",
    "            arr[j] <-> arr[j+1]     # 큰 원소 오른쪽으로\n",
    "\n",
    "```"
   ]
  },
  {
   "cell_type": "code",
   "execution_count": 2,
   "metadata": {},
   "outputs": [],
   "source": [
    "def BubbleSort(a,N):            # 정렬할 List, N 원소 수\n",
    "    for i in range(N-1,0,-1):   # 범위의 끝 위치\n",
    "        for j in range(0,i):\n",
    "            if a[j] > a[j+1]:\n",
    "                a[j],a[j+1] = a[j+1],a[j]"
   ]
  },
  {
   "cell_type": "code",
   "execution_count": null,
   "metadata": {},
   "outputs": [],
   "source": []
  }
 ],
 "metadata": {
  "kernelspec": {
   "display_name": "Python 3",
   "language": "python",
   "name": "python3"
  },
  "language_info": {
   "codemirror_mode": {
    "name": "ipython",
    "version": 3
   },
   "file_extension": ".py",
   "mimetype": "text/x-python",
   "name": "python",
   "nbconvert_exporter": "python",
   "pygments_lexer": "ipython3",
   "version": "3.9.13"
  },
  "orig_nbformat": 4,
  "vscode": {
   "interpreter": {
    "hash": "c4b9ebf4ca459396e2ad1150752490c26670c1a037c08cad955a4425787bec2e"
   }
  }
 },
 "nbformat": 4,
 "nbformat_minor": 2
}
