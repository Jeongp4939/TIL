{
 "cells": [
  {
   "attachments": {},
   "cell_type": "markdown",
   "metadata": {},
   "source": [
    "# DB 1일차\n",
    "\n"
   ]
  },
  {
   "attachments": {},
   "cell_type": "markdown",
   "metadata": {},
   "source": [
    "### 파일을 이용한 데이터 관리\n",
    "\n",
    "파일을 이용한 데이터 관리\n",
    "- 우리는 일반적으로 데이터를 파일에 저장\n",
    "- 장점\n",
    "    - 운영체제에 관계 없이 어디에서나 쉽게 사용가능\n",
    "    - 이메일이나 메신저를 이용해 간편하게 전송 가능\n",
    "- 단점\n",
    "    - 성능과 보안적 측면에서 한계가 명확\n",
    "    - 대용량 데이터를 다루기에 적합하지 않음\n",
    "    - 데이터를 구조적으로 정리하기에 어려움\n",
    "    - 확장이 불가능한 구조"
   ]
  },
  {
   "attachments": {},
   "cell_type": "markdown",
   "metadata": {},
   "source": [
    "### 표(스프레드 시트)를 이용한 데이터 관리\n",
    "\n",
    "스프레드 시트(엑셀 시트)을 사용\n",
    "\n",
    "스프레드 시트는 컬럼(열)을 통해 데이터의 유형을 지정하고 레코드(행)을 통해 구체적인 데이터 값을 포함\n",
    "\n",
    "BUT\n",
    "\n",
    "무한하게 커질 수 없음(100만 행 정도가 최대)\n",
    "문제 발생 가능\n",
    "- 데이터 보안 측면\n",
    "- 데이터 무결성 측면"
   ]
  },
  {
   "attachments": {},
   "cell_type": "markdown",
   "metadata": {},
   "source": [
    "## DBMS(Database Management System)\n",
    "\n",
    "데이터베이스를 쉽게 조작할 수 있게 해주는 소프트웨어\n",
    "\n",
    "#### 데이터베이스의 종류\n",
    "\n",
    "SQL vs No SQL\n",
    "\n",
    "- SQL(Relational Database/ Relation : 수학 > 집합/논리 > 관계) : 관계형 데이터베이스\n",
    "- NoSQL(No보다는 Not only) : 비관게형 데이터베이스"
   ]
  },
  {
   "attachments": {},
   "cell_type": "markdown",
   "metadata": {},
   "source": [
    "데이터베이스를 조작하는 언어\n",
    "- SQL(Structured Query Language)"
   ]
  },
  {
   "attachments": {},
   "cell_type": "markdown",
   "metadata": {},
   "source": [
    "## 관계형 데이터베이스(RDB)\n",
    "데이터를 테이블, 행, 열 등으로 나누어 구조화 하는 방식\n",
    "\n",
    "구조화 해서 저장하므로 보다 체계적으로 데이터를 저장하고 관리할 수 있음\n",
    "\n",
    "자료를 여러 테이블로 나누어서 관리하고, 테이블간 관계를 설정해 여러 데이터를 조작할 수 있음\n",
    "\n",
    "데이터의 무결성(정확성, 일관성) 유지에 장점이 있음\n",
    "\n",
    "SQL을 사용하여 데이터를 조회하고 조작"
   ]
  },
  {
   "attachments": {},
   "cell_type": "markdown",
   "metadata": {},
   "source": [
    "### 관계형 데이터베이스의 구조\n",
    "1. 스키마\n",
    "2. 테이블\n",
    "    - 필드\n",
    "    - 레코드\n",
    "    - 기본 키"
   ]
  },
  {
   "attachments": {},
   "cell_type": "markdown",
   "metadata": {},
   "source": [
    "#### 스키마\n",
    "- 테이블의 구조(Structure)\n",
    "- 데이터베이스에서 자료의 구조, 표현 방법, 관계 등 전반적인 명세를 기술한 것\n",
    "\n",
    "#### 테이블(Table)\n",
    "- 필드와 레코드를 사용해 조작된 데이터 요소들의 집합\n",
    "- 관계(Relation)라고도 부름\n",
    "\n",
    "1. 필드(Field)\n",
    "    - 속성, 컬럼(Column)\n",
    "2. 레코드(record)\n",
    "    - 튜플, 행(Row)"
   ]
  },
  {
   "attachments": {},
   "cell_type": "markdown",
   "metadata": {},
   "source": [
    "필드(Field)\n",
    "- 속성 혹은 컬럼(Column)\n",
    "- 각 필드에는 고유한 데이터 형식(타입)이 지정됨\n",
    "\n",
    "레코드(Record)\n",
    "- 튜플 혹은 행(row)\n",
    "- 테이블의 데이터는 레코드에 저장됨\n",
    "\n",
    "PK(Primary Key)\n",
    "- 기본 키\n",
    "- 각 레코드의 고유한 값\n",
    "    - 각각의 데이터를 구분할 수 있는 고유값\n",
    "- 기술적으로 다른 항목과 절대로 중복될 수 없는 단일 값(unique)\n",
    "- 데이터베이스 관리 및 테이블 간 관계 설정 시 주요하게 활용\n",
    "\n",
    "FK(Foreign Key)\n",
    "- 외래 키\n",
    "- 한 테이블의 속성 중 다른 테이블의 레코드를 식별할 수 있는 키\n",
    "- 다른 테이블의 기본 키를 참조\n",
    "- 참조하는 테이블의 속성 1개의 값은, 참조되는 측 테이블의 레코드 값에 대응됨\n",
    "- 각 레코드에서 서로 다른 테이블 간의 관계를 만드는 데 사용할 수 있음"
   ]
  },
  {
   "attachments": {},
   "cell_type": "markdown",
   "metadata": {},
   "source": [
    "SQL\n",
    "- Structured Query Language\n",
    "\n",
    "- 관계형 데이터베이스에서 데이터 관리하기 위해 사용하는 언어\n",
    "== 데이터베이스 관리 + CRUD하는 언어"
   ]
  },
  {
   "attachments": {},
   "cell_type": "markdown",
   "metadata": {},
   "source": [
    "SQL Commands의 종류(1/3)\n",
    "\n",
    "- 명령어는 특성에 따라 다음 세가지 그룹으로 분류\n",
    "    - DDL(Data Definition Language)\n",
    "    - DML(Data Manipulation Language)\n",
    "    - DCL(Data Control Language)"
   ]
  },
  {
   "attachments": {},
   "cell_type": "markdown",
   "metadata": {},
   "source": [
    "DDL(Data Definition Language)\n",
    "- 데이터 정의 언어\n",
    "- 관계형 데이터 베이스 구조(테이블, 스키마)를 정의(생성, 수정 및 삭제) 하기 위한 명령어\n",
    "- CREATE, DROP, ALTER\n",
    "\n",
    "DML(Data Manipulation Language)\n",
    "- 데이터 조작 언어\n",
    "- 데이터를 조작(추가, 조회, 변경, 삭제)하기 위한 명령어\n",
    "- INSERT, SELECT, UPDATE, DELETE\n",
    "\n",
    "DCL(Data Control Language)\n",
    "- 데이터의 보안, 수행제어, 사용자 권한 부여 등을 정의하기 위한 명령어\n",
    "- GRANT, REVOKE, COMMIT, ROLLBACK\n",
    "\n",
    "\n",
    "※ SQLite는 파일로 관리되는 DB이기 때문에 SQL을 이용한 접근 제한이 아닌 운영 체제의 파일 접근 권한으로만 제어가능, SQLite에는 권한 설정을 담당하는 GRANT(권한부여)와 REVOKE(권한회수)는 지원하지 않는다."
   ]
  },
  {
   "attachments": {},
   "cell_type": "markdown",
   "metadata": {},
   "source": [
    "### SQL Syntax\n",
    "\n",
    "모든 SQL문(statement)는 SELECT, INSERT, UPDATE 등과 같은 키워드로 시작하고, 하나의 statement는 세미콜론(;)으로 끝남\n",
    "- 세미콜론은 각 SQL문을 구분하는 표준 방법\n",
    "\n",
    "SQL 키워드는 대소문자를 구분하지 않음\n",
    "- 즉, SELECT와 select는 SQL에서 동일한 의미\n",
    "- 하지만 대문자로 작성하는 것을 권장"
   ]
  },
  {
   "attachments": {},
   "cell_type": "markdown",
   "metadata": {},
   "source": [
    "Statement & Clause(1/2)\n",
    "- Statement(문)\n",
    "    - 독립적으로 실행할 수 있는 완전한 코드 조각\n",
    "    - statement는 clause로 구성됨\n",
    "\n",
    "- Clause(절)\n",
    "    - statement의 하위 단위\n",
    "\n",
    "- SELECT statement\n",
    "\n",
    "- 이 statement는 다음과 같이 2개의 clause로 구성 됨\n",
    "    1. SELECT column_name\n",
    "    2. FROM table_name"
   ]
  },
  {
   "attachments": {},
   "cell_type": "markdown",
   "metadata": {},
   "source": [
    "## DDL\n",
    "\n",
    "CREATE TABLE\n",
    "- 데이터베이스에 새 테이블을 만듦\n",
    "\n",
    "SQLite Data Types\n",
    "1. NULL\n",
    "    - NULL value\n",
    "    - 정보가 없거나 알 수 없음을 의미\n",
    "2. INTEGER\n",
    "    - 정수\n",
    "    - 크기에 따라 0, 1, 2, 3, 4, 6 또는 8바이트와 같은 가변 크기를 가짐\n",
    "3. REAL\n",
    "    - 실수\n",
    "    - 8바이트 부동 소수점을 사용하는 10진수 값이 있는 실수\n",
    "4. TEXT\n",
    "    - 문자 데이터\n",
    "5. BLOB(Binary Large Object)\n",
    "    - 입력된 그대로 저장된 데이터 덩어리(대용 타입 없음)\n",
    "    - 바이너리 등 멀티미디어 파일\n",
    "    - 예 : 이미지 데이터\n",
    "\n",
    "\n",
    "Type Affinity\n",
    "- 타입 선호도\n",
    "- 특정 컬럼에 저장된 데이터에 권장되는 타입\n",
    "- 데이터 타입 작성 시 SQLite의 5가지 데이터 타입이 아닌 다른 데이터 타입을 선언한다면, 내부적으로 각 타입의 지정된 선호도에 따라 5가지 선호도로 인식됨\n",
    "    1. INTEGER\n",
    "    2. TEXT\n",
    "    3. BLOB\n",
    "    4. REAL\n",
    "    5. NUMERIC\n",
    "\n",
    "타입 선호도 존재 이유\n",
    "- 다른 데이터 베이스 엔진간의 `호환성`을 최대화\n",
    "- 정적이고 엄격한 타입을 사용하는 데이터베이스의 SQL문을 SQLite에서도 작동하도록 하기 위함"
   ]
  },
  {
   "attachments": {},
   "cell_type": "markdown",
   "metadata": {},
   "source": [
    "## Constraints\n",
    "- 제약조건\n",
    "- 입력하는 자료에 대해 제약을 정함\n",
    "- 제약에 맞지 않다면 입력이 거부됨\n",
    "- 사용자가 원하는 조건의 데이터만 유지하기 위한 즉, 데이터의 무결성을 유지하기 위한 보편적인 방법으로 테이블의 특정 컬럼에 설정하는 제약"
   ]
  },
  {
   "attachments": {},
   "cell_type": "markdown",
   "metadata": {},
   "source": [
    "### 데이터 무결성\n",
    "데이터 베이스 내의 데이터에 대한 정확성, 일관성을 보장하기 위해 데이터 변경 혹은 수정 시 여러 제한을 두어 데이터의 정확성을 보증하는 것\n",
    "- 무결성이란 데이터의 정확성 일관성을 나타냄\n",
    "\n",
    "데이터베이스에 저장된 데이터의 무결성을 보장하고 데이터베이스 상태를 일관되게 유지하는 것이 목적"
   ]
  },
  {
   "attachments": {},
   "cell_type": "markdown",
   "metadata": {},
   "source": [
    "#### Constraints 종류\n",
    "1. NOT NULL\n",
    "    - 컬럼이 NULL 값을 허용하지 않도록 지정\n",
    "    - 기본적으로 테이블의 모든 컬럼은 NOT NULL 제약 조건을 명시적으로 사용하는 경우를 제외하고는 NULL 값을 허용함\n",
    "2. UNIQUE\n",
    "    - 컬럼의 모든 값이 서로 구별되거나 고유한 값이 되도록 함\n",
    "3. PRIMARY KEY\n",
    "    - 테이블에서 행의 고유성을 식별하는 데 사용되는 컬럼\n",
    "    - 각 테이블에는 하나의 기본 키만 있음\n",
    "    - 암시적으로 NOT NULL 제약 조건이 포함되어 있음\n",
    "4. AUTOINCREMENT\n",
    "    - 사용되지 않은 값이나 이전에 삭제된 행의 값을 재사용하는 것을 방지\n",
    "    - INTEGER PRIMARY KEY 다음에 작성하면 해당 rowid를 다시 재사용하지 못하도록 함\n",
    "    - Django에서 테이블 생성시 id 컬럼에 기본적으로 사용하는 제약조건\n",
    "5. 기타 Constraints\n",
    "\n",
    "\n",
    "rowid의 특징\n",
    "- 테이블을 생성할 때마다 rowid라는 암시적 자동 증가 컬럼이 자동으로 생성됨\n",
    "- 테이블의 행을 고유하게 식별하는 64비트 부호가 있는 정수 값\n",
    "- 테이블에 새 행을 삽입할 때마다 정수 값을 자동으로 할당\n",
    "    - 값은 1에서 시작\n",
    "    - 데이터 삽입 시에 rowid 또는 INTEGER PRIMARY KEY 컬럼에 명시적으로 값이 지정되지 않은 경우, SQLite는 테이블에서 가장 큰 rowid 보다 하나 큰 다음 순차 정수를 자동으로 할당(AUTOINCREMENT와 관계없이)\n",
    "- 만약 INTEGER PRIMARY KEY 키워드를 가진 컬럼을 직접 만들면 이 컬럼은 rowid 컬럼의 별칭(alias)이 됨\n",
    "    - 즉, 새 컬럼 이름으로 rowid에 액세스 할 수 있으며 rowid 이름으로도 여전히 액세스 가능\n",
    "- 데이터가 최대 값에 도달하고 새 행을 삽입하려고 하면 SQLite는 사용되지 않는 정수를 찾아 사용\n",
    "- 만약 SQLite가 사용되지 않은 정수를 찾을 수 없으면 SQLITE_FULL 에러가 발생\n",
    "    - 또한 일부 행을 삭제하고 새 행을 삽입하면 SQLite는 삭제된 행에서 rowid 값을 재사용하려고 시도"
   ]
  },
  {
   "attachments": {},
   "cell_type": "markdown",
   "metadata": {},
   "source": [
    "## ALTER TABLE\n",
    "\n",
    "1. ALTER TABLE {테이블 이름} RENAME {새로운 이름}\n",
    "2. ALTER TABLE {테이블 이름} RENAME COLUMN {컬럼 이름} TO {새로운 컬럼이름}\n",
    "3. ALTER TABLE {테이블 이름} ADD COLUMN {컬럼} {데이터 타입} {조건}\n",
    "    - 만약 테이블에 기존 데이터가 있을 경우\n",
    "        - Cannot add NOT NULL column with default valu NULL\n",
    "    - 이전에 이미 저장된 데이터들은 새롭게 추가되는 컬럼에 값이 없기 때문에 NULL이 작성됨\n",
    "    - 그런데 새로 추가되는 컬럼에 NOT NULL 제약조건이 있기 때문에 기본 값 없이는 추가될 수 없다는 에러가 발생한 것\n",
    "\n",
    "    - DEFAULT 제약 조건을 사용하여 해결할 수 있음\n",
    "    ```SQL\n",
    "        ALTER TABLE new_contacts\n",
    "        ADD COLUMN address TEXT NOT NULL DEFAULT 'no address';\n",
    "    ```\n",
    "    - 이렇게 하면 address 컬러밍 추가되면서 기존에 있던 데이터들의 address 컬럽 값은 'no address'가 됨\n",
    "4. ALTER TABLE {테이블 이름} DROP COLUMN {컬럼 이름}\n",
    "    - 단, 삭제하지 못하는 경우가 있음\n",
    "        - 컬럼이 다른 부분에서 참조되는 경우\n",
    "            - FOREIGN KEY(외래 키) 제약조건에서 사용되는 경우\n",
    "        - PRIMARY KEY인 경우\n",
    "        - UNIQUE 제약 조건이 있는 경우\n",
    "        ```SQL\n",
    "            ALTER TABLE {테이블 이름} DROP COLUMN {컬럼 이름}\n",
    "            Cannot drop UNIQUE column:\"email\"\n",
    "        ```\n"
   ]
  },
  {
   "attachments": {},
   "cell_type": "markdown",
   "metadata": {},
   "source": [
    "## DROP TABLE\n",
    "- 데이터베이스에서 테이블을 제거\n",
    "    ```SQL\n",
    "        DROP TABLE table_name;\n",
    "    ```\n",
    "- 존재하지 않는 테이블을 제거하면 SQLite에서 오류가 발생\n",
    "    ```\n",
    "        no such table: table_name\n",
    "    ```"
   ]
  },
  {
   "attachments": {},
   "cell_type": "markdown",
   "metadata": {},
   "source": [
    "DROP TABLE 특징\n",
    "- 한 번에 하나의 테이블만 삭제할 수 있음\n",
    "- 여러 테이블을 제거하려면 여러 DROP TABLE 문을 실행해야 함\n",
    "- DROP TABLE 문은 실행 취소하거나 복구할 수 없음\n",
    "    - 따라서 각별히 주의하여 수행해야 한다"
   ]
  },
  {
   "attachments": {},
   "cell_type": "markdown",
   "metadata": {},
   "source": [
    "### DDL 정리\n",
    "- 데이터 정의 언어\n",
    "- CREATE TABLE\n",
    "    - 데이터 타입과 제약조건\n",
    "- ALTER TABLE\n",
    "    - RENAME\n",
    "    - RENAME COLUMN\n",
    "    - ADD COLUMN\n",
    "    - DROP COLUMN\n",
    "- DROP TABLE"
   ]
  },
  {
   "attachments": {},
   "cell_type": "markdown",
   "metadata": {},
   "source": [
    "## DML\n",
    "(p.113)"
   ]
  }
 ],
 "metadata": {
  "language_info": {
   "name": "python"
  },
  "orig_nbformat": 4
 },
 "nbformat": 4,
 "nbformat_minor": 2
}
