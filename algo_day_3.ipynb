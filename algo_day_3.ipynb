{
 "cells": [
  {
   "attachments": {},
   "cell_type": "markdown",
   "metadata": {},
   "source": [
    "# 알고리즘 3일차\n",
    "\n",
    "- 문제풀이에는 왕도가 없음\n",
    "    - 유형별 연습은 가능하지만, 처음 보는 문제를 이해해야함\n",
    "\n",
    "##### 문제풀이 단계\n",
    "- 문제 읽기\n",
    "- 접근방법 구상\n",
    "- 핵심코드 손코딩\n",
    "- 코드 구현\n",
    "- 디버깅 및 개선"
   ]
  },
  {
   "attachments": {},
   "cell_type": "markdown",
   "metadata": {},
   "source": [
    "##### 접근 방법 구상\n",
    "- 완전히 새로운 문제는 없음\n",
    "    - 이전 풀었던 문제와 유사한지, 특정 자료구조 적영, 전형적인 알고리즘 적용 가능한지 체크\n",
    "\n",
    "- 문제가 시키는 대로 시도\n",
    "    - 문제 설명 대로 예시를 처리하는 것이 접근 가능한지 체크(제한 조건 내)\n",
    "    - 여러 입력에 대한 출력을 계산하면서 [규칙성/조건/수식] 적용 가능한지 체크\n",
    "\n",
    "- 유형/규칙성을 발견하기 힘들다면\n",
    "    - 가능한 모든 경우를 처리하면서 풀이 가능한지 체크\n",
    "    - 전체 문제가 아닌 일부분으로 나누거나, 단계를 나누어 접근\n",
    "    - 반대로 접근하는 경우를 체크(문제설명, 조건, array 순회 등)\n",
    "\n",
    "- 이 모든 접근은 시각적으로(손으로 그리면서)"
   ]
  },
  {
   "attachments": {},
   "cell_type": "markdown",
   "metadata": {},
   "source": [
    "기본기는 철저히 연습\n",
    "- 기본기가 탄탄해야 구상한 아이디어 구현 가능\n",
    "- 정확한 입출력, 실수 없는 2차원 array 사용 및 다중 루프제어\n",
    "- 가장 효율적인/짧은/멋있는 코드보다 기본적인 [반복/조건]을 빈틈없이 구현\n",
    "- 손코딩 : 사용하는 주요 array, 범위, 핵심코드를 설명/시각적으로 설계하고 접근\n",
    "- 필요한 위치에서 필요한 디버깅 가능하도록 디버거 사용법 익히기\n",
    "- 문제읽기 -> 접근방법 구상 -> 핵심코드 손코딩(키보드를 멀리)\n",
    "\n",
    "나만의 환경/루틴에서 안정적으로 구형\n",
    "- 익숙한 환경\n",
    "    - IDE, 폰트, 폰트크기, 창 배치, TC입력파일, A4, 접근 순서\n",
    "- 익숙한 이름\n",
    "    - 입력 받는 변수, 선언한 병수, 특정용도 사용 변수 등\n",
    "- 익숙한 방법\n",
    "    - 함수 호출, 조건, 반복, break, continue 등 익숙한방법으로 구현"
   ]
  },
  {
   "cell_type": "code",
   "execution_count": 14,
   "metadata": {},
   "outputs": [
    {
     "name": "stdout",
     "output_type": "stream",
     "text": [
      "['T', 'A', 'K', 'B', 'T', 'S', 'L', 'I', 'Z', 'C']\n"
     ]
    }
   ],
   "source": [
    "# a,b를 입력 받아 해당 구간을 오른쪽 2번 이동하는 코드 짜기\n",
    "\n",
    "ar = ['T','B','T','S','A','K','L','I','Z','C']\n",
    "a,b = map(int,input().split())\n",
    "temp = ar[a:b+1]\n",
    "temp = temp[-2:]+ temp[:b-a-1]\n",
    "result = ar[:a]+temp+ar[b+1:]\n",
    "print(result)\n"
   ]
  },
  {
   "cell_type": "code",
   "execution_count": 15,
   "metadata": {},
   "outputs": [
    {
     "name": "stdout",
     "output_type": "stream",
     "text": [
      "['T', 'A', 'K', 'B', 'T', 'S', 'L', 'I', 'Z', 'C']\n"
     ]
    }
   ],
   "source": [
    "def rspin(lst,a,b):\n",
    "    temp = lst[a:b+1]\n",
    "    for i in range(2):\n",
    "        temp = [temp.pop()]+temp\n",
    "    return lst[:a]+temp+lst[b+1:]\n",
    "\n",
    "ar = ['T','B','T','S','A','K','L','I','Z','C']\n",
    "a,b = map(int,input().split())\n",
    "result = rspin(ar,a,b)\n",
    "\n",
    "print(result)"
   ]
  },
  {
   "cell_type": "code",
   "execution_count": null,
   "metadata": {},
   "outputs": [],
   "source": [
    "# 정답코드\n",
    "\n",
    "arr=['T','B','T','S','A','K','L','I','Z','C']\n",
    "index=list(map(int,input().split()))\n",
    "\n",
    "def LMove(st,ed):\n",
    "    temp=arr[st]\n",
    "    for i in range(st,ed,1):\n",
    "        arr[i]=arr[i+1]\n",
    "    arr[ed]=temp\n",
    "\n",
    "def RMove(st,ed):\n",
    "    temp=arr[ed]\n",
    "    for i in range(ed,st,-1):\n",
    "        arr[i]=arr[i-1]\n",
    "    arr[st]=temp\n",
    "\n",
    "for i in range (1):\n",
    "    LMove(index[0],index[1])\n",
    "\n",
    "print(*arr)"
   ]
  }
 ],
 "metadata": {
  "kernelspec": {
   "display_name": "Python 3",
   "language": "python",
   "name": "python3"
  },
  "language_info": {
   "codemirror_mode": {
    "name": "ipython",
    "version": 3
   },
   "file_extension": ".py",
   "mimetype": "text/x-python",
   "name": "python",
   "nbconvert_exporter": "python",
   "pygments_lexer": "ipython3",
   "version": "3.9.13"
  },
  "orig_nbformat": 4,
  "vscode": {
   "interpreter": {
    "hash": "c4b9ebf4ca459396e2ad1150752490c26670c1a037c08cad955a4425787bec2e"
   }
  }
 },
 "nbformat": 4,
 "nbformat_minor": 2
}
